{
 "cells": [
  {
   "cell_type": "markdown",
   "metadata": {},
   "source": [
    "# Plotly and Cufflinks"
   ]
  },
  {
   "cell_type": "code",
   "execution_count": 1,
   "metadata": {
    "tags": []
   },
   "outputs": [],
   "source": [
    "import pandas as pd\n",
    "import numpy as np\n",
    "%matplotlib inline"
   ]
  },
  {
   "cell_type": "code",
   "execution_count": 3,
   "metadata": {
    "collapsed": false,
    "jupyter": {
     "outputs_hidden": false
    }
   },
   "outputs": [
    {
     "name": "stdout",
     "output_type": "stream",
     "text": [
      "5.9.0\n"
     ]
    }
   ],
   "source": [
    "from plotly import __version__\n",
    "from plotly.offline import download_plotlyjs, init_notebook_mode, plot, iplot\n",
    "\n",
    "print(__version__)"
   ]
  },
  {
   "cell_type": "code",
   "execution_count": 4,
   "metadata": {
    "tags": []
   },
   "outputs": [],
   "source": [
    "import cufflinks as cf"
   ]
  },
  {
   "cell_type": "code",
   "execution_count": 5,
   "metadata": {
    "collapsed": false,
    "jupyter": {
     "outputs_hidden": false
    }
   },
   "outputs": [
    {
     "data": {
      "text/html": [
       "        <script type=\"text/javascript\">\n",
       "        window.PlotlyConfig = {MathJaxConfig: 'local'};\n",
       "        if (window.MathJax && window.MathJax.Hub && window.MathJax.Hub.Config) {window.MathJax.Hub.Config({SVG: {font: \"STIX-Web\"}});}\n",
       "        if (typeof require !== 'undefined') {\n",
       "        require.undef(\"plotly\");\n",
       "        requirejs.config({\n",
       "            paths: {\n",
       "                'plotly': ['https://cdn.plot.ly/plotly-2.12.1.min']\n",
       "            }\n",
       "        });\n",
       "        require(['plotly'], function(Plotly) {\n",
       "            window._Plotly = Plotly;\n",
       "        });\n",
       "        }\n",
       "        </script>\n",
       "        "
      ]
     },
     "metadata": {},
     "output_type": "display_data"
    }
   ],
   "source": [
    "# For Notebooks\n",
    "init_notebook_mode(connected=True)"
   ]
  },
  {
   "cell_type": "code",
   "execution_count": 6,
   "metadata": {
    "collapsed": false,
    "jupyter": {
     "outputs_hidden": false
    }
   },
   "outputs": [
    {
     "data": {
      "text/html": [
       "        <script type=\"text/javascript\">\n",
       "        window.PlotlyConfig = {MathJaxConfig: 'local'};\n",
       "        if (window.MathJax && window.MathJax.Hub && window.MathJax.Hub.Config) {window.MathJax.Hub.Config({SVG: {font: \"STIX-Web\"}});}\n",
       "        if (typeof require !== 'undefined') {\n",
       "        require.undef(\"plotly\");\n",
       "        requirejs.config({\n",
       "            paths: {\n",
       "                'plotly': ['https://cdn.plot.ly/plotly-2.12.1.min']\n",
       "            }\n",
       "        });\n",
       "        require(['plotly'], function(Plotly) {\n",
       "            window._Plotly = Plotly;\n",
       "        });\n",
       "        }\n",
       "        </script>\n",
       "        "
      ]
     },
     "metadata": {},
     "output_type": "display_data"
    }
   ],
   "source": [
    "# For offline use\n",
    "cf.go_offline()"
   ]
  },
  {
   "cell_type": "markdown",
   "metadata": {},
   "source": [
    "### Fake Data"
   ]
  },
  {
   "cell_type": "code",
   "execution_count": 7,
   "metadata": {
    "collapsed": false,
    "jupyter": {
     "outputs_hidden": false
    }
   },
   "outputs": [],
   "source": [
    "df = pd.DataFrame(np.random.randn(100,4),columns='A B C D'.split())"
   ]
  },
  {
   "cell_type": "code",
   "execution_count": 8,
   "metadata": {
    "collapsed": false,
    "jupyter": {
     "outputs_hidden": false
    }
   },
   "outputs": [
    {
     "data": {
      "text/html": [
       "<div>\n",
       "<style scoped>\n",
       "    .dataframe tbody tr th:only-of-type {\n",
       "        vertical-align: middle;\n",
       "    }\n",
       "\n",
       "    .dataframe tbody tr th {\n",
       "        vertical-align: top;\n",
       "    }\n",
       "\n",
       "    .dataframe thead th {\n",
       "        text-align: right;\n",
       "    }\n",
       "</style>\n",
       "<table border=\"1\" class=\"dataframe\">\n",
       "  <thead>\n",
       "    <tr style=\"text-align: right;\">\n",
       "      <th></th>\n",
       "      <th>A</th>\n",
       "      <th>B</th>\n",
       "      <th>C</th>\n",
       "      <th>D</th>\n",
       "    </tr>\n",
       "  </thead>\n",
       "  <tbody>\n",
       "    <tr>\n",
       "      <th>0</th>\n",
       "      <td>-0.802856</td>\n",
       "      <td>-2.415427</td>\n",
       "      <td>1.026648</td>\n",
       "      <td>-1.235986</td>\n",
       "    </tr>\n",
       "    <tr>\n",
       "      <th>1</th>\n",
       "      <td>1.479302</td>\n",
       "      <td>0.228116</td>\n",
       "      <td>1.432038</td>\n",
       "      <td>-1.356500</td>\n",
       "    </tr>\n",
       "    <tr>\n",
       "      <th>2</th>\n",
       "      <td>0.092598</td>\n",
       "      <td>1.023639</td>\n",
       "      <td>2.331078</td>\n",
       "      <td>0.580854</td>\n",
       "    </tr>\n",
       "    <tr>\n",
       "      <th>3</th>\n",
       "      <td>-0.512201</td>\n",
       "      <td>-0.423117</td>\n",
       "      <td>1.425091</td>\n",
       "      <td>0.517961</td>\n",
       "    </tr>\n",
       "    <tr>\n",
       "      <th>4</th>\n",
       "      <td>0.857624</td>\n",
       "      <td>1.046092</td>\n",
       "      <td>2.007248</td>\n",
       "      <td>1.310066</td>\n",
       "    </tr>\n",
       "  </tbody>\n",
       "</table>\n",
       "</div>"
      ],
      "text/plain": [
       "          A         B         C         D\n",
       "0 -0.802856 -2.415427  1.026648 -1.235986\n",
       "1  1.479302  0.228116  1.432038 -1.356500\n",
       "2  0.092598  1.023639  2.331078  0.580854\n",
       "3 -0.512201 -0.423117  1.425091  0.517961\n",
       "4  0.857624  1.046092  2.007248  1.310066"
      ]
     },
     "execution_count": 8,
     "metadata": {},
     "output_type": "execute_result"
    }
   ],
   "source": [
    "df.head()"
   ]
  },
  {
   "cell_type": "code",
   "execution_count": 9,
   "metadata": {
    "tags": []
   },
   "outputs": [],
   "source": [
    "df2 = pd.DataFrame({'Category':['A','B','C'],'Values':[32,43,50]})"
   ]
  },
  {
   "cell_type": "code",
   "execution_count": 10,
   "metadata": {
    "collapsed": false,
    "jupyter": {
     "outputs_hidden": false
    }
   },
   "outputs": [
    {
     "data": {
      "text/html": [
       "<div>\n",
       "<style scoped>\n",
       "    .dataframe tbody tr th:only-of-type {\n",
       "        vertical-align: middle;\n",
       "    }\n",
       "\n",
       "    .dataframe tbody tr th {\n",
       "        vertical-align: top;\n",
       "    }\n",
       "\n",
       "    .dataframe thead th {\n",
       "        text-align: right;\n",
       "    }\n",
       "</style>\n",
       "<table border=\"1\" class=\"dataframe\">\n",
       "  <thead>\n",
       "    <tr style=\"text-align: right;\">\n",
       "      <th></th>\n",
       "      <th>Category</th>\n",
       "      <th>Values</th>\n",
       "    </tr>\n",
       "  </thead>\n",
       "  <tbody>\n",
       "    <tr>\n",
       "      <th>0</th>\n",
       "      <td>A</td>\n",
       "      <td>32</td>\n",
       "    </tr>\n",
       "    <tr>\n",
       "      <th>1</th>\n",
       "      <td>B</td>\n",
       "      <td>43</td>\n",
       "    </tr>\n",
       "    <tr>\n",
       "      <th>2</th>\n",
       "      <td>C</td>\n",
       "      <td>50</td>\n",
       "    </tr>\n",
       "  </tbody>\n",
       "</table>\n",
       "</div>"
      ],
      "text/plain": [
       "  Category  Values\n",
       "0        A      32\n",
       "1        B      43\n",
       "2        C      50"
      ]
     },
     "execution_count": 10,
     "metadata": {},
     "output_type": "execute_result"
    }
   ],
   "source": [
    "df2.head()"
   ]
  },
  {
   "cell_type": "markdown",
   "metadata": {
    "tags": []
   },
   "source": [
    "## Scatter"
   ]
  },
  {
   "cell_type": "code",
   "execution_count": 11,
   "metadata": {
    "collapsed": false,
    "jupyter": {
     "outputs_hidden": false
    }
   },
   "outputs": [
    {
     "data": {
      "application/vnd.plotly.v1+json": {
       "config": {
        "linkText": "Export to plot.ly",
        "plotlyServerURL": "https://plot.ly",
        "showLink": true
       },
       "data": [
        {
         "line": {
          "color": "rgba(255, 153, 51, 1.0)",
          "dash": "solid",
          "shape": "linear",
          "width": 1.3
         },
         "marker": {
          "size": 10,
          "symbol": "circle"
         },
         "mode": "markers",
         "name": "B",
         "text": "",
         "type": "scatter",
         "x": [
          -0.8028561302251124,
          1.479302388301489,
          0.09259836950276953,
          -0.512200866745337,
          0.8576238983724528,
          0.6085497404944062,
          -0.788223295517952,
          0.9761665209278051,
          2.238690887893208,
          1.3490247594088083,
          0.737059096870889,
          0.3026134531782889,
          -0.7957217706029994,
          0.33823616570030324,
          0.19196824309714583,
          -0.4698312480273544,
          0.4301162469854865,
          1.1815924579324193,
          0.2274535937715395,
          -1.5943306169668727,
          0.12493303310468025,
          0.7975876609059102,
          0.09593279290044807,
          -0.19719809096164162,
          1.6565466613065052,
          0.4501760595795119,
          -0.02886866437548703,
          0.16505807536954564,
          1.124836055486245,
          2.049975322070444,
          -0.033165046880216376,
          0.7801630412932541,
          0.028285298355942425,
          -1.2989262631774416,
          1.3012174059227228,
          0.15728220307540158,
          -0.31316077721117375,
          -1.1747533327607587,
          1.7069413233814477,
          0.07419368467184914,
          -1.147529248600138,
          0.30864584269972306,
          -1.2793699272497943,
          -1.1249859442345558,
          0.2831314824771736,
          -0.18716951345172192,
          -1.090356868475828,
          1.9293517124623794,
          2.3684113403376057,
          -0.7988882319337831,
          1.6038153380009872,
          -1.2288347702724813,
          -1.201690996947852,
          -0.6607024240946915,
          1.8446345228914234,
          -0.9936737748233865,
          0.4870909728145924,
          0.0635477755521646,
          0.32357734017082884,
          0.06832369257774945,
          1.103825118434115,
          -0.7645127908507001,
          -1.3676473832933946,
          0.46402104480674794,
          0.15452847403977235,
          -0.6061958034619276,
          0.22205129416545974,
          -0.7962583172868609,
          -1.5584080382815726,
          0.5989046805601863,
          -0.6782957556343797,
          0.18020677123740392,
          0.19287312831057887,
          -0.1369071911530954,
          -1.0966518041958313,
          -0.4137103383439439,
          0.8408784953202832,
          -0.26466856360948776,
          -2.599861296100724,
          -0.543503678619246,
          -1.0601507878835457,
          -1.4366314663310211,
          -0.5783918179279967,
          -0.35904402150393355,
          -0.8532029670981947,
          -0.0668865536827716,
          0.3482385301768811,
          -0.43769557904928835,
          1.5562474048025967,
          -1.2058652048168754,
          0.012743990748052518,
          0.0525324102625891,
          0.40393559040764987,
          -0.3194053660387816,
          -0.7515950497771627,
          -1.6911968013479222,
          -1.0664557829608285,
          -1.4918263253090283,
          0.44400403329900645,
          -0.5245696570792404
         ],
         "y": [
          -2.4154271826055687,
          0.2281163742403504,
          1.023638806068143,
          -0.42311682261393985,
          1.0460920365897521,
          0.014379125674698972,
          -1.0024753274980267,
          1.2970651067413772,
          -1.4876062324008748,
          -1.2787134920238905,
          -2.255927984437855,
          0.3917658809386741,
          0.8254925127903598,
          0.5167247505647817,
          -0.37885329612876756,
          -1.4465545453597755,
          1.283402522449017,
          -0.13883342228836232,
          -0.819263241038832,
          -0.2875102463290612,
          -0.6084972801612889,
          0.60097337047301,
          -0.38951842733027325,
          1.1383351179567085,
          0.5303220825477065,
          -1.2702935398670259,
          -0.5216055214220926,
          -0.33849718969494463,
          -0.31043838587410905,
          0.1861750117058042,
          -1.3367601455296272,
          -0.13539319664272512,
          -0.04826911800939443,
          1.0137197495851988,
          0.40239706746935344,
          -0.33824853753891115,
          -1.2044670928003556,
          1.2457273930479194,
          -0.3034148106261058,
          0.5007964524725353,
          0.6061265061918621,
          0.10666541063424463,
          -2.555083787197274,
          0.9531398284577858,
          0.8398465183168621,
          0.9303183779340494,
          0.7858951323348161,
          2.527869377884583,
          -0.6051809428312591,
          -0.5272869417373718,
          2.3439665972310224,
          -1.2122096114782646,
          -1.2007273327736605,
          -0.8394630308996531,
          1.02019968517285,
          0.9534146859616777,
          0.056861705035020686,
          -2.003762067954828,
          -0.17404675080271992,
          1.1867630462507908,
          -0.901771137497407,
          1.5324198527172153,
          0.7134995518226834,
          -0.9369721788688021,
          -0.13809992304297572,
          0.3676970458870487,
          -0.009408068072079542,
          -0.22749233880224112,
          1.2160209293891586,
          0.6560409767607005,
          -0.608297820845587,
          0.02471522606611033,
          -0.23314164833860315,
          -0.021381677697893738,
          -1.3206072599621494,
          0.36257703524638424,
          -0.6079356241638769,
          -0.3052512546185061,
          0.3762701311102944,
          0.5832649361771575,
          1.9959564462294366,
          1.4640554173951212,
          -1.0768809643150925,
          0.6393538090437333,
          -2.0425454096017623,
          1.2458691168533944,
          -0.5559855700539201,
          -0.07969304470464499,
          -1.3143013832539345,
          0.12107507633181926,
          0.9639635187378766,
          -0.3194262744208612,
          1.657384793065372,
          -0.9984958934522816,
          -0.28060915556170324,
          0.2032552162774426,
          0.25289516322159433,
          0.13845611158751048,
          0.5732709988184584,
          -0.14753713877560354
         ]
        }
       ],
       "layout": {
        "autosize": true,
        "legend": {
         "bgcolor": "#F5F6F9",
         "font": {
          "color": "#4D5663"
         }
        },
        "paper_bgcolor": "#F5F6F9",
        "plot_bgcolor": "#F5F6F9",
        "template": {
         "data": {
          "bar": [
           {
            "error_x": {
             "color": "#2a3f5f"
            },
            "error_y": {
             "color": "#2a3f5f"
            },
            "marker": {
             "line": {
              "color": "#E5ECF6",
              "width": 0.5
             },
             "pattern": {
              "fillmode": "overlay",
              "size": 10,
              "solidity": 0.2
             }
            },
            "type": "bar"
           }
          ],
          "barpolar": [
           {
            "marker": {
             "line": {
              "color": "#E5ECF6",
              "width": 0.5
             },
             "pattern": {
              "fillmode": "overlay",
              "size": 10,
              "solidity": 0.2
             }
            },
            "type": "barpolar"
           }
          ],
          "carpet": [
           {
            "aaxis": {
             "endlinecolor": "#2a3f5f",
             "gridcolor": "white",
             "linecolor": "white",
             "minorgridcolor": "white",
             "startlinecolor": "#2a3f5f"
            },
            "baxis": {
             "endlinecolor": "#2a3f5f",
             "gridcolor": "white",
             "linecolor": "white",
             "minorgridcolor": "white",
             "startlinecolor": "#2a3f5f"
            },
            "type": "carpet"
           }
          ],
          "choropleth": [
           {
            "colorbar": {
             "outlinewidth": 0,
             "ticks": ""
            },
            "type": "choropleth"
           }
          ],
          "contour": [
           {
            "colorbar": {
             "outlinewidth": 0,
             "ticks": ""
            },
            "colorscale": [
             [
              0,
              "#0d0887"
             ],
             [
              0.1111111111111111,
              "#46039f"
             ],
             [
              0.2222222222222222,
              "#7201a8"
             ],
             [
              0.3333333333333333,
              "#9c179e"
             ],
             [
              0.4444444444444444,
              "#bd3786"
             ],
             [
              0.5555555555555556,
              "#d8576b"
             ],
             [
              0.6666666666666666,
              "#ed7953"
             ],
             [
              0.7777777777777778,
              "#fb9f3a"
             ],
             [
              0.8888888888888888,
              "#fdca26"
             ],
             [
              1,
              "#f0f921"
             ]
            ],
            "type": "contour"
           }
          ],
          "contourcarpet": [
           {
            "colorbar": {
             "outlinewidth": 0,
             "ticks": ""
            },
            "type": "contourcarpet"
           }
          ],
          "heatmap": [
           {
            "colorbar": {
             "outlinewidth": 0,
             "ticks": ""
            },
            "colorscale": [
             [
              0,
              "#0d0887"
             ],
             [
              0.1111111111111111,
              "#46039f"
             ],
             [
              0.2222222222222222,
              "#7201a8"
             ],
             [
              0.3333333333333333,
              "#9c179e"
             ],
             [
              0.4444444444444444,
              "#bd3786"
             ],
             [
              0.5555555555555556,
              "#d8576b"
             ],
             [
              0.6666666666666666,
              "#ed7953"
             ],
             [
              0.7777777777777778,
              "#fb9f3a"
             ],
             [
              0.8888888888888888,
              "#fdca26"
             ],
             [
              1,
              "#f0f921"
             ]
            ],
            "type": "heatmap"
           }
          ],
          "heatmapgl": [
           {
            "colorbar": {
             "outlinewidth": 0,
             "ticks": ""
            },
            "colorscale": [
             [
              0,
              "#0d0887"
             ],
             [
              0.1111111111111111,
              "#46039f"
             ],
             [
              0.2222222222222222,
              "#7201a8"
             ],
             [
              0.3333333333333333,
              "#9c179e"
             ],
             [
              0.4444444444444444,
              "#bd3786"
             ],
             [
              0.5555555555555556,
              "#d8576b"
             ],
             [
              0.6666666666666666,
              "#ed7953"
             ],
             [
              0.7777777777777778,
              "#fb9f3a"
             ],
             [
              0.8888888888888888,
              "#fdca26"
             ],
             [
              1,
              "#f0f921"
             ]
            ],
            "type": "heatmapgl"
           }
          ],
          "histogram": [
           {
            "marker": {
             "pattern": {
              "fillmode": "overlay",
              "size": 10,
              "solidity": 0.2
             }
            },
            "type": "histogram"
           }
          ],
          "histogram2d": [
           {
            "colorbar": {
             "outlinewidth": 0,
             "ticks": ""
            },
            "colorscale": [
             [
              0,
              "#0d0887"
             ],
             [
              0.1111111111111111,
              "#46039f"
             ],
             [
              0.2222222222222222,
              "#7201a8"
             ],
             [
              0.3333333333333333,
              "#9c179e"
             ],
             [
              0.4444444444444444,
              "#bd3786"
             ],
             [
              0.5555555555555556,
              "#d8576b"
             ],
             [
              0.6666666666666666,
              "#ed7953"
             ],
             [
              0.7777777777777778,
              "#fb9f3a"
             ],
             [
              0.8888888888888888,
              "#fdca26"
             ],
             [
              1,
              "#f0f921"
             ]
            ],
            "type": "histogram2d"
           }
          ],
          "histogram2dcontour": [
           {
            "colorbar": {
             "outlinewidth": 0,
             "ticks": ""
            },
            "colorscale": [
             [
              0,
              "#0d0887"
             ],
             [
              0.1111111111111111,
              "#46039f"
             ],
             [
              0.2222222222222222,
              "#7201a8"
             ],
             [
              0.3333333333333333,
              "#9c179e"
             ],
             [
              0.4444444444444444,
              "#bd3786"
             ],
             [
              0.5555555555555556,
              "#d8576b"
             ],
             [
              0.6666666666666666,
              "#ed7953"
             ],
             [
              0.7777777777777778,
              "#fb9f3a"
             ],
             [
              0.8888888888888888,
              "#fdca26"
             ],
             [
              1,
              "#f0f921"
             ]
            ],
            "type": "histogram2dcontour"
           }
          ],
          "mesh3d": [
           {
            "colorbar": {
             "outlinewidth": 0,
             "ticks": ""
            },
            "type": "mesh3d"
           }
          ],
          "parcoords": [
           {
            "line": {
             "colorbar": {
              "outlinewidth": 0,
              "ticks": ""
             }
            },
            "type": "parcoords"
           }
          ],
          "pie": [
           {
            "automargin": true,
            "type": "pie"
           }
          ],
          "scatter": [
           {
            "fillpattern": {
             "fillmode": "overlay",
             "size": 10,
             "solidity": 0.2
            },
            "type": "scatter"
           }
          ],
          "scatter3d": [
           {
            "line": {
             "colorbar": {
              "outlinewidth": 0,
              "ticks": ""
             }
            },
            "marker": {
             "colorbar": {
              "outlinewidth": 0,
              "ticks": ""
             }
            },
            "type": "scatter3d"
           }
          ],
          "scattercarpet": [
           {
            "marker": {
             "colorbar": {
              "outlinewidth": 0,
              "ticks": ""
             }
            },
            "type": "scattercarpet"
           }
          ],
          "scattergeo": [
           {
            "marker": {
             "colorbar": {
              "outlinewidth": 0,
              "ticks": ""
             }
            },
            "type": "scattergeo"
           }
          ],
          "scattergl": [
           {
            "marker": {
             "colorbar": {
              "outlinewidth": 0,
              "ticks": ""
             }
            },
            "type": "scattergl"
           }
          ],
          "scattermapbox": [
           {
            "marker": {
             "colorbar": {
              "outlinewidth": 0,
              "ticks": ""
             }
            },
            "type": "scattermapbox"
           }
          ],
          "scatterpolar": [
           {
            "marker": {
             "colorbar": {
              "outlinewidth": 0,
              "ticks": ""
             }
            },
            "type": "scatterpolar"
           }
          ],
          "scatterpolargl": [
           {
            "marker": {
             "colorbar": {
              "outlinewidth": 0,
              "ticks": ""
             }
            },
            "type": "scatterpolargl"
           }
          ],
          "scatterternary": [
           {
            "marker": {
             "colorbar": {
              "outlinewidth": 0,
              "ticks": ""
             }
            },
            "type": "scatterternary"
           }
          ],
          "surface": [
           {
            "colorbar": {
             "outlinewidth": 0,
             "ticks": ""
            },
            "colorscale": [
             [
              0,
              "#0d0887"
             ],
             [
              0.1111111111111111,
              "#46039f"
             ],
             [
              0.2222222222222222,
              "#7201a8"
             ],
             [
              0.3333333333333333,
              "#9c179e"
             ],
             [
              0.4444444444444444,
              "#bd3786"
             ],
             [
              0.5555555555555556,
              "#d8576b"
             ],
             [
              0.6666666666666666,
              "#ed7953"
             ],
             [
              0.7777777777777778,
              "#fb9f3a"
             ],
             [
              0.8888888888888888,
              "#fdca26"
             ],
             [
              1,
              "#f0f921"
             ]
            ],
            "type": "surface"
           }
          ],
          "table": [
           {
            "cells": {
             "fill": {
              "color": "#EBF0F8"
             },
             "line": {
              "color": "white"
             }
            },
            "header": {
             "fill": {
              "color": "#C8D4E3"
             },
             "line": {
              "color": "white"
             }
            },
            "type": "table"
           }
          ]
         },
         "layout": {
          "annotationdefaults": {
           "arrowcolor": "#2a3f5f",
           "arrowhead": 0,
           "arrowwidth": 1
          },
          "autotypenumbers": "strict",
          "coloraxis": {
           "colorbar": {
            "outlinewidth": 0,
            "ticks": ""
           }
          },
          "colorscale": {
           "diverging": [
            [
             0,
             "#8e0152"
            ],
            [
             0.1,
             "#c51b7d"
            ],
            [
             0.2,
             "#de77ae"
            ],
            [
             0.3,
             "#f1b6da"
            ],
            [
             0.4,
             "#fde0ef"
            ],
            [
             0.5,
             "#f7f7f7"
            ],
            [
             0.6,
             "#e6f5d0"
            ],
            [
             0.7,
             "#b8e186"
            ],
            [
             0.8,
             "#7fbc41"
            ],
            [
             0.9,
             "#4d9221"
            ],
            [
             1,
             "#276419"
            ]
           ],
           "sequential": [
            [
             0,
             "#0d0887"
            ],
            [
             0.1111111111111111,
             "#46039f"
            ],
            [
             0.2222222222222222,
             "#7201a8"
            ],
            [
             0.3333333333333333,
             "#9c179e"
            ],
            [
             0.4444444444444444,
             "#bd3786"
            ],
            [
             0.5555555555555556,
             "#d8576b"
            ],
            [
             0.6666666666666666,
             "#ed7953"
            ],
            [
             0.7777777777777778,
             "#fb9f3a"
            ],
            [
             0.8888888888888888,
             "#fdca26"
            ],
            [
             1,
             "#f0f921"
            ]
           ],
           "sequentialminus": [
            [
             0,
             "#0d0887"
            ],
            [
             0.1111111111111111,
             "#46039f"
            ],
            [
             0.2222222222222222,
             "#7201a8"
            ],
            [
             0.3333333333333333,
             "#9c179e"
            ],
            [
             0.4444444444444444,
             "#bd3786"
            ],
            [
             0.5555555555555556,
             "#d8576b"
            ],
            [
             0.6666666666666666,
             "#ed7953"
            ],
            [
             0.7777777777777778,
             "#fb9f3a"
            ],
            [
             0.8888888888888888,
             "#fdca26"
            ],
            [
             1,
             "#f0f921"
            ]
           ]
          },
          "colorway": [
           "#636efa",
           "#EF553B",
           "#00cc96",
           "#ab63fa",
           "#FFA15A",
           "#19d3f3",
           "#FF6692",
           "#B6E880",
           "#FF97FF",
           "#FECB52"
          ],
          "font": {
           "color": "#2a3f5f"
          },
          "geo": {
           "bgcolor": "white",
           "lakecolor": "white",
           "landcolor": "#E5ECF6",
           "showlakes": true,
           "showland": true,
           "subunitcolor": "white"
          },
          "hoverlabel": {
           "align": "left"
          },
          "hovermode": "closest",
          "mapbox": {
           "style": "light"
          },
          "paper_bgcolor": "white",
          "plot_bgcolor": "#E5ECF6",
          "polar": {
           "angularaxis": {
            "gridcolor": "white",
            "linecolor": "white",
            "ticks": ""
           },
           "bgcolor": "#E5ECF6",
           "radialaxis": {
            "gridcolor": "white",
            "linecolor": "white",
            "ticks": ""
           }
          },
          "scene": {
           "xaxis": {
            "backgroundcolor": "#E5ECF6",
            "gridcolor": "white",
            "gridwidth": 2,
            "linecolor": "white",
            "showbackground": true,
            "ticks": "",
            "zerolinecolor": "white"
           },
           "yaxis": {
            "backgroundcolor": "#E5ECF6",
            "gridcolor": "white",
            "gridwidth": 2,
            "linecolor": "white",
            "showbackground": true,
            "ticks": "",
            "zerolinecolor": "white"
           },
           "zaxis": {
            "backgroundcolor": "#E5ECF6",
            "gridcolor": "white",
            "gridwidth": 2,
            "linecolor": "white",
            "showbackground": true,
            "ticks": "",
            "zerolinecolor": "white"
           }
          },
          "shapedefaults": {
           "line": {
            "color": "#2a3f5f"
           }
          },
          "ternary": {
           "aaxis": {
            "gridcolor": "white",
            "linecolor": "white",
            "ticks": ""
           },
           "baxis": {
            "gridcolor": "white",
            "linecolor": "white",
            "ticks": ""
           },
           "bgcolor": "#E5ECF6",
           "caxis": {
            "gridcolor": "white",
            "linecolor": "white",
            "ticks": ""
           }
          },
          "title": {
           "x": 0.05
          },
          "xaxis": {
           "automargin": true,
           "gridcolor": "white",
           "linecolor": "white",
           "ticks": "",
           "title": {
            "standoff": 15
           },
           "zerolinecolor": "white",
           "zerolinewidth": 2
          },
          "yaxis": {
           "automargin": true,
           "gridcolor": "white",
           "linecolor": "white",
           "ticks": "",
           "title": {
            "standoff": 15
           },
           "zerolinecolor": "white",
           "zerolinewidth": 2
          }
         }
        },
        "title": {
         "font": {
          "color": "#4D5663"
         }
        },
        "xaxis": {
         "autorange": true,
         "gridcolor": "#E1E5ED",
         "range": [
          -2.936523117395675,
          2.7050731616325567
         ],
         "showgrid": true,
         "tickfont": {
          "color": "#4D5663"
         },
         "title": {
          "font": {
           "color": "#4D5663"
          },
          "text": ""
         },
         "type": "linear",
         "zerolinecolor": "#E1E5ED"
        },
        "yaxis": {
         "autorange": true,
         "gridcolor": "#E1E5ED",
         "range": [
          -3.073579009722346,
          3.0463646004096554
         ],
         "showgrid": true,
         "tickfont": {
          "color": "#4D5663"
         },
         "title": {
          "font": {
           "color": "#4D5663"
          },
          "text": ""
         },
         "type": "linear",
         "zerolinecolor": "#E1E5ED"
        }
       }
      },
      "image/png": "[encoded data removed]",
      "text/html": [
       "<div>                            <div id=\"08eef2f3-ee73-405e-9a8d-aa6c2484dde5\" class=\"plotly-graph-div\" style=\"height:525px; width:100%;\"></div>            <script type=\"text/javascript\">                require([\"plotly\"], function(Plotly) {                    window.PLOTLYENV=window.PLOTLYENV || {};\n",
       "                    window.PLOTLYENV.BASE_URL='https://plot.ly';                                    if (document.getElementById(\"08eef2f3-ee73-405e-9a8d-aa6c2484dde5\")) {                    Plotly.newPlot(                        \"08eef2f3-ee73-405e-9a8d-aa6c2484dde5\",                        [{\"line\":{\"color\":\"rgba(255, 153, 51, 1.0)\",\"dash\":\"solid\",\"shape\":\"linear\",\"width\":1.3},\"marker\":{\"size\":10,\"symbol\":\"circle\"},\"mode\":\"markers\",\"name\":\"B\",\"text\":\"\",\"x\":[-0.8028561302251124,1.479302388301489,0.09259836950276953,-0.512200866745337,0.8576238983724528,0.6085497404944062,-0.788223295517952,0.9761665209278051,2.238690887893208,1.3490247594088083,0.737059096870889,0.3026134531782889,-0.7957217706029994,0.33823616570030324,0.19196824309714583,-0.4698312480273544,0.4301162469854865,1.1815924579324193,0.2274535937715395,-1.5943306169668727,0.12493303310468025,0.7975876609059102,0.09593279290044807,-0.19719809096164162,1.6565466613065052,0.4501760595795119,-0.02886866437548703,0.16505807536954564,1.124836055486245,2.049975322070444,-0.033165046880216376,0.7801630412932541,0.028285298355942425,-1.2989262631774416,1.3012174059227228,0.15728220307540158,-0.31316077721117375,-1.1747533327607587,1.7069413233814477,0.07419368467184914,-1.147529248600138,0.30864584269972306,-1.2793699272497943,-1.1249859442345558,0.2831314824771736,-0.18716951345172192,-1.090356868475828,1.9293517124623794,2.3684113403376057,-0.7988882319337831,1.6038153380009872,-1.2288347702724813,-1.201690996947852,-0.6607024240946915,1.8446345228914234,-0.9936737748233865,0.4870909728145924,0.0635477755521646,0.32357734017082884,0.06832369257774945,1.103825118434115,-0.7645127908507001,-1.3676473832933946,0.46402104480674794,0.15452847403977235,-0.6061958034619276,0.22205129416545974,-0.7962583172868609,-1.5584080382815726,0.5989046805601863,-0.6782957556343797,0.18020677123740392,0.19287312831057887,-0.1369071911530954,-1.0966518041958313,-0.4137103383439439,0.8408784953202832,-0.26466856360948776,-2.599861296100724,-0.543503678619246,-1.0601507878835457,-1.4366314663310211,-0.5783918179279967,-0.35904402150393355,-0.8532029670981947,-0.0668865536827716,0.3482385301768811,-0.43769557904928835,1.5562474048025967,-1.2058652048168754,0.012743990748052518,0.0525324102625891,0.40393559040764987,-0.3194053660387816,-0.7515950497771627,-1.6911968013479222,-1.0664557829608285,-1.4918263253090283,0.44400403329900645,-0.5245696570792404],\"y\":[-2.4154271826055687,0.2281163742403504,1.023638806068143,-0.42311682261393985,1.0460920365897521,0.014379125674698972,-1.0024753274980267,1.2970651067413772,-1.4876062324008748,-1.2787134920238905,-2.255927984437855,0.3917658809386741,0.8254925127903598,0.5167247505647817,-0.37885329612876756,-1.4465545453597755,1.283402522449017,-0.13883342228836232,-0.819263241038832,-0.2875102463290612,-0.6084972801612889,0.60097337047301,-0.38951842733027325,1.1383351179567085,0.5303220825477065,-1.2702935398670259,-0.5216055214220926,-0.33849718969494463,-0.31043838587410905,0.1861750117058042,-1.3367601455296272,-0.13539319664272512,-0.04826911800939443,1.0137197495851988,0.40239706746935344,-0.33824853753891115,-1.2044670928003556,1.2457273930479194,-0.3034148106261058,0.5007964524725353,0.6061265061918621,0.10666541063424463,-2.555083787197274,0.9531398284577858,0.8398465183168621,0.9303183779340494,0.7858951323348161,2.527869377884583,-0.6051809428312591,-0.5272869417373718,2.3439665972310224,-1.2122096114782646,-1.2007273327736605,-0.8394630308996531,1.02019968517285,0.9534146859616777,0.056861705035020686,-2.003762067954828,-0.17404675080271992,1.1867630462507908,-0.901771137497407,1.5324198527172153,0.7134995518226834,-0.9369721788688021,-0.13809992304297572,0.3676970458870487,-0.009408068072079542,-0.22749233880224112,1.2160209293891586,0.6560409767607005,-0.608297820845587,0.02471522606611033,-0.23314164833860315,-0.021381677697893738,-1.3206072599621494,0.36257703524638424,-0.6079356241638769,-0.3052512546185061,0.3762701311102944,0.5832649361771575,1.9959564462294366,1.4640554173951212,-1.0768809643150925,0.6393538090437333,-2.0425454096017623,1.2458691168533944,-0.5559855700539201,-0.07969304470464499,-1.3143013832539345,0.12107507633181926,0.9639635187378766,-0.3194262744208612,1.657384793065372,-0.9984958934522816,-0.28060915556170324,0.2032552162774426,0.25289516322159433,0.13845611158751048,0.5732709988184584,-0.14753713877560354],\"type\":\"scatter\"}],                        {\"legend\":{\"bgcolor\":\"#F5F6F9\",\"font\":{\"color\":\"#4D5663\"}},\"paper_bgcolor\":\"#F5F6F9\",\"plot_bgcolor\":\"#F5F6F9\",\"template\":{\"data\":{\"barpolar\":[{\"marker\":{\"line\":{\"color\":\"#E5ECF6\",\"width\":0.5},\"pattern\":{\"fillmode\":\"overlay\",\"size\":10,\"solidity\":0.2}},\"type\":\"barpolar\"}],\"bar\":[{\"error_x\":{\"color\":\"#2a3f5f\"},\"error_y\":{\"color\":\"#2a3f5f\"},\"marker\":{\"line\":{\"color\":\"#E5ECF6\",\"width\":0.5},\"pattern\":{\"fillmode\":\"overlay\",\"size\":10,\"solidity\":0.2}},\"type\":\"bar\"}],\"carpet\":[{\"aaxis\":{\"endlinecolor\":\"#2a3f5f\",\"gridcolor\":\"white\",\"linecolor\":\"white\",\"minorgridcolor\":\"white\",\"startlinecolor\":\"#2a3f5f\"},\"baxis\":{\"endlinecolor\":\"#2a3f5f\",\"gridcolor\":\"white\",\"linecolor\":\"white\",\"minorgridcolor\":\"white\",\"startlinecolor\":\"#2a3f5f\"},\"type\":\"carpet\"}],\"choropleth\":[{\"colorbar\":{\"outlinewidth\":0,\"ticks\":\"\"},\"type\":\"choropleth\"}],\"contourcarpet\":[{\"colorbar\":{\"outlinewidth\":0,\"ticks\":\"\"},\"type\":\"contourcarpet\"}],\"contour\":[{\"colorbar\":{\"outlinewidth\":0,\"ticks\":\"\"},\"colorscale\":[[0.0,\"#0d0887\"],[0.1111111111111111,\"#46039f\"],[0.2222222222222222,\"#7201a8\"],[0.3333333333333333,\"#9c179e\"],[0.4444444444444444,\"#bd3786\"],[0.5555555555555556,\"#d8576b\"],[0.6666666666666666,\"#ed7953\"],[0.7777777777777778,\"#fb9f3a\"],[0.8888888888888888,\"#fdca26\"],[1.0,\"#f0f921\"]],\"type\":\"contour\"}],\"heatmapgl\":[{\"colorbar\":{\"outlinewidth\":0,\"ticks\":\"\"},\"colorscale\":[[0.0,\"#0d0887\"],[0.1111111111111111,\"#46039f\"],[0.2222222222222222,\"#7201a8\"],[0.3333333333333333,\"#9c179e\"],[0.4444444444444444,\"#bd3786\"],[0.5555555555555556,\"#d8576b\"],[0.6666666666666666,\"#ed7953\"],[0.7777777777777778,\"#fb9f3a\"],[0.8888888888888888,\"#fdca26\"],[1.0,\"#f0f921\"]],\"type\":\"heatmapgl\"}],\"heatmap\":[{\"colorbar\":{\"outlinewidth\":0,\"ticks\":\"\"},\"colorscale\":[[0.0,\"#0d0887\"],[0.1111111111111111,\"#46039f\"],[0.2222222222222222,\"#7201a8\"],[0.3333333333333333,\"#9c179e\"],[0.4444444444444444,\"#bd3786\"],[0.5555555555555556,\"#d8576b\"],[0.6666666666666666,\"#ed7953\"],[0.7777777777777778,\"#fb9f3a\"],[0.8888888888888888,\"#fdca26\"],[1.0,\"#f0f921\"]],\"type\":\"heatmap\"}],\"histogram2dcontour\":[{\"colorbar\":{\"outlinewidth\":0,\"ticks\":\"\"},\"colorscale\":[[0.0,\"#0d0887\"],[0.1111111111111111,\"#46039f\"],[0.2222222222222222,\"#7201a8\"],[0.3333333333333333,\"#9c179e\"],[0.4444444444444444,\"#bd3786\"],[0.5555555555555556,\"#d8576b\"],[0.6666666666666666,\"#ed7953\"],[0.7777777777777778,\"#fb9f3a\"],[0.8888888888888888,\"#fdca26\"],[1.0,\"#f0f921\"]],\"type\":\"histogram2dcontour\"}],\"histogram2d\":[{\"colorbar\":{\"outlinewidth\":0,\"ticks\":\"\"},\"colorscale\":[[0.0,\"#0d0887\"],[0.1111111111111111,\"#46039f\"],[0.2222222222222222,\"#7201a8\"],[0.3333333333333333,\"#9c179e\"],[0.4444444444444444,\"#bd3786\"],[0.5555555555555556,\"#d8576b\"],[0.6666666666666666,\"#ed7953\"],[0.7777777777777778,\"#fb9f3a\"],[0.8888888888888888,\"#fdca26\"],[1.0,\"#f0f921\"]],\"type\":\"histogram2d\"}],\"histogram\":[{\"marker\":{\"pattern\":{\"fillmode\":\"overlay\",\"size\":10,\"solidity\":0.2}},\"type\":\"histogram\"}],\"mesh3d\":[{\"colorbar\":{\"outlinewidth\":0,\"ticks\":\"\"},\"type\":\"mesh3d\"}],\"parcoords\":[{\"line\":{\"colorbar\":{\"outlinewidth\":0,\"ticks\":\"\"}},\"type\":\"parcoords\"}],\"pie\":[{\"automargin\":true,\"type\":\"pie\"}],\"scatter3d\":[{\"line\":{\"colorbar\":{\"outlinewidth\":0,\"ticks\":\"\"}},\"marker\":{\"colorbar\":{\"outlinewidth\":0,\"ticks\":\"\"}},\"type\":\"scatter3d\"}],\"scattercarpet\":[{\"marker\":{\"colorbar\":{\"outlinewidth\":0,\"ticks\":\"\"}},\"type\":\"scattercarpet\"}],\"scattergeo\":[{\"marker\":{\"colorbar\":{\"outlinewidth\":0,\"ticks\":\"\"}},\"type\":\"scattergeo\"}],\"scattergl\":[{\"marker\":{\"colorbar\":{\"outlinewidth\":0,\"ticks\":\"\"}},\"type\":\"scattergl\"}],\"scattermapbox\":[{\"marker\":{\"colorbar\":{\"outlinewidth\":0,\"ticks\":\"\"}},\"type\":\"scattermapbox\"}],\"scatterpolargl\":[{\"marker\":{\"colorbar\":{\"outlinewidth\":0,\"ticks\":\"\"}},\"type\":\"scatterpolargl\"}],\"scatterpolar\":[{\"marker\":{\"colorbar\":{\"outlinewidth\":0,\"ticks\":\"\"}},\"type\":\"scatterpolar\"}],\"scatter\":[{\"fillpattern\":{\"fillmode\":\"overlay\",\"size\":10,\"solidity\":0.2},\"type\":\"scatter\"}],\"scatterternary\":[{\"marker\":{\"colorbar\":{\"outlinewidth\":0,\"ticks\":\"\"}},\"type\":\"scatterternary\"}],\"surface\":[{\"colorbar\":{\"outlinewidth\":0,\"ticks\":\"\"},\"colorscale\":[[0.0,\"#0d0887\"],[0.1111111111111111,\"#46039f\"],[0.2222222222222222,\"#7201a8\"],[0.3333333333333333,\"#9c179e\"],[0.4444444444444444,\"#bd3786\"],[0.5555555555555556,\"#d8576b\"],[0.6666666666666666,\"#ed7953\"],[0.7777777777777778,\"#fb9f3a\"],[0.8888888888888888,\"#fdca26\"],[1.0,\"#f0f921\"]],\"type\":\"surface\"}],\"table\":[{\"cells\":{\"fill\":{\"color\":\"#EBF0F8\"},\"line\":{\"color\":\"white\"}},\"header\":{\"fill\":{\"color\":\"#C8D4E3\"},\"line\":{\"color\":\"white\"}},\"type\":\"table\"}]},\"layout\":{\"annotationdefaults\":{\"arrowcolor\":\"#2a3f5f\",\"arrowhead\":0,\"arrowwidth\":1},\"autotypenumbers\":\"strict\",\"coloraxis\":{\"colorbar\":{\"outlinewidth\":0,\"ticks\":\"\"}},\"colorscale\":{\"diverging\":[[0,\"#8e0152\"],[0.1,\"#c51b7d\"],[0.2,\"#de77ae\"],[0.3,\"#f1b6da\"],[0.4,\"#fde0ef\"],[0.5,\"#f7f7f7\"],[0.6,\"#e6f5d0\"],[0.7,\"#b8e186\"],[0.8,\"#7fbc41\"],[0.9,\"#4d9221\"],[1,\"#276419\"]],\"sequential\":[[0.0,\"#0d0887\"],[0.1111111111111111,\"#46039f\"],[0.2222222222222222,\"#7201a8\"],[0.3333333333333333,\"#9c179e\"],[0.4444444444444444,\"#bd3786\"],[0.5555555555555556,\"#d8576b\"],[0.6666666666666666,\"#ed7953\"],[0.7777777777777778,\"#fb9f3a\"],[0.8888888888888888,\"#fdca26\"],[1.0,\"#f0f921\"]],\"sequentialminus\":[[0.0,\"#0d0887\"],[0.1111111111111111,\"#46039f\"],[0.2222222222222222,\"#7201a8\"],[0.3333333333333333,\"#9c179e\"],[0.4444444444444444,\"#bd3786\"],[0.5555555555555556,\"#d8576b\"],[0.6666666666666666,\"#ed7953\"],[0.7777777777777778,\"#fb9f3a\"],[0.8888888888888888,\"#fdca26\"],[1.0,\"#f0f921\"]]},\"colorway\":[\"#636efa\",\"#EF553B\",\"#00cc96\",\"#ab63fa\",\"#FFA15A\",\"#19d3f3\",\"#FF6692\",\"#B6E880\",\"#FF97FF\",\"#FECB52\"],\"font\":{\"color\":\"#2a3f5f\"},\"geo\":{\"bgcolor\":\"white\",\"lakecolor\":\"white\",\"landcolor\":\"#E5ECF6\",\"showlakes\":true,\"showland\":true,\"subunitcolor\":\"white\"},\"hoverlabel\":{\"align\":\"left\"},\"hovermode\":\"closest\",\"mapbox\":{\"style\":\"light\"},\"paper_bgcolor\":\"white\",\"plot_bgcolor\":\"#E5ECF6\",\"polar\":{\"angularaxis\":{\"gridcolor\":\"white\",\"linecolor\":\"white\",\"ticks\":\"\"},\"bgcolor\":\"#E5ECF6\",\"radialaxis\":{\"gridcolor\":\"white\",\"linecolor\":\"white\",\"ticks\":\"\"}},\"scene\":{\"xaxis\":{\"backgroundcolor\":\"#E5ECF6\",\"gridcolor\":\"white\",\"gridwidth\":2,\"linecolor\":\"white\",\"showbackground\":true,\"ticks\":\"\",\"zerolinecolor\":\"white\"},\"yaxis\":{\"backgroundcolor\":\"#E5ECF6\",\"gridcolor\":\"white\",\"gridwidth\":2,\"linecolor\":\"white\",\"showbackground\":true,\"ticks\":\"\",\"zerolinecolor\":\"white\"},\"zaxis\":{\"backgroundcolor\":\"#E5ECF6\",\"gridcolor\":\"white\",\"gridwidth\":2,\"linecolor\":\"white\",\"showbackground\":true,\"ticks\":\"\",\"zerolinecolor\":\"white\"}},\"shapedefaults\":{\"line\":{\"color\":\"#2a3f5f\"}},\"ternary\":{\"aaxis\":{\"gridcolor\":\"white\",\"linecolor\":\"white\",\"ticks\":\"\"},\"baxis\":{\"gridcolor\":\"white\",\"linecolor\":\"white\",\"ticks\":\"\"},\"bgcolor\":\"#E5ECF6\",\"caxis\":{\"gridcolor\":\"white\",\"linecolor\":\"white\",\"ticks\":\"\"}},\"title\":{\"x\":0.05},\"xaxis\":{\"automargin\":true,\"gridcolor\":\"white\",\"linecolor\":\"white\",\"ticks\":\"\",\"title\":{\"standoff\":15},\"zerolinecolor\":\"white\",\"zerolinewidth\":2},\"yaxis\":{\"automargin\":true,\"gridcolor\":\"white\",\"linecolor\":\"white\",\"ticks\":\"\",\"title\":{\"standoff\":15},\"zerolinecolor\":\"white\",\"zerolinewidth\":2}}},\"title\":{\"font\":{\"color\":\"#4D5663\"}},\"xaxis\":{\"gridcolor\":\"#E1E5ED\",\"showgrid\":true,\"tickfont\":{\"color\":\"#4D5663\"},\"title\":{\"font\":{\"color\":\"#4D5663\"},\"text\":\"\"},\"zerolinecolor\":\"#E1E5ED\"},\"yaxis\":{\"gridcolor\":\"#E1E5ED\",\"showgrid\":true,\"tickfont\":{\"color\":\"#4D5663\"},\"title\":{\"font\":{\"color\":\"#4D5663\"},\"text\":\"\"},\"zerolinecolor\":\"#E1E5ED\"}},                        {\"showLink\": true, \"linkText\": \"Export to plot.ly\", \"plotlyServerURL\": \"https://plot.ly\", \"responsive\": true}                    ).then(function(){\n",
       "                            \n",
       "var gd = document.getElementById('08eef2f3-ee73-405e-9a8d-aa6c2484dde5');\n",
       "var x = new MutationObserver(function (mutations, observer) {{\n",
       "        var display = window.getComputedStyle(gd).display;\n",
       "        if (!display || display === 'none') {{\n",
       "            console.log([gd, 'removed!']);\n",
       "            Plotly.purge(gd);\n",
       "            observer.disconnect();\n",
       "        }}\n",
       "}});\n",
       "\n",
       "// Listen for the removal of the full notebook cells\n",
       "var notebookContainer = gd.closest('#notebook-container');\n",
       "if (notebookContainer) {{\n",
       "    x.observe(notebookContainer, {childList: true});\n",
       "}}\n",
       "\n",
       "// Listen for the clearing of the current output cell\n",
       "var outputEl = gd.closest('.output');\n",
       "if (outputEl) {{\n",
       "    x.observe(outputEl, {childList: true});\n",
       "}}\n",
       "\n",
       "                        })                };                });            </script>        </div>"
      ]
     },
     "metadata": {},
     "output_type": "display_data"
    }
   ],
   "source": [
    "df.iplot(kind='scatter',x='A',y='B',mode='markers',size=10)"
   ]
  },
  {
   "cell_type": "markdown",
   "metadata": {},
   "source": [
    "## Bar Plots"
   ]
  },
  {
   "cell_type": "code",
   "execution_count": 12,
   "metadata": {
    "collapsed": false,
    "jupyter": {
     "outputs_hidden": false
    }
   },
   "outputs": [
    {
     "data": {
      "application/vnd.plotly.v1+json": {
       "config": {
        "linkText": "Export to plot.ly",
        "plotlyServerURL": "https://plot.ly",
        "showLink": true
       },
       "data": [
        {
         "marker": {
          "color": "rgba(255, 153, 51, 0.6)",
          "line": {
           "color": "rgba(255, 153, 51, 1.0)",
           "width": 1
          }
         },
         "name": "Values",
         "orientation": "v",
         "text": "",
         "type": "bar",
         "x": [
          "A",
          "B",
          "C"
         ],
         "y": [
          32,
          43,
          50
         ]
        }
       ],
       "layout": {
        "autosize": true,
        "legend": {
         "bgcolor": "#F5F6F9",
         "font": {
          "color": "#4D5663"
         }
        },
        "paper_bgcolor": "#F5F6F9",
        "plot_bgcolor": "#F5F6F9",
        "template": {
         "data": {
          "bar": [
           {
            "error_x": {
             "color": "#2a3f5f"
            },
            "error_y": {
             "color": "#2a3f5f"
            },
            "marker": {
             "line": {
              "color": "#E5ECF6",
              "width": 0.5
             },
             "pattern": {
              "fillmode": "overlay",
              "size": 10,
              "solidity": 0.2
             }
            },
            "type": "bar"
           }
          ],
          "barpolar": [
           {
            "marker": {
             "line": {
              "color": "#E5ECF6",
              "width": 0.5
             },
             "pattern": {
              "fillmode": "overlay",
              "size": 10,
              "solidity": 0.2
             }
            },
            "type": "barpolar"
           }
          ],
          "carpet": [
           {
            "aaxis": {
             "endlinecolor": "#2a3f5f",
             "gridcolor": "white",
             "linecolor": "white",
             "minorgridcolor": "white",
             "startlinecolor": "#2a3f5f"
            },
            "baxis": {
             "endlinecolor": "#2a3f5f",
             "gridcolor": "white",
             "linecolor": "white",
             "minorgridcolor": "white",
             "startlinecolor": "#2a3f5f"
            },
            "type": "carpet"
           }
          ],
          "choropleth": [
           {
            "colorbar": {
             "outlinewidth": 0,
             "ticks": ""
            },
            "type": "choropleth"
           }
          ],
          "contour": [
           {
            "colorbar": {
             "outlinewidth": 0,
             "ticks": ""
            },
            "colorscale": [
             [
              0,
              "#0d0887"
             ],
             [
              0.1111111111111111,
              "#46039f"
             ],
             [
              0.2222222222222222,
              "#7201a8"
             ],
             [
              0.3333333333333333,
              "#9c179e"
             ],
             [
              0.4444444444444444,
              "#bd3786"
             ],
             [
              0.5555555555555556,
              "#d8576b"
             ],
             [
              0.6666666666666666,
              "#ed7953"
             ],
             [
              0.7777777777777778,
              "#fb9f3a"
             ],
             [
              0.8888888888888888,
              "#fdca26"
             ],
             [
              1,
              "#f0f921"
             ]
            ],
            "type": "contour"
           }
          ],
          "contourcarpet": [
           {
            "colorbar": {
             "outlinewidth": 0,
             "ticks": ""
            },
            "type": "contourcarpet"
           }
          ],
          "heatmap": [
           {
            "colorbar": {
             "outlinewidth": 0,
             "ticks": ""
            },
            "colorscale": [
             [
              0,
              "#0d0887"
             ],
             [
              0.1111111111111111,
              "#46039f"
             ],
             [
              0.2222222222222222,
              "#7201a8"
             ],
             [
              0.3333333333333333,
              "#9c179e"
             ],
             [
              0.4444444444444444,
              "#bd3786"
             ],
             [
              0.5555555555555556,
              "#d8576b"
             ],
             [
              0.6666666666666666,
              "#ed7953"
             ],
             [
              0.7777777777777778,
              "#fb9f3a"
             ],
             [
              0.8888888888888888,
              "#fdca26"
             ],
             [
              1,
              "#f0f921"
             ]
            ],
            "type": "heatmap"
           }
          ],
          "heatmapgl": [
           {
            "colorbar": {
             "outlinewidth": 0,
             "ticks": ""
            },
            "colorscale": [
             [
              0,
              "#0d0887"
             ],
             [
              0.1111111111111111,
              "#46039f"
             ],
             [
              0.2222222222222222,
              "#7201a8"
             ],
             [
              0.3333333333333333,
              "#9c179e"
             ],
             [
              0.4444444444444444,
              "#bd3786"
             ],
             [
              0.5555555555555556,
              "#d8576b"
             ],
             [
              0.6666666666666666,
              "#ed7953"
             ],
             [
              0.7777777777777778,
              "#fb9f3a"
             ],
             [
              0.8888888888888888,
              "#fdca26"
             ],
             [
              1,
              "#f0f921"
             ]
            ],
            "type": "heatmapgl"
           }
          ],
          "histogram": [
           {
            "marker": {
             "pattern": {
              "fillmode": "overlay",
              "size": 10,
              "solidity": 0.2
             }
            },
            "type": "histogram"
           }
          ],
          "histogram2d": [
           {
            "colorbar": {
             "outlinewidth": 0,
             "ticks": ""
            },
            "colorscale": [
             [
              0,
              "#0d0887"
             ],
             [
              0.1111111111111111,
              "#46039f"
             ],
             [
              0.2222222222222222,
              "#7201a8"
             ],
             [
              0.3333333333333333,
              "#9c179e"
             ],
             [
              0.4444444444444444,
              "#bd3786"
             ],
             [
              0.5555555555555556,
              "#d8576b"
             ],
             [
              0.6666666666666666,
              "#ed7953"
             ],
             [
              0.7777777777777778,
              "#fb9f3a"
             ],
             [
              0.8888888888888888,
              "#fdca26"
             ],
             [
              1,
              "#f0f921"
             ]
            ],
            "type": "histogram2d"
           }
          ],
          "histogram2dcontour": [
           {
            "colorbar": {
             "outlinewidth": 0,
             "ticks": ""
            },
            "colorscale": [
             [
              0,
              "#0d0887"
             ],
             [
              0.1111111111111111,
              "#46039f"
             ],
             [
              0.2222222222222222,
              "#7201a8"
             ],
             [
              0.3333333333333333,
              "#9c179e"
             ],
             [
              0.4444444444444444,
              "#bd3786"
             ],
             [
              0.5555555555555556,
              "#d8576b"
             ],
             [
              0.6666666666666666,
              "#ed7953"
             ],
             [
              0.7777777777777778,
              "#fb9f3a"
             ],
             [
              0.8888888888888888,
              "#fdca26"
             ],
             [
              1,
              "#f0f921"
             ]
            ],
            "type": "histogram2dcontour"
           }
          ],
          "mesh3d": [
           {
            "colorbar": {
             "outlinewidth": 0,
             "ticks": ""
            },
            "type": "mesh3d"
           }
          ],
          "parcoords": [
           {
            "line": {
             "colorbar": {
              "outlinewidth": 0,
              "ticks": ""
             }
            },
            "type": "parcoords"
           }
          ],
          "pie": [
           {
            "automargin": true,
            "type": "pie"
           }
          ],
          "scatter": [
           {
            "fillpattern": {
             "fillmode": "overlay",
             "size": 10,
             "solidity": 0.2
            },
            "type": "scatter"
           }
          ],
          "scatter3d": [
           {
            "line": {
             "colorbar": {
              "outlinewidth": 0,
              "ticks": ""
             }
            },
            "marker": {
             "colorbar": {
              "outlinewidth": 0,
              "ticks": ""
             }
            },
            "type": "scatter3d"
           }
          ],
          "scattercarpet": [
           {
            "marker": {
             "colorbar": {
              "outlinewidth": 0,
              "ticks": ""
             }
            },
            "type": "scattercarpet"
           }
          ],
          "scattergeo": [
           {
            "marker": {
             "colorbar": {
              "outlinewidth": 0,
              "ticks": ""
             }
            },
            "type": "scattergeo"
           }
          ],
          "scattergl": [
           {
            "marker": {
             "colorbar": {
              "outlinewidth": 0,
              "ticks": ""
             }
            },
            "type": "scattergl"
           }
          ],
          "scattermapbox": [
           {
            "marker": {
             "colorbar": {
              "outlinewidth": 0,
              "ticks": ""
             }
            },
            "type": "scattermapbox"
           }
          ],
          "scatterpolar": [
           {
            "marker": {
             "colorbar": {
              "outlinewidth": 0,
              "ticks": ""
             }
            },
            "type": "scatterpolar"
           }
          ],
          "scatterpolargl": [
           {
            "marker": {
             "colorbar": {
              "outlinewidth": 0,
              "ticks": ""
             }
            },
            "type": "scatterpolargl"
           }
          ],
          "scatterternary": [
           {
            "marker": {
             "colorbar": {
              "outlinewidth": 0,
              "ticks": ""
             }
            },
            "type": "scatterternary"
           }
          ],
          "surface": [
           {
            "colorbar": {
             "outlinewidth": 0,
             "ticks": ""
            },
            "colorscale": [
             [
              0,
              "#0d0887"
             ],
             [
              0.1111111111111111,
              "#46039f"
             ],
             [
              0.2222222222222222,
              "#7201a8"
             ],
             [
              0.3333333333333333,
              "#9c179e"
             ],
             [
              0.4444444444444444,
              "#bd3786"
             ],
             [
              0.5555555555555556,
              "#d8576b"
             ],
             [
              0.6666666666666666,
              "#ed7953"
             ],
             [
              0.7777777777777778,
              "#fb9f3a"
             ],
             [
              0.8888888888888888,
              "#fdca26"
             ],
             [
              1,
              "#f0f921"
             ]
            ],
            "type": "surface"
           }
          ],
          "table": [
           {
            "cells": {
             "fill": {
              "color": "#EBF0F8"
             },
             "line": {
              "color": "white"
             }
            },
            "header": {
             "fill": {
              "color": "#C8D4E3"
             },
             "line": {
              "color": "white"
             }
            },
            "type": "table"
           }
          ]
         },
         "layout": {
          "annotationdefaults": {
           "arrowcolor": "#2a3f5f",
           "arrowhead": 0,
           "arrowwidth": 1
          },
          "autotypenumbers": "strict",
          "coloraxis": {
           "colorbar": {
            "outlinewidth": 0,
            "ticks": ""
           }
          },
          "colorscale": {
           "diverging": [
            [
             0,
             "#8e0152"
            ],
            [
             0.1,
             "#c51b7d"
            ],
            [
             0.2,
             "#de77ae"
            ],
            [
             0.3,
             "#f1b6da"
            ],
            [
             0.4,
             "#fde0ef"
            ],
            [
             0.5,
             "#f7f7f7"
            ],
            [
             0.6,
             "#e6f5d0"
            ],
            [
             0.7,
             "#b8e186"
            ],
            [
             0.8,
             "#7fbc41"
            ],
            [
             0.9,
             "#4d9221"
            ],
            [
             1,
             "#276419"
            ]
           ],
           "sequential": [
            [
             0,
             "#0d0887"
            ],
            [
             0.1111111111111111,
             "#46039f"
            ],
            [
             0.2222222222222222,
             "#7201a8"
            ],
            [
             0.3333333333333333,
             "#9c179e"
            ],
            [
             0.4444444444444444,
             "#bd3786"
            ],
            [
             0.5555555555555556,
             "#d8576b"
            ],
            [
             0.6666666666666666,
             "#ed7953"
            ],
            [
             0.7777777777777778,
             "#fb9f3a"
            ],
            [
             0.8888888888888888,
             "#fdca26"
            ],
            [
             1,
             "#f0f921"
            ]
           ],
           "sequentialminus": [
            [
             0,
             "#0d0887"
            ],
            [
             0.1111111111111111,
             "#46039f"
            ],
            [
             0.2222222222222222,
             "#7201a8"
            ],
            [
             0.3333333333333333,
             "#9c179e"
            ],
            [
             0.4444444444444444,
             "#bd3786"
            ],
            [
             0.5555555555555556,
             "#d8576b"
            ],
            [
             0.6666666666666666,
             "#ed7953"
            ],
            [
             0.7777777777777778,
             "#fb9f3a"
            ],
            [
             0.8888888888888888,
             "#fdca26"
            ],
            [
             1,
             "#f0f921"
            ]
           ]
          },
          "colorway": [
           "#636efa",
           "#EF553B",
           "#00cc96",
           "#ab63fa",
           "#FFA15A",
           "#19d3f3",
           "#FF6692",
           "#B6E880",
           "#FF97FF",
           "#FECB52"
          ],
          "font": {
           "color": "#2a3f5f"
          },
          "geo": {
           "bgcolor": "white",
           "lakecolor": "white",
           "landcolor": "#E5ECF6",
           "showlakes": true,
           "showland": true,
           "subunitcolor": "white"
          },
          "hoverlabel": {
           "align": "left"
          },
          "hovermode": "closest",
          "mapbox": {
           "style": "light"
          },
          "paper_bgcolor": "white",
          "plot_bgcolor": "#E5ECF6",
          "polar": {
           "angularaxis": {
            "gridcolor": "white",
            "linecolor": "white",
            "ticks": ""
           },
           "bgcolor": "#E5ECF6",
           "radialaxis": {
            "gridcolor": "white",
            "linecolor": "white",
            "ticks": ""
           }
          },
          "scene": {
           "xaxis": {
            "backgroundcolor": "#E5ECF6",
            "gridcolor": "white",
            "gridwidth": 2,
            "linecolor": "white",
            "showbackground": true,
            "ticks": "",
            "zerolinecolor": "white"
           },
           "yaxis": {
            "backgroundcolor": "#E5ECF6",
            "gridcolor": "white",
            "gridwidth": 2,
            "linecolor": "white",
            "showbackground": true,
            "ticks": "",
            "zerolinecolor": "white"
           },
           "zaxis": {
            "backgroundcolor": "#E5ECF6",
            "gridcolor": "white",
            "gridwidth": 2,
            "linecolor": "white",
            "showbackground": true,
            "ticks": "",
            "zerolinecolor": "white"
           }
          },
          "shapedefaults": {
           "line": {
            "color": "#2a3f5f"
           }
          },
          "ternary": {
           "aaxis": {
            "gridcolor": "white",
            "linecolor": "white",
            "ticks": ""
           },
           "baxis": {
            "gridcolor": "white",
            "linecolor": "white",
            "ticks": ""
           },
           "bgcolor": "#E5ECF6",
           "caxis": {
            "gridcolor": "white",
            "linecolor": "white",
            "ticks": ""
           }
          },
          "title": {
           "x": 0.05
          },
          "xaxis": {
           "automargin": true,
           "gridcolor": "white",
           "linecolor": "white",
           "ticks": "",
           "title": {
            "standoff": 15
           },
           "zerolinecolor": "white",
           "zerolinewidth": 2
          },
          "yaxis": {
           "automargin": true,
           "gridcolor": "white",
           "linecolor": "white",
           "ticks": "",
           "title": {
            "standoff": 15
           },
           "zerolinecolor": "white",
           "zerolinewidth": 2
          }
         }
        },
        "title": {
         "font": {
          "color": "#4D5663"
         }
        },
        "xaxis": {
         "autorange": true,
         "gridcolor": "#E1E5ED",
         "range": [
          -0.5,
          2.5
         ],
         "showgrid": true,
         "tickfont": {
          "color": "#4D5663"
         },
         "title": {
          "font": {
           "color": "#4D5663"
          },
          "text": ""
         },
         "type": "category",
         "zerolinecolor": "#E1E5ED"
        },
        "yaxis": {
         "autorange": true,
         "gridcolor": "#E1E5ED",
         "range": [
          0,
          52.63157894736842
         ],
         "showgrid": true,
         "tickfont": {
          "color": "#4D5663"
         },
         "title": {
          "font": {
           "color": "#4D5663"
          },
          "text": ""
         },
         "type": "linear",
         "zerolinecolor": "#E1E5ED"
        }
       }
      },
      "image/png": "[encoded data removed]",
      "text/html": [
       "<div>                            <div id=\"cb2120f1-132e-4b9f-a80e-af689b1bd7fb\" class=\"plotly-graph-div\" style=\"height:525px; width:100%;\"></div>            <script type=\"text/javascript\">                require([\"plotly\"], function(Plotly) {                    window.PLOTLYENV=window.PLOTLYENV || {};\n",
       "                    window.PLOTLYENV.BASE_URL='https://plot.ly';                                    if (document.getElementById(\"cb2120f1-132e-4b9f-a80e-af689b1bd7fb\")) {                    Plotly.newPlot(                        \"cb2120f1-132e-4b9f-a80e-af689b1bd7fb\",                        [{\"marker\":{\"color\":\"rgba(255, 153, 51, 0.6)\",\"line\":{\"color\":\"rgba(255, 153, 51, 1.0)\",\"width\":1}},\"name\":\"Values\",\"orientation\":\"v\",\"text\":\"\",\"x\":[\"A\",\"B\",\"C\"],\"y\":[32,43,50],\"type\":\"bar\"}],                        {\"legend\":{\"bgcolor\":\"#F5F6F9\",\"font\":{\"color\":\"#4D5663\"}},\"paper_bgcolor\":\"#F5F6F9\",\"plot_bgcolor\":\"#F5F6F9\",\"template\":{\"data\":{\"barpolar\":[{\"marker\":{\"line\":{\"color\":\"#E5ECF6\",\"width\":0.5},\"pattern\":{\"fillmode\":\"overlay\",\"size\":10,\"solidity\":0.2}},\"type\":\"barpolar\"}],\"bar\":[{\"error_x\":{\"color\":\"#2a3f5f\"},\"error_y\":{\"color\":\"#2a3f5f\"},\"marker\":{\"line\":{\"color\":\"#E5ECF6\",\"width\":0.5},\"pattern\":{\"fillmode\":\"overlay\",\"size\":10,\"solidity\":0.2}},\"type\":\"bar\"}],\"carpet\":[{\"aaxis\":{\"endlinecolor\":\"#2a3f5f\",\"gridcolor\":\"white\",\"linecolor\":\"white\",\"minorgridcolor\":\"white\",\"startlinecolor\":\"#2a3f5f\"},\"baxis\":{\"endlinecolor\":\"#2a3f5f\",\"gridcolor\":\"white\",\"linecolor\":\"white\",\"minorgridcolor\":\"white\",\"startlinecolor\":\"#2a3f5f\"},\"type\":\"carpet\"}],\"choropleth\":[{\"colorbar\":{\"outlinewidth\":0,\"ticks\":\"\"},\"type\":\"choropleth\"}],\"contourcarpet\":[{\"colorbar\":{\"outlinewidth\":0,\"ticks\":\"\"},\"type\":\"contourcarpet\"}],\"contour\":[{\"colorbar\":{\"outlinewidth\":0,\"ticks\":\"\"},\"colorscale\":[[0.0,\"#0d0887\"],[0.1111111111111111,\"#46039f\"],[0.2222222222222222,\"#7201a8\"],[0.3333333333333333,\"#9c179e\"],[0.4444444444444444,\"#bd3786\"],[0.5555555555555556,\"#d8576b\"],[0.6666666666666666,\"#ed7953\"],[0.7777777777777778,\"#fb9f3a\"],[0.8888888888888888,\"#fdca26\"],[1.0,\"#f0f921\"]],\"type\":\"contour\"}],\"heatmapgl\":[{\"colorbar\":{\"outlinewidth\":0,\"ticks\":\"\"},\"colorscale\":[[0.0,\"#0d0887\"],[0.1111111111111111,\"#46039f\"],[0.2222222222222222,\"#7201a8\"],[0.3333333333333333,\"#9c179e\"],[0.4444444444444444,\"#bd3786\"],[0.5555555555555556,\"#d8576b\"],[0.6666666666666666,\"#ed7953\"],[0.7777777777777778,\"#fb9f3a\"],[0.8888888888888888,\"#fdca26\"],[1.0,\"#f0f921\"]],\"type\":\"heatmapgl\"}],\"heatmap\":[{\"colorbar\":{\"outlinewidth\":0,\"ticks\":\"\"},\"colorscale\":[[0.0,\"#0d0887\"],[0.1111111111111111,\"#46039f\"],[0.2222222222222222,\"#7201a8\"],[0.3333333333333333,\"#9c179e\"],[0.4444444444444444,\"#bd3786\"],[0.5555555555555556,\"#d8576b\"],[0.6666666666666666,\"#ed7953\"],[0.7777777777777778,\"#fb9f3a\"],[0.8888888888888888,\"#fdca26\"],[1.0,\"#f0f921\"]],\"type\":\"heatmap\"}],\"histogram2dcontour\":[{\"colorbar\":{\"outlinewidth\":0,\"ticks\":\"\"},\"colorscale\":[[0.0,\"#0d0887\"],[0.1111111111111111,\"#46039f\"],[0.2222222222222222,\"#7201a8\"],[0.3333333333333333,\"#9c179e\"],[0.4444444444444444,\"#bd3786\"],[0.5555555555555556,\"#d8576b\"],[0.6666666666666666,\"#ed7953\"],[0.7777777777777778,\"#fb9f3a\"],[0.8888888888888888,\"#fdca26\"],[1.0,\"#f0f921\"]],\"type\":\"histogram2dcontour\"}],\"histogram2d\":[{\"colorbar\":{\"outlinewidth\":0,\"ticks\":\"\"},\"colorscale\":[[0.0,\"#0d0887\"],[0.1111111111111111,\"#46039f\"],[0.2222222222222222,\"#7201a8\"],[0.3333333333333333,\"#9c179e\"],[0.4444444444444444,\"#bd3786\"],[0.5555555555555556,\"#d8576b\"],[0.6666666666666666,\"#ed7953\"],[0.7777777777777778,\"#fb9f3a\"],[0.8888888888888888,\"#fdca26\"],[1.0,\"#f0f921\"]],\"type\":\"histogram2d\"}],\"histogram\":[{\"marker\":{\"pattern\":{\"fillmode\":\"overlay\",\"size\":10,\"solidity\":0.2}},\"type\":\"histogram\"}],\"mesh3d\":[{\"colorbar\":{\"outlinewidth\":0,\"ticks\":\"\"},\"type\":\"mesh3d\"}],\"parcoords\":[{\"line\":{\"colorbar\":{\"outlinewidth\":0,\"ticks\":\"\"}},\"type\":\"parcoords\"}],\"pie\":[{\"automargin\":true,\"type\":\"pie\"}],\"scatter3d\":[{\"line\":{\"colorbar\":{\"outlinewidth\":0,\"ticks\":\"\"}},\"marker\":{\"colorbar\":{\"outlinewidth\":0,\"ticks\":\"\"}},\"type\":\"scatter3d\"}],\"scattercarpet\":[{\"marker\":{\"colorbar\":{\"outlinewidth\":0,\"ticks\":\"\"}},\"type\":\"scattercarpet\"}],\"scattergeo\":[{\"marker\":{\"colorbar\":{\"outlinewidth\":0,\"ticks\":\"\"}},\"type\":\"scattergeo\"}],\"scattergl\":[{\"marker\":{\"colorbar\":{\"outlinewidth\":0,\"ticks\":\"\"}},\"type\":\"scattergl\"}],\"scattermapbox\":[{\"marker\":{\"colorbar\":{\"outlinewidth\":0,\"ticks\":\"\"}},\"type\":\"scattermapbox\"}],\"scatterpolargl\":[{\"marker\":{\"colorbar\":{\"outlinewidth\":0,\"ticks\":\"\"}},\"type\":\"scatterpolargl\"}],\"scatterpolar\":[{\"marker\":{\"colorbar\":{\"outlinewidth\":0,\"ticks\":\"\"}},\"type\":\"scatterpolar\"}],\"scatter\":[{\"fillpattern\":{\"fillmode\":\"overlay\",\"size\":10,\"solidity\":0.2},\"type\":\"scatter\"}],\"scatterternary\":[{\"marker\":{\"colorbar\":{\"outlinewidth\":0,\"ticks\":\"\"}},\"type\":\"scatterternary\"}],\"surface\":[{\"colorbar\":{\"outlinewidth\":0,\"ticks\":\"\"},\"colorscale\":[[0.0,\"#0d0887\"],[0.1111111111111111,\"#46039f\"],[0.2222222222222222,\"#7201a8\"],[0.3333333333333333,\"#9c179e\"],[0.4444444444444444,\"#bd3786\"],[0.5555555555555556,\"#d8576b\"],[0.6666666666666666,\"#ed7953\"],[0.7777777777777778,\"#fb9f3a\"],[0.8888888888888888,\"#fdca26\"],[1.0,\"#f0f921\"]],\"type\":\"surface\"}],\"table\":[{\"cells\":{\"fill\":{\"color\":\"#EBF0F8\"},\"line\":{\"color\":\"white\"}},\"header\":{\"fill\":{\"color\":\"#C8D4E3\"},\"line\":{\"color\":\"white\"}},\"type\":\"table\"}]},\"layout\":{\"annotationdefaults\":{\"arrowcolor\":\"#2a3f5f\",\"arrowhead\":0,\"arrowwidth\":1},\"autotypenumbers\":\"strict\",\"coloraxis\":{\"colorbar\":{\"outlinewidth\":0,\"ticks\":\"\"}},\"colorscale\":{\"diverging\":[[0,\"#8e0152\"],[0.1,\"#c51b7d\"],[0.2,\"#de77ae\"],[0.3,\"#f1b6da\"],[0.4,\"#fde0ef\"],[0.5,\"#f7f7f7\"],[0.6,\"#e6f5d0\"],[0.7,\"#b8e186\"],[0.8,\"#7fbc41\"],[0.9,\"#4d9221\"],[1,\"#276419\"]],\"sequential\":[[0.0,\"#0d0887\"],[0.1111111111111111,\"#46039f\"],[0.2222222222222222,\"#7201a8\"],[0.3333333333333333,\"#9c179e\"],[0.4444444444444444,\"#bd3786\"],[0.5555555555555556,\"#d8576b\"],[0.6666666666666666,\"#ed7953\"],[0.7777777777777778,\"#fb9f3a\"],[0.8888888888888888,\"#fdca26\"],[1.0,\"#f0f921\"]],\"sequentialminus\":[[0.0,\"#0d0887\"],[0.1111111111111111,\"#46039f\"],[0.2222222222222222,\"#7201a8\"],[0.3333333333333333,\"#9c179e\"],[0.4444444444444444,\"#bd3786\"],[0.5555555555555556,\"#d8576b\"],[0.6666666666666666,\"#ed7953\"],[0.7777777777777778,\"#fb9f3a\"],[0.8888888888888888,\"#fdca26\"],[1.0,\"#f0f921\"]]},\"colorway\":[\"#636efa\",\"#EF553B\",\"#00cc96\",\"#ab63fa\",\"#FFA15A\",\"#19d3f3\",\"#FF6692\",\"#B6E880\",\"#FF97FF\",\"#FECB52\"],\"font\":{\"color\":\"#2a3f5f\"},\"geo\":{\"bgcolor\":\"white\",\"lakecolor\":\"white\",\"landcolor\":\"#E5ECF6\",\"showlakes\":true,\"showland\":true,\"subunitcolor\":\"white\"},\"hoverlabel\":{\"align\":\"left\"},\"hovermode\":\"closest\",\"mapbox\":{\"style\":\"light\"},\"paper_bgcolor\":\"white\",\"plot_bgcolor\":\"#E5ECF6\",\"polar\":{\"angularaxis\":{\"gridcolor\":\"white\",\"linecolor\":\"white\",\"ticks\":\"\"},\"bgcolor\":\"#E5ECF6\",\"radialaxis\":{\"gridcolor\":\"white\",\"linecolor\":\"white\",\"ticks\":\"\"}},\"scene\":{\"xaxis\":{\"backgroundcolor\":\"#E5ECF6\",\"gridcolor\":\"white\",\"gridwidth\":2,\"linecolor\":\"white\",\"showbackground\":true,\"ticks\":\"\",\"zerolinecolor\":\"white\"},\"yaxis\":{\"backgroundcolor\":\"#E5ECF6\",\"gridcolor\":\"white\",\"gridwidth\":2,\"linecolor\":\"white\",\"showbackground\":true,\"ticks\":\"\",\"zerolinecolor\":\"white\"},\"zaxis\":{\"backgroundcolor\":\"#E5ECF6\",\"gridcolor\":\"white\",\"gridwidth\":2,\"linecolor\":\"white\",\"showbackground\":true,\"ticks\":\"\",\"zerolinecolor\":\"white\"}},\"shapedefaults\":{\"line\":{\"color\":\"#2a3f5f\"}},\"ternary\":{\"aaxis\":{\"gridcolor\":\"white\",\"linecolor\":\"white\",\"ticks\":\"\"},\"baxis\":{\"gridcolor\":\"white\",\"linecolor\":\"white\",\"ticks\":\"\"},\"bgcolor\":\"#E5ECF6\",\"caxis\":{\"gridcolor\":\"white\",\"linecolor\":\"white\",\"ticks\":\"\"}},\"title\":{\"x\":0.05},\"xaxis\":{\"automargin\":true,\"gridcolor\":\"white\",\"linecolor\":\"white\",\"ticks\":\"\",\"title\":{\"standoff\":15},\"zerolinecolor\":\"white\",\"zerolinewidth\":2},\"yaxis\":{\"automargin\":true,\"gridcolor\":\"white\",\"linecolor\":\"white\",\"ticks\":\"\",\"title\":{\"standoff\":15},\"zerolinecolor\":\"white\",\"zerolinewidth\":2}}},\"title\":{\"font\":{\"color\":\"#4D5663\"}},\"xaxis\":{\"gridcolor\":\"#E1E5ED\",\"showgrid\":true,\"tickfont\":{\"color\":\"#4D5663\"},\"title\":{\"font\":{\"color\":\"#4D5663\"},\"text\":\"\"},\"zerolinecolor\":\"#E1E5ED\"},\"yaxis\":{\"gridcolor\":\"#E1E5ED\",\"showgrid\":true,\"tickfont\":{\"color\":\"#4D5663\"},\"title\":{\"font\":{\"color\":\"#4D5663\"},\"text\":\"\"},\"zerolinecolor\":\"#E1E5ED\"}},                        {\"showLink\": true, \"linkText\": \"Export to plot.ly\", \"plotlyServerURL\": \"https://plot.ly\", \"responsive\": true}                    ).then(function(){\n",
       "                            \n",
       "var gd = document.getElementById('cb2120f1-132e-4b9f-a80e-af689b1bd7fb');\n",
       "var x = new MutationObserver(function (mutations, observer) {{\n",
       "        var display = window.getComputedStyle(gd).display;\n",
       "        if (!display || display === 'none') {{\n",
       "            console.log([gd, 'removed!']);\n",
       "            Plotly.purge(gd);\n",
       "            observer.disconnect();\n",
       "        }}\n",
       "}});\n",
       "\n",
       "// Listen for the removal of the full notebook cells\n",
       "var notebookContainer = gd.closest('#notebook-container');\n",
       "if (notebookContainer) {{\n",
       "    x.observe(notebookContainer, {childList: true});\n",
       "}}\n",
       "\n",
       "// Listen for the clearing of the current output cell\n",
       "var outputEl = gd.closest('.output');\n",
       "if (outputEl) {{\n",
       "    x.observe(outputEl, {childList: true});\n",
       "}}\n",
       "\n",
       "                        })                };                });            </script>        </div>"
      ]
     },
     "metadata": {},
     "output_type": "display_data"
    }
   ],
   "source": [
    "df2.iplot(kind='bar',x='Category',y='Values')"
   ]
  },
  {
   "cell_type": "code",
   "execution_count": 13,
   "metadata": {
    "collapsed": false,
    "jupyter": {
     "outputs_hidden": false
    }
   },
   "outputs": [
    {
     "data": {
      "application/vnd.plotly.v1+json": {
       "config": {
        "linkText": "Export to plot.ly",
        "plotlyServerURL": "https://plot.ly",
        "showLink": true
       },
       "data": [
        {
         "marker": {
          "color": "rgba(255, 153, 51, 0.6)",
          "line": {
           "color": "rgba(255, 153, 51, 1.0)",
           "width": 1
          }
         },
         "name": "None",
         "orientation": "v",
         "text": "",
         "type": "bar",
         "x": [
          "A",
          "B",
          "C",
          "D"
         ],
         "y": [
          100,
          100,
          100,
          100
         ]
        }
       ],
       "layout": {
        "autosize": true,
        "legend": {
         "bgcolor": "#F5F6F9",
         "font": {
          "color": "#4D5663"
         }
        },
        "paper_bgcolor": "#F5F6F9",
        "plot_bgcolor": "#F5F6F9",
        "template": {
         "data": {
          "bar": [
           {
            "error_x": {
             "color": "#2a3f5f"
            },
            "error_y": {
             "color": "#2a3f5f"
            },
            "marker": {
             "line": {
              "color": "#E5ECF6",
              "width": 0.5
             },
             "pattern": {
              "fillmode": "overlay",
              "size": 10,
              "solidity": 0.2
             }
            },
            "type": "bar"
           }
          ],
          "barpolar": [
           {
            "marker": {
             "line": {
              "color": "#E5ECF6",
              "width": 0.5
             },
             "pattern": {
              "fillmode": "overlay",
              "size": 10,
              "solidity": 0.2
             }
            },
            "type": "barpolar"
           }
          ],
          "carpet": [
           {
            "aaxis": {
             "endlinecolor": "#2a3f5f",
             "gridcolor": "white",
             "linecolor": "white",
             "minorgridcolor": "white",
             "startlinecolor": "#2a3f5f"
            },
            "baxis": {
             "endlinecolor": "#2a3f5f",
             "gridcolor": "white",
             "linecolor": "white",
             "minorgridcolor": "white",
             "startlinecolor": "#2a3f5f"
            },
            "type": "carpet"
           }
          ],
          "choropleth": [
           {
            "colorbar": {
             "outlinewidth": 0,
             "ticks": ""
            },
            "type": "choropleth"
           }
          ],
          "contour": [
           {
            "colorbar": {
             "outlinewidth": 0,
             "ticks": ""
            },
            "colorscale": [
             [
              0,
              "#0d0887"
             ],
             [
              0.1111111111111111,
              "#46039f"
             ],
             [
              0.2222222222222222,
              "#7201a8"
             ],
             [
              0.3333333333333333,
              "#9c179e"
             ],
             [
              0.4444444444444444,
              "#bd3786"
             ],
             [
              0.5555555555555556,
              "#d8576b"
             ],
             [
              0.6666666666666666,
              "#ed7953"
             ],
             [
              0.7777777777777778,
              "#fb9f3a"
             ],
             [
              0.8888888888888888,
              "#fdca26"
             ],
             [
              1,
              "#f0f921"
             ]
            ],
            "type": "contour"
           }
          ],
          "contourcarpet": [
           {
            "colorbar": {
             "outlinewidth": 0,
             "ticks": ""
            },
            "type": "contourcarpet"
           }
          ],
          "heatmap": [
           {
            "colorbar": {
             "outlinewidth": 0,
             "ticks": ""
            },
            "colorscale": [
             [
              0,
              "#0d0887"
             ],
             [
              0.1111111111111111,
              "#46039f"
             ],
             [
              0.2222222222222222,
              "#7201a8"
             ],
             [
              0.3333333333333333,
              "#9c179e"
             ],
             [
              0.4444444444444444,
              "#bd3786"
             ],
             [
              0.5555555555555556,
              "#d8576b"
             ],
             [
              0.6666666666666666,
              "#ed7953"
             ],
             [
              0.7777777777777778,
              "#fb9f3a"
             ],
             [
              0.8888888888888888,
              "#fdca26"
             ],
             [
              1,
              "#f0f921"
             ]
            ],
            "type": "heatmap"
           }
          ],
          "heatmapgl": [
           {
            "colorbar": {
             "outlinewidth": 0,
             "ticks": ""
            },
            "colorscale": [
             [
              0,
              "#0d0887"
             ],
             [
              0.1111111111111111,
              "#46039f"
             ],
             [
              0.2222222222222222,
              "#7201a8"
             ],
             [
              0.3333333333333333,
              "#9c179e"
             ],
             [
              0.4444444444444444,
              "#bd3786"
             ],
             [
              0.5555555555555556,
              "#d8576b"
             ],
             [
              0.6666666666666666,
              "#ed7953"
             ],
             [
              0.7777777777777778,
              "#fb9f3a"
             ],
             [
              0.8888888888888888,
              "#fdca26"
             ],
             [
              1,
              "#f0f921"
             ]
            ],
            "type": "heatmapgl"
           }
          ],
          "histogram": [
           {
            "marker": {
             "pattern": {
              "fillmode": "overlay",
              "size": 10,
              "solidity": 0.2
             }
            },
            "type": "histogram"
           }
          ],
          "histogram2d": [
           {
            "colorbar": {
             "outlinewidth": 0,
             "ticks": ""
            },
            "colorscale": [
             [
              0,
              "#0d0887"
             ],
             [
              0.1111111111111111,
              "#46039f"
             ],
             [
              0.2222222222222222,
              "#7201a8"
             ],
             [
              0.3333333333333333,
              "#9c179e"
             ],
             [
              0.4444444444444444,
              "#bd3786"
             ],
             [
              0.5555555555555556,
              "#d8576b"
             ],
             [
              0.6666666666666666,
              "#ed7953"
             ],
             [
              0.7777777777777778,
              "#fb9f3a"
             ],
             [
              0.8888888888888888,
              "#fdca26"
             ],
             [
              1,
              "#f0f921"
             ]
            ],
            "type": "histogram2d"
           }
          ],
          "histogram2dcontour": [
           {
            "colorbar": {
             "outlinewidth": 0,
             "ticks": ""
            },
            "colorscale": [
             [
              0,
              "#0d0887"
             ],
             [
              0.1111111111111111,
              "#46039f"
             ],
             [
              0.2222222222222222,
              "#7201a8"
             ],
             [
              0.3333333333333333,
              "#9c179e"
             ],
             [
              0.4444444444444444,
              "#bd3786"
             ],
             [
              0.5555555555555556,
              "#d8576b"
             ],
             [
              0.6666666666666666,
              "#ed7953"
             ],
             [
              0.7777777777777778,
              "#fb9f3a"
             ],
             [
              0.8888888888888888,
              "#fdca26"
             ],
             [
              1,
              "#f0f921"
             ]
            ],
            "type": "histogram2dcontour"
           }
          ],
          "mesh3d": [
           {
            "colorbar": {
             "outlinewidth": 0,
             "ticks": ""
            },
            "type": "mesh3d"
           }
          ],
          "parcoords": [
           {
            "line": {
             "colorbar": {
              "outlinewidth": 0,
              "ticks": ""
             }
            },
            "type": "parcoords"
           }
          ],
          "pie": [
           {
            "automargin": true,
            "type": "pie"
           }
          ],
          "scatter": [
           {
            "fillpattern": {
             "fillmode": "overlay",
             "size": 10,
             "solidity": 0.2
            },
            "type": "scatter"
           }
          ],
          "scatter3d": [
           {
            "line": {
             "colorbar": {
              "outlinewidth": 0,
              "ticks": ""
             }
            },
            "marker": {
             "colorbar": {
              "outlinewidth": 0,
              "ticks": ""
             }
            },
            "type": "scatter3d"
           }
          ],
          "scattercarpet": [
           {
            "marker": {
             "colorbar": {
              "outlinewidth": 0,
              "ticks": ""
             }
            },
            "type": "scattercarpet"
           }
          ],
          "scattergeo": [
           {
            "marker": {
             "colorbar": {
              "outlinewidth": 0,
              "ticks": ""
             }
            },
            "type": "scattergeo"
           }
          ],
          "scattergl": [
           {
            "marker": {
             "colorbar": {
              "outlinewidth": 0,
              "ticks": ""
             }
            },
            "type": "scattergl"
           }
          ],
          "scattermapbox": [
           {
            "marker": {
             "colorbar": {
              "outlinewidth": 0,
              "ticks": ""
             }
            },
            "type": "scattermapbox"
           }
          ],
          "scatterpolar": [
           {
            "marker": {
             "colorbar": {
              "outlinewidth": 0,
              "ticks": ""
             }
            },
            "type": "scatterpolar"
           }
          ],
          "scatterpolargl": [
           {
            "marker": {
             "colorbar": {
              "outlinewidth": 0,
              "ticks": ""
             }
            },
            "type": "scatterpolargl"
           }
          ],
          "scatterternary": [
           {
            "marker": {
             "colorbar": {
              "outlinewidth": 0,
              "ticks": ""
             }
            },
            "type": "scatterternary"
           }
          ],
          "surface": [
           {
            "colorbar": {
             "outlinewidth": 0,
             "ticks": ""
            },
            "colorscale": [
             [
              0,
              "#0d0887"
             ],
             [
              0.1111111111111111,
              "#46039f"
             ],
             [
              0.2222222222222222,
              "#7201a8"
             ],
             [
              0.3333333333333333,
              "#9c179e"
             ],
             [
              0.4444444444444444,
              "#bd3786"
             ],
             [
              0.5555555555555556,
              "#d8576b"
             ],
             [
              0.6666666666666666,
              "#ed7953"
             ],
             [
              0.7777777777777778,
              "#fb9f3a"
             ],
             [
              0.8888888888888888,
              "#fdca26"
             ],
             [
              1,
              "#f0f921"
             ]
            ],
            "type": "surface"
           }
          ],
          "table": [
           {
            "cells": {
             "fill": {
              "color": "#EBF0F8"
             },
             "line": {
              "color": "white"
             }
            },
            "header": {
             "fill": {
              "color": "#C8D4E3"
             },
             "line": {
              "color": "white"
             }
            },
            "type": "table"
           }
          ]
         },
         "layout": {
          "annotationdefaults": {
           "arrowcolor": "#2a3f5f",
           "arrowhead": 0,
           "arrowwidth": 1
          },
          "autotypenumbers": "strict",
          "coloraxis": {
           "colorbar": {
            "outlinewidth": 0,
            "ticks": ""
           }
          },
          "colorscale": {
           "diverging": [
            [
             0,
             "#8e0152"
            ],
            [
             0.1,
             "#c51b7d"
            ],
            [
             0.2,
             "#de77ae"
            ],
            [
             0.3,
             "#f1b6da"
            ],
            [
             0.4,
             "#fde0ef"
            ],
            [
             0.5,
             "#f7f7f7"
            ],
            [
             0.6,
             "#e6f5d0"
            ],
            [
             0.7,
             "#b8e186"
            ],
            [
             0.8,
             "#7fbc41"
            ],
            [
             0.9,
             "#4d9221"
            ],
            [
             1,
             "#276419"
            ]
           ],
           "sequential": [
            [
             0,
             "#0d0887"
            ],
            [
             0.1111111111111111,
             "#46039f"
            ],
            [
             0.2222222222222222,
             "#7201a8"
            ],
            [
             0.3333333333333333,
             "#9c179e"
            ],
            [
             0.4444444444444444,
             "#bd3786"
            ],
            [
             0.5555555555555556,
             "#d8576b"
            ],
            [
             0.6666666666666666,
             "#ed7953"
            ],
            [
             0.7777777777777778,
             "#fb9f3a"
            ],
            [
             0.8888888888888888,
             "#fdca26"
            ],
            [
             1,
             "#f0f921"
            ]
           ],
           "sequentialminus": [
            [
             0,
             "#0d0887"
            ],
            [
             0.1111111111111111,
             "#46039f"
            ],
            [
             0.2222222222222222,
             "#7201a8"
            ],
            [
             0.3333333333333333,
             "#9c179e"
            ],
            [
             0.4444444444444444,
             "#bd3786"
            ],
            [
             0.5555555555555556,
             "#d8576b"
            ],
            [
             0.6666666666666666,
             "#ed7953"
            ],
            [
             0.7777777777777778,
             "#fb9f3a"
            ],
            [
             0.8888888888888888,
             "#fdca26"
            ],
            [
             1,
             "#f0f921"
            ]
           ]
          },
          "colorway": [
           "#636efa",
           "#EF553B",
           "#00cc96",
           "#ab63fa",
           "#FFA15A",
           "#19d3f3",
           "#FF6692",
           "#B6E880",
           "#FF97FF",
           "#FECB52"
          ],
          "font": {
           "color": "#2a3f5f"
          },
          "geo": {
           "bgcolor": "white",
           "lakecolor": "white",
           "landcolor": "#E5ECF6",
           "showlakes": true,
           "showland": true,
           "subunitcolor": "white"
          },
          "hoverlabel": {
           "align": "left"
          },
          "hovermode": "closest",
          "mapbox": {
           "style": "light"
          },
          "paper_bgcolor": "white",
          "plot_bgcolor": "#E5ECF6",
          "polar": {
           "angularaxis": {
            "gridcolor": "white",
            "linecolor": "white",
            "ticks": ""
           },
           "bgcolor": "#E5ECF6",
           "radialaxis": {
            "gridcolor": "white",
            "linecolor": "white",
            "ticks": ""
           }
          },
          "scene": {
           "xaxis": {
            "backgroundcolor": "#E5ECF6",
            "gridcolor": "white",
            "gridwidth": 2,
            "linecolor": "white",
            "showbackground": true,
            "ticks": "",
            "zerolinecolor": "white"
           },
           "yaxis": {
            "backgroundcolor": "#E5ECF6",
            "gridcolor": "white",
            "gridwidth": 2,
            "linecolor": "white",
            "showbackground": true,
            "ticks": "",
            "zerolinecolor": "white"
           },
           "zaxis": {
            "backgroundcolor": "#E5ECF6",
            "gridcolor": "white",
            "gridwidth": 2,
            "linecolor": "white",
            "showbackground": true,
            "ticks": "",
            "zerolinecolor": "white"
           }
          },
          "shapedefaults": {
           "line": {
            "color": "#2a3f5f"
           }
          },
          "ternary": {
           "aaxis": {
            "gridcolor": "white",
            "linecolor": "white",
            "ticks": ""
           },
           "baxis": {
            "gridcolor": "white",
            "linecolor": "white",
            "ticks": ""
           },
           "bgcolor": "#E5ECF6",
           "caxis": {
            "gridcolor": "white",
            "linecolor": "white",
            "ticks": ""
           }
          },
          "title": {
           "x": 0.05
          },
          "xaxis": {
           "automargin": true,
           "gridcolor": "white",
           "linecolor": "white",
           "ticks": "",
           "title": {
            "standoff": 15
           },
           "zerolinecolor": "white",
           "zerolinewidth": 2
          },
          "yaxis": {
           "automargin": true,
           "gridcolor": "white",
           "linecolor": "white",
           "ticks": "",
           "title": {
            "standoff": 15
           },
           "zerolinecolor": "white",
           "zerolinewidth": 2
          }
         }
        },
        "title": {
         "font": {
          "color": "#4D5663"
         }
        },
        "xaxis": {
         "autorange": true,
         "gridcolor": "#E1E5ED",
         "range": [
          -0.5,
          3.5
         ],
         "showgrid": true,
         "tickfont": {
          "color": "#4D5663"
         },
         "title": {
          "font": {
           "color": "#4D5663"
          },
          "text": ""
         },
         "type": "category",
         "zerolinecolor": "#E1E5ED"
        },
        "yaxis": {
         "autorange": true,
         "gridcolor": "#E1E5ED",
         "range": [
          0,
          105.26315789473684
         ],
         "showgrid": true,
         "tickfont": {
          "color": "#4D5663"
         },
         "title": {
          "font": {
           "color": "#4D5663"
          },
          "text": ""
         },
         "type": "linear",
         "zerolinecolor": "#E1E5ED"
        }
       }
      },
      "image/png": "[encoded data removed]",
      "text/html": [
       "<div>                            <div id=\"a87c5618-cf99-440d-83ee-139e843350f8\" class=\"plotly-graph-div\" style=\"height:525px; width:100%;\"></div>            <script type=\"text/javascript\">                require([\"plotly\"], function(Plotly) {                    window.PLOTLYENV=window.PLOTLYENV || {};\n",
       "                    window.PLOTLYENV.BASE_URL='https://plot.ly';                                    if (document.getElementById(\"a87c5618-cf99-440d-83ee-139e843350f8\")) {                    Plotly.newPlot(                        \"a87c5618-cf99-440d-83ee-139e843350f8\",                        [{\"marker\":{\"color\":\"rgba(255, 153, 51, 0.6)\",\"line\":{\"color\":\"rgba(255, 153, 51, 1.0)\",\"width\":1}},\"name\":\"None\",\"orientation\":\"v\",\"text\":\"\",\"x\":[\"A\",\"B\",\"C\",\"D\"],\"y\":[100,100,100,100],\"type\":\"bar\"}],                        {\"legend\":{\"bgcolor\":\"#F5F6F9\",\"font\":{\"color\":\"#4D5663\"}},\"paper_bgcolor\":\"#F5F6F9\",\"plot_bgcolor\":\"#F5F6F9\",\"template\":{\"data\":{\"barpolar\":[{\"marker\":{\"line\":{\"color\":\"#E5ECF6\",\"width\":0.5},\"pattern\":{\"fillmode\":\"overlay\",\"size\":10,\"solidity\":0.2}},\"type\":\"barpolar\"}],\"bar\":[{\"error_x\":{\"color\":\"#2a3f5f\"},\"error_y\":{\"color\":\"#2a3f5f\"},\"marker\":{\"line\":{\"color\":\"#E5ECF6\",\"width\":0.5},\"pattern\":{\"fillmode\":\"overlay\",\"size\":10,\"solidity\":0.2}},\"type\":\"bar\"}],\"carpet\":[{\"aaxis\":{\"endlinecolor\":\"#2a3f5f\",\"gridcolor\":\"white\",\"linecolor\":\"white\",\"minorgridcolor\":\"white\",\"startlinecolor\":\"#2a3f5f\"},\"baxis\":{\"endlinecolor\":\"#2a3f5f\",\"gridcolor\":\"white\",\"linecolor\":\"white\",\"minorgridcolor\":\"white\",\"startlinecolor\":\"#2a3f5f\"},\"type\":\"carpet\"}],\"choropleth\":[{\"colorbar\":{\"outlinewidth\":0,\"ticks\":\"\"},\"type\":\"choropleth\"}],\"contourcarpet\":[{\"colorbar\":{\"outlinewidth\":0,\"ticks\":\"\"},\"type\":\"contourcarpet\"}],\"contour\":[{\"colorbar\":{\"outlinewidth\":0,\"ticks\":\"\"},\"colorscale\":[[0.0,\"#0d0887\"],[0.1111111111111111,\"#46039f\"],[0.2222222222222222,\"#7201a8\"],[0.3333333333333333,\"#9c179e\"],[0.4444444444444444,\"#bd3786\"],[0.5555555555555556,\"#d8576b\"],[0.6666666666666666,\"#ed7953\"],[0.7777777777777778,\"#fb9f3a\"],[0.8888888888888888,\"#fdca26\"],[1.0,\"#f0f921\"]],\"type\":\"contour\"}],\"heatmapgl\":[{\"colorbar\":{\"outlinewidth\":0,\"ticks\":\"\"},\"colorscale\":[[0.0,\"#0d0887\"],[0.1111111111111111,\"#46039f\"],[0.2222222222222222,\"#7201a8\"],[0.3333333333333333,\"#9c179e\"],[0.4444444444444444,\"#bd3786\"],[0.5555555555555556,\"#d8576b\"],[0.6666666666666666,\"#ed7953\"],[0.7777777777777778,\"#fb9f3a\"],[0.8888888888888888,\"#fdca26\"],[1.0,\"#f0f921\"]],\"type\":\"heatmapgl\"}],\"heatmap\":[{\"colorbar\":{\"outlinewidth\":0,\"ticks\":\"\"},\"colorscale\":[[0.0,\"#0d0887\"],[0.1111111111111111,\"#46039f\"],[0.2222222222222222,\"#7201a8\"],[0.3333333333333333,\"#9c179e\"],[0.4444444444444444,\"#bd3786\"],[0.5555555555555556,\"#d8576b\"],[0.6666666666666666,\"#ed7953\"],[0.7777777777777778,\"#fb9f3a\"],[0.8888888888888888,\"#fdca26\"],[1.0,\"#f0f921\"]],\"type\":\"heatmap\"}],\"histogram2dcontour\":[{\"colorbar\":{\"outlinewidth\":0,\"ticks\":\"\"},\"colorscale\":[[0.0,\"#0d0887\"],[0.1111111111111111,\"#46039f\"],[0.2222222222222222,\"#7201a8\"],[0.3333333333333333,\"#9c179e\"],[0.4444444444444444,\"#bd3786\"],[0.5555555555555556,\"#d8576b\"],[0.6666666666666666,\"#ed7953\"],[0.7777777777777778,\"#fb9f3a\"],[0.8888888888888888,\"#fdca26\"],[1.0,\"#f0f921\"]],\"type\":\"histogram2dcontour\"}],\"histogram2d\":[{\"colorbar\":{\"outlinewidth\":0,\"ticks\":\"\"},\"colorscale\":[[0.0,\"#0d0887\"],[0.1111111111111111,\"#46039f\"],[0.2222222222222222,\"#7201a8\"],[0.3333333333333333,\"#9c179e\"],[0.4444444444444444,\"#bd3786\"],[0.5555555555555556,\"#d8576b\"],[0.6666666666666666,\"#ed7953\"],[0.7777777777777778,\"#fb9f3a\"],[0.8888888888888888,\"#fdca26\"],[1.0,\"#f0f921\"]],\"type\":\"histogram2d\"}],\"histogram\":[{\"marker\":{\"pattern\":{\"fillmode\":\"overlay\",\"size\":10,\"solidity\":0.2}},\"type\":\"histogram\"}],\"mesh3d\":[{\"colorbar\":{\"outlinewidth\":0,\"ticks\":\"\"},\"type\":\"mesh3d\"}],\"parcoords\":[{\"line\":{\"colorbar\":{\"outlinewidth\":0,\"ticks\":\"\"}},\"type\":\"parcoords\"}],\"pie\":[{\"automargin\":true,\"type\":\"pie\"}],\"scatter3d\":[{\"line\":{\"colorbar\":{\"outlinewidth\":0,\"ticks\":\"\"}},\"marker\":{\"colorbar\":{\"outlinewidth\":0,\"ticks\":\"\"}},\"type\":\"scatter3d\"}],\"scattercarpet\":[{\"marker\":{\"colorbar\":{\"outlinewidth\":0,\"ticks\":\"\"}},\"type\":\"scattercarpet\"}],\"scattergeo\":[{\"marker\":{\"colorbar\":{\"outlinewidth\":0,\"ticks\":\"\"}},\"type\":\"scattergeo\"}],\"scattergl\":[{\"marker\":{\"colorbar\":{\"outlinewidth\":0,\"ticks\":\"\"}},\"type\":\"scattergl\"}],\"scattermapbox\":[{\"marker\":{\"colorbar\":{\"outlinewidth\":0,\"ticks\":\"\"}},\"type\":\"scattermapbox\"}],\"scatterpolargl\":[{\"marker\":{\"colorbar\":{\"outlinewidth\":0,\"ticks\":\"\"}},\"type\":\"scatterpolargl\"}],\"scatterpolar\":[{\"marker\":{\"colorbar\":{\"outlinewidth\":0,\"ticks\":\"\"}},\"type\":\"scatterpolar\"}],\"scatter\":[{\"fillpattern\":{\"fillmode\":\"overlay\",\"size\":10,\"solidity\":0.2},\"type\":\"scatter\"}],\"scatterternary\":[{\"marker\":{\"colorbar\":{\"outlinewidth\":0,\"ticks\":\"\"}},\"type\":\"scatterternary\"}],\"surface\":[{\"colorbar\":{\"outlinewidth\":0,\"ticks\":\"\"},\"colorscale\":[[0.0,\"#0d0887\"],[0.1111111111111111,\"#46039f\"],[0.2222222222222222,\"#7201a8\"],[0.3333333333333333,\"#9c179e\"],[0.4444444444444444,\"#bd3786\"],[0.5555555555555556,\"#d8576b\"],[0.6666666666666666,\"#ed7953\"],[0.7777777777777778,\"#fb9f3a\"],[0.8888888888888888,\"#fdca26\"],[1.0,\"#f0f921\"]],\"type\":\"surface\"}],\"table\":[{\"cells\":{\"fill\":{\"color\":\"#EBF0F8\"},\"line\":{\"color\":\"white\"}},\"header\":{\"fill\":{\"color\":\"#C8D4E3\"},\"line\":{\"color\":\"white\"}},\"type\":\"table\"}]},\"layout\":{\"annotationdefaults\":{\"arrowcolor\":\"#2a3f5f\",\"arrowhead\":0,\"arrowwidth\":1},\"autotypenumbers\":\"strict\",\"coloraxis\":{\"colorbar\":{\"outlinewidth\":0,\"ticks\":\"\"}},\"colorscale\":{\"diverging\":[[0,\"#8e0152\"],[0.1,\"#c51b7d\"],[0.2,\"#de77ae\"],[0.3,\"#f1b6da\"],[0.4,\"#fde0ef\"],[0.5,\"#f7f7f7\"],[0.6,\"#e6f5d0\"],[0.7,\"#b8e186\"],[0.8,\"#7fbc41\"],[0.9,\"#4d9221\"],[1,\"#276419\"]],\"sequential\":[[0.0,\"#0d0887\"],[0.1111111111111111,\"#46039f\"],[0.2222222222222222,\"#7201a8\"],[0.3333333333333333,\"#9c179e\"],[0.4444444444444444,\"#bd3786\"],[0.5555555555555556,\"#d8576b\"],[0.6666666666666666,\"#ed7953\"],[0.7777777777777778,\"#fb9f3a\"],[0.8888888888888888,\"#fdca26\"],[1.0,\"#f0f921\"]],\"sequentialminus\":[[0.0,\"#0d0887\"],[0.1111111111111111,\"#46039f\"],[0.2222222222222222,\"#7201a8\"],[0.3333333333333333,\"#9c179e\"],[0.4444444444444444,\"#bd3786\"],[0.5555555555555556,\"#d8576b\"],[0.6666666666666666,\"#ed7953\"],[0.7777777777777778,\"#fb9f3a\"],[0.8888888888888888,\"#fdca26\"],[1.0,\"#f0f921\"]]},\"colorway\":[\"#636efa\",\"#EF553B\",\"#00cc96\",\"#ab63fa\",\"#FFA15A\",\"#19d3f3\",\"#FF6692\",\"#B6E880\",\"#FF97FF\",\"#FECB52\"],\"font\":{\"color\":\"#2a3f5f\"},\"geo\":{\"bgcolor\":\"white\",\"lakecolor\":\"white\",\"landcolor\":\"#E5ECF6\",\"showlakes\":true,\"showland\":true,\"subunitcolor\":\"white\"},\"hoverlabel\":{\"align\":\"left\"},\"hovermode\":\"closest\",\"mapbox\":{\"style\":\"light\"},\"paper_bgcolor\":\"white\",\"plot_bgcolor\":\"#E5ECF6\",\"polar\":{\"angularaxis\":{\"gridcolor\":\"white\",\"linecolor\":\"white\",\"ticks\":\"\"},\"bgcolor\":\"#E5ECF6\",\"radialaxis\":{\"gridcolor\":\"white\",\"linecolor\":\"white\",\"ticks\":\"\"}},\"scene\":{\"xaxis\":{\"backgroundcolor\":\"#E5ECF6\",\"gridcolor\":\"white\",\"gridwidth\":2,\"linecolor\":\"white\",\"showbackground\":true,\"ticks\":\"\",\"zerolinecolor\":\"white\"},\"yaxis\":{\"backgroundcolor\":\"#E5ECF6\",\"gridcolor\":\"white\",\"gridwidth\":2,\"linecolor\":\"white\",\"showbackground\":true,\"ticks\":\"\",\"zerolinecolor\":\"white\"},\"zaxis\":{\"backgroundcolor\":\"#E5ECF6\",\"gridcolor\":\"white\",\"gridwidth\":2,\"linecolor\":\"white\",\"showbackground\":true,\"ticks\":\"\",\"zerolinecolor\":\"white\"}},\"shapedefaults\":{\"line\":{\"color\":\"#2a3f5f\"}},\"ternary\":{\"aaxis\":{\"gridcolor\":\"white\",\"linecolor\":\"white\",\"ticks\":\"\"},\"baxis\":{\"gridcolor\":\"white\",\"linecolor\":\"white\",\"ticks\":\"\"},\"bgcolor\":\"#E5ECF6\",\"caxis\":{\"gridcolor\":\"white\",\"linecolor\":\"white\",\"ticks\":\"\"}},\"title\":{\"x\":0.05},\"xaxis\":{\"automargin\":true,\"gridcolor\":\"white\",\"linecolor\":\"white\",\"ticks\":\"\",\"title\":{\"standoff\":15},\"zerolinecolor\":\"white\",\"zerolinewidth\":2},\"yaxis\":{\"automargin\":true,\"gridcolor\":\"white\",\"linecolor\":\"white\",\"ticks\":\"\",\"title\":{\"standoff\":15},\"zerolinecolor\":\"white\",\"zerolinewidth\":2}}},\"title\":{\"font\":{\"color\":\"#4D5663\"}},\"xaxis\":{\"gridcolor\":\"#E1E5ED\",\"showgrid\":true,\"tickfont\":{\"color\":\"#4D5663\"},\"title\":{\"font\":{\"color\":\"#4D5663\"},\"text\":\"\"},\"zerolinecolor\":\"#E1E5ED\"},\"yaxis\":{\"gridcolor\":\"#E1E5ED\",\"showgrid\":true,\"tickfont\":{\"color\":\"#4D5663\"},\"title\":{\"font\":{\"color\":\"#4D5663\"},\"text\":\"\"},\"zerolinecolor\":\"#E1E5ED\"}},                        {\"showLink\": true, \"linkText\": \"Export to plot.ly\", \"plotlyServerURL\": \"https://plot.ly\", \"responsive\": true}                    ).then(function(){\n",
       "                            \n",
       "var gd = document.getElementById('a87c5618-cf99-440d-83ee-139e843350f8');\n",
       "var x = new MutationObserver(function (mutations, observer) {{\n",
       "        var display = window.getComputedStyle(gd).display;\n",
       "        if (!display || display === 'none') {{\n",
       "            console.log([gd, 'removed!']);\n",
       "            Plotly.purge(gd);\n",
       "            observer.disconnect();\n",
       "        }}\n",
       "}});\n",
       "\n",
       "// Listen for the removal of the full notebook cells\n",
       "var notebookContainer = gd.closest('#notebook-container');\n",
       "if (notebookContainer) {{\n",
       "    x.observe(notebookContainer, {childList: true});\n",
       "}}\n",
       "\n",
       "// Listen for the clearing of the current output cell\n",
       "var outputEl = gd.closest('.output');\n",
       "if (outputEl) {{\n",
       "    x.observe(outputEl, {childList: true});\n",
       "}}\n",
       "\n",
       "                        })                };                });            </script>        </div>"
      ]
     },
     "metadata": {},
     "output_type": "display_data"
    }
   ],
   "source": [
    "df.count().iplot(kind='bar')"
   ]
  },
  {
   "cell_type": "markdown",
   "metadata": {},
   "source": [
    "## Boxplots"
   ]
  },
  {
   "cell_type": "code",
   "execution_count": 14,
   "metadata": {
    "collapsed": false,
    "jupyter": {
     "outputs_hidden": false
    }
   },
   "outputs": [
    {
     "data": {
      "application/vnd.plotly.v1+json": {
       "config": {
        "linkText": "Export to plot.ly",
        "plotlyServerURL": "https://plot.ly",
        "showLink": true
       },
       "data": [
        {
         "boxpoints": false,
         "line": {
          "width": 1.3
         },
         "marker": {
          "color": "rgba(255, 153, 51, 1.0)"
         },
         "name": "A",
         "orientation": "v",
         "type": "box",
         "y": [
          -0.8028561302251124,
          1.479302388301489,
          0.09259836950276953,
          -0.512200866745337,
          0.8576238983724528,
          0.6085497404944062,
          -0.788223295517952,
          0.9761665209278051,
          2.238690887893208,
          1.3490247594088083,
          0.737059096870889,
          0.3026134531782889,
          -0.7957217706029994,
          0.33823616570030324,
          0.19196824309714583,
          -0.4698312480273544,
          0.4301162469854865,
          1.1815924579324193,
          0.2274535937715395,
          -1.5943306169668727,
          0.12493303310468025,
          0.7975876609059102,
          0.09593279290044807,
          -0.19719809096164162,
          1.6565466613065052,
          0.4501760595795119,
          -0.02886866437548703,
          0.16505807536954564,
          1.124836055486245,
          2.049975322070444,
          -0.033165046880216376,
          0.7801630412932541,
          0.028285298355942425,
          -1.2989262631774416,
          1.3012174059227228,
          0.15728220307540158,
          -0.31316077721117375,
          -1.1747533327607587,
          1.7069413233814477,
          0.07419368467184914,
          -1.147529248600138,
          0.30864584269972306,
          -1.2793699272497943,
          -1.1249859442345558,
          0.2831314824771736,
          -0.18716951345172192,
          -1.090356868475828,
          1.9293517124623794,
          2.3684113403376057,
          -0.7988882319337831,
          1.6038153380009872,
          -1.2288347702724813,
          -1.201690996947852,
          -0.6607024240946915,
          1.8446345228914234,
          -0.9936737748233865,
          0.4870909728145924,
          0.0635477755521646,
          0.32357734017082884,
          0.06832369257774945,
          1.103825118434115,
          -0.7645127908507001,
          -1.3676473832933946,
          0.46402104480674794,
          0.15452847403977235,
          -0.6061958034619276,
          0.22205129416545974,
          -0.7962583172868609,
          -1.5584080382815726,
          0.5989046805601863,
          -0.6782957556343797,
          0.18020677123740392,
          0.19287312831057887,
          -0.1369071911530954,
          -1.0966518041958313,
          -0.4137103383439439,
          0.8408784953202832,
          -0.26466856360948776,
          -2.599861296100724,
          -0.543503678619246,
          -1.0601507878835457,
          -1.4366314663310211,
          -0.5783918179279967,
          -0.35904402150393355,
          -0.8532029670981947,
          -0.0668865536827716,
          0.3482385301768811,
          -0.43769557904928835,
          1.5562474048025967,
          -1.2058652048168754,
          0.012743990748052518,
          0.0525324102625891,
          0.40393559040764987,
          -0.3194053660387816,
          -0.7515950497771627,
          -1.6911968013479222,
          -1.0664557829608285,
          -1.4918263253090283,
          0.44400403329900645,
          -0.5245696570792404
         ]
        },
        {
         "boxpoints": false,
         "line": {
          "width": 1.3
         },
         "marker": {
          "color": "rgba(55, 128, 191, 1.0)"
         },
         "name": "B",
         "orientation": "v",
         "type": "box",
         "y": [
          -2.4154271826055687,
          0.2281163742403504,
          1.023638806068143,
          -0.42311682261393985,
          1.0460920365897521,
          0.014379125674698972,
          -1.0024753274980267,
          1.2970651067413772,
          -1.4876062324008748,
          -1.2787134920238905,
          -2.255927984437855,
          0.3917658809386741,
          0.8254925127903598,
          0.5167247505647817,
          -0.37885329612876756,
          -1.4465545453597755,
          1.283402522449017,
          -0.13883342228836232,
          -0.819263241038832,
          -0.2875102463290612,
          -0.6084972801612889,
          0.60097337047301,
          -0.38951842733027325,
          1.1383351179567085,
          0.5303220825477065,
          -1.2702935398670259,
          -0.5216055214220926,
          -0.33849718969494463,
          -0.31043838587410905,
          0.1861750117058042,
          -1.3367601455296272,
          -0.13539319664272512,
          -0.04826911800939443,
          1.0137197495851988,
          0.40239706746935344,
          -0.33824853753891115,
          -1.2044670928003556,
          1.2457273930479194,
          -0.3034148106261058,
          0.5007964524725353,
          0.6061265061918621,
          0.10666541063424463,
          -2.555083787197274,
          0.9531398284577858,
          0.8398465183168621,
          0.9303183779340494,
          0.7858951323348161,
          2.527869377884583,
          -0.6051809428312591,
          -0.5272869417373718,
          2.3439665972310224,
          -1.2122096114782646,
          -1.2007273327736605,
          -0.8394630308996531,
          1.02019968517285,
          0.9534146859616777,
          0.056861705035020686,
          -2.003762067954828,
          -0.17404675080271992,
          1.1867630462507908,
          -0.901771137497407,
          1.5324198527172153,
          0.7134995518226834,
          -0.9369721788688021,
          -0.13809992304297572,
          0.3676970458870487,
          -0.009408068072079542,
          -0.22749233880224112,
          1.2160209293891586,
          0.6560409767607005,
          -0.608297820845587,
          0.02471522606611033,
          -0.23314164833860315,
          -0.021381677697893738,
          -1.3206072599621494,
          0.36257703524638424,
          -0.6079356241638769,
          -0.3052512546185061,
          0.3762701311102944,
          0.5832649361771575,
          1.9959564462294366,
          1.4640554173951212,
          -1.0768809643150925,
          0.6393538090437333,
          -2.0425454096017623,
          1.2458691168533944,
          -0.5559855700539201,
          -0.07969304470464499,
          -1.3143013832539345,
          0.12107507633181926,
          0.9639635187378766,
          -0.3194262744208612,
          1.657384793065372,
          -0.9984958934522816,
          -0.28060915556170324,
          0.2032552162774426,
          0.25289516322159433,
          0.13845611158751048,
          0.5732709988184584,
          -0.14753713877560354
         ]
        },
        {
         "boxpoints": false,
         "line": {
          "width": 1.3
         },
         "marker": {
          "color": "rgba(50, 171, 96, 1.0)"
         },
         "name": "C",
         "orientation": "v",
         "type": "box",
         "y": [
          1.0266479716476482,
          1.432038494344584,
          2.331077558724533,
          1.4250911342219454,
          2.0072483013459452,
          -1.5355702894548662,
          1.9064878082497931,
          -0.22830457499663384,
          -1.380984325977485,
          -0.690813533252461,
          0.33163005186653344,
          -0.07648218111385366,
          -1.4615567095380366,
          1.0877525351023425,
          -1.4765205673594637,
          -0.30155231211391387,
          1.2158066585855902,
          0.981146625848748,
          0.3549076968165471,
          -0.7858397002909925,
          -0.8825752683977601,
          0.22346856404904056,
          -0.09178213155203006,
          -0.1872221896032133,
          -1.2680354368620395,
          0.7110138719456527,
          1.3107064840395686,
          0.4743786831492211,
          1.0032295353665603,
          0.2950115996601164,
          0.7647363192145541,
          -0.42400982230862516,
          0.6941600609698834,
          -0.3759666165637017,
          -0.8817739374777922,
          1.878204465740685,
          0.31368795063932947,
          1.8358602205190375,
          1.497086766456587,
          -0.017915509870727958,
          0.5220295904050539,
          -0.7780347842393094,
          0.5142705640323211,
          0.44772560497420527,
          -0.7654367620323748,
          -0.3128829174094753,
          -0.9370846838882704,
          1.9008753775511973,
          0.6973864139756631,
          -0.4874991247259999,
          0.8285539109503055,
          -0.9556988156338944,
          0.26993914631785376,
          1.6612988923136256,
          1.8673692783054838,
          0.1703047543741212,
          0.10419548706774773,
          1.493028106474792,
          -0.19972529062259206,
          0.6767496283953335,
          1.343120362942058,
          -0.9575416854653955,
          -0.1994517851046536,
          1.1919198212656719,
          0.818165303586279,
          -0.6319738037873451,
          2.0339419821750973,
          0.47608984908468793,
          0.22305523092094434,
          -1.1493007094220875,
          0.12564065883300984,
          1.6207498207631248,
          -1.557883718629152,
          0.28186281406346203,
          1.1383559061464599,
          1.2928154142070365,
          -0.9419733904870756,
          0.569694582494328,
          0.33830883374494275,
          -0.7718093304189237,
          -1.8162997209099536,
          -0.527054219417872,
          -0.832440904908529,
          0.4627592260315701,
          -0.13627938557034916,
          0.26658358687847716,
          -0.5053891870823346,
          0.6023780464733511,
          -0.3381825759471592,
          -1.216122566939081,
          -0.4812017331363412,
          1.452077473551976,
          0.3492716413152897,
          -0.5377528030314477,
          -0.2809456526948875,
          -0.4631595484127176,
          0.31725211058710023,
          -1.9845954424006462,
          0.6840464547566846,
          0.33902361943784204
         ]
        },
        {
         "boxpoints": false,
         "line": {
          "width": 1.3
         },
         "marker": {
          "color": "rgba(128, 0, 128, 1.0)"
         },
         "name": "D",
         "orientation": "v",
         "type": "box",
         "y": [
          -1.2359855837844993,
          -1.3565000730262446,
          0.5808543791361195,
          0.517960669672099,
          1.3100661612435043,
          -1.0523215058338327,
          0.03874381970918687,
          0.4746715461817965,
          0.20572081984625887,
          -0.2550652617067661,
          -1.0944555440338883,
          -0.07102029966833753,
          1.6523626350965817,
          1.2586601929850905,
          0.6286550560191307,
          0.5996585130594111,
          0.08323696649269624,
          0.4946950359410362,
          -1.7023550273834205,
          -0.10090686292260698,
          -0.04104445939723555,
          0.8169264813883685,
          -0.18309598292488616,
          0.7675347533357908,
          -0.7849145744957643,
          0.2175021592277963,
          -1.8098388047322989,
          -0.15760627217239695,
          0.6648946941171906,
          -0.26473281783821323,
          -0.5254749746201199,
          -1.3148454891937245,
          -0.2216245994163635,
          0.23367654323740733,
          0.06243652317531484,
          0.4097676076146735,
          -2.1175550169769606,
          0.9124294824623688,
          -0.26653877709534507,
          0.33119801912632685,
          0.1889527706557953,
          1.9987970643057387,
          -0.3626622468456089,
          -1.3236859634110174,
          -0.1669033683022175,
          -0.17385874607726262,
          -0.3500538967874222,
          -0.567309967393333,
          0.7303462219629867,
          0.6641377568817323,
          -1.917897491533714,
          0.010601795106177462,
          0.6567204220559013,
          -0.22211412897764646,
          1.5056442905604603,
          0.10234325985126748,
          0.6148640320419358,
          0.4239039005467839,
          1.396124056376324,
          0.7393930442459123,
          -0.29505678600560303,
          0.5967198803864783,
          -0.2929435341856442,
          -0.21643056691667753,
          -0.040657885172045674,
          0.9275522036098794,
          -0.5572033838964305,
          1.2614169612151802,
          0.9861877911762481,
          -0.8609916887718085,
          1.6577821753353164,
          -1.1706054305347073,
          -2.039104991483795,
          0.101652577011143,
          -0.33096453049201446,
          -0.24238742236176442,
          -0.614658908074277,
          0.6833024433372668,
          -1.897348458924881,
          0.7720752581125835,
          -0.20980699751151988,
          1.0735052581763462,
          0.4213954895542332,
          0.44819662458866577,
          0.055553289819388375,
          1.2543391415006115,
          -0.8766186288812203,
          -0.44139741543658567,
          -0.38483713260064706,
          0.6460054239742792,
          -0.11663002491925503,
          -0.5612255691473144,
          -0.11661356734924128,
          -0.06528392923463709,
          -1.1943348197594,
          0.49956150576740393,
          0.720107127645793,
          0.5412915956172295,
          0.08759720239739159,
          0.6477219852900776
         ]
        }
       ],
       "layout": {
        "autosize": true,
        "legend": {
         "bgcolor": "#F5F6F9",
         "font": {
          "color": "#4D5663"
         }
        },
        "paper_bgcolor": "#F5F6F9",
        "plot_bgcolor": "#F5F6F9",
        "template": {
         "data": {
          "bar": [
           {
            "error_x": {
             "color": "#2a3f5f"
            },
            "error_y": {
             "color": "#2a3f5f"
            },
            "marker": {
             "line": {
              "color": "#E5ECF6",
              "width": 0.5
             },
             "pattern": {
              "fillmode": "overlay",
              "size": 10,
              "solidity": 0.2
             }
            },
            "type": "bar"
           }
          ],
          "barpolar": [
           {
            "marker": {
             "line": {
              "color": "#E5ECF6",
              "width": 0.5
             },
             "pattern": {
              "fillmode": "overlay",
              "size": 10,
              "solidity": 0.2
             }
            },
            "type": "barpolar"
           }
          ],
          "carpet": [
           {
            "aaxis": {
             "endlinecolor": "#2a3f5f",
             "gridcolor": "white",
             "linecolor": "white",
             "minorgridcolor": "white",
             "startlinecolor": "#2a3f5f"
            },
            "baxis": {
             "endlinecolor": "#2a3f5f",
             "gridcolor": "white",
             "linecolor": "white",
             "minorgridcolor": "white",
             "startlinecolor": "#2a3f5f"
            },
            "type": "carpet"
           }
          ],
          "choropleth": [
           {
            "colorbar": {
             "outlinewidth": 0,
             "ticks": ""
            },
            "type": "choropleth"
           }
          ],
          "contour": [
           {
            "colorbar": {
             "outlinewidth": 0,
             "ticks": ""
            },
            "colorscale": [
             [
              0,
              "#0d0887"
             ],
             [
              0.1111111111111111,
              "#46039f"
             ],
             [
              0.2222222222222222,
              "#7201a8"
             ],
             [
              0.3333333333333333,
              "#9c179e"
             ],
             [
              0.4444444444444444,
              "#bd3786"
             ],
             [
              0.5555555555555556,
              "#d8576b"
             ],
             [
              0.6666666666666666,
              "#ed7953"
             ],
             [
              0.7777777777777778,
              "#fb9f3a"
             ],
             [
              0.8888888888888888,
              "#fdca26"
             ],
             [
              1,
              "#f0f921"
             ]
            ],
            "type": "contour"
           }
          ],
          "contourcarpet": [
           {
            "colorbar": {
             "outlinewidth": 0,
             "ticks": ""
            },
            "type": "contourcarpet"
           }
          ],
          "heatmap": [
           {
            "colorbar": {
             "outlinewidth": 0,
             "ticks": ""
            },
            "colorscale": [
             [
              0,
              "#0d0887"
             ],
             [
              0.1111111111111111,
              "#46039f"
             ],
             [
              0.2222222222222222,
              "#7201a8"
             ],
             [
              0.3333333333333333,
              "#9c179e"
             ],
             [
              0.4444444444444444,
              "#bd3786"
             ],
             [
              0.5555555555555556,
              "#d8576b"
             ],
             [
              0.6666666666666666,
              "#ed7953"
             ],
             [
              0.7777777777777778,
              "#fb9f3a"
             ],
             [
              0.8888888888888888,
              "#fdca26"
             ],
             [
              1,
              "#f0f921"
             ]
            ],
            "type": "heatmap"
           }
          ],
          "heatmapgl": [
           {
            "colorbar": {
             "outlinewidth": 0,
             "ticks": ""
            },
            "colorscale": [
             [
              0,
              "#0d0887"
             ],
             [
              0.1111111111111111,
              "#46039f"
             ],
             [
              0.2222222222222222,
              "#7201a8"
             ],
             [
              0.3333333333333333,
              "#9c179e"
             ],
             [
              0.4444444444444444,
              "#bd3786"
             ],
             [
              0.5555555555555556,
              "#d8576b"
             ],
             [
              0.6666666666666666,
              "#ed7953"
             ],
             [
              0.7777777777777778,
              "#fb9f3a"
             ],
             [
              0.8888888888888888,
              "#fdca26"
             ],
             [
              1,
              "#f0f921"
             ]
            ],
            "type": "heatmapgl"
           }
          ],
          "histogram": [
           {
            "marker": {
             "pattern": {
              "fillmode": "overlay",
              "size": 10,
              "solidity": 0.2
             }
            },
            "type": "histogram"
           }
          ],
          "histogram2d": [
           {
            "colorbar": {
             "outlinewidth": 0,
             "ticks": ""
            },
            "colorscale": [
             [
              0,
              "#0d0887"
             ],
             [
              0.1111111111111111,
              "#46039f"
             ],
             [
              0.2222222222222222,
              "#7201a8"
             ],
             [
              0.3333333333333333,
              "#9c179e"
             ],
             [
              0.4444444444444444,
              "#bd3786"
             ],
             [
              0.5555555555555556,
              "#d8576b"
             ],
             [
              0.6666666666666666,
              "#ed7953"
             ],
             [
              0.7777777777777778,
              "#fb9f3a"
             ],
             [
              0.8888888888888888,
              "#fdca26"
             ],
             [
              1,
              "#f0f921"
             ]
            ],
            "type": "histogram2d"
           }
          ],
          "histogram2dcontour": [
           {
            "colorbar": {
             "outlinewidth": 0,
             "ticks": ""
            },
            "colorscale": [
             [
              0,
              "#0d0887"
             ],
             [
              0.1111111111111111,
              "#46039f"
             ],
             [
              0.2222222222222222,
              "#7201a8"
             ],
             [
              0.3333333333333333,
              "#9c179e"
             ],
             [
              0.4444444444444444,
              "#bd3786"
             ],
             [
              0.5555555555555556,
              "#d8576b"
             ],
             [
              0.6666666666666666,
              "#ed7953"
             ],
             [
              0.7777777777777778,
              "#fb9f3a"
             ],
             [
              0.8888888888888888,
              "#fdca26"
             ],
             [
              1,
              "#f0f921"
             ]
            ],
            "type": "histogram2dcontour"
           }
          ],
          "mesh3d": [
           {
            "colorbar": {
             "outlinewidth": 0,
             "ticks": ""
            },
            "type": "mesh3d"
           }
          ],
          "parcoords": [
           {
            "line": {
             "colorbar": {
              "outlinewidth": 0,
              "ticks": ""
             }
            },
            "type": "parcoords"
           }
          ],
          "pie": [
           {
            "automargin": true,
            "type": "pie"
           }
          ],
          "scatter": [
           {
            "fillpattern": {
             "fillmode": "overlay",
             "size": 10,
             "solidity": 0.2
            },
            "type": "scatter"
           }
          ],
          "scatter3d": [
           {
            "line": {
             "colorbar": {
              "outlinewidth": 0,
              "ticks": ""
             }
            },
            "marker": {
             "colorbar": {
              "outlinewidth": 0,
              "ticks": ""
             }
            },
            "type": "scatter3d"
           }
          ],
          "scattercarpet": [
           {
            "marker": {
             "colorbar": {
              "outlinewidth": 0,
              "ticks": ""
             }
            },
            "type": "scattercarpet"
           }
          ],
          "scattergeo": [
           {
            "marker": {
             "colorbar": {
              "outlinewidth": 0,
              "ticks": ""
             }
            },
            "type": "scattergeo"
           }
          ],
          "scattergl": [
           {
            "marker": {
             "colorbar": {
              "outlinewidth": 0,
              "ticks": ""
             }
            },
            "type": "scattergl"
           }
          ],
          "scattermapbox": [
           {
            "marker": {
             "colorbar": {
              "outlinewidth": 0,
              "ticks": ""
             }
            },
            "type": "scattermapbox"
           }
          ],
          "scatterpolar": [
           {
            "marker": {
             "colorbar": {
              "outlinewidth": 0,
              "ticks": ""
             }
            },
            "type": "scatterpolar"
           }
          ],
          "scatterpolargl": [
           {
            "marker": {
             "colorbar": {
              "outlinewidth": 0,
              "ticks": ""
             }
            },
            "type": "scatterpolargl"
           }
          ],
          "scatterternary": [
           {
            "marker": {
             "colorbar": {
              "outlinewidth": 0,
              "ticks": ""
             }
            },
            "type": "scatterternary"
           }
          ],
          "surface": [
           {
            "colorbar": {
             "outlinewidth": 0,
             "ticks": ""
            },
            "colorscale": [
             [
              0,
              "#0d0887"
             ],
             [
              0.1111111111111111,
              "#46039f"
             ],
             [
              0.2222222222222222,
              "#7201a8"
             ],
             [
              0.3333333333333333,
              "#9c179e"
             ],
             [
              0.4444444444444444,
              "#bd3786"
             ],
             [
              0.5555555555555556,
              "#d8576b"
             ],
             [
              0.6666666666666666,
              "#ed7953"
             ],
             [
              0.7777777777777778,
              "#fb9f3a"
             ],
             [
              0.8888888888888888,
              "#fdca26"
             ],
             [
              1,
              "#f0f921"
             ]
            ],
            "type": "surface"
           }
          ],
          "table": [
           {
            "cells": {
             "fill": {
              "color": "#EBF0F8"
             },
             "line": {
              "color": "white"
             }
            },
            "header": {
             "fill": {
              "color": "#C8D4E3"
             },
             "line": {
              "color": "white"
             }
            },
            "type": "table"
           }
          ]
         },
         "layout": {
          "annotationdefaults": {
           "arrowcolor": "#2a3f5f",
           "arrowhead": 0,
           "arrowwidth": 1
          },
          "autotypenumbers": "strict",
          "coloraxis": {
           "colorbar": {
            "outlinewidth": 0,
            "ticks": ""
           }
          },
          "colorscale": {
           "diverging": [
            [
             0,
             "#8e0152"
            ],
            [
             0.1,
             "#c51b7d"
            ],
            [
             0.2,
             "#de77ae"
            ],
            [
             0.3,
             "#f1b6da"
            ],
            [
             0.4,
             "#fde0ef"
            ],
            [
             0.5,
             "#f7f7f7"
            ],
            [
             0.6,
             "#e6f5d0"
            ],
            [
             0.7,
             "#b8e186"
            ],
            [
             0.8,
             "#7fbc41"
            ],
            [
             0.9,
             "#4d9221"
            ],
            [
             1,
             "#276419"
            ]
           ],
           "sequential": [
            [
             0,
             "#0d0887"
            ],
            [
             0.1111111111111111,
             "#46039f"
            ],
            [
             0.2222222222222222,
             "#7201a8"
            ],
            [
             0.3333333333333333,
             "#9c179e"
            ],
            [
             0.4444444444444444,
             "#bd3786"
            ],
            [
             0.5555555555555556,
             "#d8576b"
            ],
            [
             0.6666666666666666,
             "#ed7953"
            ],
            [
             0.7777777777777778,
             "#fb9f3a"
            ],
            [
             0.8888888888888888,
             "#fdca26"
            ],
            [
             1,
             "#f0f921"
            ]
           ],
           "sequentialminus": [
            [
             0,
             "#0d0887"
            ],
            [
             0.1111111111111111,
             "#46039f"
            ],
            [
             0.2222222222222222,
             "#7201a8"
            ],
            [
             0.3333333333333333,
             "#9c179e"
            ],
            [
             0.4444444444444444,
             "#bd3786"
            ],
            [
             0.5555555555555556,
             "#d8576b"
            ],
            [
             0.6666666666666666,
             "#ed7953"
            ],
            [
             0.7777777777777778,
             "#fb9f3a"
            ],
            [
             0.8888888888888888,
             "#fdca26"
            ],
            [
             1,
             "#f0f921"
            ]
           ]
          },
          "colorway": [
           "#636efa",
           "#EF553B",
           "#00cc96",
           "#ab63fa",
           "#FFA15A",
           "#19d3f3",
           "#FF6692",
           "#B6E880",
           "#FF97FF",
           "#FECB52"
          ],
          "font": {
           "color": "#2a3f5f"
          },
          "geo": {
           "bgcolor": "white",
           "lakecolor": "white",
           "landcolor": "#E5ECF6",
           "showlakes": true,
           "showland": true,
           "subunitcolor": "white"
          },
          "hoverlabel": {
           "align": "left"
          },
          "hovermode": "closest",
          "mapbox": {
           "style": "light"
          },
          "paper_bgcolor": "white",
          "plot_bgcolor": "#E5ECF6",
          "polar": {
           "angularaxis": {
            "gridcolor": "white",
            "linecolor": "white",
            "ticks": ""
           },
           "bgcolor": "#E5ECF6",
           "radialaxis": {
            "gridcolor": "white",
            "linecolor": "white",
            "ticks": ""
           }
          },
          "scene": {
           "xaxis": {
            "backgroundcolor": "#E5ECF6",
            "gridcolor": "white",
            "gridwidth": 2,
            "linecolor": "white",
            "showbackground": true,
            "ticks": "",
            "zerolinecolor": "white"
           },
           "yaxis": {
            "backgroundcolor": "#E5ECF6",
            "gridcolor": "white",
            "gridwidth": 2,
            "linecolor": "white",
            "showbackground": true,
            "ticks": "",
            "zerolinecolor": "white"
           },
           "zaxis": {
            "backgroundcolor": "#E5ECF6",
            "gridcolor": "white",
            "gridwidth": 2,
            "linecolor": "white",
            "showbackground": true,
            "ticks": "",
            "zerolinecolor": "white"
           }
          },
          "shapedefaults": {
           "line": {
            "color": "#2a3f5f"
           }
          },
          "ternary": {
           "aaxis": {
            "gridcolor": "white",
            "linecolor": "white",
            "ticks": ""
           },
           "baxis": {
            "gridcolor": "white",
            "linecolor": "white",
            "ticks": ""
           },
           "bgcolor": "#E5ECF6",
           "caxis": {
            "gridcolor": "white",
            "linecolor": "white",
            "ticks": ""
           }
          },
          "title": {
           "x": 0.05
          },
          "xaxis": {
           "automargin": true,
           "gridcolor": "white",
           "linecolor": "white",
           "ticks": "",
           "title": {
            "standoff": 15
           },
           "zerolinecolor": "white",
           "zerolinewidth": 2
          },
          "yaxis": {
           "automargin": true,
           "gridcolor": "white",
           "linecolor": "white",
           "ticks": "",
           "title": {
            "standoff": 15
           },
           "zerolinecolor": "white",
           "zerolinewidth": 2
          }
         }
        },
        "title": {
         "font": {
          "color": "#4D5663"
         }
        },
        "xaxis": {
         "autorange": true,
         "gridcolor": "#E1E5ED",
         "range": [
          -0.5,
          3.5
         ],
         "showgrid": true,
         "tickfont": {
          "color": "#4D5663"
         },
         "title": {
          "font": {
           "color": "#4D5663"
          },
          "text": ""
         },
         "type": "category",
         "zerolinecolor": "#E1E5ED"
        },
        "yaxis": {
         "autorange": true,
         "gridcolor": "#E1E5ED",
         "range": [
          -2.884735222433241,
          2.8127433042171
         ],
         "showgrid": true,
         "tickfont": {
          "color": "#4D5663"
         },
         "title": {
          "font": {
           "color": "#4D5663"
          },
          "text": ""
         },
         "type": "linear",
         "zerolinecolor": "#E1E5ED"
        }
       }
      },
      "image/png": "[encoded data removed]",
      "text/html": [
       "<div>                            <div id=\"3c1ae0f6-1309-494b-8eb9-192817726d16\" class=\"plotly-graph-div\" style=\"height:525px; width:100%;\"></div>            <script type=\"text/javascript\">                require([\"plotly\"], function(Plotly) {                    window.PLOTLYENV=window.PLOTLYENV || {};\n",
       "                    window.PLOTLYENV.BASE_URL='https://plot.ly';                                    if (document.getElementById(\"3c1ae0f6-1309-494b-8eb9-192817726d16\")) {                    Plotly.newPlot(                        \"3c1ae0f6-1309-494b-8eb9-192817726d16\",                        [{\"boxpoints\":false,\"line\":{\"width\":1.3},\"marker\":{\"color\":\"rgba(255, 153, 51, 1.0)\"},\"name\":\"A\",\"orientation\":\"v\",\"y\":[-0.8028561302251124,1.479302388301489,0.09259836950276953,-0.512200866745337,0.8576238983724528,0.6085497404944062,-0.788223295517952,0.9761665209278051,2.238690887893208,1.3490247594088083,0.737059096870889,0.3026134531782889,-0.7957217706029994,0.33823616570030324,0.19196824309714583,-0.4698312480273544,0.4301162469854865,1.1815924579324193,0.2274535937715395,-1.5943306169668727,0.12493303310468025,0.7975876609059102,0.09593279290044807,-0.19719809096164162,1.6565466613065052,0.4501760595795119,-0.02886866437548703,0.16505807536954564,1.124836055486245,2.049975322070444,-0.033165046880216376,0.7801630412932541,0.028285298355942425,-1.2989262631774416,1.3012174059227228,0.15728220307540158,-0.31316077721117375,-1.1747533327607587,1.7069413233814477,0.07419368467184914,-1.147529248600138,0.30864584269972306,-1.2793699272497943,-1.1249859442345558,0.2831314824771736,-0.18716951345172192,-1.090356868475828,1.9293517124623794,2.3684113403376057,-0.7988882319337831,1.6038153380009872,-1.2288347702724813,-1.201690996947852,-0.6607024240946915,1.8446345228914234,-0.9936737748233865,0.4870909728145924,0.0635477755521646,0.32357734017082884,0.06832369257774945,1.103825118434115,-0.7645127908507001,-1.3676473832933946,0.46402104480674794,0.15452847403977235,-0.6061958034619276,0.22205129416545974,-0.7962583172868609,-1.5584080382815726,0.5989046805601863,-0.6782957556343797,0.18020677123740392,0.19287312831057887,-0.1369071911530954,-1.0966518041958313,-0.4137103383439439,0.8408784953202832,-0.26466856360948776,-2.599861296100724,-0.543503678619246,-1.0601507878835457,-1.4366314663310211,-0.5783918179279967,-0.35904402150393355,-0.8532029670981947,-0.0668865536827716,0.3482385301768811,-0.43769557904928835,1.5562474048025967,-1.2058652048168754,0.012743990748052518,0.0525324102625891,0.40393559040764987,-0.3194053660387816,-0.7515950497771627,-1.6911968013479222,-1.0664557829608285,-1.4918263253090283,0.44400403329900645,-0.5245696570792404],\"type\":\"box\"},{\"boxpoints\":false,\"line\":{\"width\":1.3},\"marker\":{\"color\":\"rgba(55, 128, 191, 1.0)\"},\"name\":\"B\",\"orientation\":\"v\",\"y\":[-2.4154271826055687,0.2281163742403504,1.023638806068143,-0.42311682261393985,1.0460920365897521,0.014379125674698972,-1.0024753274980267,1.2970651067413772,-1.4876062324008748,-1.2787134920238905,-2.255927984437855,0.3917658809386741,0.8254925127903598,0.5167247505647817,-0.37885329612876756,-1.4465545453597755,1.283402522449017,-0.13883342228836232,-0.819263241038832,-0.2875102463290612,-0.6084972801612889,0.60097337047301,-0.38951842733027325,1.1383351179567085,0.5303220825477065,-1.2702935398670259,-0.5216055214220926,-0.33849718969494463,-0.31043838587410905,0.1861750117058042,-1.3367601455296272,-0.13539319664272512,-0.04826911800939443,1.0137197495851988,0.40239706746935344,-0.33824853753891115,-1.2044670928003556,1.2457273930479194,-0.3034148106261058,0.5007964524725353,0.6061265061918621,0.10666541063424463,-2.555083787197274,0.9531398284577858,0.8398465183168621,0.9303183779340494,0.7858951323348161,2.527869377884583,-0.6051809428312591,-0.5272869417373718,2.3439665972310224,-1.2122096114782646,-1.2007273327736605,-0.8394630308996531,1.02019968517285,0.9534146859616777,0.056861705035020686,-2.003762067954828,-0.17404675080271992,1.1867630462507908,-0.901771137497407,1.5324198527172153,0.7134995518226834,-0.9369721788688021,-0.13809992304297572,0.3676970458870487,-0.009408068072079542,-0.22749233880224112,1.2160209293891586,0.6560409767607005,-0.608297820845587,0.02471522606611033,-0.23314164833860315,-0.021381677697893738,-1.3206072599621494,0.36257703524638424,-0.6079356241638769,-0.3052512546185061,0.3762701311102944,0.5832649361771575,1.9959564462294366,1.4640554173951212,-1.0768809643150925,0.6393538090437333,-2.0425454096017623,1.2458691168533944,-0.5559855700539201,-0.07969304470464499,-1.3143013832539345,0.12107507633181926,0.9639635187378766,-0.3194262744208612,1.657384793065372,-0.9984958934522816,-0.28060915556170324,0.2032552162774426,0.25289516322159433,0.13845611158751048,0.5732709988184584,-0.14753713877560354],\"type\":\"box\"},{\"boxpoints\":false,\"line\":{\"width\":1.3},\"marker\":{\"color\":\"rgba(50, 171, 96, 1.0)\"},\"name\":\"C\",\"orientation\":\"v\",\"y\":[1.0266479716476482,1.432038494344584,2.331077558724533,1.4250911342219454,2.0072483013459452,-1.5355702894548662,1.9064878082497931,-0.22830457499663384,-1.380984325977485,-0.690813533252461,0.33163005186653344,-0.07648218111385366,-1.4615567095380366,1.0877525351023425,-1.4765205673594637,-0.30155231211391387,1.2158066585855902,0.981146625848748,0.3549076968165471,-0.7858397002909925,-0.8825752683977601,0.22346856404904056,-0.09178213155203006,-0.1872221896032133,-1.2680354368620395,0.7110138719456527,1.3107064840395686,0.4743786831492211,1.0032295353665603,0.2950115996601164,0.7647363192145541,-0.42400982230862516,0.6941600609698834,-0.3759666165637017,-0.8817739374777922,1.878204465740685,0.31368795063932947,1.8358602205190375,1.497086766456587,-0.017915509870727958,0.5220295904050539,-0.7780347842393094,0.5142705640323211,0.44772560497420527,-0.7654367620323748,-0.3128829174094753,-0.9370846838882704,1.9008753775511973,0.6973864139756631,-0.4874991247259999,0.8285539109503055,-0.9556988156338944,0.26993914631785376,1.6612988923136256,1.8673692783054838,0.1703047543741212,0.10419548706774773,1.493028106474792,-0.19972529062259206,0.6767496283953335,1.343120362942058,-0.9575416854653955,-0.1994517851046536,1.1919198212656719,0.818165303586279,-0.6319738037873451,2.0339419821750973,0.47608984908468793,0.22305523092094434,-1.1493007094220875,0.12564065883300984,1.6207498207631248,-1.557883718629152,0.28186281406346203,1.1383559061464599,1.2928154142070365,-0.9419733904870756,0.569694582494328,0.33830883374494275,-0.7718093304189237,-1.8162997209099536,-0.527054219417872,-0.832440904908529,0.4627592260315701,-0.13627938557034916,0.26658358687847716,-0.5053891870823346,0.6023780464733511,-0.3381825759471592,-1.216122566939081,-0.4812017331363412,1.452077473551976,0.3492716413152897,-0.5377528030314477,-0.2809456526948875,-0.4631595484127176,0.31725211058710023,-1.9845954424006462,0.6840464547566846,0.33902361943784204],\"type\":\"box\"},{\"boxpoints\":false,\"line\":{\"width\":1.3},\"marker\":{\"color\":\"rgba(128, 0, 128, 1.0)\"},\"name\":\"D\",\"orientation\":\"v\",\"y\":[-1.2359855837844993,-1.3565000730262446,0.5808543791361195,0.517960669672099,1.3100661612435043,-1.0523215058338327,0.03874381970918687,0.4746715461817965,0.20572081984625887,-0.2550652617067661,-1.0944555440338883,-0.07102029966833753,1.6523626350965817,1.2586601929850905,0.6286550560191307,0.5996585130594111,0.08323696649269624,0.4946950359410362,-1.7023550273834205,-0.10090686292260698,-0.04104445939723555,0.8169264813883685,-0.18309598292488616,0.7675347533357908,-0.7849145744957643,0.2175021592277963,-1.8098388047322989,-0.15760627217239695,0.6648946941171906,-0.26473281783821323,-0.5254749746201199,-1.3148454891937245,-0.2216245994163635,0.23367654323740733,0.06243652317531484,0.4097676076146735,-2.1175550169769606,0.9124294824623688,-0.26653877709534507,0.33119801912632685,0.1889527706557953,1.9987970643057387,-0.3626622468456089,-1.3236859634110174,-0.1669033683022175,-0.17385874607726262,-0.3500538967874222,-0.567309967393333,0.7303462219629867,0.6641377568817323,-1.917897491533714,0.010601795106177462,0.6567204220559013,-0.22211412897764646,1.5056442905604603,0.10234325985126748,0.6148640320419358,0.4239039005467839,1.396124056376324,0.7393930442459123,-0.29505678600560303,0.5967198803864783,-0.2929435341856442,-0.21643056691667753,-0.040657885172045674,0.9275522036098794,-0.5572033838964305,1.2614169612151802,0.9861877911762481,-0.8609916887718085,1.6577821753353164,-1.1706054305347073,-2.039104991483795,0.101652577011143,-0.33096453049201446,-0.24238742236176442,-0.614658908074277,0.6833024433372668,-1.897348458924881,0.7720752581125835,-0.20980699751151988,1.0735052581763462,0.4213954895542332,0.44819662458866577,0.055553289819388375,1.2543391415006115,-0.8766186288812203,-0.44139741543658567,-0.38483713260064706,0.6460054239742792,-0.11663002491925503,-0.5612255691473144,-0.11661356734924128,-0.06528392923463709,-1.1943348197594,0.49956150576740393,0.720107127645793,0.5412915956172295,0.08759720239739159,0.6477219852900776],\"type\":\"box\"}],                        {\"legend\":{\"bgcolor\":\"#F5F6F9\",\"font\":{\"color\":\"#4D5663\"}},\"paper_bgcolor\":\"#F5F6F9\",\"plot_bgcolor\":\"#F5F6F9\",\"template\":{\"data\":{\"barpolar\":[{\"marker\":{\"line\":{\"color\":\"#E5ECF6\",\"width\":0.5},\"pattern\":{\"fillmode\":\"overlay\",\"size\":10,\"solidity\":0.2}},\"type\":\"barpolar\"}],\"bar\":[{\"error_x\":{\"color\":\"#2a3f5f\"},\"error_y\":{\"color\":\"#2a3f5f\"},\"marker\":{\"line\":{\"color\":\"#E5ECF6\",\"width\":0.5},\"pattern\":{\"fillmode\":\"overlay\",\"size\":10,\"solidity\":0.2}},\"type\":\"bar\"}],\"carpet\":[{\"aaxis\":{\"endlinecolor\":\"#2a3f5f\",\"gridcolor\":\"white\",\"linecolor\":\"white\",\"minorgridcolor\":\"white\",\"startlinecolor\":\"#2a3f5f\"},\"baxis\":{\"endlinecolor\":\"#2a3f5f\",\"gridcolor\":\"white\",\"linecolor\":\"white\",\"minorgridcolor\":\"white\",\"startlinecolor\":\"#2a3f5f\"},\"type\":\"carpet\"}],\"choropleth\":[{\"colorbar\":{\"outlinewidth\":0,\"ticks\":\"\"},\"type\":\"choropleth\"}],\"contourcarpet\":[{\"colorbar\":{\"outlinewidth\":0,\"ticks\":\"\"},\"type\":\"contourcarpet\"}],\"contour\":[{\"colorbar\":{\"outlinewidth\":0,\"ticks\":\"\"},\"colorscale\":[[0.0,\"#0d0887\"],[0.1111111111111111,\"#46039f\"],[0.2222222222222222,\"#7201a8\"],[0.3333333333333333,\"#9c179e\"],[0.4444444444444444,\"#bd3786\"],[0.5555555555555556,\"#d8576b\"],[0.6666666666666666,\"#ed7953\"],[0.7777777777777778,\"#fb9f3a\"],[0.8888888888888888,\"#fdca26\"],[1.0,\"#f0f921\"]],\"type\":\"contour\"}],\"heatmapgl\":[{\"colorbar\":{\"outlinewidth\":0,\"ticks\":\"\"},\"colorscale\":[[0.0,\"#0d0887\"],[0.1111111111111111,\"#46039f\"],[0.2222222222222222,\"#7201a8\"],[0.3333333333333333,\"#9c179e\"],[0.4444444444444444,\"#bd3786\"],[0.5555555555555556,\"#d8576b\"],[0.6666666666666666,\"#ed7953\"],[0.7777777777777778,\"#fb9f3a\"],[0.8888888888888888,\"#fdca26\"],[1.0,\"#f0f921\"]],\"type\":\"heatmapgl\"}],\"heatmap\":[{\"colorbar\":{\"outlinewidth\":0,\"ticks\":\"\"},\"colorscale\":[[0.0,\"#0d0887\"],[0.1111111111111111,\"#46039f\"],[0.2222222222222222,\"#7201a8\"],[0.3333333333333333,\"#9c179e\"],[0.4444444444444444,\"#bd3786\"],[0.5555555555555556,\"#d8576b\"],[0.6666666666666666,\"#ed7953\"],[0.7777777777777778,\"#fb9f3a\"],[0.8888888888888888,\"#fdca26\"],[1.0,\"#f0f921\"]],\"type\":\"heatmap\"}],\"histogram2dcontour\":[{\"colorbar\":{\"outlinewidth\":0,\"ticks\":\"\"},\"colorscale\":[[0.0,\"#0d0887\"],[0.1111111111111111,\"#46039f\"],[0.2222222222222222,\"#7201a8\"],[0.3333333333333333,\"#9c179e\"],[0.4444444444444444,\"#bd3786\"],[0.5555555555555556,\"#d8576b\"],[0.6666666666666666,\"#ed7953\"],[0.7777777777777778,\"#fb9f3a\"],[0.8888888888888888,\"#fdca26\"],[1.0,\"#f0f921\"]],\"type\":\"histogram2dcontour\"}],\"histogram2d\":[{\"colorbar\":{\"outlinewidth\":0,\"ticks\":\"\"},\"colorscale\":[[0.0,\"#0d0887\"],[0.1111111111111111,\"#46039f\"],[0.2222222222222222,\"#7201a8\"],[0.3333333333333333,\"#9c179e\"],[0.4444444444444444,\"#bd3786\"],[0.5555555555555556,\"#d8576b\"],[0.6666666666666666,\"#ed7953\"],[0.7777777777777778,\"#fb9f3a\"],[0.8888888888888888,\"#fdca26\"],[1.0,\"#f0f921\"]],\"type\":\"histogram2d\"}],\"histogram\":[{\"marker\":{\"pattern\":{\"fillmode\":\"overlay\",\"size\":10,\"solidity\":0.2}},\"type\":\"histogram\"}],\"mesh3d\":[{\"colorbar\":{\"outlinewidth\":0,\"ticks\":\"\"},\"type\":\"mesh3d\"}],\"parcoords\":[{\"line\":{\"colorbar\":{\"outlinewidth\":0,\"ticks\":\"\"}},\"type\":\"parcoords\"}],\"pie\":[{\"automargin\":true,\"type\":\"pie\"}],\"scatter3d\":[{\"line\":{\"colorbar\":{\"outlinewidth\":0,\"ticks\":\"\"}},\"marker\":{\"colorbar\":{\"outlinewidth\":0,\"ticks\":\"\"}},\"type\":\"scatter3d\"}],\"scattercarpet\":[{\"marker\":{\"colorbar\":{\"outlinewidth\":0,\"ticks\":\"\"}},\"type\":\"scattercarpet\"}],\"scattergeo\":[{\"marker\":{\"colorbar\":{\"outlinewidth\":0,\"ticks\":\"\"}},\"type\":\"scattergeo\"}],\"scattergl\":[{\"marker\":{\"colorbar\":{\"outlinewidth\":0,\"ticks\":\"\"}},\"type\":\"scattergl\"}],\"scattermapbox\":[{\"marker\":{\"colorbar\":{\"outlinewidth\":0,\"ticks\":\"\"}},\"type\":\"scattermapbox\"}],\"scatterpolargl\":[{\"marker\":{\"colorbar\":{\"outlinewidth\":0,\"ticks\":\"\"}},\"type\":\"scatterpolargl\"}],\"scatterpolar\":[{\"marker\":{\"colorbar\":{\"outlinewidth\":0,\"ticks\":\"\"}},\"type\":\"scatterpolar\"}],\"scatter\":[{\"fillpattern\":{\"fillmode\":\"overlay\",\"size\":10,\"solidity\":0.2},\"type\":\"scatter\"}],\"scatterternary\":[{\"marker\":{\"colorbar\":{\"outlinewidth\":0,\"ticks\":\"\"}},\"type\":\"scatterternary\"}],\"surface\":[{\"colorbar\":{\"outlinewidth\":0,\"ticks\":\"\"},\"colorscale\":[[0.0,\"#0d0887\"],[0.1111111111111111,\"#46039f\"],[0.2222222222222222,\"#7201a8\"],[0.3333333333333333,\"#9c179e\"],[0.4444444444444444,\"#bd3786\"],[0.5555555555555556,\"#d8576b\"],[0.6666666666666666,\"#ed7953\"],[0.7777777777777778,\"#fb9f3a\"],[0.8888888888888888,\"#fdca26\"],[1.0,\"#f0f921\"]],\"type\":\"surface\"}],\"table\":[{\"cells\":{\"fill\":{\"color\":\"#EBF0F8\"},\"line\":{\"color\":\"white\"}},\"header\":{\"fill\":{\"color\":\"#C8D4E3\"},\"line\":{\"color\":\"white\"}},\"type\":\"table\"}]},\"layout\":{\"annotationdefaults\":{\"arrowcolor\":\"#2a3f5f\",\"arrowhead\":0,\"arrowwidth\":1},\"autotypenumbers\":\"strict\",\"coloraxis\":{\"colorbar\":{\"outlinewidth\":0,\"ticks\":\"\"}},\"colorscale\":{\"diverging\":[[0,\"#8e0152\"],[0.1,\"#c51b7d\"],[0.2,\"#de77ae\"],[0.3,\"#f1b6da\"],[0.4,\"#fde0ef\"],[0.5,\"#f7f7f7\"],[0.6,\"#e6f5d0\"],[0.7,\"#b8e186\"],[0.8,\"#7fbc41\"],[0.9,\"#4d9221\"],[1,\"#276419\"]],\"sequential\":[[0.0,\"#0d0887\"],[0.1111111111111111,\"#46039f\"],[0.2222222222222222,\"#7201a8\"],[0.3333333333333333,\"#9c179e\"],[0.4444444444444444,\"#bd3786\"],[0.5555555555555556,\"#d8576b\"],[0.6666666666666666,\"#ed7953\"],[0.7777777777777778,\"#fb9f3a\"],[0.8888888888888888,\"#fdca26\"],[1.0,\"#f0f921\"]],\"sequentialminus\":[[0.0,\"#0d0887\"],[0.1111111111111111,\"#46039f\"],[0.2222222222222222,\"#7201a8\"],[0.3333333333333333,\"#9c179e\"],[0.4444444444444444,\"#bd3786\"],[0.5555555555555556,\"#d8576b\"],[0.6666666666666666,\"#ed7953\"],[0.7777777777777778,\"#fb9f3a\"],[0.8888888888888888,\"#fdca26\"],[1.0,\"#f0f921\"]]},\"colorway\":[\"#636efa\",\"#EF553B\",\"#00cc96\",\"#ab63fa\",\"#FFA15A\",\"#19d3f3\",\"#FF6692\",\"#B6E880\",\"#FF97FF\",\"#FECB52\"],\"font\":{\"color\":\"#2a3f5f\"},\"geo\":{\"bgcolor\":\"white\",\"lakecolor\":\"white\",\"landcolor\":\"#E5ECF6\",\"showlakes\":true,\"showland\":true,\"subunitcolor\":\"white\"},\"hoverlabel\":{\"align\":\"left\"},\"hovermode\":\"closest\",\"mapbox\":{\"style\":\"light\"},\"paper_bgcolor\":\"white\",\"plot_bgcolor\":\"#E5ECF6\",\"polar\":{\"angularaxis\":{\"gridcolor\":\"white\",\"linecolor\":\"white\",\"ticks\":\"\"},\"bgcolor\":\"#E5ECF6\",\"radialaxis\":{\"gridcolor\":\"white\",\"linecolor\":\"white\",\"ticks\":\"\"}},\"scene\":{\"xaxis\":{\"backgroundcolor\":\"#E5ECF6\",\"gridcolor\":\"white\",\"gridwidth\":2,\"linecolor\":\"white\",\"showbackground\":true,\"ticks\":\"\",\"zerolinecolor\":\"white\"},\"yaxis\":{\"backgroundcolor\":\"#E5ECF6\",\"gridcolor\":\"white\",\"gridwidth\":2,\"linecolor\":\"white\",\"showbackground\":true,\"ticks\":\"\",\"zerolinecolor\":\"white\"},\"zaxis\":{\"backgroundcolor\":\"#E5ECF6\",\"gridcolor\":\"white\",\"gridwidth\":2,\"linecolor\":\"white\",\"showbackground\":true,\"ticks\":\"\",\"zerolinecolor\":\"white\"}},\"shapedefaults\":{\"line\":{\"color\":\"#2a3f5f\"}},\"ternary\":{\"aaxis\":{\"gridcolor\":\"white\",\"linecolor\":\"white\",\"ticks\":\"\"},\"baxis\":{\"gridcolor\":\"white\",\"linecolor\":\"white\",\"ticks\":\"\"},\"bgcolor\":\"#E5ECF6\",\"caxis\":{\"gridcolor\":\"white\",\"linecolor\":\"white\",\"ticks\":\"\"}},\"title\":{\"x\":0.05},\"xaxis\":{\"automargin\":true,\"gridcolor\":\"white\",\"linecolor\":\"white\",\"ticks\":\"\",\"title\":{\"standoff\":15},\"zerolinecolor\":\"white\",\"zerolinewidth\":2},\"yaxis\":{\"automargin\":true,\"gridcolor\":\"white\",\"linecolor\":\"white\",\"ticks\":\"\",\"title\":{\"standoff\":15},\"zerolinecolor\":\"white\",\"zerolinewidth\":2}}},\"title\":{\"font\":{\"color\":\"#4D5663\"}},\"xaxis\":{\"gridcolor\":\"#E1E5ED\",\"showgrid\":true,\"tickfont\":{\"color\":\"#4D5663\"},\"title\":{\"font\":{\"color\":\"#4D5663\"},\"text\":\"\"},\"zerolinecolor\":\"#E1E5ED\"},\"yaxis\":{\"gridcolor\":\"#E1E5ED\",\"showgrid\":true,\"tickfont\":{\"color\":\"#4D5663\"},\"title\":{\"font\":{\"color\":\"#4D5663\"},\"text\":\"\"},\"zerolinecolor\":\"#E1E5ED\"}},                        {\"showLink\": true, \"linkText\": \"Export to plot.ly\", \"plotlyServerURL\": \"https://plot.ly\", \"responsive\": true}                    ).then(function(){\n",
       "                            \n",
       "var gd = document.getElementById('3c1ae0f6-1309-494b-8eb9-192817726d16');\n",
       "var x = new MutationObserver(function (mutations, observer) {{\n",
       "        var display = window.getComputedStyle(gd).display;\n",
       "        if (!display || display === 'none') {{\n",
       "            console.log([gd, 'removed!']);\n",
       "            Plotly.purge(gd);\n",
       "            observer.disconnect();\n",
       "        }}\n",
       "}});\n",
       "\n",
       "// Listen for the removal of the full notebook cells\n",
       "var notebookContainer = gd.closest('#notebook-container');\n",
       "if (notebookContainer) {{\n",
       "    x.observe(notebookContainer, {childList: true});\n",
       "}}\n",
       "\n",
       "// Listen for the clearing of the current output cell\n",
       "var outputEl = gd.closest('.output');\n",
       "if (outputEl) {{\n",
       "    x.observe(outputEl, {childList: true});\n",
       "}}\n",
       "\n",
       "                        })                };                });            </script>        </div>"
      ]
     },
     "metadata": {},
     "output_type": "display_data"
    }
   ],
   "source": [
    "df.iplot(kind='box')"
   ]
  },
  {
   "cell_type": "markdown",
   "metadata": {},
   "source": [
    "## 3d Surface"
   ]
  },
  {
   "cell_type": "code",
   "execution_count": 15,
   "metadata": {
    "collapsed": false,
    "jupyter": {
     "outputs_hidden": false
    }
   },
   "outputs": [
    {
     "data": {
      "application/vnd.plotly.v1+json": {
       "config": {
        "linkText": "Export to plot.ly",
        "plotlyServerURL": "https://plot.ly",
        "showLink": true
       },
       "data": [
        {
         "colorscale": [
          [
           0,
           "rgb(165,0,38)"
          ],
          [
           0.1,
           "rgb(215,48,39)"
          ],
          [
           0.2,
           "rgb(244,109,67)"
          ],
          [
           0.3,
           "rgb(253,174,97)"
          ],
          [
           0.4,
           "rgb(254,224,144)"
          ],
          [
           0.5,
           "rgb(255,255,191)"
          ],
          [
           0.6,
           "rgb(224,243,248)"
          ],
          [
           0.7,
           "rgb(171,217,233)"
          ],
          [
           0.8,
           "rgb(116,173,209)"
          ],
          [
           0.9,
           "rgb(69,117,180)"
          ],
          [
           1,
           "rgb(49,54,149)"
          ]
         ],
         "type": "surface",
         "x": [
          0,
          1,
          2,
          3,
          4
         ],
         "y": [
          "x",
          "y",
          "z"
         ],
         "z": [
          [
           1,
           2,
           3,
           4,
           5
          ],
          [
           10,
           20,
           30,
           20,
           10
          ],
          [
           5,
           4,
           3,
           2,
           1
          ]
         ]
        }
       ],
       "layout": {
        "autosize": true,
        "legend": {
         "bgcolor": "#F5F6F9",
         "font": {
          "color": "#4D5663"
         }
        },
        "paper_bgcolor": "#F5F6F9",
        "plot_bgcolor": "#F5F6F9",
        "scene": {
         "aspectmode": "auto",
         "aspectratio": {
          "x": 1,
          "y": 1,
          "z": 1
         },
         "camera": {
          "center": {
           "x": 0,
           "y": 0,
           "z": 0
          },
          "eye": {
           "x": 1.076159279899851,
           "y": 1.0761592798998507,
           "z": 1.0761592798998507
          },
          "projection": {
           "type": "perspective"
          },
          "up": {
           "x": 0,
           "y": 0,
           "z": 1
          }
         }
        },
        "template": {
         "data": {
          "bar": [
           {
            "error_x": {
             "color": "#2a3f5f"
            },
            "error_y": {
             "color": "#2a3f5f"
            },
            "marker": {
             "line": {
              "color": "#E5ECF6",
              "width": 0.5
             },
             "pattern": {
              "fillmode": "overlay",
              "size": 10,
              "solidity": 0.2
             }
            },
            "type": "bar"
           }
          ],
          "barpolar": [
           {
            "marker": {
             "line": {
              "color": "#E5ECF6",
              "width": 0.5
             },
             "pattern": {
              "fillmode": "overlay",
              "size": 10,
              "solidity": 0.2
             }
            },
            "type": "barpolar"
           }
          ],
          "carpet": [
           {
            "aaxis": {
             "endlinecolor": "#2a3f5f",
             "gridcolor": "white",
             "linecolor": "white",
             "minorgridcolor": "white",
             "startlinecolor": "#2a3f5f"
            },
            "baxis": {
             "endlinecolor": "#2a3f5f",
             "gridcolor": "white",
             "linecolor": "white",
             "minorgridcolor": "white",
             "startlinecolor": "#2a3f5f"
            },
            "type": "carpet"
           }
          ],
          "choropleth": [
           {
            "colorbar": {
             "outlinewidth": 0,
             "ticks": ""
            },
            "type": "choropleth"
           }
          ],
          "contour": [
           {
            "colorbar": {
             "outlinewidth": 0,
             "ticks": ""
            },
            "colorscale": [
             [
              0,
              "#0d0887"
             ],
             [
              0.1111111111111111,
              "#46039f"
             ],
             [
              0.2222222222222222,
              "#7201a8"
             ],
             [
              0.3333333333333333,
              "#9c179e"
             ],
             [
              0.4444444444444444,
              "#bd3786"
             ],
             [
              0.5555555555555556,
              "#d8576b"
             ],
             [
              0.6666666666666666,
              "#ed7953"
             ],
             [
              0.7777777777777778,
              "#fb9f3a"
             ],
             [
              0.8888888888888888,
              "#fdca26"
             ],
             [
              1,
              "#f0f921"
             ]
            ],
            "type": "contour"
           }
          ],
          "contourcarpet": [
           {
            "colorbar": {
             "outlinewidth": 0,
             "ticks": ""
            },
            "type": "contourcarpet"
           }
          ],
          "heatmap": [
           {
            "colorbar": {
             "outlinewidth": 0,
             "ticks": ""
            },
            "colorscale": [
             [
              0,
              "#0d0887"
             ],
             [
              0.1111111111111111,
              "#46039f"
             ],
             [
              0.2222222222222222,
              "#7201a8"
             ],
             [
              0.3333333333333333,
              "#9c179e"
             ],
             [
              0.4444444444444444,
              "#bd3786"
             ],
             [
              0.5555555555555556,
              "#d8576b"
             ],
             [
              0.6666666666666666,
              "#ed7953"
             ],
             [
              0.7777777777777778,
              "#fb9f3a"
             ],
             [
              0.8888888888888888,
              "#fdca26"
             ],
             [
              1,
              "#f0f921"
             ]
            ],
            "type": "heatmap"
           }
          ],
          "heatmapgl": [
           {
            "colorbar": {
             "outlinewidth": 0,
             "ticks": ""
            },
            "colorscale": [
             [
              0,
              "#0d0887"
             ],
             [
              0.1111111111111111,
              "#46039f"
             ],
             [
              0.2222222222222222,
              "#7201a8"
             ],
             [
              0.3333333333333333,
              "#9c179e"
             ],
             [
              0.4444444444444444,
              "#bd3786"
             ],
             [
              0.5555555555555556,
              "#d8576b"
             ],
             [
              0.6666666666666666,
              "#ed7953"
             ],
             [
              0.7777777777777778,
              "#fb9f3a"
             ],
             [
              0.8888888888888888,
              "#fdca26"
             ],
             [
              1,
              "#f0f921"
             ]
            ],
            "type": "heatmapgl"
           }
          ],
          "histogram": [
           {
            "marker": {
             "pattern": {
              "fillmode": "overlay",
              "size": 10,
              "solidity": 0.2
             }
            },
            "type": "histogram"
           }
          ],
          "histogram2d": [
           {
            "colorbar": {
             "outlinewidth": 0,
             "ticks": ""
            },
            "colorscale": [
             [
              0,
              "#0d0887"
             ],
             [
              0.1111111111111111,
              "#46039f"
             ],
             [
              0.2222222222222222,
              "#7201a8"
             ],
             [
              0.3333333333333333,
              "#9c179e"
             ],
             [
              0.4444444444444444,
              "#bd3786"
             ],
             [
              0.5555555555555556,
              "#d8576b"
             ],
             [
              0.6666666666666666,
              "#ed7953"
             ],
             [
              0.7777777777777778,
              "#fb9f3a"
             ],
             [
              0.8888888888888888,
              "#fdca26"
             ],
             [
              1,
              "#f0f921"
             ]
            ],
            "type": "histogram2d"
           }
          ],
          "histogram2dcontour": [
           {
            "colorbar": {
             "outlinewidth": 0,
             "ticks": ""
            },
            "colorscale": [
             [
              0,
              "#0d0887"
             ],
             [
              0.1111111111111111,
              "#46039f"
             ],
             [
              0.2222222222222222,
              "#7201a8"
             ],
             [
              0.3333333333333333,
              "#9c179e"
             ],
             [
              0.4444444444444444,
              "#bd3786"
             ],
             [
              0.5555555555555556,
              "#d8576b"
             ],
             [
              0.6666666666666666,
              "#ed7953"
             ],
             [
              0.7777777777777778,
              "#fb9f3a"
             ],
             [
              0.8888888888888888,
              "#fdca26"
             ],
             [
              1,
              "#f0f921"
             ]
            ],
            "type": "histogram2dcontour"
           }
          ],
          "mesh3d": [
           {
            "colorbar": {
             "outlinewidth": 0,
             "ticks": ""
            },
            "type": "mesh3d"
           }
          ],
          "parcoords": [
           {
            "line": {
             "colorbar": {
              "outlinewidth": 0,
              "ticks": ""
             }
            },
            "type": "parcoords"
           }
          ],
          "pie": [
           {
            "automargin": true,
            "type": "pie"
           }
          ],
          "scatter": [
           {
            "fillpattern": {
             "fillmode": "overlay",
             "size": 10,
             "solidity": 0.2
            },
            "type": "scatter"
           }
          ],
          "scatter3d": [
           {
            "line": {
             "colorbar": {
              "outlinewidth": 0,
              "ticks": ""
             }
            },
            "marker": {
             "colorbar": {
              "outlinewidth": 0,
              "ticks": ""
             }
            },
            "type": "scatter3d"
           }
          ],
          "scattercarpet": [
           {
            "marker": {
             "colorbar": {
              "outlinewidth": 0,
              "ticks": ""
             }
            },
            "type": "scattercarpet"
           }
          ],
          "scattergeo": [
           {
            "marker": {
             "colorbar": {
              "outlinewidth": 0,
              "ticks": ""
             }
            },
            "type": "scattergeo"
           }
          ],
          "scattergl": [
           {
            "marker": {
             "colorbar": {
              "outlinewidth": 0,
              "ticks": ""
             }
            },
            "type": "scattergl"
           }
          ],
          "scattermapbox": [
           {
            "marker": {
             "colorbar": {
              "outlinewidth": 0,
              "ticks": ""
             }
            },
            "type": "scattermapbox"
           }
          ],
          "scatterpolar": [
           {
            "marker": {
             "colorbar": {
              "outlinewidth": 0,
              "ticks": ""
             }
            },
            "type": "scatterpolar"
           }
          ],
          "scatterpolargl": [
           {
            "marker": {
             "colorbar": {
              "outlinewidth": 0,
              "ticks": ""
             }
            },
            "type": "scatterpolargl"
           }
          ],
          "scatterternary": [
           {
            "marker": {
             "colorbar": {
              "outlinewidth": 0,
              "ticks": ""
             }
            },
            "type": "scatterternary"
           }
          ],
          "surface": [
           {
            "colorbar": {
             "outlinewidth": 0,
             "ticks": ""
            },
            "colorscale": [
             [
              0,
              "#0d0887"
             ],
             [
              0.1111111111111111,
              "#46039f"
             ],
             [
              0.2222222222222222,
              "#7201a8"
             ],
             [
              0.3333333333333333,
              "#9c179e"
             ],
             [
              0.4444444444444444,
              "#bd3786"
             ],
             [
              0.5555555555555556,
              "#d8576b"
             ],
             [
              0.6666666666666666,
              "#ed7953"
             ],
             [
              0.7777777777777778,
              "#fb9f3a"
             ],
             [
              0.8888888888888888,
              "#fdca26"
             ],
             [
              1,
              "#f0f921"
             ]
            ],
            "type": "surface"
           }
          ],
          "table": [
           {
            "cells": {
             "fill": {
              "color": "#EBF0F8"
             },
             "line": {
              "color": "white"
             }
            },
            "header": {
             "fill": {
              "color": "#C8D4E3"
             },
             "line": {
              "color": "white"
             }
            },
            "type": "table"
           }
          ]
         },
         "layout": {
          "annotationdefaults": {
           "arrowcolor": "#2a3f5f",
           "arrowhead": 0,
           "arrowwidth": 1
          },
          "autotypenumbers": "strict",
          "coloraxis": {
           "colorbar": {
            "outlinewidth": 0,
            "ticks": ""
           }
          },
          "colorscale": {
           "diverging": [
            [
             0,
             "#8e0152"
            ],
            [
             0.1,
             "#c51b7d"
            ],
            [
             0.2,
             "#de77ae"
            ],
            [
             0.3,
             "#f1b6da"
            ],
            [
             0.4,
             "#fde0ef"
            ],
            [
             0.5,
             "#f7f7f7"
            ],
            [
             0.6,
             "#e6f5d0"
            ],
            [
             0.7,
             "#b8e186"
            ],
            [
             0.8,
             "#7fbc41"
            ],
            [
             0.9,
             "#4d9221"
            ],
            [
             1,
             "#276419"
            ]
           ],
           "sequential": [
            [
             0,
             "#0d0887"
            ],
            [
             0.1111111111111111,
             "#46039f"
            ],
            [
             0.2222222222222222,
             "#7201a8"
            ],
            [
             0.3333333333333333,
             "#9c179e"
            ],
            [
             0.4444444444444444,
             "#bd3786"
            ],
            [
             0.5555555555555556,
             "#d8576b"
            ],
            [
             0.6666666666666666,
             "#ed7953"
            ],
            [
             0.7777777777777778,
             "#fb9f3a"
            ],
            [
             0.8888888888888888,
             "#fdca26"
            ],
            [
             1,
             "#f0f921"
            ]
           ],
           "sequentialminus": [
            [
             0,
             "#0d0887"
            ],
            [
             0.1111111111111111,
             "#46039f"
            ],
            [
             0.2222222222222222,
             "#7201a8"
            ],
            [
             0.3333333333333333,
             "#9c179e"
            ],
            [
             0.4444444444444444,
             "#bd3786"
            ],
            [
             0.5555555555555556,
             "#d8576b"
            ],
            [
             0.6666666666666666,
             "#ed7953"
            ],
            [
             0.7777777777777778,
             "#fb9f3a"
            ],
            [
             0.8888888888888888,
             "#fdca26"
            ],
            [
             1,
             "#f0f921"
            ]
           ]
          },
          "colorway": [
           "#636efa",
           "#EF553B",
           "#00cc96",
           "#ab63fa",
           "#FFA15A",
           "#19d3f3",
           "#FF6692",
           "#B6E880",
           "#FF97FF",
           "#FECB52"
          ],
          "font": {
           "color": "#2a3f5f"
          },
          "geo": {
           "bgcolor": "white",
           "lakecolor": "white",
           "landcolor": "#E5ECF6",
           "showlakes": true,
           "showland": true,
           "subunitcolor": "white"
          },
          "hoverlabel": {
           "align": "left"
          },
          "hovermode": "closest",
          "mapbox": {
           "style": "light"
          },
          "paper_bgcolor": "white",
          "plot_bgcolor": "#E5ECF6",
          "polar": {
           "angularaxis": {
            "gridcolor": "white",
            "linecolor": "white",
            "ticks": ""
           },
           "bgcolor": "#E5ECF6",
           "radialaxis": {
            "gridcolor": "white",
            "linecolor": "white",
            "ticks": ""
           }
          },
          "scene": {
           "xaxis": {
            "backgroundcolor": "#E5ECF6",
            "gridcolor": "white",
            "gridwidth": 2,
            "linecolor": "white",
            "showbackground": true,
            "ticks": "",
            "zerolinecolor": "white"
           },
           "yaxis": {
            "backgroundcolor": "#E5ECF6",
            "gridcolor": "white",
            "gridwidth": 2,
            "linecolor": "white",
            "showbackground": true,
            "ticks": "",
            "zerolinecolor": "white"
           },
           "zaxis": {
            "backgroundcolor": "#E5ECF6",
            "gridcolor": "white",
            "gridwidth": 2,
            "linecolor": "white",
            "showbackground": true,
            "ticks": "",
            "zerolinecolor": "white"
           }
          },
          "shapedefaults": {
           "line": {
            "color": "#2a3f5f"
           }
          },
          "ternary": {
           "aaxis": {
            "gridcolor": "white",
            "linecolor": "white",
            "ticks": ""
           },
           "baxis": {
            "gridcolor": "white",
            "linecolor": "white",
            "ticks": ""
           },
           "bgcolor": "#E5ECF6",
           "caxis": {
            "gridcolor": "white",
            "linecolor": "white",
            "ticks": ""
           }
          },
          "title": {
           "x": 0.05
          },
          "xaxis": {
           "automargin": true,
           "gridcolor": "white",
           "linecolor": "white",
           "ticks": "",
           "title": {
            "standoff": 15
           },
           "zerolinecolor": "white",
           "zerolinewidth": 2
          },
          "yaxis": {
           "automargin": true,
           "gridcolor": "white",
           "linecolor": "white",
           "ticks": "",
           "title": {
            "standoff": 15
           },
           "zerolinecolor": "white",
           "zerolinewidth": 2
          }
         }
        },
        "title": {
         "font": {
          "color": "#4D5663"
         }
        },
        "xaxis": {
         "gridcolor": "#E1E5ED",
         "showgrid": true,
         "tickfont": {
          "color": "#4D5663"
         },
         "title": {
          "font": {
           "color": "#4D5663"
          },
          "text": ""
         },
         "zerolinecolor": "#E1E5ED"
        },
        "yaxis": {
         "gridcolor": "#E1E5ED",
         "showgrid": true,
         "tickfont": {
          "color": "#4D5663"
         },
         "title": {
          "font": {
           "color": "#4D5663"
          },
          "text": ""
         },
         "zerolinecolor": "#E1E5ED"
        }
       }
      },
      "image/png": "[encoded data removed]",
      "text/html": [
       "<div>                            <div id=\"43172666-6203-4f94-8361-698685979840\" class=\"plotly-graph-div\" style=\"height:525px; width:100%;\"></div>            <script type=\"text/javascript\">                require([\"plotly\"], function(Plotly) {                    window.PLOTLYENV=window.PLOTLYENV || {};\n",
       "                    window.PLOTLYENV.BASE_URL='https://plot.ly';                                    if (document.getElementById(\"43172666-6203-4f94-8361-698685979840\")) {                    Plotly.newPlot(                        \"43172666-6203-4f94-8361-698685979840\",                        [{\"colorscale\":[[0.0,\"rgb(165,0,38)\"],[0.1,\"rgb(215,48,39)\"],[0.2,\"rgb(244,109,67)\"],[0.3,\"rgb(253,174,97)\"],[0.4,\"rgb(254,224,144)\"],[0.5,\"rgb(255,255,191)\"],[0.6,\"rgb(224,243,248)\"],[0.7,\"rgb(171,217,233)\"],[0.8,\"rgb(116,173,209)\"],[0.9,\"rgb(69,117,180)\"],[1.0,\"rgb(49,54,149)\"]],\"x\":[0,1,2,3,4],\"y\":[\"x\",\"y\",\"z\"],\"z\":[[1,2,3,4,5],[10,20,30,20,10],[5,4,3,2,1]],\"type\":\"surface\"}],                        {\"legend\":{\"bgcolor\":\"#F5F6F9\",\"font\":{\"color\":\"#4D5663\"}},\"paper_bgcolor\":\"#F5F6F9\",\"plot_bgcolor\":\"#F5F6F9\",\"template\":{\"data\":{\"barpolar\":[{\"marker\":{\"line\":{\"color\":\"#E5ECF6\",\"width\":0.5},\"pattern\":{\"fillmode\":\"overlay\",\"size\":10,\"solidity\":0.2}},\"type\":\"barpolar\"}],\"bar\":[{\"error_x\":{\"color\":\"#2a3f5f\"},\"error_y\":{\"color\":\"#2a3f5f\"},\"marker\":{\"line\":{\"color\":\"#E5ECF6\",\"width\":0.5},\"pattern\":{\"fillmode\":\"overlay\",\"size\":10,\"solidity\":0.2}},\"type\":\"bar\"}],\"carpet\":[{\"aaxis\":{\"endlinecolor\":\"#2a3f5f\",\"gridcolor\":\"white\",\"linecolor\":\"white\",\"minorgridcolor\":\"white\",\"startlinecolor\":\"#2a3f5f\"},\"baxis\":{\"endlinecolor\":\"#2a3f5f\",\"gridcolor\":\"white\",\"linecolor\":\"white\",\"minorgridcolor\":\"white\",\"startlinecolor\":\"#2a3f5f\"},\"type\":\"carpet\"}],\"choropleth\":[{\"colorbar\":{\"outlinewidth\":0,\"ticks\":\"\"},\"type\":\"choropleth\"}],\"contourcarpet\":[{\"colorbar\":{\"outlinewidth\":0,\"ticks\":\"\"},\"type\":\"contourcarpet\"}],\"contour\":[{\"colorbar\":{\"outlinewidth\":0,\"ticks\":\"\"},\"colorscale\":[[0.0,\"#0d0887\"],[0.1111111111111111,\"#46039f\"],[0.2222222222222222,\"#7201a8\"],[0.3333333333333333,\"#9c179e\"],[0.4444444444444444,\"#bd3786\"],[0.5555555555555556,\"#d8576b\"],[0.6666666666666666,\"#ed7953\"],[0.7777777777777778,\"#fb9f3a\"],[0.8888888888888888,\"#fdca26\"],[1.0,\"#f0f921\"]],\"type\":\"contour\"}],\"heatmapgl\":[{\"colorbar\":{\"outlinewidth\":0,\"ticks\":\"\"},\"colorscale\":[[0.0,\"#0d0887\"],[0.1111111111111111,\"#46039f\"],[0.2222222222222222,\"#7201a8\"],[0.3333333333333333,\"#9c179e\"],[0.4444444444444444,\"#bd3786\"],[0.5555555555555556,\"#d8576b\"],[0.6666666666666666,\"#ed7953\"],[0.7777777777777778,\"#fb9f3a\"],[0.8888888888888888,\"#fdca26\"],[1.0,\"#f0f921\"]],\"type\":\"heatmapgl\"}],\"heatmap\":[{\"colorbar\":{\"outlinewidth\":0,\"ticks\":\"\"},\"colorscale\":[[0.0,\"#0d0887\"],[0.1111111111111111,\"#46039f\"],[0.2222222222222222,\"#7201a8\"],[0.3333333333333333,\"#9c179e\"],[0.4444444444444444,\"#bd3786\"],[0.5555555555555556,\"#d8576b\"],[0.6666666666666666,\"#ed7953\"],[0.7777777777777778,\"#fb9f3a\"],[0.8888888888888888,\"#fdca26\"],[1.0,\"#f0f921\"]],\"type\":\"heatmap\"}],\"histogram2dcontour\":[{\"colorbar\":{\"outlinewidth\":0,\"ticks\":\"\"},\"colorscale\":[[0.0,\"#0d0887\"],[0.1111111111111111,\"#46039f\"],[0.2222222222222222,\"#7201a8\"],[0.3333333333333333,\"#9c179e\"],[0.4444444444444444,\"#bd3786\"],[0.5555555555555556,\"#d8576b\"],[0.6666666666666666,\"#ed7953\"],[0.7777777777777778,\"#fb9f3a\"],[0.8888888888888888,\"#fdca26\"],[1.0,\"#f0f921\"]],\"type\":\"histogram2dcontour\"}],\"histogram2d\":[{\"colorbar\":{\"outlinewidth\":0,\"ticks\":\"\"},\"colorscale\":[[0.0,\"#0d0887\"],[0.1111111111111111,\"#46039f\"],[0.2222222222222222,\"#7201a8\"],[0.3333333333333333,\"#9c179e\"],[0.4444444444444444,\"#bd3786\"],[0.5555555555555556,\"#d8576b\"],[0.6666666666666666,\"#ed7953\"],[0.7777777777777778,\"#fb9f3a\"],[0.8888888888888888,\"#fdca26\"],[1.0,\"#f0f921\"]],\"type\":\"histogram2d\"}],\"histogram\":[{\"marker\":{\"pattern\":{\"fillmode\":\"overlay\",\"size\":10,\"solidity\":0.2}},\"type\":\"histogram\"}],\"mesh3d\":[{\"colorbar\":{\"outlinewidth\":0,\"ticks\":\"\"},\"type\":\"mesh3d\"}],\"parcoords\":[{\"line\":{\"colorbar\":{\"outlinewidth\":0,\"ticks\":\"\"}},\"type\":\"parcoords\"}],\"pie\":[{\"automargin\":true,\"type\":\"pie\"}],\"scatter3d\":[{\"line\":{\"colorbar\":{\"outlinewidth\":0,\"ticks\":\"\"}},\"marker\":{\"colorbar\":{\"outlinewidth\":0,\"ticks\":\"\"}},\"type\":\"scatter3d\"}],\"scattercarpet\":[{\"marker\":{\"colorbar\":{\"outlinewidth\":0,\"ticks\":\"\"}},\"type\":\"scattercarpet\"}],\"scattergeo\":[{\"marker\":{\"colorbar\":{\"outlinewidth\":0,\"ticks\":\"\"}},\"type\":\"scattergeo\"}],\"scattergl\":[{\"marker\":{\"colorbar\":{\"outlinewidth\":0,\"ticks\":\"\"}},\"type\":\"scattergl\"}],\"scattermapbox\":[{\"marker\":{\"colorbar\":{\"outlinewidth\":0,\"ticks\":\"\"}},\"type\":\"scattermapbox\"}],\"scatterpolargl\":[{\"marker\":{\"colorbar\":{\"outlinewidth\":0,\"ticks\":\"\"}},\"type\":\"scatterpolargl\"}],\"scatterpolar\":[{\"marker\":{\"colorbar\":{\"outlinewidth\":0,\"ticks\":\"\"}},\"type\":\"scatterpolar\"}],\"scatter\":[{\"fillpattern\":{\"fillmode\":\"overlay\",\"size\":10,\"solidity\":0.2},\"type\":\"scatter\"}],\"scatterternary\":[{\"marker\":{\"colorbar\":{\"outlinewidth\":0,\"ticks\":\"\"}},\"type\":\"scatterternary\"}],\"surface\":[{\"colorbar\":{\"outlinewidth\":0,\"ticks\":\"\"},\"colorscale\":[[0.0,\"#0d0887\"],[0.1111111111111111,\"#46039f\"],[0.2222222222222222,\"#7201a8\"],[0.3333333333333333,\"#9c179e\"],[0.4444444444444444,\"#bd3786\"],[0.5555555555555556,\"#d8576b\"],[0.6666666666666666,\"#ed7953\"],[0.7777777777777778,\"#fb9f3a\"],[0.8888888888888888,\"#fdca26\"],[1.0,\"#f0f921\"]],\"type\":\"surface\"}],\"table\":[{\"cells\":{\"fill\":{\"color\":\"#EBF0F8\"},\"line\":{\"color\":\"white\"}},\"header\":{\"fill\":{\"color\":\"#C8D4E3\"},\"line\":{\"color\":\"white\"}},\"type\":\"table\"}]},\"layout\":{\"annotationdefaults\":{\"arrowcolor\":\"#2a3f5f\",\"arrowhead\":0,\"arrowwidth\":1},\"autotypenumbers\":\"strict\",\"coloraxis\":{\"colorbar\":{\"outlinewidth\":0,\"ticks\":\"\"}},\"colorscale\":{\"diverging\":[[0,\"#8e0152\"],[0.1,\"#c51b7d\"],[0.2,\"#de77ae\"],[0.3,\"#f1b6da\"],[0.4,\"#fde0ef\"],[0.5,\"#f7f7f7\"],[0.6,\"#e6f5d0\"],[0.7,\"#b8e186\"],[0.8,\"#7fbc41\"],[0.9,\"#4d9221\"],[1,\"#276419\"]],\"sequential\":[[0.0,\"#0d0887\"],[0.1111111111111111,\"#46039f\"],[0.2222222222222222,\"#7201a8\"],[0.3333333333333333,\"#9c179e\"],[0.4444444444444444,\"#bd3786\"],[0.5555555555555556,\"#d8576b\"],[0.6666666666666666,\"#ed7953\"],[0.7777777777777778,\"#fb9f3a\"],[0.8888888888888888,\"#fdca26\"],[1.0,\"#f0f921\"]],\"sequentialminus\":[[0.0,\"#0d0887\"],[0.1111111111111111,\"#46039f\"],[0.2222222222222222,\"#7201a8\"],[0.3333333333333333,\"#9c179e\"],[0.4444444444444444,\"#bd3786\"],[0.5555555555555556,\"#d8576b\"],[0.6666666666666666,\"#ed7953\"],[0.7777777777777778,\"#fb9f3a\"],[0.8888888888888888,\"#fdca26\"],[1.0,\"#f0f921\"]]},\"colorway\":[\"#636efa\",\"#EF553B\",\"#00cc96\",\"#ab63fa\",\"#FFA15A\",\"#19d3f3\",\"#FF6692\",\"#B6E880\",\"#FF97FF\",\"#FECB52\"],\"font\":{\"color\":\"#2a3f5f\"},\"geo\":{\"bgcolor\":\"white\",\"lakecolor\":\"white\",\"landcolor\":\"#E5ECF6\",\"showlakes\":true,\"showland\":true,\"subunitcolor\":\"white\"},\"hoverlabel\":{\"align\":\"left\"},\"hovermode\":\"closest\",\"mapbox\":{\"style\":\"light\"},\"paper_bgcolor\":\"white\",\"plot_bgcolor\":\"#E5ECF6\",\"polar\":{\"angularaxis\":{\"gridcolor\":\"white\",\"linecolor\":\"white\",\"ticks\":\"\"},\"bgcolor\":\"#E5ECF6\",\"radialaxis\":{\"gridcolor\":\"white\",\"linecolor\":\"white\",\"ticks\":\"\"}},\"scene\":{\"xaxis\":{\"backgroundcolor\":\"#E5ECF6\",\"gridcolor\":\"white\",\"gridwidth\":2,\"linecolor\":\"white\",\"showbackground\":true,\"ticks\":\"\",\"zerolinecolor\":\"white\"},\"yaxis\":{\"backgroundcolor\":\"#E5ECF6\",\"gridcolor\":\"white\",\"gridwidth\":2,\"linecolor\":\"white\",\"showbackground\":true,\"ticks\":\"\",\"zerolinecolor\":\"white\"},\"zaxis\":{\"backgroundcolor\":\"#E5ECF6\",\"gridcolor\":\"white\",\"gridwidth\":2,\"linecolor\":\"white\",\"showbackground\":true,\"ticks\":\"\",\"zerolinecolor\":\"white\"}},\"shapedefaults\":{\"line\":{\"color\":\"#2a3f5f\"}},\"ternary\":{\"aaxis\":{\"gridcolor\":\"white\",\"linecolor\":\"white\",\"ticks\":\"\"},\"baxis\":{\"gridcolor\":\"white\",\"linecolor\":\"white\",\"ticks\":\"\"},\"bgcolor\":\"#E5ECF6\",\"caxis\":{\"gridcolor\":\"white\",\"linecolor\":\"white\",\"ticks\":\"\"}},\"title\":{\"x\":0.05},\"xaxis\":{\"automargin\":true,\"gridcolor\":\"white\",\"linecolor\":\"white\",\"ticks\":\"\",\"title\":{\"standoff\":15},\"zerolinecolor\":\"white\",\"zerolinewidth\":2},\"yaxis\":{\"automargin\":true,\"gridcolor\":\"white\",\"linecolor\":\"white\",\"ticks\":\"\",\"title\":{\"standoff\":15},\"zerolinecolor\":\"white\",\"zerolinewidth\":2}}},\"title\":{\"font\":{\"color\":\"#4D5663\"}},\"xaxis\":{\"gridcolor\":\"#E1E5ED\",\"showgrid\":true,\"tickfont\":{\"color\":\"#4D5663\"},\"title\":{\"font\":{\"color\":\"#4D5663\"},\"text\":\"\"},\"zerolinecolor\":\"#E1E5ED\"},\"yaxis\":{\"gridcolor\":\"#E1E5ED\",\"showgrid\":true,\"tickfont\":{\"color\":\"#4D5663\"},\"title\":{\"font\":{\"color\":\"#4D5663\"},\"text\":\"\"},\"zerolinecolor\":\"#E1E5ED\"}},                        {\"showLink\": true, \"linkText\": \"Export to plot.ly\", \"plotlyServerURL\": \"https://plot.ly\", \"responsive\": true}                    ).then(function(){\n",
       "                            \n",
       "var gd = document.getElementById('43172666-6203-4f94-8361-698685979840');\n",
       "var x = new MutationObserver(function (mutations, observer) {{\n",
       "        var display = window.getComputedStyle(gd).display;\n",
       "        if (!display || display === 'none') {{\n",
       "            console.log([gd, 'removed!']);\n",
       "            Plotly.purge(gd);\n",
       "            observer.disconnect();\n",
       "        }}\n",
       "}});\n",
       "\n",
       "// Listen for the removal of the full notebook cells\n",
       "var notebookContainer = gd.closest('#notebook-container');\n",
       "if (notebookContainer) {{\n",
       "    x.observe(notebookContainer, {childList: true});\n",
       "}}\n",
       "\n",
       "// Listen for the clearing of the current output cell\n",
       "var outputEl = gd.closest('.output');\n",
       "if (outputEl) {{\n",
       "    x.observe(outputEl, {childList: true});\n",
       "}}\n",
       "\n",
       "                        })                };                });            </script>        </div>"
      ]
     },
     "metadata": {},
     "output_type": "display_data"
    }
   ],
   "source": [
    "df3 = pd.DataFrame({'x':[1,2,3,4,5],'y':[10,20,30,20,10],'z':[5,4,3,2,1]})\n",
    "df3.iplot(kind='surface',colorscale='rdylbu')"
   ]
  },
  {
   "cell_type": "markdown",
   "metadata": {},
   "source": [
    "## histogram"
   ]
  },
  {
   "cell_type": "code",
   "execution_count": 17,
   "metadata": {
    "collapsed": false,
    "jupyter": {
     "outputs_hidden": false
    }
   },
   "outputs": [
    {
     "data": {
      "application/vnd.plotly.v1+json": {
       "config": {
        "linkText": "Export to plot.ly",
        "plotlyServerURL": "https://plot.ly",
        "showLink": true
       },
       "data": [
        {
         "histfunc": "count",
         "histnorm": "",
         "marker": {
          "color": "rgba(255, 153, 51, 1.0)",
          "line": {
           "color": "#4D5663",
           "width": 1.3
          }
         },
         "name": "A",
         "nbinsx": 25,
         "opacity": 0.8,
         "orientation": "v",
         "type": "histogram",
         "x": [
          -0.8028561302251124,
          1.479302388301489,
          0.09259836950276953,
          -0.512200866745337,
          0.8576238983724528,
          0.6085497404944062,
          -0.788223295517952,
          0.9761665209278051,
          2.238690887893208,
          1.3490247594088083,
          0.737059096870889,
          0.3026134531782889,
          -0.7957217706029994,
          0.33823616570030324,
          0.19196824309714583,
          -0.4698312480273544,
          0.4301162469854865,
          1.1815924579324193,
          0.2274535937715395,
          -1.5943306169668727,
          0.12493303310468025,
          0.7975876609059102,
          0.09593279290044807,
          -0.19719809096164162,
          1.6565466613065052,
          0.4501760595795119,
          -0.02886866437548703,
          0.16505807536954564,
          1.124836055486245,
          2.049975322070444,
          -0.033165046880216376,
          0.7801630412932541,
          0.028285298355942425,
          -1.2989262631774416,
          1.3012174059227228,
          0.15728220307540158,
          -0.31316077721117375,
          -1.1747533327607587,
          1.7069413233814477,
          0.07419368467184914,
          -1.147529248600138,
          0.30864584269972306,
          -1.2793699272497943,
          -1.1249859442345558,
          0.2831314824771736,
          -0.18716951345172192,
          -1.090356868475828,
          1.9293517124623794,
          2.3684113403376057,
          -0.7988882319337831,
          1.6038153380009872,
          -1.2288347702724813,
          -1.201690996947852,
          -0.6607024240946915,
          1.8446345228914234,
          -0.9936737748233865,
          0.4870909728145924,
          0.0635477755521646,
          0.32357734017082884,
          0.06832369257774945,
          1.103825118434115,
          -0.7645127908507001,
          -1.3676473832933946,
          0.46402104480674794,
          0.15452847403977235,
          -0.6061958034619276,
          0.22205129416545974,
          -0.7962583172868609,
          -1.5584080382815726,
          0.5989046805601863,
          -0.6782957556343797,
          0.18020677123740392,
          0.19287312831057887,
          -0.1369071911530954,
          -1.0966518041958313,
          -0.4137103383439439,
          0.8408784953202832,
          -0.26466856360948776,
          -2.599861296100724,
          -0.543503678619246,
          -1.0601507878835457,
          -1.4366314663310211,
          -0.5783918179279967,
          -0.35904402150393355,
          -0.8532029670981947,
          -0.0668865536827716,
          0.3482385301768811,
          -0.43769557904928835,
          1.5562474048025967,
          -1.2058652048168754,
          0.012743990748052518,
          0.0525324102625891,
          0.40393559040764987,
          -0.3194053660387816,
          -0.7515950497771627,
          -1.6911968013479222,
          -1.0664557829608285,
          -1.4918263253090283,
          0.44400403329900645,
          -0.5245696570792404
         ]
        }
       ],
       "layout": {
        "autosize": true,
        "barmode": "overlay",
        "legend": {
         "bgcolor": "#F5F6F9",
         "font": {
          "color": "#4D5663"
         }
        },
        "paper_bgcolor": "#F5F6F9",
        "plot_bgcolor": "#F5F6F9",
        "template": {
         "data": {
          "bar": [
           {
            "error_x": {
             "color": "#2a3f5f"
            },
            "error_y": {
             "color": "#2a3f5f"
            },
            "marker": {
             "line": {
              "color": "#E5ECF6",
              "width": 0.5
             },
             "pattern": {
              "fillmode": "overlay",
              "size": 10,
              "solidity": 0.2
             }
            },
            "type": "bar"
           }
          ],
          "barpolar": [
           {
            "marker": {
             "line": {
              "color": "#E5ECF6",
              "width": 0.5
             },
             "pattern": {
              "fillmode": "overlay",
              "size": 10,
              "solidity": 0.2
             }
            },
            "type": "barpolar"
           }
          ],
          "carpet": [
           {
            "aaxis": {
             "endlinecolor": "#2a3f5f",
             "gridcolor": "white",
             "linecolor": "white",
             "minorgridcolor": "white",
             "startlinecolor": "#2a3f5f"
            },
            "baxis": {
             "endlinecolor": "#2a3f5f",
             "gridcolor": "white",
             "linecolor": "white",
             "minorgridcolor": "white",
             "startlinecolor": "#2a3f5f"
            },
            "type": "carpet"
           }
          ],
          "choropleth": [
           {
            "colorbar": {
             "outlinewidth": 0,
             "ticks": ""
            },
            "type": "choropleth"
           }
          ],
          "contour": [
           {
            "colorbar": {
             "outlinewidth": 0,
             "ticks": ""
            },
            "colorscale": [
             [
              0,
              "#0d0887"
             ],
             [
              0.1111111111111111,
              "#46039f"
             ],
             [
              0.2222222222222222,
              "#7201a8"
             ],
             [
              0.3333333333333333,
              "#9c179e"
             ],
             [
              0.4444444444444444,
              "#bd3786"
             ],
             [
              0.5555555555555556,
              "#d8576b"
             ],
             [
              0.6666666666666666,
              "#ed7953"
             ],
             [
              0.7777777777777778,
              "#fb9f3a"
             ],
             [
              0.8888888888888888,
              "#fdca26"
             ],
             [
              1,
              "#f0f921"
             ]
            ],
            "type": "contour"
           }
          ],
          "contourcarpet": [
           {
            "colorbar": {
             "outlinewidth": 0,
             "ticks": ""
            },
            "type": "contourcarpet"
           }
          ],
          "heatmap": [
           {
            "colorbar": {
             "outlinewidth": 0,
             "ticks": ""
            },
            "colorscale": [
             [
              0,
              "#0d0887"
             ],
             [
              0.1111111111111111,
              "#46039f"
             ],
             [
              0.2222222222222222,
              "#7201a8"
             ],
             [
              0.3333333333333333,
              "#9c179e"
             ],
             [
              0.4444444444444444,
              "#bd3786"
             ],
             [
              0.5555555555555556,
              "#d8576b"
             ],
             [
              0.6666666666666666,
              "#ed7953"
             ],
             [
              0.7777777777777778,
              "#fb9f3a"
             ],
             [
              0.8888888888888888,
              "#fdca26"
             ],
             [
              1,
              "#f0f921"
             ]
            ],
            "type": "heatmap"
           }
          ],
          "heatmapgl": [
           {
            "colorbar": {
             "outlinewidth": 0,
             "ticks": ""
            },
            "colorscale": [
             [
              0,
              "#0d0887"
             ],
             [
              0.1111111111111111,
              "#46039f"
             ],
             [
              0.2222222222222222,
              "#7201a8"
             ],
             [
              0.3333333333333333,
              "#9c179e"
             ],
             [
              0.4444444444444444,
              "#bd3786"
             ],
             [
              0.5555555555555556,
              "#d8576b"
             ],
             [
              0.6666666666666666,
              "#ed7953"
             ],
             [
              0.7777777777777778,
              "#fb9f3a"
             ],
             [
              0.8888888888888888,
              "#fdca26"
             ],
             [
              1,
              "#f0f921"
             ]
            ],
            "type": "heatmapgl"
           }
          ],
          "histogram": [
           {
            "marker": {
             "pattern": {
              "fillmode": "overlay",
              "size": 10,
              "solidity": 0.2
             }
            },
            "type": "histogram"
           }
          ],
          "histogram2d": [
           {
            "colorbar": {
             "outlinewidth": 0,
             "ticks": ""
            },
            "colorscale": [
             [
              0,
              "#0d0887"
             ],
             [
              0.1111111111111111,
              "#46039f"
             ],
             [
              0.2222222222222222,
              "#7201a8"
             ],
             [
              0.3333333333333333,
              "#9c179e"
             ],
             [
              0.4444444444444444,
              "#bd3786"
             ],
             [
              0.5555555555555556,
              "#d8576b"
             ],
             [
              0.6666666666666666,
              "#ed7953"
             ],
             [
              0.7777777777777778,
              "#fb9f3a"
             ],
             [
              0.8888888888888888,
              "#fdca26"
             ],
             [
              1,
              "#f0f921"
             ]
            ],
            "type": "histogram2d"
           }
          ],
          "histogram2dcontour": [
           {
            "colorbar": {
             "outlinewidth": 0,
             "ticks": ""
            },
            "colorscale": [
             [
              0,
              "#0d0887"
             ],
             [
              0.1111111111111111,
              "#46039f"
             ],
             [
              0.2222222222222222,
              "#7201a8"
             ],
             [
              0.3333333333333333,
              "#9c179e"
             ],
             [
              0.4444444444444444,
              "#bd3786"
             ],
             [
              0.5555555555555556,
              "#d8576b"
             ],
             [
              0.6666666666666666,
              "#ed7953"
             ],
             [
              0.7777777777777778,
              "#fb9f3a"
             ],
             [
              0.8888888888888888,
              "#fdca26"
             ],
             [
              1,
              "#f0f921"
             ]
            ],
            "type": "histogram2dcontour"
           }
          ],
          "mesh3d": [
           {
            "colorbar": {
             "outlinewidth": 0,
             "ticks": ""
            },
            "type": "mesh3d"
           }
          ],
          "parcoords": [
           {
            "line": {
             "colorbar": {
              "outlinewidth": 0,
              "ticks": ""
             }
            },
            "type": "parcoords"
           }
          ],
          "pie": [
           {
            "automargin": true,
            "type": "pie"
           }
          ],
          "scatter": [
           {
            "fillpattern": {
             "fillmode": "overlay",
             "size": 10,
             "solidity": 0.2
            },
            "type": "scatter"
           }
          ],
          "scatter3d": [
           {
            "line": {
             "colorbar": {
              "outlinewidth": 0,
              "ticks": ""
             }
            },
            "marker": {
             "colorbar": {
              "outlinewidth": 0,
              "ticks": ""
             }
            },
            "type": "scatter3d"
           }
          ],
          "scattercarpet": [
           {
            "marker": {
             "colorbar": {
              "outlinewidth": 0,
              "ticks": ""
             }
            },
            "type": "scattercarpet"
           }
          ],
          "scattergeo": [
           {
            "marker": {
             "colorbar": {
              "outlinewidth": 0,
              "ticks": ""
             }
            },
            "type": "scattergeo"
           }
          ],
          "scattergl": [
           {
            "marker": {
             "colorbar": {
              "outlinewidth": 0,
              "ticks": ""
             }
            },
            "type": "scattergl"
           }
          ],
          "scattermapbox": [
           {
            "marker": {
             "colorbar": {
              "outlinewidth": 0,
              "ticks": ""
             }
            },
            "type": "scattermapbox"
           }
          ],
          "scatterpolar": [
           {
            "marker": {
             "colorbar": {
              "outlinewidth": 0,
              "ticks": ""
             }
            },
            "type": "scatterpolar"
           }
          ],
          "scatterpolargl": [
           {
            "marker": {
             "colorbar": {
              "outlinewidth": 0,
              "ticks": ""
             }
            },
            "type": "scatterpolargl"
           }
          ],
          "scatterternary": [
           {
            "marker": {
             "colorbar": {
              "outlinewidth": 0,
              "ticks": ""
             }
            },
            "type": "scatterternary"
           }
          ],
          "surface": [
           {
            "colorbar": {
             "outlinewidth": 0,
             "ticks": ""
            },
            "colorscale": [
             [
              0,
              "#0d0887"
             ],
             [
              0.1111111111111111,
              "#46039f"
             ],
             [
              0.2222222222222222,
              "#7201a8"
             ],
             [
              0.3333333333333333,
              "#9c179e"
             ],
             [
              0.4444444444444444,
              "#bd3786"
             ],
             [
              0.5555555555555556,
              "#d8576b"
             ],
             [
              0.6666666666666666,
              "#ed7953"
             ],
             [
              0.7777777777777778,
              "#fb9f3a"
             ],
             [
              0.8888888888888888,
              "#fdca26"
             ],
             [
              1,
              "#f0f921"
             ]
            ],
            "type": "surface"
           }
          ],
          "table": [
           {
            "cells": {
             "fill": {
              "color": "#EBF0F8"
             },
             "line": {
              "color": "white"
             }
            },
            "header": {
             "fill": {
              "color": "#C8D4E3"
             },
             "line": {
              "color": "white"
             }
            },
            "type": "table"
           }
          ]
         },
         "layout": {
          "annotationdefaults": {
           "arrowcolor": "#2a3f5f",
           "arrowhead": 0,
           "arrowwidth": 1
          },
          "autotypenumbers": "strict",
          "coloraxis": {
           "colorbar": {
            "outlinewidth": 0,
            "ticks": ""
           }
          },
          "colorscale": {
           "diverging": [
            [
             0,
             "#8e0152"
            ],
            [
             0.1,
             "#c51b7d"
            ],
            [
             0.2,
             "#de77ae"
            ],
            [
             0.3,
             "#f1b6da"
            ],
            [
             0.4,
             "#fde0ef"
            ],
            [
             0.5,
             "#f7f7f7"
            ],
            [
             0.6,
             "#e6f5d0"
            ],
            [
             0.7,
             "#b8e186"
            ],
            [
             0.8,
             "#7fbc41"
            ],
            [
             0.9,
             "#4d9221"
            ],
            [
             1,
             "#276419"
            ]
           ],
           "sequential": [
            [
             0,
             "#0d0887"
            ],
            [
             0.1111111111111111,
             "#46039f"
            ],
            [
             0.2222222222222222,
             "#7201a8"
            ],
            [
             0.3333333333333333,
             "#9c179e"
            ],
            [
             0.4444444444444444,
             "#bd3786"
            ],
            [
             0.5555555555555556,
             "#d8576b"
            ],
            [
             0.6666666666666666,
             "#ed7953"
            ],
            [
             0.7777777777777778,
             "#fb9f3a"
            ],
            [
             0.8888888888888888,
             "#fdca26"
            ],
            [
             1,
             "#f0f921"
            ]
           ],
           "sequentialminus": [
            [
             0,
             "#0d0887"
            ],
            [
             0.1111111111111111,
             "#46039f"
            ],
            [
             0.2222222222222222,
             "#7201a8"
            ],
            [
             0.3333333333333333,
             "#9c179e"
            ],
            [
             0.4444444444444444,
             "#bd3786"
            ],
            [
             0.5555555555555556,
             "#d8576b"
            ],
            [
             0.6666666666666666,
             "#ed7953"
            ],
            [
             0.7777777777777778,
             "#fb9f3a"
            ],
            [
             0.8888888888888888,
             "#fdca26"
            ],
            [
             1,
             "#f0f921"
            ]
           ]
          },
          "colorway": [
           "#636efa",
           "#EF553B",
           "#00cc96",
           "#ab63fa",
           "#FFA15A",
           "#19d3f3",
           "#FF6692",
           "#B6E880",
           "#FF97FF",
           "#FECB52"
          ],
          "font": {
           "color": "#2a3f5f"
          },
          "geo": {
           "bgcolor": "white",
           "lakecolor": "white",
           "landcolor": "#E5ECF6",
           "showlakes": true,
           "showland": true,
           "subunitcolor": "white"
          },
          "hoverlabel": {
           "align": "left"
          },
          "hovermode": "closest",
          "mapbox": {
           "style": "light"
          },
          "paper_bgcolor": "white",
          "plot_bgcolor": "#E5ECF6",
          "polar": {
           "angularaxis": {
            "gridcolor": "white",
            "linecolor": "white",
            "ticks": ""
           },
           "bgcolor": "#E5ECF6",
           "radialaxis": {
            "gridcolor": "white",
            "linecolor": "white",
            "ticks": ""
           }
          },
          "scene": {
           "xaxis": {
            "backgroundcolor": "#E5ECF6",
            "gridcolor": "white",
            "gridwidth": 2,
            "linecolor": "white",
            "showbackground": true,
            "ticks": "",
            "zerolinecolor": "white"
           },
           "yaxis": {
            "backgroundcolor": "#E5ECF6",
            "gridcolor": "white",
            "gridwidth": 2,
            "linecolor": "white",
            "showbackground": true,
            "ticks": "",
            "zerolinecolor": "white"
           },
           "zaxis": {
            "backgroundcolor": "#E5ECF6",
            "gridcolor": "white",
            "gridwidth": 2,
            "linecolor": "white",
            "showbackground": true,
            "ticks": "",
            "zerolinecolor": "white"
           }
          },
          "shapedefaults": {
           "line": {
            "color": "#2a3f5f"
           }
          },
          "ternary": {
           "aaxis": {
            "gridcolor": "white",
            "linecolor": "white",
            "ticks": ""
           },
           "baxis": {
            "gridcolor": "white",
            "linecolor": "white",
            "ticks": ""
           },
           "bgcolor": "#E5ECF6",
           "caxis": {
            "gridcolor": "white",
            "linecolor": "white",
            "ticks": ""
           }
          },
          "title": {
           "x": 0.05
          },
          "xaxis": {
           "automargin": true,
           "gridcolor": "white",
           "linecolor": "white",
           "ticks": "",
           "title": {
            "standoff": 15
           },
           "zerolinecolor": "white",
           "zerolinewidth": 2
          },
          "yaxis": {
           "automargin": true,
           "gridcolor": "white",
           "linecolor": "white",
           "ticks": "",
           "title": {
            "standoff": 15
           },
           "zerolinecolor": "white",
           "zerolinewidth": 2
          }
         }
        },
        "title": {
         "font": {
          "color": "#4D5663"
         }
        },
        "xaxis": {
         "autorange": true,
         "gridcolor": "#E1E5ED",
         "range": [
          -2.6999999999999993,
          2.4999999999999996
         ],
         "showgrid": true,
         "tickfont": {
          "color": "#4D5663"
         },
         "title": {
          "font": {
           "color": "#4D5663"
          },
          "text": ""
         },
         "type": "linear",
         "zerolinecolor": "#E1E5ED"
        },
        "yaxis": {
         "autorange": true,
         "gridcolor": "#E1E5ED",
         "range": [
          0,
          11.578947368421053
         ],
         "showgrid": true,
         "tickfont": {
          "color": "#4D5663"
         },
         "title": {
          "font": {
           "color": "#4D5663"
          },
          "text": ""
         },
         "zerolinecolor": "#E1E5ED"
        }
       }
      },
      "image/png": "[encoded data removed]",
      "text/html": [
       "<div>                            <div id=\"dbd307f2-9009-4de0-928f-74e569d24f4e\" class=\"plotly-graph-div\" style=\"height:525px; width:100%;\"></div>            <script type=\"text/javascript\">                require([\"plotly\"], function(Plotly) {                    window.PLOTLYENV=window.PLOTLYENV || {};\n",
       "                    window.PLOTLYENV.BASE_URL='https://plot.ly';                                    if (document.getElementById(\"dbd307f2-9009-4de0-928f-74e569d24f4e\")) {                    Plotly.newPlot(                        \"dbd307f2-9009-4de0-928f-74e569d24f4e\",                        [{\"histfunc\":\"count\",\"histnorm\":\"\",\"marker\":{\"color\":\"rgba(255, 153, 51, 1.0)\",\"line\":{\"color\":\"#4D5663\",\"width\":1.3}},\"name\":\"A\",\"nbinsx\":25,\"opacity\":0.8,\"orientation\":\"v\",\"x\":[-0.8028561302251124,1.479302388301489,0.09259836950276953,-0.512200866745337,0.8576238983724528,0.6085497404944062,-0.788223295517952,0.9761665209278051,2.238690887893208,1.3490247594088083,0.737059096870889,0.3026134531782889,-0.7957217706029994,0.33823616570030324,0.19196824309714583,-0.4698312480273544,0.4301162469854865,1.1815924579324193,0.2274535937715395,-1.5943306169668727,0.12493303310468025,0.7975876609059102,0.09593279290044807,-0.19719809096164162,1.6565466613065052,0.4501760595795119,-0.02886866437548703,0.16505807536954564,1.124836055486245,2.049975322070444,-0.033165046880216376,0.7801630412932541,0.028285298355942425,-1.2989262631774416,1.3012174059227228,0.15728220307540158,-0.31316077721117375,-1.1747533327607587,1.7069413233814477,0.07419368467184914,-1.147529248600138,0.30864584269972306,-1.2793699272497943,-1.1249859442345558,0.2831314824771736,-0.18716951345172192,-1.090356868475828,1.9293517124623794,2.3684113403376057,-0.7988882319337831,1.6038153380009872,-1.2288347702724813,-1.201690996947852,-0.6607024240946915,1.8446345228914234,-0.9936737748233865,0.4870909728145924,0.0635477755521646,0.32357734017082884,0.06832369257774945,1.103825118434115,-0.7645127908507001,-1.3676473832933946,0.46402104480674794,0.15452847403977235,-0.6061958034619276,0.22205129416545974,-0.7962583172868609,-1.5584080382815726,0.5989046805601863,-0.6782957556343797,0.18020677123740392,0.19287312831057887,-0.1369071911530954,-1.0966518041958313,-0.4137103383439439,0.8408784953202832,-0.26466856360948776,-2.599861296100724,-0.543503678619246,-1.0601507878835457,-1.4366314663310211,-0.5783918179279967,-0.35904402150393355,-0.8532029670981947,-0.0668865536827716,0.3482385301768811,-0.43769557904928835,1.5562474048025967,-1.2058652048168754,0.012743990748052518,0.0525324102625891,0.40393559040764987,-0.3194053660387816,-0.7515950497771627,-1.6911968013479222,-1.0664557829608285,-1.4918263253090283,0.44400403329900645,-0.5245696570792404],\"type\":\"histogram\"}],                        {\"barmode\":\"overlay\",\"legend\":{\"bgcolor\":\"#F5F6F9\",\"font\":{\"color\":\"#4D5663\"}},\"paper_bgcolor\":\"#F5F6F9\",\"plot_bgcolor\":\"#F5F6F9\",\"template\":{\"data\":{\"barpolar\":[{\"marker\":{\"line\":{\"color\":\"#E5ECF6\",\"width\":0.5},\"pattern\":{\"fillmode\":\"overlay\",\"size\":10,\"solidity\":0.2}},\"type\":\"barpolar\"}],\"bar\":[{\"error_x\":{\"color\":\"#2a3f5f\"},\"error_y\":{\"color\":\"#2a3f5f\"},\"marker\":{\"line\":{\"color\":\"#E5ECF6\",\"width\":0.5},\"pattern\":{\"fillmode\":\"overlay\",\"size\":10,\"solidity\":0.2}},\"type\":\"bar\"}],\"carpet\":[{\"aaxis\":{\"endlinecolor\":\"#2a3f5f\",\"gridcolor\":\"white\",\"linecolor\":\"white\",\"minorgridcolor\":\"white\",\"startlinecolor\":\"#2a3f5f\"},\"baxis\":{\"endlinecolor\":\"#2a3f5f\",\"gridcolor\":\"white\",\"linecolor\":\"white\",\"minorgridcolor\":\"white\",\"startlinecolor\":\"#2a3f5f\"},\"type\":\"carpet\"}],\"choropleth\":[{\"colorbar\":{\"outlinewidth\":0,\"ticks\":\"\"},\"type\":\"choropleth\"}],\"contourcarpet\":[{\"colorbar\":{\"outlinewidth\":0,\"ticks\":\"\"},\"type\":\"contourcarpet\"}],\"contour\":[{\"colorbar\":{\"outlinewidth\":0,\"ticks\":\"\"},\"colorscale\":[[0.0,\"#0d0887\"],[0.1111111111111111,\"#46039f\"],[0.2222222222222222,\"#7201a8\"],[0.3333333333333333,\"#9c179e\"],[0.4444444444444444,\"#bd3786\"],[0.5555555555555556,\"#d8576b\"],[0.6666666666666666,\"#ed7953\"],[0.7777777777777778,\"#fb9f3a\"],[0.8888888888888888,\"#fdca26\"],[1.0,\"#f0f921\"]],\"type\":\"contour\"}],\"heatmapgl\":[{\"colorbar\":{\"outlinewidth\":0,\"ticks\":\"\"},\"colorscale\":[[0.0,\"#0d0887\"],[0.1111111111111111,\"#46039f\"],[0.2222222222222222,\"#7201a8\"],[0.3333333333333333,\"#9c179e\"],[0.4444444444444444,\"#bd3786\"],[0.5555555555555556,\"#d8576b\"],[0.6666666666666666,\"#ed7953\"],[0.7777777777777778,\"#fb9f3a\"],[0.8888888888888888,\"#fdca26\"],[1.0,\"#f0f921\"]],\"type\":\"heatmapgl\"}],\"heatmap\":[{\"colorbar\":{\"outlinewidth\":0,\"ticks\":\"\"},\"colorscale\":[[0.0,\"#0d0887\"],[0.1111111111111111,\"#46039f\"],[0.2222222222222222,\"#7201a8\"],[0.3333333333333333,\"#9c179e\"],[0.4444444444444444,\"#bd3786\"],[0.5555555555555556,\"#d8576b\"],[0.6666666666666666,\"#ed7953\"],[0.7777777777777778,\"#fb9f3a\"],[0.8888888888888888,\"#fdca26\"],[1.0,\"#f0f921\"]],\"type\":\"heatmap\"}],\"histogram2dcontour\":[{\"colorbar\":{\"outlinewidth\":0,\"ticks\":\"\"},\"colorscale\":[[0.0,\"#0d0887\"],[0.1111111111111111,\"#46039f\"],[0.2222222222222222,\"#7201a8\"],[0.3333333333333333,\"#9c179e\"],[0.4444444444444444,\"#bd3786\"],[0.5555555555555556,\"#d8576b\"],[0.6666666666666666,\"#ed7953\"],[0.7777777777777778,\"#fb9f3a\"],[0.8888888888888888,\"#fdca26\"],[1.0,\"#f0f921\"]],\"type\":\"histogram2dcontour\"}],\"histogram2d\":[{\"colorbar\":{\"outlinewidth\":0,\"ticks\":\"\"},\"colorscale\":[[0.0,\"#0d0887\"],[0.1111111111111111,\"#46039f\"],[0.2222222222222222,\"#7201a8\"],[0.3333333333333333,\"#9c179e\"],[0.4444444444444444,\"#bd3786\"],[0.5555555555555556,\"#d8576b\"],[0.6666666666666666,\"#ed7953\"],[0.7777777777777778,\"#fb9f3a\"],[0.8888888888888888,\"#fdca26\"],[1.0,\"#f0f921\"]],\"type\":\"histogram2d\"}],\"histogram\":[{\"marker\":{\"pattern\":{\"fillmode\":\"overlay\",\"size\":10,\"solidity\":0.2}},\"type\":\"histogram\"}],\"mesh3d\":[{\"colorbar\":{\"outlinewidth\":0,\"ticks\":\"\"},\"type\":\"mesh3d\"}],\"parcoords\":[{\"line\":{\"colorbar\":{\"outlinewidth\":0,\"ticks\":\"\"}},\"type\":\"parcoords\"}],\"pie\":[{\"automargin\":true,\"type\":\"pie\"}],\"scatter3d\":[{\"line\":{\"colorbar\":{\"outlinewidth\":0,\"ticks\":\"\"}},\"marker\":{\"colorbar\":{\"outlinewidth\":0,\"ticks\":\"\"}},\"type\":\"scatter3d\"}],\"scattercarpet\":[{\"marker\":{\"colorbar\":{\"outlinewidth\":0,\"ticks\":\"\"}},\"type\":\"scattercarpet\"}],\"scattergeo\":[{\"marker\":{\"colorbar\":{\"outlinewidth\":0,\"ticks\":\"\"}},\"type\":\"scattergeo\"}],\"scattergl\":[{\"marker\":{\"colorbar\":{\"outlinewidth\":0,\"ticks\":\"\"}},\"type\":\"scattergl\"}],\"scattermapbox\":[{\"marker\":{\"colorbar\":{\"outlinewidth\":0,\"ticks\":\"\"}},\"type\":\"scattermapbox\"}],\"scatterpolargl\":[{\"marker\":{\"colorbar\":{\"outlinewidth\":0,\"ticks\":\"\"}},\"type\":\"scatterpolargl\"}],\"scatterpolar\":[{\"marker\":{\"colorbar\":{\"outlinewidth\":0,\"ticks\":\"\"}},\"type\":\"scatterpolar\"}],\"scatter\":[{\"fillpattern\":{\"fillmode\":\"overlay\",\"size\":10,\"solidity\":0.2},\"type\":\"scatter\"}],\"scatterternary\":[{\"marker\":{\"colorbar\":{\"outlinewidth\":0,\"ticks\":\"\"}},\"type\":\"scatterternary\"}],\"surface\":[{\"colorbar\":{\"outlinewidth\":0,\"ticks\":\"\"},\"colorscale\":[[0.0,\"#0d0887\"],[0.1111111111111111,\"#46039f\"],[0.2222222222222222,\"#7201a8\"],[0.3333333333333333,\"#9c179e\"],[0.4444444444444444,\"#bd3786\"],[0.5555555555555556,\"#d8576b\"],[0.6666666666666666,\"#ed7953\"],[0.7777777777777778,\"#fb9f3a\"],[0.8888888888888888,\"#fdca26\"],[1.0,\"#f0f921\"]],\"type\":\"surface\"}],\"table\":[{\"cells\":{\"fill\":{\"color\":\"#EBF0F8\"},\"line\":{\"color\":\"white\"}},\"header\":{\"fill\":{\"color\":\"#C8D4E3\"},\"line\":{\"color\":\"white\"}},\"type\":\"table\"}]},\"layout\":{\"annotationdefaults\":{\"arrowcolor\":\"#2a3f5f\",\"arrowhead\":0,\"arrowwidth\":1},\"autotypenumbers\":\"strict\",\"coloraxis\":{\"colorbar\":{\"outlinewidth\":0,\"ticks\":\"\"}},\"colorscale\":{\"diverging\":[[0,\"#8e0152\"],[0.1,\"#c51b7d\"],[0.2,\"#de77ae\"],[0.3,\"#f1b6da\"],[0.4,\"#fde0ef\"],[0.5,\"#f7f7f7\"],[0.6,\"#e6f5d0\"],[0.7,\"#b8e186\"],[0.8,\"#7fbc41\"],[0.9,\"#4d9221\"],[1,\"#276419\"]],\"sequential\":[[0.0,\"#0d0887\"],[0.1111111111111111,\"#46039f\"],[0.2222222222222222,\"#7201a8\"],[0.3333333333333333,\"#9c179e\"],[0.4444444444444444,\"#bd3786\"],[0.5555555555555556,\"#d8576b\"],[0.6666666666666666,\"#ed7953\"],[0.7777777777777778,\"#fb9f3a\"],[0.8888888888888888,\"#fdca26\"],[1.0,\"#f0f921\"]],\"sequentialminus\":[[0.0,\"#0d0887\"],[0.1111111111111111,\"#46039f\"],[0.2222222222222222,\"#7201a8\"],[0.3333333333333333,\"#9c179e\"],[0.4444444444444444,\"#bd3786\"],[0.5555555555555556,\"#d8576b\"],[0.6666666666666666,\"#ed7953\"],[0.7777777777777778,\"#fb9f3a\"],[0.8888888888888888,\"#fdca26\"],[1.0,\"#f0f921\"]]},\"colorway\":[\"#636efa\",\"#EF553B\",\"#00cc96\",\"#ab63fa\",\"#FFA15A\",\"#19d3f3\",\"#FF6692\",\"#B6E880\",\"#FF97FF\",\"#FECB52\"],\"font\":{\"color\":\"#2a3f5f\"},\"geo\":{\"bgcolor\":\"white\",\"lakecolor\":\"white\",\"landcolor\":\"#E5ECF6\",\"showlakes\":true,\"showland\":true,\"subunitcolor\":\"white\"},\"hoverlabel\":{\"align\":\"left\"},\"hovermode\":\"closest\",\"mapbox\":{\"style\":\"light\"},\"paper_bgcolor\":\"white\",\"plot_bgcolor\":\"#E5ECF6\",\"polar\":{\"angularaxis\":{\"gridcolor\":\"white\",\"linecolor\":\"white\",\"ticks\":\"\"},\"bgcolor\":\"#E5ECF6\",\"radialaxis\":{\"gridcolor\":\"white\",\"linecolor\":\"white\",\"ticks\":\"\"}},\"scene\":{\"xaxis\":{\"backgroundcolor\":\"#E5ECF6\",\"gridcolor\":\"white\",\"gridwidth\":2,\"linecolor\":\"white\",\"showbackground\":true,\"ticks\":\"\",\"zerolinecolor\":\"white\"},\"yaxis\":{\"backgroundcolor\":\"#E5ECF6\",\"gridcolor\":\"white\",\"gridwidth\":2,\"linecolor\":\"white\",\"showbackground\":true,\"ticks\":\"\",\"zerolinecolor\":\"white\"},\"zaxis\":{\"backgroundcolor\":\"#E5ECF6\",\"gridcolor\":\"white\",\"gridwidth\":2,\"linecolor\":\"white\",\"showbackground\":true,\"ticks\":\"\",\"zerolinecolor\":\"white\"}},\"shapedefaults\":{\"line\":{\"color\":\"#2a3f5f\"}},\"ternary\":{\"aaxis\":{\"gridcolor\":\"white\",\"linecolor\":\"white\",\"ticks\":\"\"},\"baxis\":{\"gridcolor\":\"white\",\"linecolor\":\"white\",\"ticks\":\"\"},\"bgcolor\":\"#E5ECF6\",\"caxis\":{\"gridcolor\":\"white\",\"linecolor\":\"white\",\"ticks\":\"\"}},\"title\":{\"x\":0.05},\"xaxis\":{\"automargin\":true,\"gridcolor\":\"white\",\"linecolor\":\"white\",\"ticks\":\"\",\"title\":{\"standoff\":15},\"zerolinecolor\":\"white\",\"zerolinewidth\":2},\"yaxis\":{\"automargin\":true,\"gridcolor\":\"white\",\"linecolor\":\"white\",\"ticks\":\"\",\"title\":{\"standoff\":15},\"zerolinecolor\":\"white\",\"zerolinewidth\":2}}},\"title\":{\"font\":{\"color\":\"#4D5663\"}},\"xaxis\":{\"gridcolor\":\"#E1E5ED\",\"showgrid\":true,\"tickfont\":{\"color\":\"#4D5663\"},\"title\":{\"font\":{\"color\":\"#4D5663\"},\"text\":\"\"},\"zerolinecolor\":\"#E1E5ED\"},\"yaxis\":{\"gridcolor\":\"#E1E5ED\",\"showgrid\":true,\"tickfont\":{\"color\":\"#4D5663\"},\"title\":{\"font\":{\"color\":\"#4D5663\"},\"text\":\"\"},\"zerolinecolor\":\"#E1E5ED\"}},                        {\"showLink\": true, \"linkText\": \"Export to plot.ly\", \"plotlyServerURL\": \"https://plot.ly\", \"responsive\": true}                    ).then(function(){\n",
       "                            \n",
       "var gd = document.getElementById('dbd307f2-9009-4de0-928f-74e569d24f4e');\n",
       "var x = new MutationObserver(function (mutations, observer) {{\n",
       "        var display = window.getComputedStyle(gd).display;\n",
       "        if (!display || display === 'none') {{\n",
       "            console.log([gd, 'removed!']);\n",
       "            Plotly.purge(gd);\n",
       "            observer.disconnect();\n",
       "        }}\n",
       "}});\n",
       "\n",
       "// Listen for the removal of the full notebook cells\n",
       "var notebookContainer = gd.closest('#notebook-container');\n",
       "if (notebookContainer) {{\n",
       "    x.observe(notebookContainer, {childList: true});\n",
       "}}\n",
       "\n",
       "// Listen for the clearing of the current output cell\n",
       "var outputEl = gd.closest('.output');\n",
       "if (outputEl) {{\n",
       "    x.observe(outputEl, {childList: true});\n",
       "}}\n",
       "\n",
       "                        })                };                });            </script>        </div>"
      ]
     },
     "metadata": {},
     "output_type": "display_data"
    }
   ],
   "source": [
    "df['A'].iplot(kind='hist',bins=25)"
   ]
  },
  {
   "cell_type": "code",
   "execution_count": 18,
   "metadata": {
    "collapsed": false,
    "jupyter": {
     "outputs_hidden": false
    }
   },
   "outputs": [
    {
     "data": {
      "application/vnd.plotly.v1+json": {
       "config": {
        "linkText": "Export to plot.ly",
        "plotlyServerURL": "https://plot.ly",
        "showLink": true
       },
       "data": [
        {
         "marker": {
          "color": [
           "rgb(255, 153, 51)",
           "rgb(55, 128, 191)",
           "rgb(50, 171, 96)",
           "rgb(128, 0, 128)",
           "rgb(219, 64, 82)",
           "rgb(0, 128, 128)",
           "rgb(255, 255, 51)",
           "rgb(128, 128, 0)",
           "rgb(251, 128, 114)",
           "rgb(128, 177, 211)"
          ],
          "line": {
           "width": 1.3
          },
          "size": [
           81,
           91,
           112,
           91,
           104,
           22,
           102,
           52,
           25,
           41,
           65,
           56,
           24,
           83,
           23,
           50,
           86,
           80,
           66,
           39,
           37,
           63,
           55,
           53,
           28,
           74,
           88,
           68,
           81,
           64,
           75,
           48,
           74,
           49,
           37,
           101,
           65,
           100,
           92,
           57,
           70,
           39,
           69,
           68,
           40,
           50,
           36,
           102,
           74,
           46,
           77,
           35,
           64,
           96,
           101,
           61,
           60,
           92,
           53,
           73,
           89,
           35,
           53,
           85,
           76,
           43,
           105,
           69,
           63,
           31,
           60,
           95,
           21,
           64,
           84,
           87,
           36,
           71,
           65,
           40,
           15,
           45,
           38,
           68,
           54,
           64,
           46,
           71,
           50,
           29,
           46,
           91,
           66,
           45,
           51,
           47,
           65,
           12,
           73,
           65
          ],
          "symbol": "circle"
         },
         "mode": "markers",
         "text": "",
         "type": "scatter",
         "x": [
          -0.8028561302251124,
          1.479302388301489,
          0.09259836950276953,
          -0.512200866745337,
          0.8576238983724528,
          0.6085497404944062,
          -0.788223295517952,
          0.9761665209278051,
          2.238690887893208,
          1.3490247594088083,
          0.737059096870889,
          0.3026134531782889,
          -0.7957217706029994,
          0.33823616570030324,
          0.19196824309714583,
          -0.4698312480273544,
          0.4301162469854865,
          1.1815924579324193,
          0.2274535937715395,
          -1.5943306169668727,
          0.12493303310468025,
          0.7975876609059102,
          0.09593279290044807,
          -0.19719809096164162,
          1.6565466613065052,
          0.4501760595795119,
          -0.02886866437548703,
          0.16505807536954564,
          1.124836055486245,
          2.049975322070444,
          -0.033165046880216376,
          0.7801630412932541,
          0.028285298355942425,
          -1.2989262631774416,
          1.3012174059227228,
          0.15728220307540158,
          -0.31316077721117375,
          -1.1747533327607587,
          1.7069413233814477,
          0.07419368467184914,
          -1.147529248600138,
          0.30864584269972306,
          -1.2793699272497943,
          -1.1249859442345558,
          0.2831314824771736,
          -0.18716951345172192,
          -1.090356868475828,
          1.9293517124623794,
          2.3684113403376057,
          -0.7988882319337831,
          1.6038153380009872,
          -1.2288347702724813,
          -1.201690996947852,
          -0.6607024240946915,
          1.8446345228914234,
          -0.9936737748233865,
          0.4870909728145924,
          0.0635477755521646,
          0.32357734017082884,
          0.06832369257774945,
          1.103825118434115,
          -0.7645127908507001,
          -1.3676473832933946,
          0.46402104480674794,
          0.15452847403977235,
          -0.6061958034619276,
          0.22205129416545974,
          -0.7962583172868609,
          -1.5584080382815726,
          0.5989046805601863,
          -0.6782957556343797,
          0.18020677123740392,
          0.19287312831057887,
          -0.1369071911530954,
          -1.0966518041958313,
          -0.4137103383439439,
          0.8408784953202832,
          -0.26466856360948776,
          -2.599861296100724,
          -0.543503678619246,
          -1.0601507878835457,
          -1.4366314663310211,
          -0.5783918179279967,
          -0.35904402150393355,
          -0.8532029670981947,
          -0.0668865536827716,
          0.3482385301768811,
          -0.43769557904928835,
          1.5562474048025967,
          -1.2058652048168754,
          0.012743990748052518,
          0.0525324102625891,
          0.40393559040764987,
          -0.3194053660387816,
          -0.7515950497771627,
          -1.6911968013479222,
          -1.0664557829608285,
          -1.4918263253090283,
          0.44400403329900645,
          -0.5245696570792404
         ],
         "y": [
          -2.4154271826055687,
          0.2281163742403504,
          1.023638806068143,
          -0.42311682261393985,
          1.0460920365897521,
          0.014379125674698972,
          -1.0024753274980267,
          1.2970651067413772,
          -1.4876062324008748,
          -1.2787134920238905,
          -2.255927984437855,
          0.3917658809386741,
          0.8254925127903598,
          0.5167247505647817,
          -0.37885329612876756,
          -1.4465545453597755,
          1.283402522449017,
          -0.13883342228836232,
          -0.819263241038832,
          -0.2875102463290612,
          -0.6084972801612889,
          0.60097337047301,
          -0.38951842733027325,
          1.1383351179567085,
          0.5303220825477065,
          -1.2702935398670259,
          -0.5216055214220926,
          -0.33849718969494463,
          -0.31043838587410905,
          0.1861750117058042,
          -1.3367601455296272,
          -0.13539319664272512,
          -0.04826911800939443,
          1.0137197495851988,
          0.40239706746935344,
          -0.33824853753891115,
          -1.2044670928003556,
          1.2457273930479194,
          -0.3034148106261058,
          0.5007964524725353,
          0.6061265061918621,
          0.10666541063424463,
          -2.555083787197274,
          0.9531398284577858,
          0.8398465183168621,
          0.9303183779340494,
          0.7858951323348161,
          2.527869377884583,
          -0.6051809428312591,
          -0.5272869417373718,
          2.3439665972310224,
          -1.2122096114782646,
          -1.2007273327736605,
          -0.8394630308996531,
          1.02019968517285,
          0.9534146859616777,
          0.056861705035020686,
          -2.003762067954828,
          -0.17404675080271992,
          1.1867630462507908,
          -0.901771137497407,
          1.5324198527172153,
          0.7134995518226834,
          -0.9369721788688021,
          -0.13809992304297572,
          0.3676970458870487,
          -0.009408068072079542,
          -0.22749233880224112,
          1.2160209293891586,
          0.6560409767607005,
          -0.608297820845587,
          0.02471522606611033,
          -0.23314164833860315,
          -0.021381677697893738,
          -1.3206072599621494,
          0.36257703524638424,
          -0.6079356241638769,
          -0.3052512546185061,
          0.3762701311102944,
          0.5832649361771575,
          1.9959564462294366,
          1.4640554173951212,
          -1.0768809643150925,
          0.6393538090437333,
          -2.0425454096017623,
          1.2458691168533944,
          -0.5559855700539201,
          -0.07969304470464499,
          -1.3143013832539345,
          0.12107507633181926,
          0.9639635187378766,
          -0.3194262744208612,
          1.657384793065372,
          -0.9984958934522816,
          -0.28060915556170324,
          0.2032552162774426,
          0.25289516322159433,
          0.13845611158751048,
          0.5732709988184584,
          -0.14753713877560354
         ]
        }
       ],
       "layout": {
        "autosize": true,
        "legend": {
         "bgcolor": "#F5F6F9",
         "font": {
          "color": "#4D5663"
         }
        },
        "paper_bgcolor": "#F5F6F9",
        "plot_bgcolor": "#F5F6F9",
        "template": {
         "data": {
          "bar": [
           {
            "error_x": {
             "color": "#2a3f5f"
            },
            "error_y": {
             "color": "#2a3f5f"
            },
            "marker": {
             "line": {
              "color": "#E5ECF6",
              "width": 0.5
             },
             "pattern": {
              "fillmode": "overlay",
              "size": 10,
              "solidity": 0.2
             }
            },
            "type": "bar"
           }
          ],
          "barpolar": [
           {
            "marker": {
             "line": {
              "color": "#E5ECF6",
              "width": 0.5
             },
             "pattern": {
              "fillmode": "overlay",
              "size": 10,
              "solidity": 0.2
             }
            },
            "type": "barpolar"
           }
          ],
          "carpet": [
           {
            "aaxis": {
             "endlinecolor": "#2a3f5f",
             "gridcolor": "white",
             "linecolor": "white",
             "minorgridcolor": "white",
             "startlinecolor": "#2a3f5f"
            },
            "baxis": {
             "endlinecolor": "#2a3f5f",
             "gridcolor": "white",
             "linecolor": "white",
             "minorgridcolor": "white",
             "startlinecolor": "#2a3f5f"
            },
            "type": "carpet"
           }
          ],
          "choropleth": [
           {
            "colorbar": {
             "outlinewidth": 0,
             "ticks": ""
            },
            "type": "choropleth"
           }
          ],
          "contour": [
           {
            "colorbar": {
             "outlinewidth": 0,
             "ticks": ""
            },
            "colorscale": [
             [
              0,
              "#0d0887"
             ],
             [
              0.1111111111111111,
              "#46039f"
             ],
             [
              0.2222222222222222,
              "#7201a8"
             ],
             [
              0.3333333333333333,
              "#9c179e"
             ],
             [
              0.4444444444444444,
              "#bd3786"
             ],
             [
              0.5555555555555556,
              "#d8576b"
             ],
             [
              0.6666666666666666,
              "#ed7953"
             ],
             [
              0.7777777777777778,
              "#fb9f3a"
             ],
             [
              0.8888888888888888,
              "#fdca26"
             ],
             [
              1,
              "#f0f921"
             ]
            ],
            "type": "contour"
           }
          ],
          "contourcarpet": [
           {
            "colorbar": {
             "outlinewidth": 0,
             "ticks": ""
            },
            "type": "contourcarpet"
           }
          ],
          "heatmap": [
           {
            "colorbar": {
             "outlinewidth": 0,
             "ticks": ""
            },
            "colorscale": [
             [
              0,
              "#0d0887"
             ],
             [
              0.1111111111111111,
              "#46039f"
             ],
             [
              0.2222222222222222,
              "#7201a8"
             ],
             [
              0.3333333333333333,
              "#9c179e"
             ],
             [
              0.4444444444444444,
              "#bd3786"
             ],
             [
              0.5555555555555556,
              "#d8576b"
             ],
             [
              0.6666666666666666,
              "#ed7953"
             ],
             [
              0.7777777777777778,
              "#fb9f3a"
             ],
             [
              0.8888888888888888,
              "#fdca26"
             ],
             [
              1,
              "#f0f921"
             ]
            ],
            "type": "heatmap"
           }
          ],
          "heatmapgl": [
           {
            "colorbar": {
             "outlinewidth": 0,
             "ticks": ""
            },
            "colorscale": [
             [
              0,
              "#0d0887"
             ],
             [
              0.1111111111111111,
              "#46039f"
             ],
             [
              0.2222222222222222,
              "#7201a8"
             ],
             [
              0.3333333333333333,
              "#9c179e"
             ],
             [
              0.4444444444444444,
              "#bd3786"
             ],
             [
              0.5555555555555556,
              "#d8576b"
             ],
             [
              0.6666666666666666,
              "#ed7953"
             ],
             [
              0.7777777777777778,
              "#fb9f3a"
             ],
             [
              0.8888888888888888,
              "#fdca26"
             ],
             [
              1,
              "#f0f921"
             ]
            ],
            "type": "heatmapgl"
           }
          ],
          "histogram": [
           {
            "marker": {
             "pattern": {
              "fillmode": "overlay",
              "size": 10,
              "solidity": 0.2
             }
            },
            "type": "histogram"
           }
          ],
          "histogram2d": [
           {
            "colorbar": {
             "outlinewidth": 0,
             "ticks": ""
            },
            "colorscale": [
             [
              0,
              "#0d0887"
             ],
             [
              0.1111111111111111,
              "#46039f"
             ],
             [
              0.2222222222222222,
              "#7201a8"
             ],
             [
              0.3333333333333333,
              "#9c179e"
             ],
             [
              0.4444444444444444,
              "#bd3786"
             ],
             [
              0.5555555555555556,
              "#d8576b"
             ],
             [
              0.6666666666666666,
              "#ed7953"
             ],
             [
              0.7777777777777778,
              "#fb9f3a"
             ],
             [
              0.8888888888888888,
              "#fdca26"
             ],
             [
              1,
              "#f0f921"
             ]
            ],
            "type": "histogram2d"
           }
          ],
          "histogram2dcontour": [
           {
            "colorbar": {
             "outlinewidth": 0,
             "ticks": ""
            },
            "colorscale": [
             [
              0,
              "#0d0887"
             ],
             [
              0.1111111111111111,
              "#46039f"
             ],
             [
              0.2222222222222222,
              "#7201a8"
             ],
             [
              0.3333333333333333,
              "#9c179e"
             ],
             [
              0.4444444444444444,
              "#bd3786"
             ],
             [
              0.5555555555555556,
              "#d8576b"
             ],
             [
              0.6666666666666666,
              "#ed7953"
             ],
             [
              0.7777777777777778,
              "#fb9f3a"
             ],
             [
              0.8888888888888888,
              "#fdca26"
             ],
             [
              1,
              "#f0f921"
             ]
            ],
            "type": "histogram2dcontour"
           }
          ],
          "mesh3d": [
           {
            "colorbar": {
             "outlinewidth": 0,
             "ticks": ""
            },
            "type": "mesh3d"
           }
          ],
          "parcoords": [
           {
            "line": {
             "colorbar": {
              "outlinewidth": 0,
              "ticks": ""
             }
            },
            "type": "parcoords"
           }
          ],
          "pie": [
           {
            "automargin": true,
            "type": "pie"
           }
          ],
          "scatter": [
           {
            "fillpattern": {
             "fillmode": "overlay",
             "size": 10,
             "solidity": 0.2
            },
            "type": "scatter"
           }
          ],
          "scatter3d": [
           {
            "line": {
             "colorbar": {
              "outlinewidth": 0,
              "ticks": ""
             }
            },
            "marker": {
             "colorbar": {
              "outlinewidth": 0,
              "ticks": ""
             }
            },
            "type": "scatter3d"
           }
          ],
          "scattercarpet": [
           {
            "marker": {
             "colorbar": {
              "outlinewidth": 0,
              "ticks": ""
             }
            },
            "type": "scattercarpet"
           }
          ],
          "scattergeo": [
           {
            "marker": {
             "colorbar": {
              "outlinewidth": 0,
              "ticks": ""
             }
            },
            "type": "scattergeo"
           }
          ],
          "scattergl": [
           {
            "marker": {
             "colorbar": {
              "outlinewidth": 0,
              "ticks": ""
             }
            },
            "type": "scattergl"
           }
          ],
          "scattermapbox": [
           {
            "marker": {
             "colorbar": {
              "outlinewidth": 0,
              "ticks": ""
             }
            },
            "type": "scattermapbox"
           }
          ],
          "scatterpolar": [
           {
            "marker": {
             "colorbar": {
              "outlinewidth": 0,
              "ticks": ""
             }
            },
            "type": "scatterpolar"
           }
          ],
          "scatterpolargl": [
           {
            "marker": {
             "colorbar": {
              "outlinewidth": 0,
              "ticks": ""
             }
            },
            "type": "scatterpolargl"
           }
          ],
          "scatterternary": [
           {
            "marker": {
             "colorbar": {
              "outlinewidth": 0,
              "ticks": ""
             }
            },
            "type": "scatterternary"
           }
          ],
          "surface": [
           {
            "colorbar": {
             "outlinewidth": 0,
             "ticks": ""
            },
            "colorscale": [
             [
              0,
              "#0d0887"
             ],
             [
              0.1111111111111111,
              "#46039f"
             ],
             [
              0.2222222222222222,
              "#7201a8"
             ],
             [
              0.3333333333333333,
              "#9c179e"
             ],
             [
              0.4444444444444444,
              "#bd3786"
             ],
             [
              0.5555555555555556,
              "#d8576b"
             ],
             [
              0.6666666666666666,
              "#ed7953"
             ],
             [
              0.7777777777777778,
              "#fb9f3a"
             ],
             [
              0.8888888888888888,
              "#fdca26"
             ],
             [
              1,
              "#f0f921"
             ]
            ],
            "type": "surface"
           }
          ],
          "table": [
           {
            "cells": {
             "fill": {
              "color": "#EBF0F8"
             },
             "line": {
              "color": "white"
             }
            },
            "header": {
             "fill": {
              "color": "#C8D4E3"
             },
             "line": {
              "color": "white"
             }
            },
            "type": "table"
           }
          ]
         },
         "layout": {
          "annotationdefaults": {
           "arrowcolor": "#2a3f5f",
           "arrowhead": 0,
           "arrowwidth": 1
          },
          "autotypenumbers": "strict",
          "coloraxis": {
           "colorbar": {
            "outlinewidth": 0,
            "ticks": ""
           }
          },
          "colorscale": {
           "diverging": [
            [
             0,
             "#8e0152"
            ],
            [
             0.1,
             "#c51b7d"
            ],
            [
             0.2,
             "#de77ae"
            ],
            [
             0.3,
             "#f1b6da"
            ],
            [
             0.4,
             "#fde0ef"
            ],
            [
             0.5,
             "#f7f7f7"
            ],
            [
             0.6,
             "#e6f5d0"
            ],
            [
             0.7,
             "#b8e186"
            ],
            [
             0.8,
             "#7fbc41"
            ],
            [
             0.9,
             "#4d9221"
            ],
            [
             1,
             "#276419"
            ]
           ],
           "sequential": [
            [
             0,
             "#0d0887"
            ],
            [
             0.1111111111111111,
             "#46039f"
            ],
            [
             0.2222222222222222,
             "#7201a8"
            ],
            [
             0.3333333333333333,
             "#9c179e"
            ],
            [
             0.4444444444444444,
             "#bd3786"
            ],
            [
             0.5555555555555556,
             "#d8576b"
            ],
            [
             0.6666666666666666,
             "#ed7953"
            ],
            [
             0.7777777777777778,
             "#fb9f3a"
            ],
            [
             0.8888888888888888,
             "#fdca26"
            ],
            [
             1,
             "#f0f921"
            ]
           ],
           "sequentialminus": [
            [
             0,
             "#0d0887"
            ],
            [
             0.1111111111111111,
             "#46039f"
            ],
            [
             0.2222222222222222,
             "#7201a8"
            ],
            [
             0.3333333333333333,
             "#9c179e"
            ],
            [
             0.4444444444444444,
             "#bd3786"
            ],
            [
             0.5555555555555556,
             "#d8576b"
            ],
            [
             0.6666666666666666,
             "#ed7953"
            ],
            [
             0.7777777777777778,
             "#fb9f3a"
            ],
            [
             0.8888888888888888,
             "#fdca26"
            ],
            [
             1,
             "#f0f921"
            ]
           ]
          },
          "colorway": [
           "#636efa",
           "#EF553B",
           "#00cc96",
           "#ab63fa",
           "#FFA15A",
           "#19d3f3",
           "#FF6692",
           "#B6E880",
           "#FF97FF",
           "#FECB52"
          ],
          "font": {
           "color": "#2a3f5f"
          },
          "geo": {
           "bgcolor": "white",
           "lakecolor": "white",
           "landcolor": "#E5ECF6",
           "showlakes": true,
           "showland": true,
           "subunitcolor": "white"
          },
          "hoverlabel": {
           "align": "left"
          },
          "hovermode": "closest",
          "mapbox": {
           "style": "light"
          },
          "paper_bgcolor": "white",
          "plot_bgcolor": "#E5ECF6",
          "polar": {
           "angularaxis": {
            "gridcolor": "white",
            "linecolor": "white",
            "ticks": ""
           },
           "bgcolor": "#E5ECF6",
           "radialaxis": {
            "gridcolor": "white",
            "linecolor": "white",
            "ticks": ""
           }
          },
          "scene": {
           "xaxis": {
            "backgroundcolor": "#E5ECF6",
            "gridcolor": "white",
            "gridwidth": 2,
            "linecolor": "white",
            "showbackground": true,
            "ticks": "",
            "zerolinecolor": "white"
           },
           "yaxis": {
            "backgroundcolor": "#E5ECF6",
            "gridcolor": "white",
            "gridwidth": 2,
            "linecolor": "white",
            "showbackground": true,
            "ticks": "",
            "zerolinecolor": "white"
           },
           "zaxis": {
            "backgroundcolor": "#E5ECF6",
            "gridcolor": "white",
            "gridwidth": 2,
            "linecolor": "white",
            "showbackground": true,
            "ticks": "",
            "zerolinecolor": "white"
           }
          },
          "shapedefaults": {
           "line": {
            "color": "#2a3f5f"
           }
          },
          "ternary": {
           "aaxis": {
            "gridcolor": "white",
            "linecolor": "white",
            "ticks": ""
           },
           "baxis": {
            "gridcolor": "white",
            "linecolor": "white",
            "ticks": ""
           },
           "bgcolor": "#E5ECF6",
           "caxis": {
            "gridcolor": "white",
            "linecolor": "white",
            "ticks": ""
           }
          },
          "title": {
           "x": 0.05
          },
          "xaxis": {
           "automargin": true,
           "gridcolor": "white",
           "linecolor": "white",
           "ticks": "",
           "title": {
            "standoff": 15
           },
           "zerolinecolor": "white",
           "zerolinewidth": 2
          },
          "yaxis": {
           "automargin": true,
           "gridcolor": "white",
           "linecolor": "white",
           "ticks": "",
           "title": {
            "standoff": 15
           },
           "zerolinecolor": "white",
           "zerolinewidth": 2
          }
         }
        },
        "title": {
         "font": {
          "color": "#4D5663"
         }
        },
        "xaxis": {
         "autorange": true,
         "gridcolor": "#E1E5ED",
         "range": [
          -3.332506323171682,
          3.1575682395686475
         ],
         "showgrid": true,
         "tickfont": {
          "color": "#4D5663"
         },
         "title": {
          "font": {
           "color": "#4D5663"
          },
          "text": ""
         },
         "type": "linear",
         "zerolinecolor": "#E1E5ED"
        },
        "yaxis": {
         "autorange": true,
         "gridcolor": "#E1E5ED",
         "range": [
          -9.398939764846137,
          10.618082572604022
         ],
         "showgrid": true,
         "tickfont": {
          "color": "#4D5663"
         },
         "title": {
          "font": {
           "color": "#4D5663"
          },
          "text": ""
         },
         "type": "linear",
         "zerolinecolor": "#E1E5ED"
        }
       }
      },
      "image/png": "[encoded data removed]",
      "text/html": [
       "<div>                            <div id=\"c7fda7f0-9ab5-449d-8b08-1f97e17179ef\" class=\"plotly-graph-div\" style=\"height:525px; width:100%;\"></div>            <script type=\"text/javascript\">                require([\"plotly\"], function(Plotly) {                    window.PLOTLYENV=window.PLOTLYENV || {};\n",
       "                    window.PLOTLYENV.BASE_URL='https://plot.ly';                                    if (document.getElementById(\"c7fda7f0-9ab5-449d-8b08-1f97e17179ef\")) {                    Plotly.newPlot(                        \"c7fda7f0-9ab5-449d-8b08-1f97e17179ef\",                        [{\"marker\":{\"color\":[\"rgb(255, 153, 51)\",\"rgb(55, 128, 191)\",\"rgb(50, 171, 96)\",\"rgb(128, 0, 128)\",\"rgb(219, 64, 82)\",\"rgb(0, 128, 128)\",\"rgb(255, 255, 51)\",\"rgb(128, 128, 0)\",\"rgb(251, 128, 114)\",\"rgb(128, 177, 211)\"],\"line\":{\"width\":1.3},\"size\":[81,91,112,91,104,22,102,52,25,41,65,56,24,83,23,50,86,80,66,39,37,63,55,53,28,74,88,68,81,64,75,48,74,49,37,101,65,100,92,57,70,39,69,68,40,50,36,102,74,46,77,35,64,96,101,61,60,92,53,73,89,35,53,85,76,43,105,69,63,31,60,95,21,64,84,87,36,71,65,40,15,45,38,68,54,64,46,71,50,29,46,91,66,45,51,47,65,12,73,65],\"symbol\":\"circle\"},\"mode\":\"markers\",\"text\":\"\",\"x\":[-0.8028561302251124,1.479302388301489,0.09259836950276953,-0.512200866745337,0.8576238983724528,0.6085497404944062,-0.788223295517952,0.9761665209278051,2.238690887893208,1.3490247594088083,0.737059096870889,0.3026134531782889,-0.7957217706029994,0.33823616570030324,0.19196824309714583,-0.4698312480273544,0.4301162469854865,1.1815924579324193,0.2274535937715395,-1.5943306169668727,0.12493303310468025,0.7975876609059102,0.09593279290044807,-0.19719809096164162,1.6565466613065052,0.4501760595795119,-0.02886866437548703,0.16505807536954564,1.124836055486245,2.049975322070444,-0.033165046880216376,0.7801630412932541,0.028285298355942425,-1.2989262631774416,1.3012174059227228,0.15728220307540158,-0.31316077721117375,-1.1747533327607587,1.7069413233814477,0.07419368467184914,-1.147529248600138,0.30864584269972306,-1.2793699272497943,-1.1249859442345558,0.2831314824771736,-0.18716951345172192,-1.090356868475828,1.9293517124623794,2.3684113403376057,-0.7988882319337831,1.6038153380009872,-1.2288347702724813,-1.201690996947852,-0.6607024240946915,1.8446345228914234,-0.9936737748233865,0.4870909728145924,0.0635477755521646,0.32357734017082884,0.06832369257774945,1.103825118434115,-0.7645127908507001,-1.3676473832933946,0.46402104480674794,0.15452847403977235,-0.6061958034619276,0.22205129416545974,-0.7962583172868609,-1.5584080382815726,0.5989046805601863,-0.6782957556343797,0.18020677123740392,0.19287312831057887,-0.1369071911530954,-1.0966518041958313,-0.4137103383439439,0.8408784953202832,-0.26466856360948776,-2.599861296100724,-0.543503678619246,-1.0601507878835457,-1.4366314663310211,-0.5783918179279967,-0.35904402150393355,-0.8532029670981947,-0.0668865536827716,0.3482385301768811,-0.43769557904928835,1.5562474048025967,-1.2058652048168754,0.012743990748052518,0.0525324102625891,0.40393559040764987,-0.3194053660387816,-0.7515950497771627,-1.6911968013479222,-1.0664557829608285,-1.4918263253090283,0.44400403329900645,-0.5245696570792404],\"y\":[-2.4154271826055687,0.2281163742403504,1.023638806068143,-0.42311682261393985,1.0460920365897521,0.014379125674698972,-1.0024753274980267,1.2970651067413772,-1.4876062324008748,-1.2787134920238905,-2.255927984437855,0.3917658809386741,0.8254925127903598,0.5167247505647817,-0.37885329612876756,-1.4465545453597755,1.283402522449017,-0.13883342228836232,-0.819263241038832,-0.2875102463290612,-0.6084972801612889,0.60097337047301,-0.38951842733027325,1.1383351179567085,0.5303220825477065,-1.2702935398670259,-0.5216055214220926,-0.33849718969494463,-0.31043838587410905,0.1861750117058042,-1.3367601455296272,-0.13539319664272512,-0.04826911800939443,1.0137197495851988,0.40239706746935344,-0.33824853753891115,-1.2044670928003556,1.2457273930479194,-0.3034148106261058,0.5007964524725353,0.6061265061918621,0.10666541063424463,-2.555083787197274,0.9531398284577858,0.8398465183168621,0.9303183779340494,0.7858951323348161,2.527869377884583,-0.6051809428312591,-0.5272869417373718,2.3439665972310224,-1.2122096114782646,-1.2007273327736605,-0.8394630308996531,1.02019968517285,0.9534146859616777,0.056861705035020686,-2.003762067954828,-0.17404675080271992,1.1867630462507908,-0.901771137497407,1.5324198527172153,0.7134995518226834,-0.9369721788688021,-0.13809992304297572,0.3676970458870487,-0.009408068072079542,-0.22749233880224112,1.2160209293891586,0.6560409767607005,-0.608297820845587,0.02471522606611033,-0.23314164833860315,-0.021381677697893738,-1.3206072599621494,0.36257703524638424,-0.6079356241638769,-0.3052512546185061,0.3762701311102944,0.5832649361771575,1.9959564462294366,1.4640554173951212,-1.0768809643150925,0.6393538090437333,-2.0425454096017623,1.2458691168533944,-0.5559855700539201,-0.07969304470464499,-1.3143013832539345,0.12107507633181926,0.9639635187378766,-0.3194262744208612,1.657384793065372,-0.9984958934522816,-0.28060915556170324,0.2032552162774426,0.25289516322159433,0.13845611158751048,0.5732709988184584,-0.14753713877560354],\"type\":\"scatter\"}],                        {\"legend\":{\"bgcolor\":\"#F5F6F9\",\"font\":{\"color\":\"#4D5663\"}},\"paper_bgcolor\":\"#F5F6F9\",\"plot_bgcolor\":\"#F5F6F9\",\"template\":{\"data\":{\"barpolar\":[{\"marker\":{\"line\":{\"color\":\"#E5ECF6\",\"width\":0.5},\"pattern\":{\"fillmode\":\"overlay\",\"size\":10,\"solidity\":0.2}},\"type\":\"barpolar\"}],\"bar\":[{\"error_x\":{\"color\":\"#2a3f5f\"},\"error_y\":{\"color\":\"#2a3f5f\"},\"marker\":{\"line\":{\"color\":\"#E5ECF6\",\"width\":0.5},\"pattern\":{\"fillmode\":\"overlay\",\"size\":10,\"solidity\":0.2}},\"type\":\"bar\"}],\"carpet\":[{\"aaxis\":{\"endlinecolor\":\"#2a3f5f\",\"gridcolor\":\"white\",\"linecolor\":\"white\",\"minorgridcolor\":\"white\",\"startlinecolor\":\"#2a3f5f\"},\"baxis\":{\"endlinecolor\":\"#2a3f5f\",\"gridcolor\":\"white\",\"linecolor\":\"white\",\"minorgridcolor\":\"white\",\"startlinecolor\":\"#2a3f5f\"},\"type\":\"carpet\"}],\"choropleth\":[{\"colorbar\":{\"outlinewidth\":0,\"ticks\":\"\"},\"type\":\"choropleth\"}],\"contourcarpet\":[{\"colorbar\":{\"outlinewidth\":0,\"ticks\":\"\"},\"type\":\"contourcarpet\"}],\"contour\":[{\"colorbar\":{\"outlinewidth\":0,\"ticks\":\"\"},\"colorscale\":[[0.0,\"#0d0887\"],[0.1111111111111111,\"#46039f\"],[0.2222222222222222,\"#7201a8\"],[0.3333333333333333,\"#9c179e\"],[0.4444444444444444,\"#bd3786\"],[0.5555555555555556,\"#d8576b\"],[0.6666666666666666,\"#ed7953\"],[0.7777777777777778,\"#fb9f3a\"],[0.8888888888888888,\"#fdca26\"],[1.0,\"#f0f921\"]],\"type\":\"contour\"}],\"heatmapgl\":[{\"colorbar\":{\"outlinewidth\":0,\"ticks\":\"\"},\"colorscale\":[[0.0,\"#0d0887\"],[0.1111111111111111,\"#46039f\"],[0.2222222222222222,\"#7201a8\"],[0.3333333333333333,\"#9c179e\"],[0.4444444444444444,\"#bd3786\"],[0.5555555555555556,\"#d8576b\"],[0.6666666666666666,\"#ed7953\"],[0.7777777777777778,\"#fb9f3a\"],[0.8888888888888888,\"#fdca26\"],[1.0,\"#f0f921\"]],\"type\":\"heatmapgl\"}],\"heatmap\":[{\"colorbar\":{\"outlinewidth\":0,\"ticks\":\"\"},\"colorscale\":[[0.0,\"#0d0887\"],[0.1111111111111111,\"#46039f\"],[0.2222222222222222,\"#7201a8\"],[0.3333333333333333,\"#9c179e\"],[0.4444444444444444,\"#bd3786\"],[0.5555555555555556,\"#d8576b\"],[0.6666666666666666,\"#ed7953\"],[0.7777777777777778,\"#fb9f3a\"],[0.8888888888888888,\"#fdca26\"],[1.0,\"#f0f921\"]],\"type\":\"heatmap\"}],\"histogram2dcontour\":[{\"colorbar\":{\"outlinewidth\":0,\"ticks\":\"\"},\"colorscale\":[[0.0,\"#0d0887\"],[0.1111111111111111,\"#46039f\"],[0.2222222222222222,\"#7201a8\"],[0.3333333333333333,\"#9c179e\"],[0.4444444444444444,\"#bd3786\"],[0.5555555555555556,\"#d8576b\"],[0.6666666666666666,\"#ed7953\"],[0.7777777777777778,\"#fb9f3a\"],[0.8888888888888888,\"#fdca26\"],[1.0,\"#f0f921\"]],\"type\":\"histogram2dcontour\"}],\"histogram2d\":[{\"colorbar\":{\"outlinewidth\":0,\"ticks\":\"\"},\"colorscale\":[[0.0,\"#0d0887\"],[0.1111111111111111,\"#46039f\"],[0.2222222222222222,\"#7201a8\"],[0.3333333333333333,\"#9c179e\"],[0.4444444444444444,\"#bd3786\"],[0.5555555555555556,\"#d8576b\"],[0.6666666666666666,\"#ed7953\"],[0.7777777777777778,\"#fb9f3a\"],[0.8888888888888888,\"#fdca26\"],[1.0,\"#f0f921\"]],\"type\":\"histogram2d\"}],\"histogram\":[{\"marker\":{\"pattern\":{\"fillmode\":\"overlay\",\"size\":10,\"solidity\":0.2}},\"type\":\"histogram\"}],\"mesh3d\":[{\"colorbar\":{\"outlinewidth\":0,\"ticks\":\"\"},\"type\":\"mesh3d\"}],\"parcoords\":[{\"line\":{\"colorbar\":{\"outlinewidth\":0,\"ticks\":\"\"}},\"type\":\"parcoords\"}],\"pie\":[{\"automargin\":true,\"type\":\"pie\"}],\"scatter3d\":[{\"line\":{\"colorbar\":{\"outlinewidth\":0,\"ticks\":\"\"}},\"marker\":{\"colorbar\":{\"outlinewidth\":0,\"ticks\":\"\"}},\"type\":\"scatter3d\"}],\"scattercarpet\":[{\"marker\":{\"colorbar\":{\"outlinewidth\":0,\"ticks\":\"\"}},\"type\":\"scattercarpet\"}],\"scattergeo\":[{\"marker\":{\"colorbar\":{\"outlinewidth\":0,\"ticks\":\"\"}},\"type\":\"scattergeo\"}],\"scattergl\":[{\"marker\":{\"colorbar\":{\"outlinewidth\":0,\"ticks\":\"\"}},\"type\":\"scattergl\"}],\"scattermapbox\":[{\"marker\":{\"colorbar\":{\"outlinewidth\":0,\"ticks\":\"\"}},\"type\":\"scattermapbox\"}],\"scatterpolargl\":[{\"marker\":{\"colorbar\":{\"outlinewidth\":0,\"ticks\":\"\"}},\"type\":\"scatterpolargl\"}],\"scatterpolar\":[{\"marker\":{\"colorbar\":{\"outlinewidth\":0,\"ticks\":\"\"}},\"type\":\"scatterpolar\"}],\"scatter\":[{\"fillpattern\":{\"fillmode\":\"overlay\",\"size\":10,\"solidity\":0.2},\"type\":\"scatter\"}],\"scatterternary\":[{\"marker\":{\"colorbar\":{\"outlinewidth\":0,\"ticks\":\"\"}},\"type\":\"scatterternary\"}],\"surface\":[{\"colorbar\":{\"outlinewidth\":0,\"ticks\":\"\"},\"colorscale\":[[0.0,\"#0d0887\"],[0.1111111111111111,\"#46039f\"],[0.2222222222222222,\"#7201a8\"],[0.3333333333333333,\"#9c179e\"],[0.4444444444444444,\"#bd3786\"],[0.5555555555555556,\"#d8576b\"],[0.6666666666666666,\"#ed7953\"],[0.7777777777777778,\"#fb9f3a\"],[0.8888888888888888,\"#fdca26\"],[1.0,\"#f0f921\"]],\"type\":\"surface\"}],\"table\":[{\"cells\":{\"fill\":{\"color\":\"#EBF0F8\"},\"line\":{\"color\":\"white\"}},\"header\":{\"fill\":{\"color\":\"#C8D4E3\"},\"line\":{\"color\":\"white\"}},\"type\":\"table\"}]},\"layout\":{\"annotationdefaults\":{\"arrowcolor\":\"#2a3f5f\",\"arrowhead\":0,\"arrowwidth\":1},\"autotypenumbers\":\"strict\",\"coloraxis\":{\"colorbar\":{\"outlinewidth\":0,\"ticks\":\"\"}},\"colorscale\":{\"diverging\":[[0,\"#8e0152\"],[0.1,\"#c51b7d\"],[0.2,\"#de77ae\"],[0.3,\"#f1b6da\"],[0.4,\"#fde0ef\"],[0.5,\"#f7f7f7\"],[0.6,\"#e6f5d0\"],[0.7,\"#b8e186\"],[0.8,\"#7fbc41\"],[0.9,\"#4d9221\"],[1,\"#276419\"]],\"sequential\":[[0.0,\"#0d0887\"],[0.1111111111111111,\"#46039f\"],[0.2222222222222222,\"#7201a8\"],[0.3333333333333333,\"#9c179e\"],[0.4444444444444444,\"#bd3786\"],[0.5555555555555556,\"#d8576b\"],[0.6666666666666666,\"#ed7953\"],[0.7777777777777778,\"#fb9f3a\"],[0.8888888888888888,\"#fdca26\"],[1.0,\"#f0f921\"]],\"sequentialminus\":[[0.0,\"#0d0887\"],[0.1111111111111111,\"#46039f\"],[0.2222222222222222,\"#7201a8\"],[0.3333333333333333,\"#9c179e\"],[0.4444444444444444,\"#bd3786\"],[0.5555555555555556,\"#d8576b\"],[0.6666666666666666,\"#ed7953\"],[0.7777777777777778,\"#fb9f3a\"],[0.8888888888888888,\"#fdca26\"],[1.0,\"#f0f921\"]]},\"colorway\":[\"#636efa\",\"#EF553B\",\"#00cc96\",\"#ab63fa\",\"#FFA15A\",\"#19d3f3\",\"#FF6692\",\"#B6E880\",\"#FF97FF\",\"#FECB52\"],\"font\":{\"color\":\"#2a3f5f\"},\"geo\":{\"bgcolor\":\"white\",\"lakecolor\":\"white\",\"landcolor\":\"#E5ECF6\",\"showlakes\":true,\"showland\":true,\"subunitcolor\":\"white\"},\"hoverlabel\":{\"align\":\"left\"},\"hovermode\":\"closest\",\"mapbox\":{\"style\":\"light\"},\"paper_bgcolor\":\"white\",\"plot_bgcolor\":\"#E5ECF6\",\"polar\":{\"angularaxis\":{\"gridcolor\":\"white\",\"linecolor\":\"white\",\"ticks\":\"\"},\"bgcolor\":\"#E5ECF6\",\"radialaxis\":{\"gridcolor\":\"white\",\"linecolor\":\"white\",\"ticks\":\"\"}},\"scene\":{\"xaxis\":{\"backgroundcolor\":\"#E5ECF6\",\"gridcolor\":\"white\",\"gridwidth\":2,\"linecolor\":\"white\",\"showbackground\":true,\"ticks\":\"\",\"zerolinecolor\":\"white\"},\"yaxis\":{\"backgroundcolor\":\"#E5ECF6\",\"gridcolor\":\"white\",\"gridwidth\":2,\"linecolor\":\"white\",\"showbackground\":true,\"ticks\":\"\",\"zerolinecolor\":\"white\"},\"zaxis\":{\"backgroundcolor\":\"#E5ECF6\",\"gridcolor\":\"white\",\"gridwidth\":2,\"linecolor\":\"white\",\"showbackground\":true,\"ticks\":\"\",\"zerolinecolor\":\"white\"}},\"shapedefaults\":{\"line\":{\"color\":\"#2a3f5f\"}},\"ternary\":{\"aaxis\":{\"gridcolor\":\"white\",\"linecolor\":\"white\",\"ticks\":\"\"},\"baxis\":{\"gridcolor\":\"white\",\"linecolor\":\"white\",\"ticks\":\"\"},\"bgcolor\":\"#E5ECF6\",\"caxis\":{\"gridcolor\":\"white\",\"linecolor\":\"white\",\"ticks\":\"\"}},\"title\":{\"x\":0.05},\"xaxis\":{\"automargin\":true,\"gridcolor\":\"white\",\"linecolor\":\"white\",\"ticks\":\"\",\"title\":{\"standoff\":15},\"zerolinecolor\":\"white\",\"zerolinewidth\":2},\"yaxis\":{\"automargin\":true,\"gridcolor\":\"white\",\"linecolor\":\"white\",\"ticks\":\"\",\"title\":{\"standoff\":15},\"zerolinecolor\":\"white\",\"zerolinewidth\":2}}},\"title\":{\"font\":{\"color\":\"#4D5663\"}},\"xaxis\":{\"gridcolor\":\"#E1E5ED\",\"showgrid\":true,\"tickfont\":{\"color\":\"#4D5663\"},\"title\":{\"font\":{\"color\":\"#4D5663\"},\"text\":\"\"},\"zerolinecolor\":\"#E1E5ED\"},\"yaxis\":{\"gridcolor\":\"#E1E5ED\",\"showgrid\":true,\"tickfont\":{\"color\":\"#4D5663\"},\"title\":{\"font\":{\"color\":\"#4D5663\"},\"text\":\"\"},\"zerolinecolor\":\"#E1E5ED\"}},                        {\"showLink\": true, \"linkText\": \"Export to plot.ly\", \"plotlyServerURL\": \"https://plot.ly\", \"responsive\": true}                    ).then(function(){\n",
       "                            \n",
       "var gd = document.getElementById('c7fda7f0-9ab5-449d-8b08-1f97e17179ef');\n",
       "var x = new MutationObserver(function (mutations, observer) {{\n",
       "        var display = window.getComputedStyle(gd).display;\n",
       "        if (!display || display === 'none') {{\n",
       "            console.log([gd, 'removed!']);\n",
       "            Plotly.purge(gd);\n",
       "            observer.disconnect();\n",
       "        }}\n",
       "}});\n",
       "\n",
       "// Listen for the removal of the full notebook cells\n",
       "var notebookContainer = gd.closest('#notebook-container');\n",
       "if (notebookContainer) {{\n",
       "    x.observe(notebookContainer, {childList: true});\n",
       "}}\n",
       "\n",
       "// Listen for the clearing of the current output cell\n",
       "var outputEl = gd.closest('.output');\n",
       "if (outputEl) {{\n",
       "    x.observe(outputEl, {childList: true});\n",
       "}}\n",
       "\n",
       "                        })                };                });            </script>        </div>"
      ]
     },
     "metadata": {},
     "output_type": "display_data"
    }
   ],
   "source": [
    "df.iplot(kind='bubble',x='A',y='B',size='C')"
   ]
  },
  {
   "cell_type": "markdown",
   "metadata": {},
   "source": [
    "## scatter_matrix()\n",
    "\n",
    "Similar to sns.pairplot()"
   ]
  },
  {
   "cell_type": "code",
   "execution_count": 19,
   "metadata": {
    "collapsed": false,
    "jupyter": {
     "outputs_hidden": false
    }
   },
   "outputs": [
    {
     "data": {
      "application/vnd.plotly.v1+json": {
       "config": {
        "linkText": "Export to plot.ly",
        "plotlyServerURL": "https://plot.ly",
        "showLink": true
       },
       "data": [
        {
         "histfunc": "count",
         "histnorm": "",
         "marker": {
          "color": "rgba(255, 153, 51, 1.0)",
          "line": {
           "color": "#4D5663",
           "width": 1.3
          }
         },
         "name": "A",
         "nbinsx": 10,
         "opacity": 0.8,
         "orientation": "v",
         "type": "histogram",
         "x": [
          -0.8028561302251124,
          1.479302388301489,
          0.09259836950276953,
          -0.512200866745337,
          0.8576238983724528,
          0.6085497404944062,
          -0.788223295517952,
          0.9761665209278051,
          2.238690887893208,
          1.3490247594088083,
          0.737059096870889,
          0.3026134531782889,
          -0.7957217706029994,
          0.33823616570030324,
          0.19196824309714583,
          -0.4698312480273544,
          0.4301162469854865,
          1.1815924579324193,
          0.2274535937715395,
          -1.5943306169668727,
          0.12493303310468025,
          0.7975876609059102,
          0.09593279290044807,
          -0.19719809096164162,
          1.6565466613065052,
          0.4501760595795119,
          -0.02886866437548703,
          0.16505807536954564,
          1.124836055486245,
          2.049975322070444,
          -0.033165046880216376,
          0.7801630412932541,
          0.028285298355942425,
          -1.2989262631774416,
          1.3012174059227228,
          0.15728220307540158,
          -0.31316077721117375,
          -1.1747533327607587,
          1.7069413233814477,
          0.07419368467184914,
          -1.147529248600138,
          0.30864584269972306,
          -1.2793699272497943,
          -1.1249859442345558,
          0.2831314824771736,
          -0.18716951345172192,
          -1.090356868475828,
          1.9293517124623794,
          2.3684113403376057,
          -0.7988882319337831,
          1.6038153380009872,
          -1.2288347702724813,
          -1.201690996947852,
          -0.6607024240946915,
          1.8446345228914234,
          -0.9936737748233865,
          0.4870909728145924,
          0.0635477755521646,
          0.32357734017082884,
          0.06832369257774945,
          1.103825118434115,
          -0.7645127908507001,
          -1.3676473832933946,
          0.46402104480674794,
          0.15452847403977235,
          -0.6061958034619276,
          0.22205129416545974,
          -0.7962583172868609,
          -1.5584080382815726,
          0.5989046805601863,
          -0.6782957556343797,
          0.18020677123740392,
          0.19287312831057887,
          -0.1369071911530954,
          -1.0966518041958313,
          -0.4137103383439439,
          0.8408784953202832,
          -0.26466856360948776,
          -2.599861296100724,
          -0.543503678619246,
          -1.0601507878835457,
          -1.4366314663310211,
          -0.5783918179279967,
          -0.35904402150393355,
          -0.8532029670981947,
          -0.0668865536827716,
          0.3482385301768811,
          -0.43769557904928835,
          1.5562474048025967,
          -1.2058652048168754,
          0.012743990748052518,
          0.0525324102625891,
          0.40393559040764987,
          -0.3194053660387816,
          -0.7515950497771627,
          -1.6911968013479222,
          -1.0664557829608285,
          -1.4918263253090283,
          0.44400403329900645,
          -0.5245696570792404
         ],
         "xaxis": "x",
         "yaxis": "y"
        },
        {
         "line": {
          "color": "rgba(128, 128, 128, 1.0)",
          "dash": "solid",
          "shape": "linear",
          "width": 1.3
         },
         "marker": {
          "size": 2,
          "symbol": "circle"
         },
         "mode": "markers",
         "name": "A",
         "text": "",
         "type": "scatter",
         "x": [
          -2.4154271826055687,
          0.2281163742403504,
          1.023638806068143,
          -0.42311682261393985,
          1.0460920365897521,
          0.014379125674698972,
          -1.0024753274980267,
          1.2970651067413772,
          -1.4876062324008748,
          -1.2787134920238905,
          -2.255927984437855,
          0.3917658809386741,
          0.8254925127903598,
          0.5167247505647817,
          -0.37885329612876756,
          -1.4465545453597755,
          1.283402522449017,
          -0.13883342228836232,
          -0.819263241038832,
          -0.2875102463290612,
          -0.6084972801612889,
          0.60097337047301,
          -0.38951842733027325,
          1.1383351179567085,
          0.5303220825477065,
          -1.2702935398670259,
          -0.5216055214220926,
          -0.33849718969494463,
          -0.31043838587410905,
          0.1861750117058042,
          -1.3367601455296272,
          -0.13539319664272512,
          -0.04826911800939443,
          1.0137197495851988,
          0.40239706746935344,
          -0.33824853753891115,
          -1.2044670928003556,
          1.2457273930479194,
          -0.3034148106261058,
          0.5007964524725353,
          0.6061265061918621,
          0.10666541063424463,
          -2.555083787197274,
          0.9531398284577858,
          0.8398465183168621,
          0.9303183779340494,
          0.7858951323348161,
          2.527869377884583,
          -0.6051809428312591,
          -0.5272869417373718,
          2.3439665972310224,
          -1.2122096114782646,
          -1.2007273327736605,
          -0.8394630308996531,
          1.02019968517285,
          0.9534146859616777,
          0.056861705035020686,
          -2.003762067954828,
          -0.17404675080271992,
          1.1867630462507908,
          -0.901771137497407,
          1.5324198527172153,
          0.7134995518226834,
          -0.9369721788688021,
          -0.13809992304297572,
          0.3676970458870487,
          -0.009408068072079542,
          -0.22749233880224112,
          1.2160209293891586,
          0.6560409767607005,
          -0.608297820845587,
          0.02471522606611033,
          -0.23314164833860315,
          -0.021381677697893738,
          -1.3206072599621494,
          0.36257703524638424,
          -0.6079356241638769,
          -0.3052512546185061,
          0.3762701311102944,
          0.5832649361771575,
          1.9959564462294366,
          1.4640554173951212,
          -1.0768809643150925,
          0.6393538090437333,
          -2.0425454096017623,
          1.2458691168533944,
          -0.5559855700539201,
          -0.07969304470464499,
          -1.3143013832539345,
          0.12107507633181926,
          0.9639635187378766,
          -0.3194262744208612,
          1.657384793065372,
          -0.9984958934522816,
          -0.28060915556170324,
          0.2032552162774426,
          0.25289516322159433,
          0.13845611158751048,
          0.5732709988184584,
          -0.14753713877560354
         ],
         "xaxis": "x2",
         "y": [
          -0.8028561302251124,
          1.479302388301489,
          0.09259836950276953,
          -0.512200866745337,
          0.8576238983724528,
          0.6085497404944062,
          -0.788223295517952,
          0.9761665209278051,
          2.238690887893208,
          1.3490247594088083,
          0.737059096870889,
          0.3026134531782889,
          -0.7957217706029994,
          0.33823616570030324,
          0.19196824309714583,
          -0.4698312480273544,
          0.4301162469854865,
          1.1815924579324193,
          0.2274535937715395,
          -1.5943306169668727,
          0.12493303310468025,
          0.7975876609059102,
          0.09593279290044807,
          -0.19719809096164162,
          1.6565466613065052,
          0.4501760595795119,
          -0.02886866437548703,
          0.16505807536954564,
          1.124836055486245,
          2.049975322070444,
          -0.033165046880216376,
          0.7801630412932541,
          0.028285298355942425,
          -1.2989262631774416,
          1.3012174059227228,
          0.15728220307540158,
          -0.31316077721117375,
          -1.1747533327607587,
          1.7069413233814477,
          0.07419368467184914,
          -1.147529248600138,
          0.30864584269972306,
          -1.2793699272497943,
          -1.1249859442345558,
          0.2831314824771736,
          -0.18716951345172192,
          -1.090356868475828,
          1.9293517124623794,
          2.3684113403376057,
          -0.7988882319337831,
          1.6038153380009872,
          -1.2288347702724813,
          -1.201690996947852,
          -0.6607024240946915,
          1.8446345228914234,
          -0.9936737748233865,
          0.4870909728145924,
          0.0635477755521646,
          0.32357734017082884,
          0.06832369257774945,
          1.103825118434115,
          -0.7645127908507001,
          -1.3676473832933946,
          0.46402104480674794,
          0.15452847403977235,
          -0.6061958034619276,
          0.22205129416545974,
          -0.7962583172868609,
          -1.5584080382815726,
          0.5989046805601863,
          -0.6782957556343797,
          0.18020677123740392,
          0.19287312831057887,
          -0.1369071911530954,
          -1.0966518041958313,
          -0.4137103383439439,
          0.8408784953202832,
          -0.26466856360948776,
          -2.599861296100724,
          -0.543503678619246,
          -1.0601507878835457,
          -1.4366314663310211,
          -0.5783918179279967,
          -0.35904402150393355,
          -0.8532029670981947,
          -0.0668865536827716,
          0.3482385301768811,
          -0.43769557904928835,
          1.5562474048025967,
          -1.2058652048168754,
          0.012743990748052518,
          0.0525324102625891,
          0.40393559040764987,
          -0.3194053660387816,
          -0.7515950497771627,
          -1.6911968013479222,
          -1.0664557829608285,
          -1.4918263253090283,
          0.44400403329900645,
          -0.5245696570792404
         ],
         "yaxis": "y2"
        },
        {
         "line": {
          "color": "rgba(128, 128, 128, 1.0)",
          "dash": "solid",
          "shape": "linear",
          "width": 1.3
         },
         "marker": {
          "size": 2,
          "symbol": "circle"
         },
         "mode": "markers",
         "name": "A",
         "text": "",
         "type": "scatter",
         "x": [
          1.0266479716476482,
          1.432038494344584,
          2.331077558724533,
          1.4250911342219454,
          2.0072483013459452,
          -1.5355702894548662,
          1.9064878082497931,
          -0.22830457499663384,
          -1.380984325977485,
          -0.690813533252461,
          0.33163005186653344,
          -0.07648218111385366,
          -1.4615567095380366,
          1.0877525351023425,
          -1.4765205673594637,
          -0.30155231211391387,
          1.2158066585855902,
          0.981146625848748,
          0.3549076968165471,
          -0.7858397002909925,
          -0.8825752683977601,
          0.22346856404904056,
          -0.09178213155203006,
          -0.1872221896032133,
          -1.2680354368620395,
          0.7110138719456527,
          1.3107064840395686,
          0.4743786831492211,
          1.0032295353665603,
          0.2950115996601164,
          0.7647363192145541,
          -0.42400982230862516,
          0.6941600609698834,
          -0.3759666165637017,
          -0.8817739374777922,
          1.878204465740685,
          0.31368795063932947,
          1.8358602205190375,
          1.497086766456587,
          -0.017915509870727958,
          0.5220295904050539,
          -0.7780347842393094,
          0.5142705640323211,
          0.44772560497420527,
          -0.7654367620323748,
          -0.3128829174094753,
          -0.9370846838882704,
          1.9008753775511973,
          0.6973864139756631,
          -0.4874991247259999,
          0.8285539109503055,
          -0.9556988156338944,
          0.26993914631785376,
          1.6612988923136256,
          1.8673692783054838,
          0.1703047543741212,
          0.10419548706774773,
          1.493028106474792,
          -0.19972529062259206,
          0.6767496283953335,
          1.343120362942058,
          -0.9575416854653955,
          -0.1994517851046536,
          1.1919198212656719,
          0.818165303586279,
          -0.6319738037873451,
          2.0339419821750973,
          0.47608984908468793,
          0.22305523092094434,
          -1.1493007094220875,
          0.12564065883300984,
          1.6207498207631248,
          -1.557883718629152,
          0.28186281406346203,
          1.1383559061464599,
          1.2928154142070365,
          -0.9419733904870756,
          0.569694582494328,
          0.33830883374494275,
          -0.7718093304189237,
          -1.8162997209099536,
          -0.527054219417872,
          -0.832440904908529,
          0.4627592260315701,
          -0.13627938557034916,
          0.26658358687847716,
          -0.5053891870823346,
          0.6023780464733511,
          -0.3381825759471592,
          -1.216122566939081,
          -0.4812017331363412,
          1.452077473551976,
          0.3492716413152897,
          -0.5377528030314477,
          -0.2809456526948875,
          -0.4631595484127176,
          0.31725211058710023,
          -1.9845954424006462,
          0.6840464547566846,
          0.33902361943784204
         ],
         "xaxis": "x3",
         "y": [
          -0.8028561302251124,
          1.479302388301489,
          0.09259836950276953,
          -0.512200866745337,
          0.8576238983724528,
          0.6085497404944062,
          -0.788223295517952,
          0.9761665209278051,
          2.238690887893208,
          1.3490247594088083,
          0.737059096870889,
          0.3026134531782889,
          -0.7957217706029994,
          0.33823616570030324,
          0.19196824309714583,
          -0.4698312480273544,
          0.4301162469854865,
          1.1815924579324193,
          0.2274535937715395,
          -1.5943306169668727,
          0.12493303310468025,
          0.7975876609059102,
          0.09593279290044807,
          -0.19719809096164162,
          1.6565466613065052,
          0.4501760595795119,
          -0.02886866437548703,
          0.16505807536954564,
          1.124836055486245,
          2.049975322070444,
          -0.033165046880216376,
          0.7801630412932541,
          0.028285298355942425,
          -1.2989262631774416,
          1.3012174059227228,
          0.15728220307540158,
          -0.31316077721117375,
          -1.1747533327607587,
          1.7069413233814477,
          0.07419368467184914,
          -1.147529248600138,
          0.30864584269972306,
          -1.2793699272497943,
          -1.1249859442345558,
          0.2831314824771736,
          -0.18716951345172192,
          -1.090356868475828,
          1.9293517124623794,
          2.3684113403376057,
          -0.7988882319337831,
          1.6038153380009872,
          -1.2288347702724813,
          -1.201690996947852,
          -0.6607024240946915,
          1.8446345228914234,
          -0.9936737748233865,
          0.4870909728145924,
          0.0635477755521646,
          0.32357734017082884,
          0.06832369257774945,
          1.103825118434115,
          -0.7645127908507001,
          -1.3676473832933946,
          0.46402104480674794,
          0.15452847403977235,
          -0.6061958034619276,
          0.22205129416545974,
          -0.7962583172868609,
          -1.5584080382815726,
          0.5989046805601863,
          -0.6782957556343797,
          0.18020677123740392,
          0.19287312831057887,
          -0.1369071911530954,
          -1.0966518041958313,
          -0.4137103383439439,
          0.8408784953202832,
          -0.26466856360948776,
          -2.599861296100724,
          -0.543503678619246,
          -1.0601507878835457,
          -1.4366314663310211,
          -0.5783918179279967,
          -0.35904402150393355,
          -0.8532029670981947,
          -0.0668865536827716,
          0.3482385301768811,
          -0.43769557904928835,
          1.5562474048025967,
          -1.2058652048168754,
          0.012743990748052518,
          0.0525324102625891,
          0.40393559040764987,
          -0.3194053660387816,
          -0.7515950497771627,
          -1.6911968013479222,
          -1.0664557829608285,
          -1.4918263253090283,
          0.44400403329900645,
          -0.5245696570792404
         ],
         "yaxis": "y3"
        },
        {
         "line": {
          "color": "rgba(128, 128, 128, 1.0)",
          "dash": "solid",
          "shape": "linear",
          "width": 1.3
         },
         "marker": {
          "size": 2,
          "symbol": "circle"
         },
         "mode": "markers",
         "name": "A",
         "text": "",
         "type": "scatter",
         "x": [
          -1.2359855837844993,
          -1.3565000730262446,
          0.5808543791361195,
          0.517960669672099,
          1.3100661612435043,
          -1.0523215058338327,
          0.03874381970918687,
          0.4746715461817965,
          0.20572081984625887,
          -0.2550652617067661,
          -1.0944555440338883,
          -0.07102029966833753,
          1.6523626350965817,
          1.2586601929850905,
          0.6286550560191307,
          0.5996585130594111,
          0.08323696649269624,
          0.4946950359410362,
          -1.7023550273834205,
          -0.10090686292260698,
          -0.04104445939723555,
          0.8169264813883685,
          -0.18309598292488616,
          0.7675347533357908,
          -0.7849145744957643,
          0.2175021592277963,
          -1.8098388047322989,
          -0.15760627217239695,
          0.6648946941171906,
          -0.26473281783821323,
          -0.5254749746201199,
          -1.3148454891937245,
          -0.2216245994163635,
          0.23367654323740733,
          0.06243652317531484,
          0.4097676076146735,
          -2.1175550169769606,
          0.9124294824623688,
          -0.26653877709534507,
          0.33119801912632685,
          0.1889527706557953,
          1.9987970643057387,
          -0.3626622468456089,
          -1.3236859634110174,
          -0.1669033683022175,
          -0.17385874607726262,
          -0.3500538967874222,
          -0.567309967393333,
          0.7303462219629867,
          0.6641377568817323,
          -1.917897491533714,
          0.010601795106177462,
          0.6567204220559013,
          -0.22211412897764646,
          1.5056442905604603,
          0.10234325985126748,
          0.6148640320419358,
          0.4239039005467839,
          1.396124056376324,
          0.7393930442459123,
          -0.29505678600560303,
          0.5967198803864783,
          -0.2929435341856442,
          -0.21643056691667753,
          -0.040657885172045674,
          0.9275522036098794,
          -0.5572033838964305,
          1.2614169612151802,
          0.9861877911762481,
          -0.8609916887718085,
          1.6577821753353164,
          -1.1706054305347073,
          -2.039104991483795,
          0.101652577011143,
          -0.33096453049201446,
          -0.24238742236176442,
          -0.614658908074277,
          0.6833024433372668,
          -1.897348458924881,
          0.7720752581125835,
          -0.20980699751151988,
          1.0735052581763462,
          0.4213954895542332,
          0.44819662458866577,
          0.055553289819388375,
          1.2543391415006115,
          -0.8766186288812203,
          -0.44139741543658567,
          -0.38483713260064706,
          0.6460054239742792,
          -0.11663002491925503,
          -0.5612255691473144,
          -0.11661356734924128,
          -0.06528392923463709,
          -1.1943348197594,
          0.49956150576740393,
          0.720107127645793,
          0.5412915956172295,
          0.08759720239739159,
          0.6477219852900776
         ],
         "xaxis": "x4",
         "y": [
          -0.8028561302251124,
          1.479302388301489,
          0.09259836950276953,
          -0.512200866745337,
          0.8576238983724528,
          0.6085497404944062,
          -0.788223295517952,
          0.9761665209278051,
          2.238690887893208,
          1.3490247594088083,
          0.737059096870889,
          0.3026134531782889,
          -0.7957217706029994,
          0.33823616570030324,
          0.19196824309714583,
          -0.4698312480273544,
          0.4301162469854865,
          1.1815924579324193,
          0.2274535937715395,
          -1.5943306169668727,
          0.12493303310468025,
          0.7975876609059102,
          0.09593279290044807,
          -0.19719809096164162,
          1.6565466613065052,
          0.4501760595795119,
          -0.02886866437548703,
          0.16505807536954564,
          1.124836055486245,
          2.049975322070444,
          -0.033165046880216376,
          0.7801630412932541,
          0.028285298355942425,
          -1.2989262631774416,
          1.3012174059227228,
          0.15728220307540158,
          -0.31316077721117375,
          -1.1747533327607587,
          1.7069413233814477,
          0.07419368467184914,
          -1.147529248600138,
          0.30864584269972306,
          -1.2793699272497943,
          -1.1249859442345558,
          0.2831314824771736,
          -0.18716951345172192,
          -1.090356868475828,
          1.9293517124623794,
          2.3684113403376057,
          -0.7988882319337831,
          1.6038153380009872,
          -1.2288347702724813,
          -1.201690996947852,
          -0.6607024240946915,
          1.8446345228914234,
          -0.9936737748233865,
          0.4870909728145924,
          0.0635477755521646,
          0.32357734017082884,
          0.06832369257774945,
          1.103825118434115,
          -0.7645127908507001,
          -1.3676473832933946,
          0.46402104480674794,
          0.15452847403977235,
          -0.6061958034619276,
          0.22205129416545974,
          -0.7962583172868609,
          -1.5584080382815726,
          0.5989046805601863,
          -0.6782957556343797,
          0.18020677123740392,
          0.19287312831057887,
          -0.1369071911530954,
          -1.0966518041958313,
          -0.4137103383439439,
          0.8408784953202832,
          -0.26466856360948776,
          -2.599861296100724,
          -0.543503678619246,
          -1.0601507878835457,
          -1.4366314663310211,
          -0.5783918179279967,
          -0.35904402150393355,
          -0.8532029670981947,
          -0.0668865536827716,
          0.3482385301768811,
          -0.43769557904928835,
          1.5562474048025967,
          -1.2058652048168754,
          0.012743990748052518,
          0.0525324102625891,
          0.40393559040764987,
          -0.3194053660387816,
          -0.7515950497771627,
          -1.6911968013479222,
          -1.0664557829608285,
          -1.4918263253090283,
          0.44400403329900645,
          -0.5245696570792404
         ],
         "yaxis": "y4"
        },
        {
         "line": {
          "color": "rgba(128, 128, 128, 1.0)",
          "dash": "solid",
          "shape": "linear",
          "width": 1.3
         },
         "marker": {
          "size": 2,
          "symbol": "circle"
         },
         "mode": "markers",
         "name": "B",
         "text": "",
         "type": "scatter",
         "x": [
          -0.8028561302251124,
          1.479302388301489,
          0.09259836950276953,
          -0.512200866745337,
          0.8576238983724528,
          0.6085497404944062,
          -0.788223295517952,
          0.9761665209278051,
          2.238690887893208,
          1.3490247594088083,
          0.737059096870889,
          0.3026134531782889,
          -0.7957217706029994,
          0.33823616570030324,
          0.19196824309714583,
          -0.4698312480273544,
          0.4301162469854865,
          1.1815924579324193,
          0.2274535937715395,
          -1.5943306169668727,
          0.12493303310468025,
          0.7975876609059102,
          0.09593279290044807,
          -0.19719809096164162,
          1.6565466613065052,
          0.4501760595795119,
          -0.02886866437548703,
          0.16505807536954564,
          1.124836055486245,
          2.049975322070444,
          -0.033165046880216376,
          0.7801630412932541,
          0.028285298355942425,
          -1.2989262631774416,
          1.3012174059227228,
          0.15728220307540158,
          -0.31316077721117375,
          -1.1747533327607587,
          1.7069413233814477,
          0.07419368467184914,
          -1.147529248600138,
          0.30864584269972306,
          -1.2793699272497943,
          -1.1249859442345558,
          0.2831314824771736,
          -0.18716951345172192,
          -1.090356868475828,
          1.9293517124623794,
          2.3684113403376057,
          -0.7988882319337831,
          1.6038153380009872,
          -1.2288347702724813,
          -1.201690996947852,
          -0.6607024240946915,
          1.8446345228914234,
          -0.9936737748233865,
          0.4870909728145924,
          0.0635477755521646,
          0.32357734017082884,
          0.06832369257774945,
          1.103825118434115,
          -0.7645127908507001,
          -1.3676473832933946,
          0.46402104480674794,
          0.15452847403977235,
          -0.6061958034619276,
          0.22205129416545974,
          -0.7962583172868609,
          -1.5584080382815726,
          0.5989046805601863,
          -0.6782957556343797,
          0.18020677123740392,
          0.19287312831057887,
          -0.1369071911530954,
          -1.0966518041958313,
          -0.4137103383439439,
          0.8408784953202832,
          -0.26466856360948776,
          -2.599861296100724,
          -0.543503678619246,
          -1.0601507878835457,
          -1.4366314663310211,
          -0.5783918179279967,
          -0.35904402150393355,
          -0.8532029670981947,
          -0.0668865536827716,
          0.3482385301768811,
          -0.43769557904928835,
          1.5562474048025967,
          -1.2058652048168754,
          0.012743990748052518,
          0.0525324102625891,
          0.40393559040764987,
          -0.3194053660387816,
          -0.7515950497771627,
          -1.6911968013479222,
          -1.0664557829608285,
          -1.4918263253090283,
          0.44400403329900645,
          -0.5245696570792404
         ],
         "xaxis": "x5",
         "y": [
          -2.4154271826055687,
          0.2281163742403504,
          1.023638806068143,
          -0.42311682261393985,
          1.0460920365897521,
          0.014379125674698972,
          -1.0024753274980267,
          1.2970651067413772,
          -1.4876062324008748,
          -1.2787134920238905,
          -2.255927984437855,
          0.3917658809386741,
          0.8254925127903598,
          0.5167247505647817,
          -0.37885329612876756,
          -1.4465545453597755,
          1.283402522449017,
          -0.13883342228836232,
          -0.819263241038832,
          -0.2875102463290612,
          -0.6084972801612889,
          0.60097337047301,
          -0.38951842733027325,
          1.1383351179567085,
          0.5303220825477065,
          -1.2702935398670259,
          -0.5216055214220926,
          -0.33849718969494463,
          -0.31043838587410905,
          0.1861750117058042,
          -1.3367601455296272,
          -0.13539319664272512,
          -0.04826911800939443,
          1.0137197495851988,
          0.40239706746935344,
          -0.33824853753891115,
          -1.2044670928003556,
          1.2457273930479194,
          -0.3034148106261058,
          0.5007964524725353,
          0.6061265061918621,
          0.10666541063424463,
          -2.555083787197274,
          0.9531398284577858,
          0.8398465183168621,
          0.9303183779340494,
          0.7858951323348161,
          2.527869377884583,
          -0.6051809428312591,
          -0.5272869417373718,
          2.3439665972310224,
          -1.2122096114782646,
          -1.2007273327736605,
          -0.8394630308996531,
          1.02019968517285,
          0.9534146859616777,
          0.056861705035020686,
          -2.003762067954828,
          -0.17404675080271992,
          1.1867630462507908,
          -0.901771137497407,
          1.5324198527172153,
          0.7134995518226834,
          -0.9369721788688021,
          -0.13809992304297572,
          0.3676970458870487,
          -0.009408068072079542,
          -0.22749233880224112,
          1.2160209293891586,
          0.6560409767607005,
          -0.608297820845587,
          0.02471522606611033,
          -0.23314164833860315,
          -0.021381677697893738,
          -1.3206072599621494,
          0.36257703524638424,
          -0.6079356241638769,
          -0.3052512546185061,
          0.3762701311102944,
          0.5832649361771575,
          1.9959564462294366,
          1.4640554173951212,
          -1.0768809643150925,
          0.6393538090437333,
          -2.0425454096017623,
          1.2458691168533944,
          -0.5559855700539201,
          -0.07969304470464499,
          -1.3143013832539345,
          0.12107507633181926,
          0.9639635187378766,
          -0.3194262744208612,
          1.657384793065372,
          -0.9984958934522816,
          -0.28060915556170324,
          0.2032552162774426,
          0.25289516322159433,
          0.13845611158751048,
          0.5732709988184584,
          -0.14753713877560354
         ],
         "yaxis": "y5"
        },
        {
         "histfunc": "count",
         "histnorm": "",
         "marker": {
          "color": "rgba(55, 128, 191, 1.0)",
          "line": {
           "color": "#4D5663",
           "width": 1.3
          }
         },
         "name": "B",
         "nbinsx": 10,
         "opacity": 0.8,
         "orientation": "v",
         "type": "histogram",
         "x": [
          -2.4154271826055687,
          0.2281163742403504,
          1.023638806068143,
          -0.42311682261393985,
          1.0460920365897521,
          0.014379125674698972,
          -1.0024753274980267,
          1.2970651067413772,
          -1.4876062324008748,
          -1.2787134920238905,
          -2.255927984437855,
          0.3917658809386741,
          0.8254925127903598,
          0.5167247505647817,
          -0.37885329612876756,
          -1.4465545453597755,
          1.283402522449017,
          -0.13883342228836232,
          -0.819263241038832,
          -0.2875102463290612,
          -0.6084972801612889,
          0.60097337047301,
          -0.38951842733027325,
          1.1383351179567085,
          0.5303220825477065,
          -1.2702935398670259,
          -0.5216055214220926,
          -0.33849718969494463,
          -0.31043838587410905,
          0.1861750117058042,
          -1.3367601455296272,
          -0.13539319664272512,
          -0.04826911800939443,
          1.0137197495851988,
          0.40239706746935344,
          -0.33824853753891115,
          -1.2044670928003556,
          1.2457273930479194,
          -0.3034148106261058,
          0.5007964524725353,
          0.6061265061918621,
          0.10666541063424463,
          -2.555083787197274,
          0.9531398284577858,
          0.8398465183168621,
          0.9303183779340494,
          0.7858951323348161,
          2.527869377884583,
          -0.6051809428312591,
          -0.5272869417373718,
          2.3439665972310224,
          -1.2122096114782646,
          -1.2007273327736605,
          -0.8394630308996531,
          1.02019968517285,
          0.9534146859616777,
          0.056861705035020686,
          -2.003762067954828,
          -0.17404675080271992,
          1.1867630462507908,
          -0.901771137497407,
          1.5324198527172153,
          0.7134995518226834,
          -0.9369721788688021,
          -0.13809992304297572,
          0.3676970458870487,
          -0.009408068072079542,
          -0.22749233880224112,
          1.2160209293891586,
          0.6560409767607005,
          -0.608297820845587,
          0.02471522606611033,
          -0.23314164833860315,
          -0.021381677697893738,
          -1.3206072599621494,
          0.36257703524638424,
          -0.6079356241638769,
          -0.3052512546185061,
          0.3762701311102944,
          0.5832649361771575,
          1.9959564462294366,
          1.4640554173951212,
          -1.0768809643150925,
          0.6393538090437333,
          -2.0425454096017623,
          1.2458691168533944,
          -0.5559855700539201,
          -0.07969304470464499,
          -1.3143013832539345,
          0.12107507633181926,
          0.9639635187378766,
          -0.3194262744208612,
          1.657384793065372,
          -0.9984958934522816,
          -0.28060915556170324,
          0.2032552162774426,
          0.25289516322159433,
          0.13845611158751048,
          0.5732709988184584,
          -0.14753713877560354
         ],
         "xaxis": "x6",
         "yaxis": "y6"
        },
        {
         "line": {
          "color": "rgba(128, 128, 128, 1.0)",
          "dash": "solid",
          "shape": "linear",
          "width": 1.3
         },
         "marker": {
          "size": 2,
          "symbol": "circle"
         },
         "mode": "markers",
         "name": "B",
         "text": "",
         "type": "scatter",
         "x": [
          1.0266479716476482,
          1.432038494344584,
          2.331077558724533,
          1.4250911342219454,
          2.0072483013459452,
          -1.5355702894548662,
          1.9064878082497931,
          -0.22830457499663384,
          -1.380984325977485,
          -0.690813533252461,
          0.33163005186653344,
          -0.07648218111385366,
          -1.4615567095380366,
          1.0877525351023425,
          -1.4765205673594637,
          -0.30155231211391387,
          1.2158066585855902,
          0.981146625848748,
          0.3549076968165471,
          -0.7858397002909925,
          -0.8825752683977601,
          0.22346856404904056,
          -0.09178213155203006,
          -0.1872221896032133,
          -1.2680354368620395,
          0.7110138719456527,
          1.3107064840395686,
          0.4743786831492211,
          1.0032295353665603,
          0.2950115996601164,
          0.7647363192145541,
          -0.42400982230862516,
          0.6941600609698834,
          -0.3759666165637017,
          -0.8817739374777922,
          1.878204465740685,
          0.31368795063932947,
          1.8358602205190375,
          1.497086766456587,
          -0.017915509870727958,
          0.5220295904050539,
          -0.7780347842393094,
          0.5142705640323211,
          0.44772560497420527,
          -0.7654367620323748,
          -0.3128829174094753,
          -0.9370846838882704,
          1.9008753775511973,
          0.6973864139756631,
          -0.4874991247259999,
          0.8285539109503055,
          -0.9556988156338944,
          0.26993914631785376,
          1.6612988923136256,
          1.8673692783054838,
          0.1703047543741212,
          0.10419548706774773,
          1.493028106474792,
          -0.19972529062259206,
          0.6767496283953335,
          1.343120362942058,
          -0.9575416854653955,
          -0.1994517851046536,
          1.1919198212656719,
          0.818165303586279,
          -0.6319738037873451,
          2.0339419821750973,
          0.47608984908468793,
          0.22305523092094434,
          -1.1493007094220875,
          0.12564065883300984,
          1.6207498207631248,
          -1.557883718629152,
          0.28186281406346203,
          1.1383559061464599,
          1.2928154142070365,
          -0.9419733904870756,
          0.569694582494328,
          0.33830883374494275,
          -0.7718093304189237,
          -1.8162997209099536,
          -0.527054219417872,
          -0.832440904908529,
          0.4627592260315701,
          -0.13627938557034916,
          0.26658358687847716,
          -0.5053891870823346,
          0.6023780464733511,
          -0.3381825759471592,
          -1.216122566939081,
          -0.4812017331363412,
          1.452077473551976,
          0.3492716413152897,
          -0.5377528030314477,
          -0.2809456526948875,
          -0.4631595484127176,
          0.31725211058710023,
          -1.9845954424006462,
          0.6840464547566846,
          0.33902361943784204
         ],
         "xaxis": "x7",
         "y": [
          -2.4154271826055687,
          0.2281163742403504,
          1.023638806068143,
          -0.42311682261393985,
          1.0460920365897521,
          0.014379125674698972,
          -1.0024753274980267,
          1.2970651067413772,
          -1.4876062324008748,
          -1.2787134920238905,
          -2.255927984437855,
          0.3917658809386741,
          0.8254925127903598,
          0.5167247505647817,
          -0.37885329612876756,
          -1.4465545453597755,
          1.283402522449017,
          -0.13883342228836232,
          -0.819263241038832,
          -0.2875102463290612,
          -0.6084972801612889,
          0.60097337047301,
          -0.38951842733027325,
          1.1383351179567085,
          0.5303220825477065,
          -1.2702935398670259,
          -0.5216055214220926,
          -0.33849718969494463,
          -0.31043838587410905,
          0.1861750117058042,
          -1.3367601455296272,
          -0.13539319664272512,
          -0.04826911800939443,
          1.0137197495851988,
          0.40239706746935344,
          -0.33824853753891115,
          -1.2044670928003556,
          1.2457273930479194,
          -0.3034148106261058,
          0.5007964524725353,
          0.6061265061918621,
          0.10666541063424463,
          -2.555083787197274,
          0.9531398284577858,
          0.8398465183168621,
          0.9303183779340494,
          0.7858951323348161,
          2.527869377884583,
          -0.6051809428312591,
          -0.5272869417373718,
          2.3439665972310224,
          -1.2122096114782646,
          -1.2007273327736605,
          -0.8394630308996531,
          1.02019968517285,
          0.9534146859616777,
          0.056861705035020686,
          -2.003762067954828,
          -0.17404675080271992,
          1.1867630462507908,
          -0.901771137497407,
          1.5324198527172153,
          0.7134995518226834,
          -0.9369721788688021,
          -0.13809992304297572,
          0.3676970458870487,
          -0.009408068072079542,
          -0.22749233880224112,
          1.2160209293891586,
          0.6560409767607005,
          -0.608297820845587,
          0.02471522606611033,
          -0.23314164833860315,
          -0.021381677697893738,
          -1.3206072599621494,
          0.36257703524638424,
          -0.6079356241638769,
          -0.3052512546185061,
          0.3762701311102944,
          0.5832649361771575,
          1.9959564462294366,
          1.4640554173951212,
          -1.0768809643150925,
          0.6393538090437333,
          -2.0425454096017623,
          1.2458691168533944,
          -0.5559855700539201,
          -0.07969304470464499,
          -1.3143013832539345,
          0.12107507633181926,
          0.9639635187378766,
          -0.3194262744208612,
          1.657384793065372,
          -0.9984958934522816,
          -0.28060915556170324,
          0.2032552162774426,
          0.25289516322159433,
          0.13845611158751048,
          0.5732709988184584,
          -0.14753713877560354
         ],
         "yaxis": "y7"
        },
        {
         "line": {
          "color": "rgba(128, 128, 128, 1.0)",
          "dash": "solid",
          "shape": "linear",
          "width": 1.3
         },
         "marker": {
          "size": 2,
          "symbol": "circle"
         },
         "mode": "markers",
         "name": "B",
         "text": "",
         "type": "scatter",
         "x": [
          -1.2359855837844993,
          -1.3565000730262446,
          0.5808543791361195,
          0.517960669672099,
          1.3100661612435043,
          -1.0523215058338327,
          0.03874381970918687,
          0.4746715461817965,
          0.20572081984625887,
          -0.2550652617067661,
          -1.0944555440338883,
          -0.07102029966833753,
          1.6523626350965817,
          1.2586601929850905,
          0.6286550560191307,
          0.5996585130594111,
          0.08323696649269624,
          0.4946950359410362,
          -1.7023550273834205,
          -0.10090686292260698,
          -0.04104445939723555,
          0.8169264813883685,
          -0.18309598292488616,
          0.7675347533357908,
          -0.7849145744957643,
          0.2175021592277963,
          -1.8098388047322989,
          -0.15760627217239695,
          0.6648946941171906,
          -0.26473281783821323,
          -0.5254749746201199,
          -1.3148454891937245,
          -0.2216245994163635,
          0.23367654323740733,
          0.06243652317531484,
          0.4097676076146735,
          -2.1175550169769606,
          0.9124294824623688,
          -0.26653877709534507,
          0.33119801912632685,
          0.1889527706557953,
          1.9987970643057387,
          -0.3626622468456089,
          -1.3236859634110174,
          -0.1669033683022175,
          -0.17385874607726262,
          -0.3500538967874222,
          -0.567309967393333,
          0.7303462219629867,
          0.6641377568817323,
          -1.917897491533714,
          0.010601795106177462,
          0.6567204220559013,
          -0.22211412897764646,
          1.5056442905604603,
          0.10234325985126748,
          0.6148640320419358,
          0.4239039005467839,
          1.396124056376324,
          0.7393930442459123,
          -0.29505678600560303,
          0.5967198803864783,
          -0.2929435341856442,
          -0.21643056691667753,
          -0.040657885172045674,
          0.9275522036098794,
          -0.5572033838964305,
          1.2614169612151802,
          0.9861877911762481,
          -0.8609916887718085,
          1.6577821753353164,
          -1.1706054305347073,
          -2.039104991483795,
          0.101652577011143,
          -0.33096453049201446,
          -0.24238742236176442,
          -0.614658908074277,
          0.6833024433372668,
          -1.897348458924881,
          0.7720752581125835,
          -0.20980699751151988,
          1.0735052581763462,
          0.4213954895542332,
          0.44819662458866577,
          0.055553289819388375,
          1.2543391415006115,
          -0.8766186288812203,
          -0.44139741543658567,
          -0.38483713260064706,
          0.6460054239742792,
          -0.11663002491925503,
          -0.5612255691473144,
          -0.11661356734924128,
          -0.06528392923463709,
          -1.1943348197594,
          0.49956150576740393,
          0.720107127645793,
          0.5412915956172295,
          0.08759720239739159,
          0.6477219852900776
         ],
         "xaxis": "x8",
         "y": [
          -2.4154271826055687,
          0.2281163742403504,
          1.023638806068143,
          -0.42311682261393985,
          1.0460920365897521,
          0.014379125674698972,
          -1.0024753274980267,
          1.2970651067413772,
          -1.4876062324008748,
          -1.2787134920238905,
          -2.255927984437855,
          0.3917658809386741,
          0.8254925127903598,
          0.5167247505647817,
          -0.37885329612876756,
          -1.4465545453597755,
          1.283402522449017,
          -0.13883342228836232,
          -0.819263241038832,
          -0.2875102463290612,
          -0.6084972801612889,
          0.60097337047301,
          -0.38951842733027325,
          1.1383351179567085,
          0.5303220825477065,
          -1.2702935398670259,
          -0.5216055214220926,
          -0.33849718969494463,
          -0.31043838587410905,
          0.1861750117058042,
          -1.3367601455296272,
          -0.13539319664272512,
          -0.04826911800939443,
          1.0137197495851988,
          0.40239706746935344,
          -0.33824853753891115,
          -1.2044670928003556,
          1.2457273930479194,
          -0.3034148106261058,
          0.5007964524725353,
          0.6061265061918621,
          0.10666541063424463,
          -2.555083787197274,
          0.9531398284577858,
          0.8398465183168621,
          0.9303183779340494,
          0.7858951323348161,
          2.527869377884583,
          -0.6051809428312591,
          -0.5272869417373718,
          2.3439665972310224,
          -1.2122096114782646,
          -1.2007273327736605,
          -0.8394630308996531,
          1.02019968517285,
          0.9534146859616777,
          0.056861705035020686,
          -2.003762067954828,
          -0.17404675080271992,
          1.1867630462507908,
          -0.901771137497407,
          1.5324198527172153,
          0.7134995518226834,
          -0.9369721788688021,
          -0.13809992304297572,
          0.3676970458870487,
          -0.009408068072079542,
          -0.22749233880224112,
          1.2160209293891586,
          0.6560409767607005,
          -0.608297820845587,
          0.02471522606611033,
          -0.23314164833860315,
          -0.021381677697893738,
          -1.3206072599621494,
          0.36257703524638424,
          -0.6079356241638769,
          -0.3052512546185061,
          0.3762701311102944,
          0.5832649361771575,
          1.9959564462294366,
          1.4640554173951212,
          -1.0768809643150925,
          0.6393538090437333,
          -2.0425454096017623,
          1.2458691168533944,
          -0.5559855700539201,
          -0.07969304470464499,
          -1.3143013832539345,
          0.12107507633181926,
          0.9639635187378766,
          -0.3194262744208612,
          1.657384793065372,
          -0.9984958934522816,
          -0.28060915556170324,
          0.2032552162774426,
          0.25289516322159433,
          0.13845611158751048,
          0.5732709988184584,
          -0.14753713877560354
         ],
         "yaxis": "y8"
        },
        {
         "line": {
          "color": "rgba(128, 128, 128, 1.0)",
          "dash": "solid",
          "shape": "linear",
          "width": 1.3
         },
         "marker": {
          "size": 2,
          "symbol": "circle"
         },
         "mode": "markers",
         "name": "C",
         "text": "",
         "type": "scatter",
         "x": [
          -0.8028561302251124,
          1.479302388301489,
          0.09259836950276953,
          -0.512200866745337,
          0.8576238983724528,
          0.6085497404944062,
          -0.788223295517952,
          0.9761665209278051,
          2.238690887893208,
          1.3490247594088083,
          0.737059096870889,
          0.3026134531782889,
          -0.7957217706029994,
          0.33823616570030324,
          0.19196824309714583,
          -0.4698312480273544,
          0.4301162469854865,
          1.1815924579324193,
          0.2274535937715395,
          -1.5943306169668727,
          0.12493303310468025,
          0.7975876609059102,
          0.09593279290044807,
          -0.19719809096164162,
          1.6565466613065052,
          0.4501760595795119,
          -0.02886866437548703,
          0.16505807536954564,
          1.124836055486245,
          2.049975322070444,
          -0.033165046880216376,
          0.7801630412932541,
          0.028285298355942425,
          -1.2989262631774416,
          1.3012174059227228,
          0.15728220307540158,
          -0.31316077721117375,
          -1.1747533327607587,
          1.7069413233814477,
          0.07419368467184914,
          -1.147529248600138,
          0.30864584269972306,
          -1.2793699272497943,
          -1.1249859442345558,
          0.2831314824771736,
          -0.18716951345172192,
          -1.090356868475828,
          1.9293517124623794,
          2.3684113403376057,
          -0.7988882319337831,
          1.6038153380009872,
          -1.2288347702724813,
          -1.201690996947852,
          -0.6607024240946915,
          1.8446345228914234,
          -0.9936737748233865,
          0.4870909728145924,
          0.0635477755521646,
          0.32357734017082884,
          0.06832369257774945,
          1.103825118434115,
          -0.7645127908507001,
          -1.3676473832933946,
          0.46402104480674794,
          0.15452847403977235,
          -0.6061958034619276,
          0.22205129416545974,
          -0.7962583172868609,
          -1.5584080382815726,
          0.5989046805601863,
          -0.6782957556343797,
          0.18020677123740392,
          0.19287312831057887,
          -0.1369071911530954,
          -1.0966518041958313,
          -0.4137103383439439,
          0.8408784953202832,
          -0.26466856360948776,
          -2.599861296100724,
          -0.543503678619246,
          -1.0601507878835457,
          -1.4366314663310211,
          -0.5783918179279967,
          -0.35904402150393355,
          -0.8532029670981947,
          -0.0668865536827716,
          0.3482385301768811,
          -0.43769557904928835,
          1.5562474048025967,
          -1.2058652048168754,
          0.012743990748052518,
          0.0525324102625891,
          0.40393559040764987,
          -0.3194053660387816,
          -0.7515950497771627,
          -1.6911968013479222,
          -1.0664557829608285,
          -1.4918263253090283,
          0.44400403329900645,
          -0.5245696570792404
         ],
         "xaxis": "x9",
         "y": [
          1.0266479716476482,
          1.432038494344584,
          2.331077558724533,
          1.4250911342219454,
          2.0072483013459452,
          -1.5355702894548662,
          1.9064878082497931,
          -0.22830457499663384,
          -1.380984325977485,
          -0.690813533252461,
          0.33163005186653344,
          -0.07648218111385366,
          -1.4615567095380366,
          1.0877525351023425,
          -1.4765205673594637,
          -0.30155231211391387,
          1.2158066585855902,
          0.981146625848748,
          0.3549076968165471,
          -0.7858397002909925,
          -0.8825752683977601,
          0.22346856404904056,
          -0.09178213155203006,
          -0.1872221896032133,
          -1.2680354368620395,
          0.7110138719456527,
          1.3107064840395686,
          0.4743786831492211,
          1.0032295353665603,
          0.2950115996601164,
          0.7647363192145541,
          -0.42400982230862516,
          0.6941600609698834,
          -0.3759666165637017,
          -0.8817739374777922,
          1.878204465740685,
          0.31368795063932947,
          1.8358602205190375,
          1.497086766456587,
          -0.017915509870727958,
          0.5220295904050539,
          -0.7780347842393094,
          0.5142705640323211,
          0.44772560497420527,
          -0.7654367620323748,
          -0.3128829174094753,
          -0.9370846838882704,
          1.9008753775511973,
          0.6973864139756631,
          -0.4874991247259999,
          0.8285539109503055,
          -0.9556988156338944,
          0.26993914631785376,
          1.6612988923136256,
          1.8673692783054838,
          0.1703047543741212,
          0.10419548706774773,
          1.493028106474792,
          -0.19972529062259206,
          0.6767496283953335,
          1.343120362942058,
          -0.9575416854653955,
          -0.1994517851046536,
          1.1919198212656719,
          0.818165303586279,
          -0.6319738037873451,
          2.0339419821750973,
          0.47608984908468793,
          0.22305523092094434,
          -1.1493007094220875,
          0.12564065883300984,
          1.6207498207631248,
          -1.557883718629152,
          0.28186281406346203,
          1.1383559061464599,
          1.2928154142070365,
          -0.9419733904870756,
          0.569694582494328,
          0.33830883374494275,
          -0.7718093304189237,
          -1.8162997209099536,
          -0.527054219417872,
          -0.832440904908529,
          0.4627592260315701,
          -0.13627938557034916,
          0.26658358687847716,
          -0.5053891870823346,
          0.6023780464733511,
          -0.3381825759471592,
          -1.216122566939081,
          -0.4812017331363412,
          1.452077473551976,
          0.3492716413152897,
          -0.5377528030314477,
          -0.2809456526948875,
          -0.4631595484127176,
          0.31725211058710023,
          -1.9845954424006462,
          0.6840464547566846,
          0.33902361943784204
         ],
         "yaxis": "y9"
        },
        {
         "line": {
          "color": "rgba(128, 128, 128, 1.0)",
          "dash": "solid",
          "shape": "linear",
          "width": 1.3
         },
         "marker": {
          "size": 2,
          "symbol": "circle"
         },
         "mode": "markers",
         "name": "C",
         "text": "",
         "type": "scatter",
         "x": [
          -2.4154271826055687,
          0.2281163742403504,
          1.023638806068143,
          -0.42311682261393985,
          1.0460920365897521,
          0.014379125674698972,
          -1.0024753274980267,
          1.2970651067413772,
          -1.4876062324008748,
          -1.2787134920238905,
          -2.255927984437855,
          0.3917658809386741,
          0.8254925127903598,
          0.5167247505647817,
          -0.37885329612876756,
          -1.4465545453597755,
          1.283402522449017,
          -0.13883342228836232,
          -0.819263241038832,
          -0.2875102463290612,
          -0.6084972801612889,
          0.60097337047301,
          -0.38951842733027325,
          1.1383351179567085,
          0.5303220825477065,
          -1.2702935398670259,
          -0.5216055214220926,
          -0.33849718969494463,
          -0.31043838587410905,
          0.1861750117058042,
          -1.3367601455296272,
          -0.13539319664272512,
          -0.04826911800939443,
          1.0137197495851988,
          0.40239706746935344,
          -0.33824853753891115,
          -1.2044670928003556,
          1.2457273930479194,
          -0.3034148106261058,
          0.5007964524725353,
          0.6061265061918621,
          0.10666541063424463,
          -2.555083787197274,
          0.9531398284577858,
          0.8398465183168621,
          0.9303183779340494,
          0.7858951323348161,
          2.527869377884583,
          -0.6051809428312591,
          -0.5272869417373718,
          2.3439665972310224,
          -1.2122096114782646,
          -1.2007273327736605,
          -0.8394630308996531,
          1.02019968517285,
          0.9534146859616777,
          0.056861705035020686,
          -2.003762067954828,
          -0.17404675080271992,
          1.1867630462507908,
          -0.901771137497407,
          1.5324198527172153,
          0.7134995518226834,
          -0.9369721788688021,
          -0.13809992304297572,
          0.3676970458870487,
          -0.009408068072079542,
          -0.22749233880224112,
          1.2160209293891586,
          0.6560409767607005,
          -0.608297820845587,
          0.02471522606611033,
          -0.23314164833860315,
          -0.021381677697893738,
          -1.3206072599621494,
          0.36257703524638424,
          -0.6079356241638769,
          -0.3052512546185061,
          0.3762701311102944,
          0.5832649361771575,
          1.9959564462294366,
          1.4640554173951212,
          -1.0768809643150925,
          0.6393538090437333,
          -2.0425454096017623,
          1.2458691168533944,
          -0.5559855700539201,
          -0.07969304470464499,
          -1.3143013832539345,
          0.12107507633181926,
          0.9639635187378766,
          -0.3194262744208612,
          1.657384793065372,
          -0.9984958934522816,
          -0.28060915556170324,
          0.2032552162774426,
          0.25289516322159433,
          0.13845611158751048,
          0.5732709988184584,
          -0.14753713877560354
         ],
         "xaxis": "x10",
         "y": [
          1.0266479716476482,
          1.432038494344584,
          2.331077558724533,
          1.4250911342219454,
          2.0072483013459452,
          -1.5355702894548662,
          1.9064878082497931,
          -0.22830457499663384,
          -1.380984325977485,
          -0.690813533252461,
          0.33163005186653344,
          -0.07648218111385366,
          -1.4615567095380366,
          1.0877525351023425,
          -1.4765205673594637,
          -0.30155231211391387,
          1.2158066585855902,
          0.981146625848748,
          0.3549076968165471,
          -0.7858397002909925,
          -0.8825752683977601,
          0.22346856404904056,
          -0.09178213155203006,
          -0.1872221896032133,
          -1.2680354368620395,
          0.7110138719456527,
          1.3107064840395686,
          0.4743786831492211,
          1.0032295353665603,
          0.2950115996601164,
          0.7647363192145541,
          -0.42400982230862516,
          0.6941600609698834,
          -0.3759666165637017,
          -0.8817739374777922,
          1.878204465740685,
          0.31368795063932947,
          1.8358602205190375,
          1.497086766456587,
          -0.017915509870727958,
          0.5220295904050539,
          -0.7780347842393094,
          0.5142705640323211,
          0.44772560497420527,
          -0.7654367620323748,
          -0.3128829174094753,
          -0.9370846838882704,
          1.9008753775511973,
          0.6973864139756631,
          -0.4874991247259999,
          0.8285539109503055,
          -0.9556988156338944,
          0.26993914631785376,
          1.6612988923136256,
          1.8673692783054838,
          0.1703047543741212,
          0.10419548706774773,
          1.493028106474792,
          -0.19972529062259206,
          0.6767496283953335,
          1.343120362942058,
          -0.9575416854653955,
          -0.1994517851046536,
          1.1919198212656719,
          0.818165303586279,
          -0.6319738037873451,
          2.0339419821750973,
          0.47608984908468793,
          0.22305523092094434,
          -1.1493007094220875,
          0.12564065883300984,
          1.6207498207631248,
          -1.557883718629152,
          0.28186281406346203,
          1.1383559061464599,
          1.2928154142070365,
          -0.9419733904870756,
          0.569694582494328,
          0.33830883374494275,
          -0.7718093304189237,
          -1.8162997209099536,
          -0.527054219417872,
          -0.832440904908529,
          0.4627592260315701,
          -0.13627938557034916,
          0.26658358687847716,
          -0.5053891870823346,
          0.6023780464733511,
          -0.3381825759471592,
          -1.216122566939081,
          -0.4812017331363412,
          1.452077473551976,
          0.3492716413152897,
          -0.5377528030314477,
          -0.2809456526948875,
          -0.4631595484127176,
          0.31725211058710023,
          -1.9845954424006462,
          0.6840464547566846,
          0.33902361943784204
         ],
         "yaxis": "y10"
        },
        {
         "histfunc": "count",
         "histnorm": "",
         "marker": {
          "color": "rgba(50, 171, 96, 1.0)",
          "line": {
           "color": "#4D5663",
           "width": 1.3
          }
         },
         "name": "C",
         "nbinsx": 10,
         "opacity": 0.8,
         "orientation": "v",
         "type": "histogram",
         "x": [
          1.0266479716476482,
          1.432038494344584,
          2.331077558724533,
          1.4250911342219454,
          2.0072483013459452,
          -1.5355702894548662,
          1.9064878082497931,
          -0.22830457499663384,
          -1.380984325977485,
          -0.690813533252461,
          0.33163005186653344,
          -0.07648218111385366,
          -1.4615567095380366,
          1.0877525351023425,
          -1.4765205673594637,
          -0.30155231211391387,
          1.2158066585855902,
          0.981146625848748,
          0.3549076968165471,
          -0.7858397002909925,
          -0.8825752683977601,
          0.22346856404904056,
          -0.09178213155203006,
          -0.1872221896032133,
          -1.2680354368620395,
          0.7110138719456527,
          1.3107064840395686,
          0.4743786831492211,
          1.0032295353665603,
          0.2950115996601164,
          0.7647363192145541,
          -0.42400982230862516,
          0.6941600609698834,
          -0.3759666165637017,
          -0.8817739374777922,
          1.878204465740685,
          0.31368795063932947,
          1.8358602205190375,
          1.497086766456587,
          -0.017915509870727958,
          0.5220295904050539,
          -0.7780347842393094,
          0.5142705640323211,
          0.44772560497420527,
          -0.7654367620323748,
          -0.3128829174094753,
          -0.9370846838882704,
          1.9008753775511973,
          0.6973864139756631,
          -0.4874991247259999,
          0.8285539109503055,
          -0.9556988156338944,
          0.26993914631785376,
          1.6612988923136256,
          1.8673692783054838,
          0.1703047543741212,
          0.10419548706774773,
          1.493028106474792,
          -0.19972529062259206,
          0.6767496283953335,
          1.343120362942058,
          -0.9575416854653955,
          -0.1994517851046536,
          1.1919198212656719,
          0.818165303586279,
          -0.6319738037873451,
          2.0339419821750973,
          0.47608984908468793,
          0.22305523092094434,
          -1.1493007094220875,
          0.12564065883300984,
          1.6207498207631248,
          -1.557883718629152,
          0.28186281406346203,
          1.1383559061464599,
          1.2928154142070365,
          -0.9419733904870756,
          0.569694582494328,
          0.33830883374494275,
          -0.7718093304189237,
          -1.8162997209099536,
          -0.527054219417872,
          -0.832440904908529,
          0.4627592260315701,
          -0.13627938557034916,
          0.26658358687847716,
          -0.5053891870823346,
          0.6023780464733511,
          -0.3381825759471592,
          -1.216122566939081,
          -0.4812017331363412,
          1.452077473551976,
          0.3492716413152897,
          -0.5377528030314477,
          -0.2809456526948875,
          -0.4631595484127176,
          0.31725211058710023,
          -1.9845954424006462,
          0.6840464547566846,
          0.33902361943784204
         ],
         "xaxis": "x11",
         "yaxis": "y11"
        },
        {
         "line": {
          "color": "rgba(128, 128, 128, 1.0)",
          "dash": "solid",
          "shape": "linear",
          "width": 1.3
         },
         "marker": {
          "size": 2,
          "symbol": "circle"
         },
         "mode": "markers",
         "name": "C",
         "text": "",
         "type": "scatter",
         "x": [
          -1.2359855837844993,
          -1.3565000730262446,
          0.5808543791361195,
          0.517960669672099,
          1.3100661612435043,
          -1.0523215058338327,
          0.03874381970918687,
          0.4746715461817965,
          0.20572081984625887,
          -0.2550652617067661,
          -1.0944555440338883,
          -0.07102029966833753,
          1.6523626350965817,
          1.2586601929850905,
          0.6286550560191307,
          0.5996585130594111,
          0.08323696649269624,
          0.4946950359410362,
          -1.7023550273834205,
          -0.10090686292260698,
          -0.04104445939723555,
          0.8169264813883685,
          -0.18309598292488616,
          0.7675347533357908,
          -0.7849145744957643,
          0.2175021592277963,
          -1.8098388047322989,
          -0.15760627217239695,
          0.6648946941171906,
          -0.26473281783821323,
          -0.5254749746201199,
          -1.3148454891937245,
          -0.2216245994163635,
          0.23367654323740733,
          0.06243652317531484,
          0.4097676076146735,
          -2.1175550169769606,
          0.9124294824623688,
          -0.26653877709534507,
          0.33119801912632685,
          0.1889527706557953,
          1.9987970643057387,
          -0.3626622468456089,
          -1.3236859634110174,
          -0.1669033683022175,
          -0.17385874607726262,
          -0.3500538967874222,
          -0.567309967393333,
          0.7303462219629867,
          0.6641377568817323,
          -1.917897491533714,
          0.010601795106177462,
          0.6567204220559013,
          -0.22211412897764646,
          1.5056442905604603,
          0.10234325985126748,
          0.6148640320419358,
          0.4239039005467839,
          1.396124056376324,
          0.7393930442459123,
          -0.29505678600560303,
          0.5967198803864783,
          -0.2929435341856442,
          -0.21643056691667753,
          -0.040657885172045674,
          0.9275522036098794,
          -0.5572033838964305,
          1.2614169612151802,
          0.9861877911762481,
          -0.8609916887718085,
          1.6577821753353164,
          -1.1706054305347073,
          -2.039104991483795,
          0.101652577011143,
          -0.33096453049201446,
          -0.24238742236176442,
          -0.614658908074277,
          0.6833024433372668,
          -1.897348458924881,
          0.7720752581125835,
          -0.20980699751151988,
          1.0735052581763462,
          0.4213954895542332,
          0.44819662458866577,
          0.055553289819388375,
          1.2543391415006115,
          -0.8766186288812203,
          -0.44139741543658567,
          -0.38483713260064706,
          0.6460054239742792,
          -0.11663002491925503,
          -0.5612255691473144,
          -0.11661356734924128,
          -0.06528392923463709,
          -1.1943348197594,
          0.49956150576740393,
          0.720107127645793,
          0.5412915956172295,
          0.08759720239739159,
          0.6477219852900776
         ],
         "xaxis": "x12",
         "y": [
          1.0266479716476482,
          1.432038494344584,
          2.331077558724533,
          1.4250911342219454,
          2.0072483013459452,
          -1.5355702894548662,
          1.9064878082497931,
          -0.22830457499663384,
          -1.380984325977485,
          -0.690813533252461,
          0.33163005186653344,
          -0.07648218111385366,
          -1.4615567095380366,
          1.0877525351023425,
          -1.4765205673594637,
          -0.30155231211391387,
          1.2158066585855902,
          0.981146625848748,
          0.3549076968165471,
          -0.7858397002909925,
          -0.8825752683977601,
          0.22346856404904056,
          -0.09178213155203006,
          -0.1872221896032133,
          -1.2680354368620395,
          0.7110138719456527,
          1.3107064840395686,
          0.4743786831492211,
          1.0032295353665603,
          0.2950115996601164,
          0.7647363192145541,
          -0.42400982230862516,
          0.6941600609698834,
          -0.3759666165637017,
          -0.8817739374777922,
          1.878204465740685,
          0.31368795063932947,
          1.8358602205190375,
          1.497086766456587,
          -0.017915509870727958,
          0.5220295904050539,
          -0.7780347842393094,
          0.5142705640323211,
          0.44772560497420527,
          -0.7654367620323748,
          -0.3128829174094753,
          -0.9370846838882704,
          1.9008753775511973,
          0.6973864139756631,
          -0.4874991247259999,
          0.8285539109503055,
          -0.9556988156338944,
          0.26993914631785376,
          1.6612988923136256,
          1.8673692783054838,
          0.1703047543741212,
          0.10419548706774773,
          1.493028106474792,
          -0.19972529062259206,
          0.6767496283953335,
          1.343120362942058,
          -0.9575416854653955,
          -0.1994517851046536,
          1.1919198212656719,
          0.818165303586279,
          -0.6319738037873451,
          2.0339419821750973,
          0.47608984908468793,
          0.22305523092094434,
          -1.1493007094220875,
          0.12564065883300984,
          1.6207498207631248,
          -1.557883718629152,
          0.28186281406346203,
          1.1383559061464599,
          1.2928154142070365,
          -0.9419733904870756,
          0.569694582494328,
          0.33830883374494275,
          -0.7718093304189237,
          -1.8162997209099536,
          -0.527054219417872,
          -0.832440904908529,
          0.4627592260315701,
          -0.13627938557034916,
          0.26658358687847716,
          -0.5053891870823346,
          0.6023780464733511,
          -0.3381825759471592,
          -1.216122566939081,
          -0.4812017331363412,
          1.452077473551976,
          0.3492716413152897,
          -0.5377528030314477,
          -0.2809456526948875,
          -0.4631595484127176,
          0.31725211058710023,
          -1.9845954424006462,
          0.6840464547566846,
          0.33902361943784204
         ],
         "yaxis": "y12"
        },
        {
         "line": {
          "color": "rgba(128, 128, 128, 1.0)",
          "dash": "solid",
          "shape": "linear",
          "width": 1.3
         },
         "marker": {
          "size": 2,
          "symbol": "circle"
         },
         "mode": "markers",
         "name": "D",
         "text": "",
         "type": "scatter",
         "x": [
          -0.8028561302251124,
          1.479302388301489,
          0.09259836950276953,
          -0.512200866745337,
          0.8576238983724528,
          0.6085497404944062,
          -0.788223295517952,
          0.9761665209278051,
          2.238690887893208,
          1.3490247594088083,
          0.737059096870889,
          0.3026134531782889,
          -0.7957217706029994,
          0.33823616570030324,
          0.19196824309714583,
          -0.4698312480273544,
          0.4301162469854865,
          1.1815924579324193,
          0.2274535937715395,
          -1.5943306169668727,
          0.12493303310468025,
          0.7975876609059102,
          0.09593279290044807,
          -0.19719809096164162,
          1.6565466613065052,
          0.4501760595795119,
          -0.02886866437548703,
          0.16505807536954564,
          1.124836055486245,
          2.049975322070444,
          -0.033165046880216376,
          0.7801630412932541,
          0.028285298355942425,
          -1.2989262631774416,
          1.3012174059227228,
          0.15728220307540158,
          -0.31316077721117375,
          -1.1747533327607587,
          1.7069413233814477,
          0.07419368467184914,
          -1.147529248600138,
          0.30864584269972306,
          -1.2793699272497943,
          -1.1249859442345558,
          0.2831314824771736,
          -0.18716951345172192,
          -1.090356868475828,
          1.9293517124623794,
          2.3684113403376057,
          -0.7988882319337831,
          1.6038153380009872,
          -1.2288347702724813,
          -1.201690996947852,
          -0.6607024240946915,
          1.8446345228914234,
          -0.9936737748233865,
          0.4870909728145924,
          0.0635477755521646,
          0.32357734017082884,
          0.06832369257774945,
          1.103825118434115,
          -0.7645127908507001,
          -1.3676473832933946,
          0.46402104480674794,
          0.15452847403977235,
          -0.6061958034619276,
          0.22205129416545974,
          -0.7962583172868609,
          -1.5584080382815726,
          0.5989046805601863,
          -0.6782957556343797,
          0.18020677123740392,
          0.19287312831057887,
          -0.1369071911530954,
          -1.0966518041958313,
          -0.4137103383439439,
          0.8408784953202832,
          -0.26466856360948776,
          -2.599861296100724,
          -0.543503678619246,
          -1.0601507878835457,
          -1.4366314663310211,
          -0.5783918179279967,
          -0.35904402150393355,
          -0.8532029670981947,
          -0.0668865536827716,
          0.3482385301768811,
          -0.43769557904928835,
          1.5562474048025967,
          -1.2058652048168754,
          0.012743990748052518,
          0.0525324102625891,
          0.40393559040764987,
          -0.3194053660387816,
          -0.7515950497771627,
          -1.6911968013479222,
          -1.0664557829608285,
          -1.4918263253090283,
          0.44400403329900645,
          -0.5245696570792404
         ],
         "xaxis": "x13",
         "y": [
          -1.2359855837844993,
          -1.3565000730262446,
          0.5808543791361195,
          0.517960669672099,
          1.3100661612435043,
          -1.0523215058338327,
          0.03874381970918687,
          0.4746715461817965,
          0.20572081984625887,
          -0.2550652617067661,
          -1.0944555440338883,
          -0.07102029966833753,
          1.6523626350965817,
          1.2586601929850905,
          0.6286550560191307,
          0.5996585130594111,
          0.08323696649269624,
          0.4946950359410362,
          -1.7023550273834205,
          -0.10090686292260698,
          -0.04104445939723555,
          0.8169264813883685,
          -0.18309598292488616,
          0.7675347533357908,
          -0.7849145744957643,
          0.2175021592277963,
          -1.8098388047322989,
          -0.15760627217239695,
          0.6648946941171906,
          -0.26473281783821323,
          -0.5254749746201199,
          -1.3148454891937245,
          -0.2216245994163635,
          0.23367654323740733,
          0.06243652317531484,
          0.4097676076146735,
          -2.1175550169769606,
          0.9124294824623688,
          -0.26653877709534507,
          0.33119801912632685,
          0.1889527706557953,
          1.9987970643057387,
          -0.3626622468456089,
          -1.3236859634110174,
          -0.1669033683022175,
          -0.17385874607726262,
          -0.3500538967874222,
          -0.567309967393333,
          0.7303462219629867,
          0.6641377568817323,
          -1.917897491533714,
          0.010601795106177462,
          0.6567204220559013,
          -0.22211412897764646,
          1.5056442905604603,
          0.10234325985126748,
          0.6148640320419358,
          0.4239039005467839,
          1.396124056376324,
          0.7393930442459123,
          -0.29505678600560303,
          0.5967198803864783,
          -0.2929435341856442,
          -0.21643056691667753,
          -0.040657885172045674,
          0.9275522036098794,
          -0.5572033838964305,
          1.2614169612151802,
          0.9861877911762481,
          -0.8609916887718085,
          1.6577821753353164,
          -1.1706054305347073,
          -2.039104991483795,
          0.101652577011143,
          -0.33096453049201446,
          -0.24238742236176442,
          -0.614658908074277,
          0.6833024433372668,
          -1.897348458924881,
          0.7720752581125835,
          -0.20980699751151988,
          1.0735052581763462,
          0.4213954895542332,
          0.44819662458866577,
          0.055553289819388375,
          1.2543391415006115,
          -0.8766186288812203,
          -0.44139741543658567,
          -0.38483713260064706,
          0.6460054239742792,
          -0.11663002491925503,
          -0.5612255691473144,
          -0.11661356734924128,
          -0.06528392923463709,
          -1.1943348197594,
          0.49956150576740393,
          0.720107127645793,
          0.5412915956172295,
          0.08759720239739159,
          0.6477219852900776
         ],
         "yaxis": "y13"
        },
        {
         "line": {
          "color": "rgba(128, 128, 128, 1.0)",
          "dash": "solid",
          "shape": "linear",
          "width": 1.3
         },
         "marker": {
          "size": 2,
          "symbol": "circle"
         },
         "mode": "markers",
         "name": "D",
         "text": "",
         "type": "scatter",
         "x": [
          -2.4154271826055687,
          0.2281163742403504,
          1.023638806068143,
          -0.42311682261393985,
          1.0460920365897521,
          0.014379125674698972,
          -1.0024753274980267,
          1.2970651067413772,
          -1.4876062324008748,
          -1.2787134920238905,
          -2.255927984437855,
          0.3917658809386741,
          0.8254925127903598,
          0.5167247505647817,
          -0.37885329612876756,
          -1.4465545453597755,
          1.283402522449017,
          -0.13883342228836232,
          -0.819263241038832,
          -0.2875102463290612,
          -0.6084972801612889,
          0.60097337047301,
          -0.38951842733027325,
          1.1383351179567085,
          0.5303220825477065,
          -1.2702935398670259,
          -0.5216055214220926,
          -0.33849718969494463,
          -0.31043838587410905,
          0.1861750117058042,
          -1.3367601455296272,
          -0.13539319664272512,
          -0.04826911800939443,
          1.0137197495851988,
          0.40239706746935344,
          -0.33824853753891115,
          -1.2044670928003556,
          1.2457273930479194,
          -0.3034148106261058,
          0.5007964524725353,
          0.6061265061918621,
          0.10666541063424463,
          -2.555083787197274,
          0.9531398284577858,
          0.8398465183168621,
          0.9303183779340494,
          0.7858951323348161,
          2.527869377884583,
          -0.6051809428312591,
          -0.5272869417373718,
          2.3439665972310224,
          -1.2122096114782646,
          -1.2007273327736605,
          -0.8394630308996531,
          1.02019968517285,
          0.9534146859616777,
          0.056861705035020686,
          -2.003762067954828,
          -0.17404675080271992,
          1.1867630462507908,
          -0.901771137497407,
          1.5324198527172153,
          0.7134995518226834,
          -0.9369721788688021,
          -0.13809992304297572,
          0.3676970458870487,
          -0.009408068072079542,
          -0.22749233880224112,
          1.2160209293891586,
          0.6560409767607005,
          -0.608297820845587,
          0.02471522606611033,
          -0.23314164833860315,
          -0.021381677697893738,
          -1.3206072599621494,
          0.36257703524638424,
          -0.6079356241638769,
          -0.3052512546185061,
          0.3762701311102944,
          0.5832649361771575,
          1.9959564462294366,
          1.4640554173951212,
          -1.0768809643150925,
          0.6393538090437333,
          -2.0425454096017623,
          1.2458691168533944,
          -0.5559855700539201,
          -0.07969304470464499,
          -1.3143013832539345,
          0.12107507633181926,
          0.9639635187378766,
          -0.3194262744208612,
          1.657384793065372,
          -0.9984958934522816,
          -0.28060915556170324,
          0.2032552162774426,
          0.25289516322159433,
          0.13845611158751048,
          0.5732709988184584,
          -0.14753713877560354
         ],
         "xaxis": "x14",
         "y": [
          -1.2359855837844993,
          -1.3565000730262446,
          0.5808543791361195,
          0.517960669672099,
          1.3100661612435043,
          -1.0523215058338327,
          0.03874381970918687,
          0.4746715461817965,
          0.20572081984625887,
          -0.2550652617067661,
          -1.0944555440338883,
          -0.07102029966833753,
          1.6523626350965817,
          1.2586601929850905,
          0.6286550560191307,
          0.5996585130594111,
          0.08323696649269624,
          0.4946950359410362,
          -1.7023550273834205,
          -0.10090686292260698,
          -0.04104445939723555,
          0.8169264813883685,
          -0.18309598292488616,
          0.7675347533357908,
          -0.7849145744957643,
          0.2175021592277963,
          -1.8098388047322989,
          -0.15760627217239695,
          0.6648946941171906,
          -0.26473281783821323,
          -0.5254749746201199,
          -1.3148454891937245,
          -0.2216245994163635,
          0.23367654323740733,
          0.06243652317531484,
          0.4097676076146735,
          -2.1175550169769606,
          0.9124294824623688,
          -0.26653877709534507,
          0.33119801912632685,
          0.1889527706557953,
          1.9987970643057387,
          -0.3626622468456089,
          -1.3236859634110174,
          -0.1669033683022175,
          -0.17385874607726262,
          -0.3500538967874222,
          -0.567309967393333,
          0.7303462219629867,
          0.6641377568817323,
          -1.917897491533714,
          0.010601795106177462,
          0.6567204220559013,
          -0.22211412897764646,
          1.5056442905604603,
          0.10234325985126748,
          0.6148640320419358,
          0.4239039005467839,
          1.396124056376324,
          0.7393930442459123,
          -0.29505678600560303,
          0.5967198803864783,
          -0.2929435341856442,
          -0.21643056691667753,
          -0.040657885172045674,
          0.9275522036098794,
          -0.5572033838964305,
          1.2614169612151802,
          0.9861877911762481,
          -0.8609916887718085,
          1.6577821753353164,
          -1.1706054305347073,
          -2.039104991483795,
          0.101652577011143,
          -0.33096453049201446,
          -0.24238742236176442,
          -0.614658908074277,
          0.6833024433372668,
          -1.897348458924881,
          0.7720752581125835,
          -0.20980699751151988,
          1.0735052581763462,
          0.4213954895542332,
          0.44819662458866577,
          0.055553289819388375,
          1.2543391415006115,
          -0.8766186288812203,
          -0.44139741543658567,
          -0.38483713260064706,
          0.6460054239742792,
          -0.11663002491925503,
          -0.5612255691473144,
          -0.11661356734924128,
          -0.06528392923463709,
          -1.1943348197594,
          0.49956150576740393,
          0.720107127645793,
          0.5412915956172295,
          0.08759720239739159,
          0.6477219852900776
         ],
         "yaxis": "y14"
        },
        {
         "line": {
          "color": "rgba(128, 128, 128, 1.0)",
          "dash": "solid",
          "shape": "linear",
          "width": 1.3
         },
         "marker": {
          "size": 2,
          "symbol": "circle"
         },
         "mode": "markers",
         "name": "D",
         "text": "",
         "type": "scatter",
         "x": [
          1.0266479716476482,
          1.432038494344584,
          2.331077558724533,
          1.4250911342219454,
          2.0072483013459452,
          -1.5355702894548662,
          1.9064878082497931,
          -0.22830457499663384,
          -1.380984325977485,
          -0.690813533252461,
          0.33163005186653344,
          -0.07648218111385366,
          -1.4615567095380366,
          1.0877525351023425,
          -1.4765205673594637,
          -0.30155231211391387,
          1.2158066585855902,
          0.981146625848748,
          0.3549076968165471,
          -0.7858397002909925,
          -0.8825752683977601,
          0.22346856404904056,
          -0.09178213155203006,
          -0.1872221896032133,
          -1.2680354368620395,
          0.7110138719456527,
          1.3107064840395686,
          0.4743786831492211,
          1.0032295353665603,
          0.2950115996601164,
          0.7647363192145541,
          -0.42400982230862516,
          0.6941600609698834,
          -0.3759666165637017,
          -0.8817739374777922,
          1.878204465740685,
          0.31368795063932947,
          1.8358602205190375,
          1.497086766456587,
          -0.017915509870727958,
          0.5220295904050539,
          -0.7780347842393094,
          0.5142705640323211,
          0.44772560497420527,
          -0.7654367620323748,
          -0.3128829174094753,
          -0.9370846838882704,
          1.9008753775511973,
          0.6973864139756631,
          -0.4874991247259999,
          0.8285539109503055,
          -0.9556988156338944,
          0.26993914631785376,
          1.6612988923136256,
          1.8673692783054838,
          0.1703047543741212,
          0.10419548706774773,
          1.493028106474792,
          -0.19972529062259206,
          0.6767496283953335,
          1.343120362942058,
          -0.9575416854653955,
          -0.1994517851046536,
          1.1919198212656719,
          0.818165303586279,
          -0.6319738037873451,
          2.0339419821750973,
          0.47608984908468793,
          0.22305523092094434,
          -1.1493007094220875,
          0.12564065883300984,
          1.6207498207631248,
          -1.557883718629152,
          0.28186281406346203,
          1.1383559061464599,
          1.2928154142070365,
          -0.9419733904870756,
          0.569694582494328,
          0.33830883374494275,
          -0.7718093304189237,
          -1.8162997209099536,
          -0.527054219417872,
          -0.832440904908529,
          0.4627592260315701,
          -0.13627938557034916,
          0.26658358687847716,
          -0.5053891870823346,
          0.6023780464733511,
          -0.3381825759471592,
          -1.216122566939081,
          -0.4812017331363412,
          1.452077473551976,
          0.3492716413152897,
          -0.5377528030314477,
          -0.2809456526948875,
          -0.4631595484127176,
          0.31725211058710023,
          -1.9845954424006462,
          0.6840464547566846,
          0.33902361943784204
         ],
         "xaxis": "x15",
         "y": [
          -1.2359855837844993,
          -1.3565000730262446,
          0.5808543791361195,
          0.517960669672099,
          1.3100661612435043,
          -1.0523215058338327,
          0.03874381970918687,
          0.4746715461817965,
          0.20572081984625887,
          -0.2550652617067661,
          -1.0944555440338883,
          -0.07102029966833753,
          1.6523626350965817,
          1.2586601929850905,
          0.6286550560191307,
          0.5996585130594111,
          0.08323696649269624,
          0.4946950359410362,
          -1.7023550273834205,
          -0.10090686292260698,
          -0.04104445939723555,
          0.8169264813883685,
          -0.18309598292488616,
          0.7675347533357908,
          -0.7849145744957643,
          0.2175021592277963,
          -1.8098388047322989,
          -0.15760627217239695,
          0.6648946941171906,
          -0.26473281783821323,
          -0.5254749746201199,
          -1.3148454891937245,
          -0.2216245994163635,
          0.23367654323740733,
          0.06243652317531484,
          0.4097676076146735,
          -2.1175550169769606,
          0.9124294824623688,
          -0.26653877709534507,
          0.33119801912632685,
          0.1889527706557953,
          1.9987970643057387,
          -0.3626622468456089,
          -1.3236859634110174,
          -0.1669033683022175,
          -0.17385874607726262,
          -0.3500538967874222,
          -0.567309967393333,
          0.7303462219629867,
          0.6641377568817323,
          -1.917897491533714,
          0.010601795106177462,
          0.6567204220559013,
          -0.22211412897764646,
          1.5056442905604603,
          0.10234325985126748,
          0.6148640320419358,
          0.4239039005467839,
          1.396124056376324,
          0.7393930442459123,
          -0.29505678600560303,
          0.5967198803864783,
          -0.2929435341856442,
          -0.21643056691667753,
          -0.040657885172045674,
          0.9275522036098794,
          -0.5572033838964305,
          1.2614169612151802,
          0.9861877911762481,
          -0.8609916887718085,
          1.6577821753353164,
          -1.1706054305347073,
          -2.039104991483795,
          0.101652577011143,
          -0.33096453049201446,
          -0.24238742236176442,
          -0.614658908074277,
          0.6833024433372668,
          -1.897348458924881,
          0.7720752581125835,
          -0.20980699751151988,
          1.0735052581763462,
          0.4213954895542332,
          0.44819662458866577,
          0.055553289819388375,
          1.2543391415006115,
          -0.8766186288812203,
          -0.44139741543658567,
          -0.38483713260064706,
          0.6460054239742792,
          -0.11663002491925503,
          -0.5612255691473144,
          -0.11661356734924128,
          -0.06528392923463709,
          -1.1943348197594,
          0.49956150576740393,
          0.720107127645793,
          0.5412915956172295,
          0.08759720239739159,
          0.6477219852900776
         ],
         "yaxis": "y15"
        },
        {
         "histfunc": "count",
         "histnorm": "",
         "marker": {
          "color": "rgba(128, 0, 128, 1.0)",
          "line": {
           "color": "#4D5663",
           "width": 1.3
          }
         },
         "name": "D",
         "nbinsx": 10,
         "opacity": 0.8,
         "orientation": "v",
         "type": "histogram",
         "x": [
          -1.2359855837844993,
          -1.3565000730262446,
          0.5808543791361195,
          0.517960669672099,
          1.3100661612435043,
          -1.0523215058338327,
          0.03874381970918687,
          0.4746715461817965,
          0.20572081984625887,
          -0.2550652617067661,
          -1.0944555440338883,
          -0.07102029966833753,
          1.6523626350965817,
          1.2586601929850905,
          0.6286550560191307,
          0.5996585130594111,
          0.08323696649269624,
          0.4946950359410362,
          -1.7023550273834205,
          -0.10090686292260698,
          -0.04104445939723555,
          0.8169264813883685,
          -0.18309598292488616,
          0.7675347533357908,
          -0.7849145744957643,
          0.2175021592277963,
          -1.8098388047322989,
          -0.15760627217239695,
          0.6648946941171906,
          -0.26473281783821323,
          -0.5254749746201199,
          -1.3148454891937245,
          -0.2216245994163635,
          0.23367654323740733,
          0.06243652317531484,
          0.4097676076146735,
          -2.1175550169769606,
          0.9124294824623688,
          -0.26653877709534507,
          0.33119801912632685,
          0.1889527706557953,
          1.9987970643057387,
          -0.3626622468456089,
          -1.3236859634110174,
          -0.1669033683022175,
          -0.17385874607726262,
          -0.3500538967874222,
          -0.567309967393333,
          0.7303462219629867,
          0.6641377568817323,
          -1.917897491533714,
          0.010601795106177462,
          0.6567204220559013,
          -0.22211412897764646,
          1.5056442905604603,
          0.10234325985126748,
          0.6148640320419358,
          0.4239039005467839,
          1.396124056376324,
          0.7393930442459123,
          -0.29505678600560303,
          0.5967198803864783,
          -0.2929435341856442,
          -0.21643056691667753,
          -0.040657885172045674,
          0.9275522036098794,
          -0.5572033838964305,
          1.2614169612151802,
          0.9861877911762481,
          -0.8609916887718085,
          1.6577821753353164,
          -1.1706054305347073,
          -2.039104991483795,
          0.101652577011143,
          -0.33096453049201446,
          -0.24238742236176442,
          -0.614658908074277,
          0.6833024433372668,
          -1.897348458924881,
          0.7720752581125835,
          -0.20980699751151988,
          1.0735052581763462,
          0.4213954895542332,
          0.44819662458866577,
          0.055553289819388375,
          1.2543391415006115,
          -0.8766186288812203,
          -0.44139741543658567,
          -0.38483713260064706,
          0.6460054239742792,
          -0.11663002491925503,
          -0.5612255691473144,
          -0.11661356734924128,
          -0.06528392923463709,
          -1.1943348197594,
          0.49956150576740393,
          0.720107127645793,
          0.5412915956172295,
          0.08759720239739159,
          0.6477219852900776
         ],
         "xaxis": "x16",
         "yaxis": "y16"
        }
       ],
       "layout": {
        "autosize": true,
        "bargap": 0.02,
        "legend": {
         "bgcolor": "#F5F6F9",
         "font": {
          "color": "#4D5663"
         }
        },
        "paper_bgcolor": "#F5F6F9",
        "plot_bgcolor": "#F5F6F9",
        "showlegend": false,
        "template": {
         "data": {
          "bar": [
           {
            "error_x": {
             "color": "#2a3f5f"
            },
            "error_y": {
             "color": "#2a3f5f"
            },
            "marker": {
             "line": {
              "color": "#E5ECF6",
              "width": 0.5
             },
             "pattern": {
              "fillmode": "overlay",
              "size": 10,
              "solidity": 0.2
             }
            },
            "type": "bar"
           }
          ],
          "barpolar": [
           {
            "marker": {
             "line": {
              "color": "#E5ECF6",
              "width": 0.5
             },
             "pattern": {
              "fillmode": "overlay",
              "size": 10,
              "solidity": 0.2
             }
            },
            "type": "barpolar"
           }
          ],
          "carpet": [
           {
            "aaxis": {
             "endlinecolor": "#2a3f5f",
             "gridcolor": "white",
             "linecolor": "white",
             "minorgridcolor": "white",
             "startlinecolor": "#2a3f5f"
            },
            "baxis": {
             "endlinecolor": "#2a3f5f",
             "gridcolor": "white",
             "linecolor": "white",
             "minorgridcolor": "white",
             "startlinecolor": "#2a3f5f"
            },
            "type": "carpet"
           }
          ],
          "choropleth": [
           {
            "colorbar": {
             "outlinewidth": 0,
             "ticks": ""
            },
            "type": "choropleth"
           }
          ],
          "contour": [
           {
            "colorbar": {
             "outlinewidth": 0,
             "ticks": ""
            },
            "colorscale": [
             [
              0,
              "#0d0887"
             ],
             [
              0.1111111111111111,
              "#46039f"
             ],
             [
              0.2222222222222222,
              "#7201a8"
             ],
             [
              0.3333333333333333,
              "#9c179e"
             ],
             [
              0.4444444444444444,
              "#bd3786"
             ],
             [
              0.5555555555555556,
              "#d8576b"
             ],
             [
              0.6666666666666666,
              "#ed7953"
             ],
             [
              0.7777777777777778,
              "#fb9f3a"
             ],
             [
              0.8888888888888888,
              "#fdca26"
             ],
             [
              1,
              "#f0f921"
             ]
            ],
            "type": "contour"
           }
          ],
          "contourcarpet": [
           {
            "colorbar": {
             "outlinewidth": 0,
             "ticks": ""
            },
            "type": "contourcarpet"
           }
          ],
          "heatmap": [
           {
            "colorbar": {
             "outlinewidth": 0,
             "ticks": ""
            },
            "colorscale": [
             [
              0,
              "#0d0887"
             ],
             [
              0.1111111111111111,
              "#46039f"
             ],
             [
              0.2222222222222222,
              "#7201a8"
             ],
             [
              0.3333333333333333,
              "#9c179e"
             ],
             [
              0.4444444444444444,
              "#bd3786"
             ],
             [
              0.5555555555555556,
              "#d8576b"
             ],
             [
              0.6666666666666666,
              "#ed7953"
             ],
             [
              0.7777777777777778,
              "#fb9f3a"
             ],
             [
              0.8888888888888888,
              "#fdca26"
             ],
             [
              1,
              "#f0f921"
             ]
            ],
            "type": "heatmap"
           }
          ],
          "heatmapgl": [
           {
            "colorbar": {
             "outlinewidth": 0,
             "ticks": ""
            },
            "colorscale": [
             [
              0,
              "#0d0887"
             ],
             [
              0.1111111111111111,
              "#46039f"
             ],
             [
              0.2222222222222222,
              "#7201a8"
             ],
             [
              0.3333333333333333,
              "#9c179e"
             ],
             [
              0.4444444444444444,
              "#bd3786"
             ],
             [
              0.5555555555555556,
              "#d8576b"
             ],
             [
              0.6666666666666666,
              "#ed7953"
             ],
             [
              0.7777777777777778,
              "#fb9f3a"
             ],
             [
              0.8888888888888888,
              "#fdca26"
             ],
             [
              1,
              "#f0f921"
             ]
            ],
            "type": "heatmapgl"
           }
          ],
          "histogram": [
           {
            "marker": {
             "pattern": {
              "fillmode": "overlay",
              "size": 10,
              "solidity": 0.2
             }
            },
            "type": "histogram"
           }
          ],
          "histogram2d": [
           {
            "colorbar": {
             "outlinewidth": 0,
             "ticks": ""
            },
            "colorscale": [
             [
              0,
              "#0d0887"
             ],
             [
              0.1111111111111111,
              "#46039f"
             ],
             [
              0.2222222222222222,
              "#7201a8"
             ],
             [
              0.3333333333333333,
              "#9c179e"
             ],
             [
              0.4444444444444444,
              "#bd3786"
             ],
             [
              0.5555555555555556,
              "#d8576b"
             ],
             [
              0.6666666666666666,
              "#ed7953"
             ],
             [
              0.7777777777777778,
              "#fb9f3a"
             ],
             [
              0.8888888888888888,
              "#fdca26"
             ],
             [
              1,
              "#f0f921"
             ]
            ],
            "type": "histogram2d"
           }
          ],
          "histogram2dcontour": [
           {
            "colorbar": {
             "outlinewidth": 0,
             "ticks": ""
            },
            "colorscale": [
             [
              0,
              "#0d0887"
             ],
             [
              0.1111111111111111,
              "#46039f"
             ],
             [
              0.2222222222222222,
              "#7201a8"
             ],
             [
              0.3333333333333333,
              "#9c179e"
             ],
             [
              0.4444444444444444,
              "#bd3786"
             ],
             [
              0.5555555555555556,
              "#d8576b"
             ],
             [
              0.6666666666666666,
              "#ed7953"
             ],
             [
              0.7777777777777778,
              "#fb9f3a"
             ],
             [
              0.8888888888888888,
              "#fdca26"
             ],
             [
              1,
              "#f0f921"
             ]
            ],
            "type": "histogram2dcontour"
           }
          ],
          "mesh3d": [
           {
            "colorbar": {
             "outlinewidth": 0,
             "ticks": ""
            },
            "type": "mesh3d"
           }
          ],
          "parcoords": [
           {
            "line": {
             "colorbar": {
              "outlinewidth": 0,
              "ticks": ""
             }
            },
            "type": "parcoords"
           }
          ],
          "pie": [
           {
            "automargin": true,
            "type": "pie"
           }
          ],
          "scatter": [
           {
            "fillpattern": {
             "fillmode": "overlay",
             "size": 10,
             "solidity": 0.2
            },
            "type": "scatter"
           }
          ],
          "scatter3d": [
           {
            "line": {
             "colorbar": {
              "outlinewidth": 0,
              "ticks": ""
             }
            },
            "marker": {
             "colorbar": {
              "outlinewidth": 0,
              "ticks": ""
             }
            },
            "type": "scatter3d"
           }
          ],
          "scattercarpet": [
           {
            "marker": {
             "colorbar": {
              "outlinewidth": 0,
              "ticks": ""
             }
            },
            "type": "scattercarpet"
           }
          ],
          "scattergeo": [
           {
            "marker": {
             "colorbar": {
              "outlinewidth": 0,
              "ticks": ""
             }
            },
            "type": "scattergeo"
           }
          ],
          "scattergl": [
           {
            "marker": {
             "colorbar": {
              "outlinewidth": 0,
              "ticks": ""
             }
            },
            "type": "scattergl"
           }
          ],
          "scattermapbox": [
           {
            "marker": {
             "colorbar": {
              "outlinewidth": 0,
              "ticks": ""
             }
            },
            "type": "scattermapbox"
           }
          ],
          "scatterpolar": [
           {
            "marker": {
             "colorbar": {
              "outlinewidth": 0,
              "ticks": ""
             }
            },
            "type": "scatterpolar"
           }
          ],
          "scatterpolargl": [
           {
            "marker": {
             "colorbar": {
              "outlinewidth": 0,
              "ticks": ""
             }
            },
            "type": "scatterpolargl"
           }
          ],
          "scatterternary": [
           {
            "marker": {
             "colorbar": {
              "outlinewidth": 0,
              "ticks": ""
             }
            },
            "type": "scatterternary"
           }
          ],
          "surface": [
           {
            "colorbar": {
             "outlinewidth": 0,
             "ticks": ""
            },
            "colorscale": [
             [
              0,
              "#0d0887"
             ],
             [
              0.1111111111111111,
              "#46039f"
             ],
             [
              0.2222222222222222,
              "#7201a8"
             ],
             [
              0.3333333333333333,
              "#9c179e"
             ],
             [
              0.4444444444444444,
              "#bd3786"
             ],
             [
              0.5555555555555556,
              "#d8576b"
             ],
             [
              0.6666666666666666,
              "#ed7953"
             ],
             [
              0.7777777777777778,
              "#fb9f3a"
             ],
             [
              0.8888888888888888,
              "#fdca26"
             ],
             [
              1,
              "#f0f921"
             ]
            ],
            "type": "surface"
           }
          ],
          "table": [
           {
            "cells": {
             "fill": {
              "color": "#EBF0F8"
             },
             "line": {
              "color": "white"
             }
            },
            "header": {
             "fill": {
              "color": "#C8D4E3"
             },
             "line": {
              "color": "white"
             }
            },
            "type": "table"
           }
          ]
         },
         "layout": {
          "annotationdefaults": {
           "arrowcolor": "#2a3f5f",
           "arrowhead": 0,
           "arrowwidth": 1
          },
          "autotypenumbers": "strict",
          "coloraxis": {
           "colorbar": {
            "outlinewidth": 0,
            "ticks": ""
           }
          },
          "colorscale": {
           "diverging": [
            [
             0,
             "#8e0152"
            ],
            [
             0.1,
             "#c51b7d"
            ],
            [
             0.2,
             "#de77ae"
            ],
            [
             0.3,
             "#f1b6da"
            ],
            [
             0.4,
             "#fde0ef"
            ],
            [
             0.5,
             "#f7f7f7"
            ],
            [
             0.6,
             "#e6f5d0"
            ],
            [
             0.7,
             "#b8e186"
            ],
            [
             0.8,
             "#7fbc41"
            ],
            [
             0.9,
             "#4d9221"
            ],
            [
             1,
             "#276419"
            ]
           ],
           "sequential": [
            [
             0,
             "#0d0887"
            ],
            [
             0.1111111111111111,
             "#46039f"
            ],
            [
             0.2222222222222222,
             "#7201a8"
            ],
            [
             0.3333333333333333,
             "#9c179e"
            ],
            [
             0.4444444444444444,
             "#bd3786"
            ],
            [
             0.5555555555555556,
             "#d8576b"
            ],
            [
             0.6666666666666666,
             "#ed7953"
            ],
            [
             0.7777777777777778,
             "#fb9f3a"
            ],
            [
             0.8888888888888888,
             "#fdca26"
            ],
            [
             1,
             "#f0f921"
            ]
           ],
           "sequentialminus": [
            [
             0,
             "#0d0887"
            ],
            [
             0.1111111111111111,
             "#46039f"
            ],
            [
             0.2222222222222222,
             "#7201a8"
            ],
            [
             0.3333333333333333,
             "#9c179e"
            ],
            [
             0.4444444444444444,
             "#bd3786"
            ],
            [
             0.5555555555555556,
             "#d8576b"
            ],
            [
             0.6666666666666666,
             "#ed7953"
            ],
            [
             0.7777777777777778,
             "#fb9f3a"
            ],
            [
             0.8888888888888888,
             "#fdca26"
            ],
            [
             1,
             "#f0f921"
            ]
           ]
          },
          "colorway": [
           "#636efa",
           "#EF553B",
           "#00cc96",
           "#ab63fa",
           "#FFA15A",
           "#19d3f3",
           "#FF6692",
           "#B6E880",
           "#FF97FF",
           "#FECB52"
          ],
          "font": {
           "color": "#2a3f5f"
          },
          "geo": {
           "bgcolor": "white",
           "lakecolor": "white",
           "landcolor": "#E5ECF6",
           "showlakes": true,
           "showland": true,
           "subunitcolor": "white"
          },
          "hoverlabel": {
           "align": "left"
          },
          "hovermode": "closest",
          "mapbox": {
           "style": "light"
          },
          "paper_bgcolor": "white",
          "plot_bgcolor": "#E5ECF6",
          "polar": {
           "angularaxis": {
            "gridcolor": "white",
            "linecolor": "white",
            "ticks": ""
           },
           "bgcolor": "#E5ECF6",
           "radialaxis": {
            "gridcolor": "white",
            "linecolor": "white",
            "ticks": ""
           }
          },
          "scene": {
           "xaxis": {
            "backgroundcolor": "#E5ECF6",
            "gridcolor": "white",
            "gridwidth": 2,
            "linecolor": "white",
            "showbackground": true,
            "ticks": "",
            "zerolinecolor": "white"
           },
           "yaxis": {
            "backgroundcolor": "#E5ECF6",
            "gridcolor": "white",
            "gridwidth": 2,
            "linecolor": "white",
            "showbackground": true,
            "ticks": "",
            "zerolinecolor": "white"
           },
           "zaxis": {
            "backgroundcolor": "#E5ECF6",
            "gridcolor": "white",
            "gridwidth": 2,
            "linecolor": "white",
            "showbackground": true,
            "ticks": "",
            "zerolinecolor": "white"
           }
          },
          "shapedefaults": {
           "line": {
            "color": "#2a3f5f"
           }
          },
          "ternary": {
           "aaxis": {
            "gridcolor": "white",
            "linecolor": "white",
            "ticks": ""
           },
           "baxis": {
            "gridcolor": "white",
            "linecolor": "white",
            "ticks": ""
           },
           "bgcolor": "#E5ECF6",
           "caxis": {
            "gridcolor": "white",
            "linecolor": "white",
            "ticks": ""
           }
          },
          "title": {
           "x": 0.05
          },
          "xaxis": {
           "automargin": true,
           "gridcolor": "white",
           "linecolor": "white",
           "ticks": "",
           "title": {
            "standoff": 15
           },
           "zerolinecolor": "white",
           "zerolinewidth": 2
          },
          "yaxis": {
           "automargin": true,
           "gridcolor": "white",
           "linecolor": "white",
           "ticks": "",
           "title": {
            "standoff": 15
           },
           "zerolinecolor": "white",
           "zerolinewidth": 2
          }
         }
        },
        "title": {
         "font": {
          "color": "#4D5663"
         }
        },
        "xaxis": {
         "anchor": "y",
         "autorange": true,
         "domain": [
          0,
          0.2125
         ],
         "gridcolor": "#E1E5ED",
         "range": [
          -3,
          2.5
         ],
         "showgrid": false,
         "tickfont": {
          "color": "#4D5663"
         },
         "title": {
          "font": {
           "color": "#4D5663"
          },
          "text": ""
         },
         "type": "linear",
         "zerolinecolor": "#E1E5ED"
        },
        "xaxis10": {
         "anchor": "y10",
         "autorange": true,
         "domain": [
          0.2625,
          0.475
         ],
         "gridcolor": "#E1E5ED",
         "range": [
          -2.9816090581054273,
          2.9543946487927366
         ],
         "showgrid": false,
         "tickfont": {
          "color": "#4D5663"
         },
         "title": {
          "font": {
           "color": "#4D5663"
          },
          "text": ""
         },
         "type": "linear",
         "zerolinecolor": "#E1E5ED"
        },
        "xaxis11": {
         "anchor": "y11",
         "autorange": true,
         "domain": [
          0.525,
          0.7375
         ],
         "gridcolor": "#E1E5ED",
         "range": [
          -2,
          2.5
         ],
         "showgrid": false,
         "tickfont": {
          "color": "#4D5663"
         },
         "title": {
          "font": {
           "color": "#4D5663"
          },
          "text": ""
         },
         "type": "linear",
         "zerolinecolor": "#E1E5ED"
        },
        "xaxis12": {
         "anchor": "y12",
         "autorange": true,
         "domain": [
          0.7875,
          1
         ],
         "gridcolor": "#E1E5ED",
         "range": [
          -2.4629700010621365,
          2.3442120483909146
         ],
         "showgrid": false,
         "tickfont": {
          "color": "#4D5663"
         },
         "title": {
          "font": {
           "color": "#4D5663"
          },
          "text": ""
         },
         "type": "linear",
         "zerolinecolor": "#E1E5ED"
        },
        "xaxis13": {
         "anchor": "y13",
         "autorange": true,
         "domain": [
          0,
          0.2125
         ],
         "gridcolor": "#E1E5ED",
         "range": [
          -3.0167633928502813,
          2.785313437087163
         ],
         "showgrid": false,
         "tickfont": {
          "color": "#4D5663"
         },
         "title": {
          "font": {
           "color": "#4D5663"
          },
          "text": ""
         },
         "type": "linear",
         "zerolinecolor": "#E1E5ED"
        },
        "xaxis14": {
         "anchor": "y14",
         "autorange": true,
         "domain": [
          0.2625,
          0.475
         ],
         "gridcolor": "#E1E5ED",
         "range": [
          -2.9816090581054273,
          2.9543946487927366
         ],
         "showgrid": false,
         "tickfont": {
          "color": "#4D5663"
         },
         "title": {
          "font": {
           "color": "#4D5663"
          },
          "text": ""
         },
         "type": "linear",
         "zerolinecolor": "#E1E5ED"
        },
        "xaxis15": {
         "anchor": "y15",
         "autorange": true,
         "domain": [
          0.525,
          0.7375
         ],
         "gridcolor": "#E1E5ED",
         "range": [
          -2.346736020165792,
          2.693218136489679
         ],
         "showgrid": false,
         "tickfont": {
          "color": "#4D5663"
         },
         "title": {
          "font": {
           "color": "#4D5663"
          },
          "text": ""
         },
         "type": "linear",
         "zerolinecolor": "#E1E5ED"
        },
        "xaxis16": {
         "anchor": "y16",
         "autorange": true,
         "domain": [
          0.7875,
          1
         ],
         "gridcolor": "#E1E5ED",
         "range": [
          -2.25,
          2.25
         ],
         "showgrid": false,
         "tickfont": {
          "color": "#4D5663"
         },
         "title": {
          "font": {
           "color": "#4D5663"
          },
          "text": ""
         },
         "type": "linear",
         "zerolinecolor": "#E1E5ED"
        },
        "xaxis2": {
         "anchor": "y2",
         "autorange": true,
         "domain": [
          0.2625,
          0.475
         ],
         "gridcolor": "#E1E5ED",
         "range": [
          -2.9816090581054273,
          2.9543946487927366
         ],
         "showgrid": false,
         "tickfont": {
          "color": "#4D5663"
         },
         "title": {
          "font": {
           "color": "#4D5663"
          },
          "text": ""
         },
         "type": "linear",
         "zerolinecolor": "#E1E5ED"
        },
        "xaxis3": {
         "anchor": "y3",
         "autorange": true,
         "domain": [
          0.525,
          0.7375
         ],
         "gridcolor": "#E1E5ED",
         "range": [
          -2.346736020165792,
          2.693218136489679
         ],
         "showgrid": false,
         "tickfont": {
          "color": "#4D5663"
         },
         "title": {
          "font": {
           "color": "#4D5663"
          },
          "text": ""
         },
         "type": "linear",
         "zerolinecolor": "#E1E5ED"
        },
        "xaxis4": {
         "anchor": "y4",
         "autorange": true,
         "domain": [
          0.7875,
          1
         ],
         "gridcolor": "#E1E5ED",
         "range": [
          -2.4629700010621365,
          2.3442120483909146
         ],
         "showgrid": false,
         "tickfont": {
          "color": "#4D5663"
         },
         "title": {
          "font": {
           "color": "#4D5663"
          },
          "text": ""
         },
         "type": "linear",
         "zerolinecolor": "#E1E5ED"
        },
        "xaxis5": {
         "anchor": "y5",
         "autorange": true,
         "domain": [
          0,
          0.2125
         ],
         "gridcolor": "#E1E5ED",
         "range": [
          -3.0167633928502813,
          2.785313437087163
         ],
         "showgrid": false,
         "tickfont": {
          "color": "#4D5663"
         },
         "title": {
          "font": {
           "color": "#4D5663"
          },
          "text": ""
         },
         "type": "linear",
         "zerolinecolor": "#E1E5ED"
        },
        "xaxis6": {
         "anchor": "y6",
         "autorange": true,
         "domain": [
          0.2625,
          0.475
         ],
         "gridcolor": "#E1E5ED",
         "range": [
          -3,
          3
         ],
         "showgrid": false,
         "tickfont": {
          "color": "#4D5663"
         },
         "title": {
          "font": {
           "color": "#4D5663"
          },
          "text": ""
         },
         "type": "linear",
         "zerolinecolor": "#E1E5ED"
        },
        "xaxis7": {
         "anchor": "y7",
         "autorange": true,
         "domain": [
          0.525,
          0.7375
         ],
         "gridcolor": "#E1E5ED",
         "range": [
          -2.346736020165792,
          2.693218136489679
         ],
         "showgrid": false,
         "tickfont": {
          "color": "#4D5663"
         },
         "title": {
          "font": {
           "color": "#4D5663"
          },
          "text": ""
         },
         "type": "linear",
         "zerolinecolor": "#E1E5ED"
        },
        "xaxis8": {
         "anchor": "y8",
         "autorange": true,
         "domain": [
          0.7875,
          1
         ],
         "gridcolor": "#E1E5ED",
         "range": [
          -2.4629700010621365,
          2.3442120483909146
         ],
         "showgrid": false,
         "tickfont": {
          "color": "#4D5663"
         },
         "title": {
          "font": {
           "color": "#4D5663"
          },
          "text": ""
         },
         "type": "linear",
         "zerolinecolor": "#E1E5ED"
        },
        "xaxis9": {
         "anchor": "y9",
         "autorange": true,
         "domain": [
          0,
          0.2125
         ],
         "gridcolor": "#E1E5ED",
         "range": [
          -3.0167633928502813,
          2.785313437087163
         ],
         "showgrid": false,
         "tickfont": {
          "color": "#4D5663"
         },
         "title": {
          "font": {
           "color": "#4D5663"
          },
          "text": ""
         },
         "type": "linear",
         "zerolinecolor": "#E1E5ED"
        },
        "yaxis": {
         "anchor": "x",
         "autorange": true,
         "domain": [
          0.8025,
          1
         ],
         "gridcolor": "#E1E5ED",
         "range": [
          0,
          30.526315789473685
         ],
         "showgrid": false,
         "tickfont": {
          "color": "#4D5663"
         },
         "title": {
          "font": {
           "color": "#4D5663"
          },
          "text": ""
         },
         "zerolinecolor": "#E1E5ED"
        },
        "yaxis10": {
         "anchor": "x10",
         "autorange": true,
         "domain": [
          0.2675,
          0.465
         ],
         "gridcolor": "#E1E5ED",
         "range": [
          -2.777752886635135,
          3.124235002959022
         ],
         "showgrid": false,
         "tickfont": {
          "color": "#4D5663"
         },
         "title": {
          "font": {
           "color": "#4D5663"
          },
          "text": ""
         },
         "type": "linear",
         "zerolinecolor": "#E1E5ED"
        },
        "yaxis11": {
         "anchor": "x11",
         "autorange": true,
         "domain": [
          0.2675,
          0.465
         ],
         "gridcolor": "#E1E5ED",
         "range": [
          0,
          21.05263157894737
         ],
         "showgrid": false,
         "tickfont": {
          "color": "#4D5663"
         },
         "title": {
          "font": {
           "color": "#4D5663"
          },
          "text": ""
         },
         "zerolinecolor": "#E1E5ED"
        },
        "yaxis12": {
         "anchor": "x12",
         "autorange": true,
         "domain": [
          0.2675,
          0.465
         ],
         "gridcolor": "#E1E5ED",
         "range": [
          -2.777752886635135,
          3.124235002959022
         ],
         "showgrid": false,
         "tickfont": {
          "color": "#4D5663"
         },
         "title": {
          "font": {
           "color": "#4D5663"
          },
          "text": ""
         },
         "type": "linear",
         "zerolinecolor": "#E1E5ED"
        },
        "yaxis13": {
         "anchor": "x13",
         "autorange": true,
         "domain": [
          0,
          0.1975
         ],
         "gridcolor": "#E1E5ED",
         "range": [
          -2.8740801975243,
          2.7553222448530783
         ],
         "showgrid": false,
         "tickfont": {
          "color": "#4D5663"
         },
         "title": {
          "font": {
           "color": "#4D5663"
          },
          "text": ""
         },
         "type": "linear",
         "zerolinecolor": "#E1E5ED"
        },
        "yaxis14": {
         "anchor": "x14",
         "autorange": true,
         "domain": [
          0,
          0.1975
         ],
         "gridcolor": "#E1E5ED",
         "range": [
          -2.8740801975243,
          2.7553222448530783
         ],
         "showgrid": false,
         "tickfont": {
          "color": "#4D5663"
         },
         "title": {
          "font": {
           "color": "#4D5663"
          },
          "text": ""
         },
         "type": "linear",
         "zerolinecolor": "#E1E5ED"
        },
        "yaxis15": {
         "anchor": "x15",
         "autorange": true,
         "domain": [
          0,
          0.1975
         ],
         "gridcolor": "#E1E5ED",
         "range": [
          -2.8740801975243,
          2.7553222448530783
         ],
         "showgrid": false,
         "tickfont": {
          "color": "#4D5663"
         },
         "title": {
          "font": {
           "color": "#4D5663"
          },
          "text": ""
         },
         "type": "linear",
         "zerolinecolor": "#E1E5ED"
        },
        "yaxis16": {
         "anchor": "x16",
         "autorange": true,
         "domain": [
          0,
          0.1975
         ],
         "gridcolor": "#E1E5ED",
         "range": [
          0,
          29.473684210526315
         ],
         "showgrid": false,
         "tickfont": {
          "color": "#4D5663"
         },
         "title": {
          "font": {
           "color": "#4D5663"
          },
          "text": ""
         },
         "zerolinecolor": "#E1E5ED"
        },
        "yaxis2": {
         "anchor": "x2",
         "autorange": true,
         "domain": [
          0.8025,
          1
         ],
         "gridcolor": "#E1E5ED",
         "range": [
          -3.512956988371704,
          3.2815070326085856
         ],
         "showgrid": false,
         "tickfont": {
          "color": "#4D5663"
         },
         "title": {
          "font": {
           "color": "#4D5663"
          },
          "text": ""
         },
         "type": "linear",
         "zerolinecolor": "#E1E5ED"
        },
        "yaxis3": {
         "anchor": "x3",
         "autorange": true,
         "domain": [
          0.8025,
          1
         ],
         "gridcolor": "#E1E5ED",
         "range": [
          -3.512956988371704,
          3.2815070326085856
         ],
         "showgrid": false,
         "tickfont": {
          "color": "#4D5663"
         },
         "title": {
          "font": {
           "color": "#4D5663"
          },
          "text": ""
         },
         "type": "linear",
         "zerolinecolor": "#E1E5ED"
        },
        "yaxis4": {
         "anchor": "x4",
         "autorange": true,
         "domain": [
          0.8025,
          1
         ],
         "gridcolor": "#E1E5ED",
         "range": [
          -3.512956988371704,
          3.2815070326085856
         ],
         "showgrid": false,
         "tickfont": {
          "color": "#4D5663"
         },
         "title": {
          "font": {
           "color": "#4D5663"
          },
          "text": ""
         },
         "type": "linear",
         "zerolinecolor": "#E1E5ED"
        },
        "yaxis5": {
         "anchor": "x5",
         "autorange": true,
         "domain": [
          0.535,
          0.7325
         ],
         "gridcolor": "#E1E5ED",
         "range": [
          -3.489256079798873,
          3.4620416704861823
         ],
         "showgrid": false,
         "tickfont": {
          "color": "#4D5663"
         },
         "title": {
          "font": {
           "color": "#4D5663"
          },
          "text": ""
         },
         "type": "linear",
         "zerolinecolor": "#E1E5ED"
        },
        "yaxis6": {
         "anchor": "x6",
         "autorange": true,
         "domain": [
          0.535,
          0.7325
         ],
         "gridcolor": "#E1E5ED",
         "range": [
          0,
          35.78947368421053
         ],
         "showgrid": false,
         "tickfont": {
          "color": "#4D5663"
         },
         "title": {
          "font": {
           "color": "#4D5663"
          },
          "text": ""
         },
         "zerolinecolor": "#E1E5ED"
        },
        "yaxis7": {
         "anchor": "x7",
         "autorange": true,
         "domain": [
          0.535,
          0.7325
         ],
         "gridcolor": "#E1E5ED",
         "range": [
          -3.489256079798873,
          3.4620416704861823
         ],
         "showgrid": false,
         "tickfont": {
          "color": "#4D5663"
         },
         "title": {
          "font": {
           "color": "#4D5663"
          },
          "text": ""
         },
         "type": "linear",
         "zerolinecolor": "#E1E5ED"
        },
        "yaxis8": {
         "anchor": "x8",
         "autorange": true,
         "domain": [
          0.535,
          0.7325
         ],
         "gridcolor": "#E1E5ED",
         "range": [
          -3.489256079798873,
          3.4620416704861823
         ],
         "showgrid": false,
         "tickfont": {
          "color": "#4D5663"
         },
         "title": {
          "font": {
           "color": "#4D5663"
          },
          "text": ""
         },
         "type": "linear",
         "zerolinecolor": "#E1E5ED"
        },
        "yaxis9": {
         "anchor": "x9",
         "autorange": true,
         "domain": [
          0.2675,
          0.465
         ],
         "gridcolor": "#E1E5ED",
         "range": [
          -2.777752886635135,
          3.124235002959022
         ],
         "showgrid": false,
         "tickfont": {
          "color": "#4D5663"
         },
         "title": {
          "font": {
           "color": "#4D5663"
          },
          "text": ""
         },
         "type": "linear",
         "zerolinecolor": "#E1E5ED"
        }
       }
      },
      "image/png": "[encoded data removed]",
      "text/html": [
       "<div>                            <div id=\"0af549f0-c3c0-485a-aad1-45008cdc875f\" class=\"plotly-graph-div\" style=\"height:525px; width:100%;\"></div>            <script type=\"text/javascript\">                require([\"plotly\"], function(Plotly) {                    window.PLOTLYENV=window.PLOTLYENV || {};\n",
       "                    window.PLOTLYENV.BASE_URL='https://plot.ly';                                    if (document.getElementById(\"0af549f0-c3c0-485a-aad1-45008cdc875f\")) {                    Plotly.newPlot(                        \"0af549f0-c3c0-485a-aad1-45008cdc875f\",                        [{\"histfunc\":\"count\",\"histnorm\":\"\",\"marker\":{\"color\":\"rgba(255, 153, 51, 1.0)\",\"line\":{\"color\":\"#4D5663\",\"width\":1.3}},\"name\":\"A\",\"nbinsx\":10,\"opacity\":0.8,\"orientation\":\"v\",\"x\":[-0.8028561302251124,1.479302388301489,0.09259836950276953,-0.512200866745337,0.8576238983724528,0.6085497404944062,-0.788223295517952,0.9761665209278051,2.238690887893208,1.3490247594088083,0.737059096870889,0.3026134531782889,-0.7957217706029994,0.33823616570030324,0.19196824309714583,-0.4698312480273544,0.4301162469854865,1.1815924579324193,0.2274535937715395,-1.5943306169668727,0.12493303310468025,0.7975876609059102,0.09593279290044807,-0.19719809096164162,1.6565466613065052,0.4501760595795119,-0.02886866437548703,0.16505807536954564,1.124836055486245,2.049975322070444,-0.033165046880216376,0.7801630412932541,0.028285298355942425,-1.2989262631774416,1.3012174059227228,0.15728220307540158,-0.31316077721117375,-1.1747533327607587,1.7069413233814477,0.07419368467184914,-1.147529248600138,0.30864584269972306,-1.2793699272497943,-1.1249859442345558,0.2831314824771736,-0.18716951345172192,-1.090356868475828,1.9293517124623794,2.3684113403376057,-0.7988882319337831,1.6038153380009872,-1.2288347702724813,-1.201690996947852,-0.6607024240946915,1.8446345228914234,-0.9936737748233865,0.4870909728145924,0.0635477755521646,0.32357734017082884,0.06832369257774945,1.103825118434115,-0.7645127908507001,-1.3676473832933946,0.46402104480674794,0.15452847403977235,-0.6061958034619276,0.22205129416545974,-0.7962583172868609,-1.5584080382815726,0.5989046805601863,-0.6782957556343797,0.18020677123740392,0.19287312831057887,-0.1369071911530954,-1.0966518041958313,-0.4137103383439439,0.8408784953202832,-0.26466856360948776,-2.599861296100724,-0.543503678619246,-1.0601507878835457,-1.4366314663310211,-0.5783918179279967,-0.35904402150393355,-0.8532029670981947,-0.0668865536827716,0.3482385301768811,-0.43769557904928835,1.5562474048025967,-1.2058652048168754,0.012743990748052518,0.0525324102625891,0.40393559040764987,-0.3194053660387816,-0.7515950497771627,-1.6911968013479222,-1.0664557829608285,-1.4918263253090283,0.44400403329900645,-0.5245696570792404],\"xaxis\":\"x\",\"yaxis\":\"y\",\"type\":\"histogram\"},{\"line\":{\"color\":\"rgba(128, 128, 128, 1.0)\",\"dash\":\"solid\",\"shape\":\"linear\",\"width\":1.3},\"marker\":{\"size\":2,\"symbol\":\"circle\"},\"mode\":\"markers\",\"name\":\"A\",\"text\":\"\",\"x\":[-2.4154271826055687,0.2281163742403504,1.023638806068143,-0.42311682261393985,1.0460920365897521,0.014379125674698972,-1.0024753274980267,1.2970651067413772,-1.4876062324008748,-1.2787134920238905,-2.255927984437855,0.3917658809386741,0.8254925127903598,0.5167247505647817,-0.37885329612876756,-1.4465545453597755,1.283402522449017,-0.13883342228836232,-0.819263241038832,-0.2875102463290612,-0.6084972801612889,0.60097337047301,-0.38951842733027325,1.1383351179567085,0.5303220825477065,-1.2702935398670259,-0.5216055214220926,-0.33849718969494463,-0.31043838587410905,0.1861750117058042,-1.3367601455296272,-0.13539319664272512,-0.04826911800939443,1.0137197495851988,0.40239706746935344,-0.33824853753891115,-1.2044670928003556,1.2457273930479194,-0.3034148106261058,0.5007964524725353,0.6061265061918621,0.10666541063424463,-2.555083787197274,0.9531398284577858,0.8398465183168621,0.9303183779340494,0.7858951323348161,2.527869377884583,-0.6051809428312591,-0.5272869417373718,2.3439665972310224,-1.2122096114782646,-1.2007273327736605,-0.8394630308996531,1.02019968517285,0.9534146859616777,0.056861705035020686,-2.003762067954828,-0.17404675080271992,1.1867630462507908,-0.901771137497407,1.5324198527172153,0.7134995518226834,-0.9369721788688021,-0.13809992304297572,0.3676970458870487,-0.009408068072079542,-0.22749233880224112,1.2160209293891586,0.6560409767607005,-0.608297820845587,0.02471522606611033,-0.23314164833860315,-0.021381677697893738,-1.3206072599621494,0.36257703524638424,-0.6079356241638769,-0.3052512546185061,0.3762701311102944,0.5832649361771575,1.9959564462294366,1.4640554173951212,-1.0768809643150925,0.6393538090437333,-2.0425454096017623,1.2458691168533944,-0.5559855700539201,-0.07969304470464499,-1.3143013832539345,0.12107507633181926,0.9639635187378766,-0.3194262744208612,1.657384793065372,-0.9984958934522816,-0.28060915556170324,0.2032552162774426,0.25289516322159433,0.13845611158751048,0.5732709988184584,-0.14753713877560354],\"xaxis\":\"x2\",\"y\":[-0.8028561302251124,1.479302388301489,0.09259836950276953,-0.512200866745337,0.8576238983724528,0.6085497404944062,-0.788223295517952,0.9761665209278051,2.238690887893208,1.3490247594088083,0.737059096870889,0.3026134531782889,-0.7957217706029994,0.33823616570030324,0.19196824309714583,-0.4698312480273544,0.4301162469854865,1.1815924579324193,0.2274535937715395,-1.5943306169668727,0.12493303310468025,0.7975876609059102,0.09593279290044807,-0.19719809096164162,1.6565466613065052,0.4501760595795119,-0.02886866437548703,0.16505807536954564,1.124836055486245,2.049975322070444,-0.033165046880216376,0.7801630412932541,0.028285298355942425,-1.2989262631774416,1.3012174059227228,0.15728220307540158,-0.31316077721117375,-1.1747533327607587,1.7069413233814477,0.07419368467184914,-1.147529248600138,0.30864584269972306,-1.2793699272497943,-1.1249859442345558,0.2831314824771736,-0.18716951345172192,-1.090356868475828,1.9293517124623794,2.3684113403376057,-0.7988882319337831,1.6038153380009872,-1.2288347702724813,-1.201690996947852,-0.6607024240946915,1.8446345228914234,-0.9936737748233865,0.4870909728145924,0.0635477755521646,0.32357734017082884,0.06832369257774945,1.103825118434115,-0.7645127908507001,-1.3676473832933946,0.46402104480674794,0.15452847403977235,-0.6061958034619276,0.22205129416545974,-0.7962583172868609,-1.5584080382815726,0.5989046805601863,-0.6782957556343797,0.18020677123740392,0.19287312831057887,-0.1369071911530954,-1.0966518041958313,-0.4137103383439439,0.8408784953202832,-0.26466856360948776,-2.599861296100724,-0.543503678619246,-1.0601507878835457,-1.4366314663310211,-0.5783918179279967,-0.35904402150393355,-0.8532029670981947,-0.0668865536827716,0.3482385301768811,-0.43769557904928835,1.5562474048025967,-1.2058652048168754,0.012743990748052518,0.0525324102625891,0.40393559040764987,-0.3194053660387816,-0.7515950497771627,-1.6911968013479222,-1.0664557829608285,-1.4918263253090283,0.44400403329900645,-0.5245696570792404],\"yaxis\":\"y2\",\"type\":\"scatter\"},{\"line\":{\"color\":\"rgba(128, 128, 128, 1.0)\",\"dash\":\"solid\",\"shape\":\"linear\",\"width\":1.3},\"marker\":{\"size\":2,\"symbol\":\"circle\"},\"mode\":\"markers\",\"name\":\"A\",\"text\":\"\",\"x\":[1.0266479716476482,1.432038494344584,2.331077558724533,1.4250911342219454,2.0072483013459452,-1.5355702894548662,1.9064878082497931,-0.22830457499663384,-1.380984325977485,-0.690813533252461,0.33163005186653344,-0.07648218111385366,-1.4615567095380366,1.0877525351023425,-1.4765205673594637,-0.30155231211391387,1.2158066585855902,0.981146625848748,0.3549076968165471,-0.7858397002909925,-0.8825752683977601,0.22346856404904056,-0.09178213155203006,-0.1872221896032133,-1.2680354368620395,0.7110138719456527,1.3107064840395686,0.4743786831492211,1.0032295353665603,0.2950115996601164,0.7647363192145541,-0.42400982230862516,0.6941600609698834,-0.3759666165637017,-0.8817739374777922,1.878204465740685,0.31368795063932947,1.8358602205190375,1.497086766456587,-0.017915509870727958,0.5220295904050539,-0.7780347842393094,0.5142705640323211,0.44772560497420527,-0.7654367620323748,-0.3128829174094753,-0.9370846838882704,1.9008753775511973,0.6973864139756631,-0.4874991247259999,0.8285539109503055,-0.9556988156338944,0.26993914631785376,1.6612988923136256,1.8673692783054838,0.1703047543741212,0.10419548706774773,1.493028106474792,-0.19972529062259206,0.6767496283953335,1.343120362942058,-0.9575416854653955,-0.1994517851046536,1.1919198212656719,0.818165303586279,-0.6319738037873451,2.0339419821750973,0.47608984908468793,0.22305523092094434,-1.1493007094220875,0.12564065883300984,1.6207498207631248,-1.557883718629152,0.28186281406346203,1.1383559061464599,1.2928154142070365,-0.9419733904870756,0.569694582494328,0.33830883374494275,-0.7718093304189237,-1.8162997209099536,-0.527054219417872,-0.832440904908529,0.4627592260315701,-0.13627938557034916,0.26658358687847716,-0.5053891870823346,0.6023780464733511,-0.3381825759471592,-1.216122566939081,-0.4812017331363412,1.452077473551976,0.3492716413152897,-0.5377528030314477,-0.2809456526948875,-0.4631595484127176,0.31725211058710023,-1.9845954424006462,0.6840464547566846,0.33902361943784204],\"xaxis\":\"x3\",\"y\":[-0.8028561302251124,1.479302388301489,0.09259836950276953,-0.512200866745337,0.8576238983724528,0.6085497404944062,-0.788223295517952,0.9761665209278051,2.238690887893208,1.3490247594088083,0.737059096870889,0.3026134531782889,-0.7957217706029994,0.33823616570030324,0.19196824309714583,-0.4698312480273544,0.4301162469854865,1.1815924579324193,0.2274535937715395,-1.5943306169668727,0.12493303310468025,0.7975876609059102,0.09593279290044807,-0.19719809096164162,1.6565466613065052,0.4501760595795119,-0.02886866437548703,0.16505807536954564,1.124836055486245,2.049975322070444,-0.033165046880216376,0.7801630412932541,0.028285298355942425,-1.2989262631774416,1.3012174059227228,0.15728220307540158,-0.31316077721117375,-1.1747533327607587,1.7069413233814477,0.07419368467184914,-1.147529248600138,0.30864584269972306,-1.2793699272497943,-1.1249859442345558,0.2831314824771736,-0.18716951345172192,-1.090356868475828,1.9293517124623794,2.3684113403376057,-0.7988882319337831,1.6038153380009872,-1.2288347702724813,-1.201690996947852,-0.6607024240946915,1.8446345228914234,-0.9936737748233865,0.4870909728145924,0.0635477755521646,0.32357734017082884,0.06832369257774945,1.103825118434115,-0.7645127908507001,-1.3676473832933946,0.46402104480674794,0.15452847403977235,-0.6061958034619276,0.22205129416545974,-0.7962583172868609,-1.5584080382815726,0.5989046805601863,-0.6782957556343797,0.18020677123740392,0.19287312831057887,-0.1369071911530954,-1.0966518041958313,-0.4137103383439439,0.8408784953202832,-0.26466856360948776,-2.599861296100724,-0.543503678619246,-1.0601507878835457,-1.4366314663310211,-0.5783918179279967,-0.35904402150393355,-0.8532029670981947,-0.0668865536827716,0.3482385301768811,-0.43769557904928835,1.5562474048025967,-1.2058652048168754,0.012743990748052518,0.0525324102625891,0.40393559040764987,-0.3194053660387816,-0.7515950497771627,-1.6911968013479222,-1.0664557829608285,-1.4918263253090283,0.44400403329900645,-0.5245696570792404],\"yaxis\":\"y3\",\"type\":\"scatter\"},{\"line\":{\"color\":\"rgba(128, 128, 128, 1.0)\",\"dash\":\"solid\",\"shape\":\"linear\",\"width\":1.3},\"marker\":{\"size\":2,\"symbol\":\"circle\"},\"mode\":\"markers\",\"name\":\"A\",\"text\":\"\",\"x\":[-1.2359855837844993,-1.3565000730262446,0.5808543791361195,0.517960669672099,1.3100661612435043,-1.0523215058338327,0.03874381970918687,0.4746715461817965,0.20572081984625887,-0.2550652617067661,-1.0944555440338883,-0.07102029966833753,1.6523626350965817,1.2586601929850905,0.6286550560191307,0.5996585130594111,0.08323696649269624,0.4946950359410362,-1.7023550273834205,-0.10090686292260698,-0.04104445939723555,0.8169264813883685,-0.18309598292488616,0.7675347533357908,-0.7849145744957643,0.2175021592277963,-1.8098388047322989,-0.15760627217239695,0.6648946941171906,-0.26473281783821323,-0.5254749746201199,-1.3148454891937245,-0.2216245994163635,0.23367654323740733,0.06243652317531484,0.4097676076146735,-2.1175550169769606,0.9124294824623688,-0.26653877709534507,0.33119801912632685,0.1889527706557953,1.9987970643057387,-0.3626622468456089,-1.3236859634110174,-0.1669033683022175,-0.17385874607726262,-0.3500538967874222,-0.567309967393333,0.7303462219629867,0.6641377568817323,-1.917897491533714,0.010601795106177462,0.6567204220559013,-0.22211412897764646,1.5056442905604603,0.10234325985126748,0.6148640320419358,0.4239039005467839,1.396124056376324,0.7393930442459123,-0.29505678600560303,0.5967198803864783,-0.2929435341856442,-0.21643056691667753,-0.040657885172045674,0.9275522036098794,-0.5572033838964305,1.2614169612151802,0.9861877911762481,-0.8609916887718085,1.6577821753353164,-1.1706054305347073,-2.039104991483795,0.101652577011143,-0.33096453049201446,-0.24238742236176442,-0.614658908074277,0.6833024433372668,-1.897348458924881,0.7720752581125835,-0.20980699751151988,1.0735052581763462,0.4213954895542332,0.44819662458866577,0.055553289819388375,1.2543391415006115,-0.8766186288812203,-0.44139741543658567,-0.38483713260064706,0.6460054239742792,-0.11663002491925503,-0.5612255691473144,-0.11661356734924128,-0.06528392923463709,-1.1943348197594,0.49956150576740393,0.720107127645793,0.5412915956172295,0.08759720239739159,0.6477219852900776],\"xaxis\":\"x4\",\"y\":[-0.8028561302251124,1.479302388301489,0.09259836950276953,-0.512200866745337,0.8576238983724528,0.6085497404944062,-0.788223295517952,0.9761665209278051,2.238690887893208,1.3490247594088083,0.737059096870889,0.3026134531782889,-0.7957217706029994,0.33823616570030324,0.19196824309714583,-0.4698312480273544,0.4301162469854865,1.1815924579324193,0.2274535937715395,-1.5943306169668727,0.12493303310468025,0.7975876609059102,0.09593279290044807,-0.19719809096164162,1.6565466613065052,0.4501760595795119,-0.02886866437548703,0.16505807536954564,1.124836055486245,2.049975322070444,-0.033165046880216376,0.7801630412932541,0.028285298355942425,-1.2989262631774416,1.3012174059227228,0.15728220307540158,-0.31316077721117375,-1.1747533327607587,1.7069413233814477,0.07419368467184914,-1.147529248600138,0.30864584269972306,-1.2793699272497943,-1.1249859442345558,0.2831314824771736,-0.18716951345172192,-1.090356868475828,1.9293517124623794,2.3684113403376057,-0.7988882319337831,1.6038153380009872,-1.2288347702724813,-1.201690996947852,-0.6607024240946915,1.8446345228914234,-0.9936737748233865,0.4870909728145924,0.0635477755521646,0.32357734017082884,0.06832369257774945,1.103825118434115,-0.7645127908507001,-1.3676473832933946,0.46402104480674794,0.15452847403977235,-0.6061958034619276,0.22205129416545974,-0.7962583172868609,-1.5584080382815726,0.5989046805601863,-0.6782957556343797,0.18020677123740392,0.19287312831057887,-0.1369071911530954,-1.0966518041958313,-0.4137103383439439,0.8408784953202832,-0.26466856360948776,-2.599861296100724,-0.543503678619246,-1.0601507878835457,-1.4366314663310211,-0.5783918179279967,-0.35904402150393355,-0.8532029670981947,-0.0668865536827716,0.3482385301768811,-0.43769557904928835,1.5562474048025967,-1.2058652048168754,0.012743990748052518,0.0525324102625891,0.40393559040764987,-0.3194053660387816,-0.7515950497771627,-1.6911968013479222,-1.0664557829608285,-1.4918263253090283,0.44400403329900645,-0.5245696570792404],\"yaxis\":\"y4\",\"type\":\"scatter\"},{\"line\":{\"color\":\"rgba(128, 128, 128, 1.0)\",\"dash\":\"solid\",\"shape\":\"linear\",\"width\":1.3},\"marker\":{\"size\":2,\"symbol\":\"circle\"},\"mode\":\"markers\",\"name\":\"B\",\"text\":\"\",\"x\":[-0.8028561302251124,1.479302388301489,0.09259836950276953,-0.512200866745337,0.8576238983724528,0.6085497404944062,-0.788223295517952,0.9761665209278051,2.238690887893208,1.3490247594088083,0.737059096870889,0.3026134531782889,-0.7957217706029994,0.33823616570030324,0.19196824309714583,-0.4698312480273544,0.4301162469854865,1.1815924579324193,0.2274535937715395,-1.5943306169668727,0.12493303310468025,0.7975876609059102,0.09593279290044807,-0.19719809096164162,1.6565466613065052,0.4501760595795119,-0.02886866437548703,0.16505807536954564,1.124836055486245,2.049975322070444,-0.033165046880216376,0.7801630412932541,0.028285298355942425,-1.2989262631774416,1.3012174059227228,0.15728220307540158,-0.31316077721117375,-1.1747533327607587,1.7069413233814477,0.07419368467184914,-1.147529248600138,0.30864584269972306,-1.2793699272497943,-1.1249859442345558,0.2831314824771736,-0.18716951345172192,-1.090356868475828,1.9293517124623794,2.3684113403376057,-0.7988882319337831,1.6038153380009872,-1.2288347702724813,-1.201690996947852,-0.6607024240946915,1.8446345228914234,-0.9936737748233865,0.4870909728145924,0.0635477755521646,0.32357734017082884,0.06832369257774945,1.103825118434115,-0.7645127908507001,-1.3676473832933946,0.46402104480674794,0.15452847403977235,-0.6061958034619276,0.22205129416545974,-0.7962583172868609,-1.5584080382815726,0.5989046805601863,-0.6782957556343797,0.18020677123740392,0.19287312831057887,-0.1369071911530954,-1.0966518041958313,-0.4137103383439439,0.8408784953202832,-0.26466856360948776,-2.599861296100724,-0.543503678619246,-1.0601507878835457,-1.4366314663310211,-0.5783918179279967,-0.35904402150393355,-0.8532029670981947,-0.0668865536827716,0.3482385301768811,-0.43769557904928835,1.5562474048025967,-1.2058652048168754,0.012743990748052518,0.0525324102625891,0.40393559040764987,-0.3194053660387816,-0.7515950497771627,-1.6911968013479222,-1.0664557829608285,-1.4918263253090283,0.44400403329900645,-0.5245696570792404],\"xaxis\":\"x5\",\"y\":[-2.4154271826055687,0.2281163742403504,1.023638806068143,-0.42311682261393985,1.0460920365897521,0.014379125674698972,-1.0024753274980267,1.2970651067413772,-1.4876062324008748,-1.2787134920238905,-2.255927984437855,0.3917658809386741,0.8254925127903598,0.5167247505647817,-0.37885329612876756,-1.4465545453597755,1.283402522449017,-0.13883342228836232,-0.819263241038832,-0.2875102463290612,-0.6084972801612889,0.60097337047301,-0.38951842733027325,1.1383351179567085,0.5303220825477065,-1.2702935398670259,-0.5216055214220926,-0.33849718969494463,-0.31043838587410905,0.1861750117058042,-1.3367601455296272,-0.13539319664272512,-0.04826911800939443,1.0137197495851988,0.40239706746935344,-0.33824853753891115,-1.2044670928003556,1.2457273930479194,-0.3034148106261058,0.5007964524725353,0.6061265061918621,0.10666541063424463,-2.555083787197274,0.9531398284577858,0.8398465183168621,0.9303183779340494,0.7858951323348161,2.527869377884583,-0.6051809428312591,-0.5272869417373718,2.3439665972310224,-1.2122096114782646,-1.2007273327736605,-0.8394630308996531,1.02019968517285,0.9534146859616777,0.056861705035020686,-2.003762067954828,-0.17404675080271992,1.1867630462507908,-0.901771137497407,1.5324198527172153,0.7134995518226834,-0.9369721788688021,-0.13809992304297572,0.3676970458870487,-0.009408068072079542,-0.22749233880224112,1.2160209293891586,0.6560409767607005,-0.608297820845587,0.02471522606611033,-0.23314164833860315,-0.021381677697893738,-1.3206072599621494,0.36257703524638424,-0.6079356241638769,-0.3052512546185061,0.3762701311102944,0.5832649361771575,1.9959564462294366,1.4640554173951212,-1.0768809643150925,0.6393538090437333,-2.0425454096017623,1.2458691168533944,-0.5559855700539201,-0.07969304470464499,-1.3143013832539345,0.12107507633181926,0.9639635187378766,-0.3194262744208612,1.657384793065372,-0.9984958934522816,-0.28060915556170324,0.2032552162774426,0.25289516322159433,0.13845611158751048,0.5732709988184584,-0.14753713877560354],\"yaxis\":\"y5\",\"type\":\"scatter\"},{\"histfunc\":\"count\",\"histnorm\":\"\",\"marker\":{\"color\":\"rgba(55, 128, 191, 1.0)\",\"line\":{\"color\":\"#4D5663\",\"width\":1.3}},\"name\":\"B\",\"nbinsx\":10,\"opacity\":0.8,\"orientation\":\"v\",\"x\":[-2.4154271826055687,0.2281163742403504,1.023638806068143,-0.42311682261393985,1.0460920365897521,0.014379125674698972,-1.0024753274980267,1.2970651067413772,-1.4876062324008748,-1.2787134920238905,-2.255927984437855,0.3917658809386741,0.8254925127903598,0.5167247505647817,-0.37885329612876756,-1.4465545453597755,1.283402522449017,-0.13883342228836232,-0.819263241038832,-0.2875102463290612,-0.6084972801612889,0.60097337047301,-0.38951842733027325,1.1383351179567085,0.5303220825477065,-1.2702935398670259,-0.5216055214220926,-0.33849718969494463,-0.31043838587410905,0.1861750117058042,-1.3367601455296272,-0.13539319664272512,-0.04826911800939443,1.0137197495851988,0.40239706746935344,-0.33824853753891115,-1.2044670928003556,1.2457273930479194,-0.3034148106261058,0.5007964524725353,0.6061265061918621,0.10666541063424463,-2.555083787197274,0.9531398284577858,0.8398465183168621,0.9303183779340494,0.7858951323348161,2.527869377884583,-0.6051809428312591,-0.5272869417373718,2.3439665972310224,-1.2122096114782646,-1.2007273327736605,-0.8394630308996531,1.02019968517285,0.9534146859616777,0.056861705035020686,-2.003762067954828,-0.17404675080271992,1.1867630462507908,-0.901771137497407,1.5324198527172153,0.7134995518226834,-0.9369721788688021,-0.13809992304297572,0.3676970458870487,-0.009408068072079542,-0.22749233880224112,1.2160209293891586,0.6560409767607005,-0.608297820845587,0.02471522606611033,-0.23314164833860315,-0.021381677697893738,-1.3206072599621494,0.36257703524638424,-0.6079356241638769,-0.3052512546185061,0.3762701311102944,0.5832649361771575,1.9959564462294366,1.4640554173951212,-1.0768809643150925,0.6393538090437333,-2.0425454096017623,1.2458691168533944,-0.5559855700539201,-0.07969304470464499,-1.3143013832539345,0.12107507633181926,0.9639635187378766,-0.3194262744208612,1.657384793065372,-0.9984958934522816,-0.28060915556170324,0.2032552162774426,0.25289516322159433,0.13845611158751048,0.5732709988184584,-0.14753713877560354],\"xaxis\":\"x6\",\"yaxis\":\"y6\",\"type\":\"histogram\"},{\"line\":{\"color\":\"rgba(128, 128, 128, 1.0)\",\"dash\":\"solid\",\"shape\":\"linear\",\"width\":1.3},\"marker\":{\"size\":2,\"symbol\":\"circle\"},\"mode\":\"markers\",\"name\":\"B\",\"text\":\"\",\"x\":[1.0266479716476482,1.432038494344584,2.331077558724533,1.4250911342219454,2.0072483013459452,-1.5355702894548662,1.9064878082497931,-0.22830457499663384,-1.380984325977485,-0.690813533252461,0.33163005186653344,-0.07648218111385366,-1.4615567095380366,1.0877525351023425,-1.4765205673594637,-0.30155231211391387,1.2158066585855902,0.981146625848748,0.3549076968165471,-0.7858397002909925,-0.8825752683977601,0.22346856404904056,-0.09178213155203006,-0.1872221896032133,-1.2680354368620395,0.7110138719456527,1.3107064840395686,0.4743786831492211,1.0032295353665603,0.2950115996601164,0.7647363192145541,-0.42400982230862516,0.6941600609698834,-0.3759666165637017,-0.8817739374777922,1.878204465740685,0.31368795063932947,1.8358602205190375,1.497086766456587,-0.017915509870727958,0.5220295904050539,-0.7780347842393094,0.5142705640323211,0.44772560497420527,-0.7654367620323748,-0.3128829174094753,-0.9370846838882704,1.9008753775511973,0.6973864139756631,-0.4874991247259999,0.8285539109503055,-0.9556988156338944,0.26993914631785376,1.6612988923136256,1.8673692783054838,0.1703047543741212,0.10419548706774773,1.493028106474792,-0.19972529062259206,0.6767496283953335,1.343120362942058,-0.9575416854653955,-0.1994517851046536,1.1919198212656719,0.818165303586279,-0.6319738037873451,2.0339419821750973,0.47608984908468793,0.22305523092094434,-1.1493007094220875,0.12564065883300984,1.6207498207631248,-1.557883718629152,0.28186281406346203,1.1383559061464599,1.2928154142070365,-0.9419733904870756,0.569694582494328,0.33830883374494275,-0.7718093304189237,-1.8162997209099536,-0.527054219417872,-0.832440904908529,0.4627592260315701,-0.13627938557034916,0.26658358687847716,-0.5053891870823346,0.6023780464733511,-0.3381825759471592,-1.216122566939081,-0.4812017331363412,1.452077473551976,0.3492716413152897,-0.5377528030314477,-0.2809456526948875,-0.4631595484127176,0.31725211058710023,-1.9845954424006462,0.6840464547566846,0.33902361943784204],\"xaxis\":\"x7\",\"y\":[-2.4154271826055687,0.2281163742403504,1.023638806068143,-0.42311682261393985,1.0460920365897521,0.014379125674698972,-1.0024753274980267,1.2970651067413772,-1.4876062324008748,-1.2787134920238905,-2.255927984437855,0.3917658809386741,0.8254925127903598,0.5167247505647817,-0.37885329612876756,-1.4465545453597755,1.283402522449017,-0.13883342228836232,-0.819263241038832,-0.2875102463290612,-0.6084972801612889,0.60097337047301,-0.38951842733027325,1.1383351179567085,0.5303220825477065,-1.2702935398670259,-0.5216055214220926,-0.33849718969494463,-0.31043838587410905,0.1861750117058042,-1.3367601455296272,-0.13539319664272512,-0.04826911800939443,1.0137197495851988,0.40239706746935344,-0.33824853753891115,-1.2044670928003556,1.2457273930479194,-0.3034148106261058,0.5007964524725353,0.6061265061918621,0.10666541063424463,-2.555083787197274,0.9531398284577858,0.8398465183168621,0.9303183779340494,0.7858951323348161,2.527869377884583,-0.6051809428312591,-0.5272869417373718,2.3439665972310224,-1.2122096114782646,-1.2007273327736605,-0.8394630308996531,1.02019968517285,0.9534146859616777,0.056861705035020686,-2.003762067954828,-0.17404675080271992,1.1867630462507908,-0.901771137497407,1.5324198527172153,0.7134995518226834,-0.9369721788688021,-0.13809992304297572,0.3676970458870487,-0.009408068072079542,-0.22749233880224112,1.2160209293891586,0.6560409767607005,-0.608297820845587,0.02471522606611033,-0.23314164833860315,-0.021381677697893738,-1.3206072599621494,0.36257703524638424,-0.6079356241638769,-0.3052512546185061,0.3762701311102944,0.5832649361771575,1.9959564462294366,1.4640554173951212,-1.0768809643150925,0.6393538090437333,-2.0425454096017623,1.2458691168533944,-0.5559855700539201,-0.07969304470464499,-1.3143013832539345,0.12107507633181926,0.9639635187378766,-0.3194262744208612,1.657384793065372,-0.9984958934522816,-0.28060915556170324,0.2032552162774426,0.25289516322159433,0.13845611158751048,0.5732709988184584,-0.14753713877560354],\"yaxis\":\"y7\",\"type\":\"scatter\"},{\"line\":{\"color\":\"rgba(128, 128, 128, 1.0)\",\"dash\":\"solid\",\"shape\":\"linear\",\"width\":1.3},\"marker\":{\"size\":2,\"symbol\":\"circle\"},\"mode\":\"markers\",\"name\":\"B\",\"text\":\"\",\"x\":[-1.2359855837844993,-1.3565000730262446,0.5808543791361195,0.517960669672099,1.3100661612435043,-1.0523215058338327,0.03874381970918687,0.4746715461817965,0.20572081984625887,-0.2550652617067661,-1.0944555440338883,-0.07102029966833753,1.6523626350965817,1.2586601929850905,0.6286550560191307,0.5996585130594111,0.08323696649269624,0.4946950359410362,-1.7023550273834205,-0.10090686292260698,-0.04104445939723555,0.8169264813883685,-0.18309598292488616,0.7675347533357908,-0.7849145744957643,0.2175021592277963,-1.8098388047322989,-0.15760627217239695,0.6648946941171906,-0.26473281783821323,-0.5254749746201199,-1.3148454891937245,-0.2216245994163635,0.23367654323740733,0.06243652317531484,0.4097676076146735,-2.1175550169769606,0.9124294824623688,-0.26653877709534507,0.33119801912632685,0.1889527706557953,1.9987970643057387,-0.3626622468456089,-1.3236859634110174,-0.1669033683022175,-0.17385874607726262,-0.3500538967874222,-0.567309967393333,0.7303462219629867,0.6641377568817323,-1.917897491533714,0.010601795106177462,0.6567204220559013,-0.22211412897764646,1.5056442905604603,0.10234325985126748,0.6148640320419358,0.4239039005467839,1.396124056376324,0.7393930442459123,-0.29505678600560303,0.5967198803864783,-0.2929435341856442,-0.21643056691667753,-0.040657885172045674,0.9275522036098794,-0.5572033838964305,1.2614169612151802,0.9861877911762481,-0.8609916887718085,1.6577821753353164,-1.1706054305347073,-2.039104991483795,0.101652577011143,-0.33096453049201446,-0.24238742236176442,-0.614658908074277,0.6833024433372668,-1.897348458924881,0.7720752581125835,-0.20980699751151988,1.0735052581763462,0.4213954895542332,0.44819662458866577,0.055553289819388375,1.2543391415006115,-0.8766186288812203,-0.44139741543658567,-0.38483713260064706,0.6460054239742792,-0.11663002491925503,-0.5612255691473144,-0.11661356734924128,-0.06528392923463709,-1.1943348197594,0.49956150576740393,0.720107127645793,0.5412915956172295,0.08759720239739159,0.6477219852900776],\"xaxis\":\"x8\",\"y\":[-2.4154271826055687,0.2281163742403504,1.023638806068143,-0.42311682261393985,1.0460920365897521,0.014379125674698972,-1.0024753274980267,1.2970651067413772,-1.4876062324008748,-1.2787134920238905,-2.255927984437855,0.3917658809386741,0.8254925127903598,0.5167247505647817,-0.37885329612876756,-1.4465545453597755,1.283402522449017,-0.13883342228836232,-0.819263241038832,-0.2875102463290612,-0.6084972801612889,0.60097337047301,-0.38951842733027325,1.1383351179567085,0.5303220825477065,-1.2702935398670259,-0.5216055214220926,-0.33849718969494463,-0.31043838587410905,0.1861750117058042,-1.3367601455296272,-0.13539319664272512,-0.04826911800939443,1.0137197495851988,0.40239706746935344,-0.33824853753891115,-1.2044670928003556,1.2457273930479194,-0.3034148106261058,0.5007964524725353,0.6061265061918621,0.10666541063424463,-2.555083787197274,0.9531398284577858,0.8398465183168621,0.9303183779340494,0.7858951323348161,2.527869377884583,-0.6051809428312591,-0.5272869417373718,2.3439665972310224,-1.2122096114782646,-1.2007273327736605,-0.8394630308996531,1.02019968517285,0.9534146859616777,0.056861705035020686,-2.003762067954828,-0.17404675080271992,1.1867630462507908,-0.901771137497407,1.5324198527172153,0.7134995518226834,-0.9369721788688021,-0.13809992304297572,0.3676970458870487,-0.009408068072079542,-0.22749233880224112,1.2160209293891586,0.6560409767607005,-0.608297820845587,0.02471522606611033,-0.23314164833860315,-0.021381677697893738,-1.3206072599621494,0.36257703524638424,-0.6079356241638769,-0.3052512546185061,0.3762701311102944,0.5832649361771575,1.9959564462294366,1.4640554173951212,-1.0768809643150925,0.6393538090437333,-2.0425454096017623,1.2458691168533944,-0.5559855700539201,-0.07969304470464499,-1.3143013832539345,0.12107507633181926,0.9639635187378766,-0.3194262744208612,1.657384793065372,-0.9984958934522816,-0.28060915556170324,0.2032552162774426,0.25289516322159433,0.13845611158751048,0.5732709988184584,-0.14753713877560354],\"yaxis\":\"y8\",\"type\":\"scatter\"},{\"line\":{\"color\":\"rgba(128, 128, 128, 1.0)\",\"dash\":\"solid\",\"shape\":\"linear\",\"width\":1.3},\"marker\":{\"size\":2,\"symbol\":\"circle\"},\"mode\":\"markers\",\"name\":\"C\",\"text\":\"\",\"x\":[-0.8028561302251124,1.479302388301489,0.09259836950276953,-0.512200866745337,0.8576238983724528,0.6085497404944062,-0.788223295517952,0.9761665209278051,2.238690887893208,1.3490247594088083,0.737059096870889,0.3026134531782889,-0.7957217706029994,0.33823616570030324,0.19196824309714583,-0.4698312480273544,0.4301162469854865,1.1815924579324193,0.2274535937715395,-1.5943306169668727,0.12493303310468025,0.7975876609059102,0.09593279290044807,-0.19719809096164162,1.6565466613065052,0.4501760595795119,-0.02886866437548703,0.16505807536954564,1.124836055486245,2.049975322070444,-0.033165046880216376,0.7801630412932541,0.028285298355942425,-1.2989262631774416,1.3012174059227228,0.15728220307540158,-0.31316077721117375,-1.1747533327607587,1.7069413233814477,0.07419368467184914,-1.147529248600138,0.30864584269972306,-1.2793699272497943,-1.1249859442345558,0.2831314824771736,-0.18716951345172192,-1.090356868475828,1.9293517124623794,2.3684113403376057,-0.7988882319337831,1.6038153380009872,-1.2288347702724813,-1.201690996947852,-0.6607024240946915,1.8446345228914234,-0.9936737748233865,0.4870909728145924,0.0635477755521646,0.32357734017082884,0.06832369257774945,1.103825118434115,-0.7645127908507001,-1.3676473832933946,0.46402104480674794,0.15452847403977235,-0.6061958034619276,0.22205129416545974,-0.7962583172868609,-1.5584080382815726,0.5989046805601863,-0.6782957556343797,0.18020677123740392,0.19287312831057887,-0.1369071911530954,-1.0966518041958313,-0.4137103383439439,0.8408784953202832,-0.26466856360948776,-2.599861296100724,-0.543503678619246,-1.0601507878835457,-1.4366314663310211,-0.5783918179279967,-0.35904402150393355,-0.8532029670981947,-0.0668865536827716,0.3482385301768811,-0.43769557904928835,1.5562474048025967,-1.2058652048168754,0.012743990748052518,0.0525324102625891,0.40393559040764987,-0.3194053660387816,-0.7515950497771627,-1.6911968013479222,-1.0664557829608285,-1.4918263253090283,0.44400403329900645,-0.5245696570792404],\"xaxis\":\"x9\",\"y\":[1.0266479716476482,1.432038494344584,2.331077558724533,1.4250911342219454,2.0072483013459452,-1.5355702894548662,1.9064878082497931,-0.22830457499663384,-1.380984325977485,-0.690813533252461,0.33163005186653344,-0.07648218111385366,-1.4615567095380366,1.0877525351023425,-1.4765205673594637,-0.30155231211391387,1.2158066585855902,0.981146625848748,0.3549076968165471,-0.7858397002909925,-0.8825752683977601,0.22346856404904056,-0.09178213155203006,-0.1872221896032133,-1.2680354368620395,0.7110138719456527,1.3107064840395686,0.4743786831492211,1.0032295353665603,0.2950115996601164,0.7647363192145541,-0.42400982230862516,0.6941600609698834,-0.3759666165637017,-0.8817739374777922,1.878204465740685,0.31368795063932947,1.8358602205190375,1.497086766456587,-0.017915509870727958,0.5220295904050539,-0.7780347842393094,0.5142705640323211,0.44772560497420527,-0.7654367620323748,-0.3128829174094753,-0.9370846838882704,1.9008753775511973,0.6973864139756631,-0.4874991247259999,0.8285539109503055,-0.9556988156338944,0.26993914631785376,1.6612988923136256,1.8673692783054838,0.1703047543741212,0.10419548706774773,1.493028106474792,-0.19972529062259206,0.6767496283953335,1.343120362942058,-0.9575416854653955,-0.1994517851046536,1.1919198212656719,0.818165303586279,-0.6319738037873451,2.0339419821750973,0.47608984908468793,0.22305523092094434,-1.1493007094220875,0.12564065883300984,1.6207498207631248,-1.557883718629152,0.28186281406346203,1.1383559061464599,1.2928154142070365,-0.9419733904870756,0.569694582494328,0.33830883374494275,-0.7718093304189237,-1.8162997209099536,-0.527054219417872,-0.832440904908529,0.4627592260315701,-0.13627938557034916,0.26658358687847716,-0.5053891870823346,0.6023780464733511,-0.3381825759471592,-1.216122566939081,-0.4812017331363412,1.452077473551976,0.3492716413152897,-0.5377528030314477,-0.2809456526948875,-0.4631595484127176,0.31725211058710023,-1.9845954424006462,0.6840464547566846,0.33902361943784204],\"yaxis\":\"y9\",\"type\":\"scatter\"},{\"line\":{\"color\":\"rgba(128, 128, 128, 1.0)\",\"dash\":\"solid\",\"shape\":\"linear\",\"width\":1.3},\"marker\":{\"size\":2,\"symbol\":\"circle\"},\"mode\":\"markers\",\"name\":\"C\",\"text\":\"\",\"x\":[-2.4154271826055687,0.2281163742403504,1.023638806068143,-0.42311682261393985,1.0460920365897521,0.014379125674698972,-1.0024753274980267,1.2970651067413772,-1.4876062324008748,-1.2787134920238905,-2.255927984437855,0.3917658809386741,0.8254925127903598,0.5167247505647817,-0.37885329612876756,-1.4465545453597755,1.283402522449017,-0.13883342228836232,-0.819263241038832,-0.2875102463290612,-0.6084972801612889,0.60097337047301,-0.38951842733027325,1.1383351179567085,0.5303220825477065,-1.2702935398670259,-0.5216055214220926,-0.33849718969494463,-0.31043838587410905,0.1861750117058042,-1.3367601455296272,-0.13539319664272512,-0.04826911800939443,1.0137197495851988,0.40239706746935344,-0.33824853753891115,-1.2044670928003556,1.2457273930479194,-0.3034148106261058,0.5007964524725353,0.6061265061918621,0.10666541063424463,-2.555083787197274,0.9531398284577858,0.8398465183168621,0.9303183779340494,0.7858951323348161,2.527869377884583,-0.6051809428312591,-0.5272869417373718,2.3439665972310224,-1.2122096114782646,-1.2007273327736605,-0.8394630308996531,1.02019968517285,0.9534146859616777,0.056861705035020686,-2.003762067954828,-0.17404675080271992,1.1867630462507908,-0.901771137497407,1.5324198527172153,0.7134995518226834,-0.9369721788688021,-0.13809992304297572,0.3676970458870487,-0.009408068072079542,-0.22749233880224112,1.2160209293891586,0.6560409767607005,-0.608297820845587,0.02471522606611033,-0.23314164833860315,-0.021381677697893738,-1.3206072599621494,0.36257703524638424,-0.6079356241638769,-0.3052512546185061,0.3762701311102944,0.5832649361771575,1.9959564462294366,1.4640554173951212,-1.0768809643150925,0.6393538090437333,-2.0425454096017623,1.2458691168533944,-0.5559855700539201,-0.07969304470464499,-1.3143013832539345,0.12107507633181926,0.9639635187378766,-0.3194262744208612,1.657384793065372,-0.9984958934522816,-0.28060915556170324,0.2032552162774426,0.25289516322159433,0.13845611158751048,0.5732709988184584,-0.14753713877560354],\"xaxis\":\"x10\",\"y\":[1.0266479716476482,1.432038494344584,2.331077558724533,1.4250911342219454,2.0072483013459452,-1.5355702894548662,1.9064878082497931,-0.22830457499663384,-1.380984325977485,-0.690813533252461,0.33163005186653344,-0.07648218111385366,-1.4615567095380366,1.0877525351023425,-1.4765205673594637,-0.30155231211391387,1.2158066585855902,0.981146625848748,0.3549076968165471,-0.7858397002909925,-0.8825752683977601,0.22346856404904056,-0.09178213155203006,-0.1872221896032133,-1.2680354368620395,0.7110138719456527,1.3107064840395686,0.4743786831492211,1.0032295353665603,0.2950115996601164,0.7647363192145541,-0.42400982230862516,0.6941600609698834,-0.3759666165637017,-0.8817739374777922,1.878204465740685,0.31368795063932947,1.8358602205190375,1.497086766456587,-0.017915509870727958,0.5220295904050539,-0.7780347842393094,0.5142705640323211,0.44772560497420527,-0.7654367620323748,-0.3128829174094753,-0.9370846838882704,1.9008753775511973,0.6973864139756631,-0.4874991247259999,0.8285539109503055,-0.9556988156338944,0.26993914631785376,1.6612988923136256,1.8673692783054838,0.1703047543741212,0.10419548706774773,1.493028106474792,-0.19972529062259206,0.6767496283953335,1.343120362942058,-0.9575416854653955,-0.1994517851046536,1.1919198212656719,0.818165303586279,-0.6319738037873451,2.0339419821750973,0.47608984908468793,0.22305523092094434,-1.1493007094220875,0.12564065883300984,1.6207498207631248,-1.557883718629152,0.28186281406346203,1.1383559061464599,1.2928154142070365,-0.9419733904870756,0.569694582494328,0.33830883374494275,-0.7718093304189237,-1.8162997209099536,-0.527054219417872,-0.832440904908529,0.4627592260315701,-0.13627938557034916,0.26658358687847716,-0.5053891870823346,0.6023780464733511,-0.3381825759471592,-1.216122566939081,-0.4812017331363412,1.452077473551976,0.3492716413152897,-0.5377528030314477,-0.2809456526948875,-0.4631595484127176,0.31725211058710023,-1.9845954424006462,0.6840464547566846,0.33902361943784204],\"yaxis\":\"y10\",\"type\":\"scatter\"},{\"histfunc\":\"count\",\"histnorm\":\"\",\"marker\":{\"color\":\"rgba(50, 171, 96, 1.0)\",\"line\":{\"color\":\"#4D5663\",\"width\":1.3}},\"name\":\"C\",\"nbinsx\":10,\"opacity\":0.8,\"orientation\":\"v\",\"x\":[1.0266479716476482,1.432038494344584,2.331077558724533,1.4250911342219454,2.0072483013459452,-1.5355702894548662,1.9064878082497931,-0.22830457499663384,-1.380984325977485,-0.690813533252461,0.33163005186653344,-0.07648218111385366,-1.4615567095380366,1.0877525351023425,-1.4765205673594637,-0.30155231211391387,1.2158066585855902,0.981146625848748,0.3549076968165471,-0.7858397002909925,-0.8825752683977601,0.22346856404904056,-0.09178213155203006,-0.1872221896032133,-1.2680354368620395,0.7110138719456527,1.3107064840395686,0.4743786831492211,1.0032295353665603,0.2950115996601164,0.7647363192145541,-0.42400982230862516,0.6941600609698834,-0.3759666165637017,-0.8817739374777922,1.878204465740685,0.31368795063932947,1.8358602205190375,1.497086766456587,-0.017915509870727958,0.5220295904050539,-0.7780347842393094,0.5142705640323211,0.44772560497420527,-0.7654367620323748,-0.3128829174094753,-0.9370846838882704,1.9008753775511973,0.6973864139756631,-0.4874991247259999,0.8285539109503055,-0.9556988156338944,0.26993914631785376,1.6612988923136256,1.8673692783054838,0.1703047543741212,0.10419548706774773,1.493028106474792,-0.19972529062259206,0.6767496283953335,1.343120362942058,-0.9575416854653955,-0.1994517851046536,1.1919198212656719,0.818165303586279,-0.6319738037873451,2.0339419821750973,0.47608984908468793,0.22305523092094434,-1.1493007094220875,0.12564065883300984,1.6207498207631248,-1.557883718629152,0.28186281406346203,1.1383559061464599,1.2928154142070365,-0.9419733904870756,0.569694582494328,0.33830883374494275,-0.7718093304189237,-1.8162997209099536,-0.527054219417872,-0.832440904908529,0.4627592260315701,-0.13627938557034916,0.26658358687847716,-0.5053891870823346,0.6023780464733511,-0.3381825759471592,-1.216122566939081,-0.4812017331363412,1.452077473551976,0.3492716413152897,-0.5377528030314477,-0.2809456526948875,-0.4631595484127176,0.31725211058710023,-1.9845954424006462,0.6840464547566846,0.33902361943784204],\"xaxis\":\"x11\",\"yaxis\":\"y11\",\"type\":\"histogram\"},{\"line\":{\"color\":\"rgba(128, 128, 128, 1.0)\",\"dash\":\"solid\",\"shape\":\"linear\",\"width\":1.3},\"marker\":{\"size\":2,\"symbol\":\"circle\"},\"mode\":\"markers\",\"name\":\"C\",\"text\":\"\",\"x\":[-1.2359855837844993,-1.3565000730262446,0.5808543791361195,0.517960669672099,1.3100661612435043,-1.0523215058338327,0.03874381970918687,0.4746715461817965,0.20572081984625887,-0.2550652617067661,-1.0944555440338883,-0.07102029966833753,1.6523626350965817,1.2586601929850905,0.6286550560191307,0.5996585130594111,0.08323696649269624,0.4946950359410362,-1.7023550273834205,-0.10090686292260698,-0.04104445939723555,0.8169264813883685,-0.18309598292488616,0.7675347533357908,-0.7849145744957643,0.2175021592277963,-1.8098388047322989,-0.15760627217239695,0.6648946941171906,-0.26473281783821323,-0.5254749746201199,-1.3148454891937245,-0.2216245994163635,0.23367654323740733,0.06243652317531484,0.4097676076146735,-2.1175550169769606,0.9124294824623688,-0.26653877709534507,0.33119801912632685,0.1889527706557953,1.9987970643057387,-0.3626622468456089,-1.3236859634110174,-0.1669033683022175,-0.17385874607726262,-0.3500538967874222,-0.567309967393333,0.7303462219629867,0.6641377568817323,-1.917897491533714,0.010601795106177462,0.6567204220559013,-0.22211412897764646,1.5056442905604603,0.10234325985126748,0.6148640320419358,0.4239039005467839,1.396124056376324,0.7393930442459123,-0.29505678600560303,0.5967198803864783,-0.2929435341856442,-0.21643056691667753,-0.040657885172045674,0.9275522036098794,-0.5572033838964305,1.2614169612151802,0.9861877911762481,-0.8609916887718085,1.6577821753353164,-1.1706054305347073,-2.039104991483795,0.101652577011143,-0.33096453049201446,-0.24238742236176442,-0.614658908074277,0.6833024433372668,-1.897348458924881,0.7720752581125835,-0.20980699751151988,1.0735052581763462,0.4213954895542332,0.44819662458866577,0.055553289819388375,1.2543391415006115,-0.8766186288812203,-0.44139741543658567,-0.38483713260064706,0.6460054239742792,-0.11663002491925503,-0.5612255691473144,-0.11661356734924128,-0.06528392923463709,-1.1943348197594,0.49956150576740393,0.720107127645793,0.5412915956172295,0.08759720239739159,0.6477219852900776],\"xaxis\":\"x12\",\"y\":[1.0266479716476482,1.432038494344584,2.331077558724533,1.4250911342219454,2.0072483013459452,-1.5355702894548662,1.9064878082497931,-0.22830457499663384,-1.380984325977485,-0.690813533252461,0.33163005186653344,-0.07648218111385366,-1.4615567095380366,1.0877525351023425,-1.4765205673594637,-0.30155231211391387,1.2158066585855902,0.981146625848748,0.3549076968165471,-0.7858397002909925,-0.8825752683977601,0.22346856404904056,-0.09178213155203006,-0.1872221896032133,-1.2680354368620395,0.7110138719456527,1.3107064840395686,0.4743786831492211,1.0032295353665603,0.2950115996601164,0.7647363192145541,-0.42400982230862516,0.6941600609698834,-0.3759666165637017,-0.8817739374777922,1.878204465740685,0.31368795063932947,1.8358602205190375,1.497086766456587,-0.017915509870727958,0.5220295904050539,-0.7780347842393094,0.5142705640323211,0.44772560497420527,-0.7654367620323748,-0.3128829174094753,-0.9370846838882704,1.9008753775511973,0.6973864139756631,-0.4874991247259999,0.8285539109503055,-0.9556988156338944,0.26993914631785376,1.6612988923136256,1.8673692783054838,0.1703047543741212,0.10419548706774773,1.493028106474792,-0.19972529062259206,0.6767496283953335,1.343120362942058,-0.9575416854653955,-0.1994517851046536,1.1919198212656719,0.818165303586279,-0.6319738037873451,2.0339419821750973,0.47608984908468793,0.22305523092094434,-1.1493007094220875,0.12564065883300984,1.6207498207631248,-1.557883718629152,0.28186281406346203,1.1383559061464599,1.2928154142070365,-0.9419733904870756,0.569694582494328,0.33830883374494275,-0.7718093304189237,-1.8162997209099536,-0.527054219417872,-0.832440904908529,0.4627592260315701,-0.13627938557034916,0.26658358687847716,-0.5053891870823346,0.6023780464733511,-0.3381825759471592,-1.216122566939081,-0.4812017331363412,1.452077473551976,0.3492716413152897,-0.5377528030314477,-0.2809456526948875,-0.4631595484127176,0.31725211058710023,-1.9845954424006462,0.6840464547566846,0.33902361943784204],\"yaxis\":\"y12\",\"type\":\"scatter\"},{\"line\":{\"color\":\"rgba(128, 128, 128, 1.0)\",\"dash\":\"solid\",\"shape\":\"linear\",\"width\":1.3},\"marker\":{\"size\":2,\"symbol\":\"circle\"},\"mode\":\"markers\",\"name\":\"D\",\"text\":\"\",\"x\":[-0.8028561302251124,1.479302388301489,0.09259836950276953,-0.512200866745337,0.8576238983724528,0.6085497404944062,-0.788223295517952,0.9761665209278051,2.238690887893208,1.3490247594088083,0.737059096870889,0.3026134531782889,-0.7957217706029994,0.33823616570030324,0.19196824309714583,-0.4698312480273544,0.4301162469854865,1.1815924579324193,0.2274535937715395,-1.5943306169668727,0.12493303310468025,0.7975876609059102,0.09593279290044807,-0.19719809096164162,1.6565466613065052,0.4501760595795119,-0.02886866437548703,0.16505807536954564,1.124836055486245,2.049975322070444,-0.033165046880216376,0.7801630412932541,0.028285298355942425,-1.2989262631774416,1.3012174059227228,0.15728220307540158,-0.31316077721117375,-1.1747533327607587,1.7069413233814477,0.07419368467184914,-1.147529248600138,0.30864584269972306,-1.2793699272497943,-1.1249859442345558,0.2831314824771736,-0.18716951345172192,-1.090356868475828,1.9293517124623794,2.3684113403376057,-0.7988882319337831,1.6038153380009872,-1.2288347702724813,-1.201690996947852,-0.6607024240946915,1.8446345228914234,-0.9936737748233865,0.4870909728145924,0.0635477755521646,0.32357734017082884,0.06832369257774945,1.103825118434115,-0.7645127908507001,-1.3676473832933946,0.46402104480674794,0.15452847403977235,-0.6061958034619276,0.22205129416545974,-0.7962583172868609,-1.5584080382815726,0.5989046805601863,-0.6782957556343797,0.18020677123740392,0.19287312831057887,-0.1369071911530954,-1.0966518041958313,-0.4137103383439439,0.8408784953202832,-0.26466856360948776,-2.599861296100724,-0.543503678619246,-1.0601507878835457,-1.4366314663310211,-0.5783918179279967,-0.35904402150393355,-0.8532029670981947,-0.0668865536827716,0.3482385301768811,-0.43769557904928835,1.5562474048025967,-1.2058652048168754,0.012743990748052518,0.0525324102625891,0.40393559040764987,-0.3194053660387816,-0.7515950497771627,-1.6911968013479222,-1.0664557829608285,-1.4918263253090283,0.44400403329900645,-0.5245696570792404],\"xaxis\":\"x13\",\"y\":[-1.2359855837844993,-1.3565000730262446,0.5808543791361195,0.517960669672099,1.3100661612435043,-1.0523215058338327,0.03874381970918687,0.4746715461817965,0.20572081984625887,-0.2550652617067661,-1.0944555440338883,-0.07102029966833753,1.6523626350965817,1.2586601929850905,0.6286550560191307,0.5996585130594111,0.08323696649269624,0.4946950359410362,-1.7023550273834205,-0.10090686292260698,-0.04104445939723555,0.8169264813883685,-0.18309598292488616,0.7675347533357908,-0.7849145744957643,0.2175021592277963,-1.8098388047322989,-0.15760627217239695,0.6648946941171906,-0.26473281783821323,-0.5254749746201199,-1.3148454891937245,-0.2216245994163635,0.23367654323740733,0.06243652317531484,0.4097676076146735,-2.1175550169769606,0.9124294824623688,-0.26653877709534507,0.33119801912632685,0.1889527706557953,1.9987970643057387,-0.3626622468456089,-1.3236859634110174,-0.1669033683022175,-0.17385874607726262,-0.3500538967874222,-0.567309967393333,0.7303462219629867,0.6641377568817323,-1.917897491533714,0.010601795106177462,0.6567204220559013,-0.22211412897764646,1.5056442905604603,0.10234325985126748,0.6148640320419358,0.4239039005467839,1.396124056376324,0.7393930442459123,-0.29505678600560303,0.5967198803864783,-0.2929435341856442,-0.21643056691667753,-0.040657885172045674,0.9275522036098794,-0.5572033838964305,1.2614169612151802,0.9861877911762481,-0.8609916887718085,1.6577821753353164,-1.1706054305347073,-2.039104991483795,0.101652577011143,-0.33096453049201446,-0.24238742236176442,-0.614658908074277,0.6833024433372668,-1.897348458924881,0.7720752581125835,-0.20980699751151988,1.0735052581763462,0.4213954895542332,0.44819662458866577,0.055553289819388375,1.2543391415006115,-0.8766186288812203,-0.44139741543658567,-0.38483713260064706,0.6460054239742792,-0.11663002491925503,-0.5612255691473144,-0.11661356734924128,-0.06528392923463709,-1.1943348197594,0.49956150576740393,0.720107127645793,0.5412915956172295,0.08759720239739159,0.6477219852900776],\"yaxis\":\"y13\",\"type\":\"scatter\"},{\"line\":{\"color\":\"rgba(128, 128, 128, 1.0)\",\"dash\":\"solid\",\"shape\":\"linear\",\"width\":1.3},\"marker\":{\"size\":2,\"symbol\":\"circle\"},\"mode\":\"markers\",\"name\":\"D\",\"text\":\"\",\"x\":[-2.4154271826055687,0.2281163742403504,1.023638806068143,-0.42311682261393985,1.0460920365897521,0.014379125674698972,-1.0024753274980267,1.2970651067413772,-1.4876062324008748,-1.2787134920238905,-2.255927984437855,0.3917658809386741,0.8254925127903598,0.5167247505647817,-0.37885329612876756,-1.4465545453597755,1.283402522449017,-0.13883342228836232,-0.819263241038832,-0.2875102463290612,-0.6084972801612889,0.60097337047301,-0.38951842733027325,1.1383351179567085,0.5303220825477065,-1.2702935398670259,-0.5216055214220926,-0.33849718969494463,-0.31043838587410905,0.1861750117058042,-1.3367601455296272,-0.13539319664272512,-0.04826911800939443,1.0137197495851988,0.40239706746935344,-0.33824853753891115,-1.2044670928003556,1.2457273930479194,-0.3034148106261058,0.5007964524725353,0.6061265061918621,0.10666541063424463,-2.555083787197274,0.9531398284577858,0.8398465183168621,0.9303183779340494,0.7858951323348161,2.527869377884583,-0.6051809428312591,-0.5272869417373718,2.3439665972310224,-1.2122096114782646,-1.2007273327736605,-0.8394630308996531,1.02019968517285,0.9534146859616777,0.056861705035020686,-2.003762067954828,-0.17404675080271992,1.1867630462507908,-0.901771137497407,1.5324198527172153,0.7134995518226834,-0.9369721788688021,-0.13809992304297572,0.3676970458870487,-0.009408068072079542,-0.22749233880224112,1.2160209293891586,0.6560409767607005,-0.608297820845587,0.02471522606611033,-0.23314164833860315,-0.021381677697893738,-1.3206072599621494,0.36257703524638424,-0.6079356241638769,-0.3052512546185061,0.3762701311102944,0.5832649361771575,1.9959564462294366,1.4640554173951212,-1.0768809643150925,0.6393538090437333,-2.0425454096017623,1.2458691168533944,-0.5559855700539201,-0.07969304470464499,-1.3143013832539345,0.12107507633181926,0.9639635187378766,-0.3194262744208612,1.657384793065372,-0.9984958934522816,-0.28060915556170324,0.2032552162774426,0.25289516322159433,0.13845611158751048,0.5732709988184584,-0.14753713877560354],\"xaxis\":\"x14\",\"y\":[-1.2359855837844993,-1.3565000730262446,0.5808543791361195,0.517960669672099,1.3100661612435043,-1.0523215058338327,0.03874381970918687,0.4746715461817965,0.20572081984625887,-0.2550652617067661,-1.0944555440338883,-0.07102029966833753,1.6523626350965817,1.2586601929850905,0.6286550560191307,0.5996585130594111,0.08323696649269624,0.4946950359410362,-1.7023550273834205,-0.10090686292260698,-0.04104445939723555,0.8169264813883685,-0.18309598292488616,0.7675347533357908,-0.7849145744957643,0.2175021592277963,-1.8098388047322989,-0.15760627217239695,0.6648946941171906,-0.26473281783821323,-0.5254749746201199,-1.3148454891937245,-0.2216245994163635,0.23367654323740733,0.06243652317531484,0.4097676076146735,-2.1175550169769606,0.9124294824623688,-0.26653877709534507,0.33119801912632685,0.1889527706557953,1.9987970643057387,-0.3626622468456089,-1.3236859634110174,-0.1669033683022175,-0.17385874607726262,-0.3500538967874222,-0.567309967393333,0.7303462219629867,0.6641377568817323,-1.917897491533714,0.010601795106177462,0.6567204220559013,-0.22211412897764646,1.5056442905604603,0.10234325985126748,0.6148640320419358,0.4239039005467839,1.396124056376324,0.7393930442459123,-0.29505678600560303,0.5967198803864783,-0.2929435341856442,-0.21643056691667753,-0.040657885172045674,0.9275522036098794,-0.5572033838964305,1.2614169612151802,0.9861877911762481,-0.8609916887718085,1.6577821753353164,-1.1706054305347073,-2.039104991483795,0.101652577011143,-0.33096453049201446,-0.24238742236176442,-0.614658908074277,0.6833024433372668,-1.897348458924881,0.7720752581125835,-0.20980699751151988,1.0735052581763462,0.4213954895542332,0.44819662458866577,0.055553289819388375,1.2543391415006115,-0.8766186288812203,-0.44139741543658567,-0.38483713260064706,0.6460054239742792,-0.11663002491925503,-0.5612255691473144,-0.11661356734924128,-0.06528392923463709,-1.1943348197594,0.49956150576740393,0.720107127645793,0.5412915956172295,0.08759720239739159,0.6477219852900776],\"yaxis\":\"y14\",\"type\":\"scatter\"},{\"line\":{\"color\":\"rgba(128, 128, 128, 1.0)\",\"dash\":\"solid\",\"shape\":\"linear\",\"width\":1.3},\"marker\":{\"size\":2,\"symbol\":\"circle\"},\"mode\":\"markers\",\"name\":\"D\",\"text\":\"\",\"x\":[1.0266479716476482,1.432038494344584,2.331077558724533,1.4250911342219454,2.0072483013459452,-1.5355702894548662,1.9064878082497931,-0.22830457499663384,-1.380984325977485,-0.690813533252461,0.33163005186653344,-0.07648218111385366,-1.4615567095380366,1.0877525351023425,-1.4765205673594637,-0.30155231211391387,1.2158066585855902,0.981146625848748,0.3549076968165471,-0.7858397002909925,-0.8825752683977601,0.22346856404904056,-0.09178213155203006,-0.1872221896032133,-1.2680354368620395,0.7110138719456527,1.3107064840395686,0.4743786831492211,1.0032295353665603,0.2950115996601164,0.7647363192145541,-0.42400982230862516,0.6941600609698834,-0.3759666165637017,-0.8817739374777922,1.878204465740685,0.31368795063932947,1.8358602205190375,1.497086766456587,-0.017915509870727958,0.5220295904050539,-0.7780347842393094,0.5142705640323211,0.44772560497420527,-0.7654367620323748,-0.3128829174094753,-0.9370846838882704,1.9008753775511973,0.6973864139756631,-0.4874991247259999,0.8285539109503055,-0.9556988156338944,0.26993914631785376,1.6612988923136256,1.8673692783054838,0.1703047543741212,0.10419548706774773,1.493028106474792,-0.19972529062259206,0.6767496283953335,1.343120362942058,-0.9575416854653955,-0.1994517851046536,1.1919198212656719,0.818165303586279,-0.6319738037873451,2.0339419821750973,0.47608984908468793,0.22305523092094434,-1.1493007094220875,0.12564065883300984,1.6207498207631248,-1.557883718629152,0.28186281406346203,1.1383559061464599,1.2928154142070365,-0.9419733904870756,0.569694582494328,0.33830883374494275,-0.7718093304189237,-1.8162997209099536,-0.527054219417872,-0.832440904908529,0.4627592260315701,-0.13627938557034916,0.26658358687847716,-0.5053891870823346,0.6023780464733511,-0.3381825759471592,-1.216122566939081,-0.4812017331363412,1.452077473551976,0.3492716413152897,-0.5377528030314477,-0.2809456526948875,-0.4631595484127176,0.31725211058710023,-1.9845954424006462,0.6840464547566846,0.33902361943784204],\"xaxis\":\"x15\",\"y\":[-1.2359855837844993,-1.3565000730262446,0.5808543791361195,0.517960669672099,1.3100661612435043,-1.0523215058338327,0.03874381970918687,0.4746715461817965,0.20572081984625887,-0.2550652617067661,-1.0944555440338883,-0.07102029966833753,1.6523626350965817,1.2586601929850905,0.6286550560191307,0.5996585130594111,0.08323696649269624,0.4946950359410362,-1.7023550273834205,-0.10090686292260698,-0.04104445939723555,0.8169264813883685,-0.18309598292488616,0.7675347533357908,-0.7849145744957643,0.2175021592277963,-1.8098388047322989,-0.15760627217239695,0.6648946941171906,-0.26473281783821323,-0.5254749746201199,-1.3148454891937245,-0.2216245994163635,0.23367654323740733,0.06243652317531484,0.4097676076146735,-2.1175550169769606,0.9124294824623688,-0.26653877709534507,0.33119801912632685,0.1889527706557953,1.9987970643057387,-0.3626622468456089,-1.3236859634110174,-0.1669033683022175,-0.17385874607726262,-0.3500538967874222,-0.567309967393333,0.7303462219629867,0.6641377568817323,-1.917897491533714,0.010601795106177462,0.6567204220559013,-0.22211412897764646,1.5056442905604603,0.10234325985126748,0.6148640320419358,0.4239039005467839,1.396124056376324,0.7393930442459123,-0.29505678600560303,0.5967198803864783,-0.2929435341856442,-0.21643056691667753,-0.040657885172045674,0.9275522036098794,-0.5572033838964305,1.2614169612151802,0.9861877911762481,-0.8609916887718085,1.6577821753353164,-1.1706054305347073,-2.039104991483795,0.101652577011143,-0.33096453049201446,-0.24238742236176442,-0.614658908074277,0.6833024433372668,-1.897348458924881,0.7720752581125835,-0.20980699751151988,1.0735052581763462,0.4213954895542332,0.44819662458866577,0.055553289819388375,1.2543391415006115,-0.8766186288812203,-0.44139741543658567,-0.38483713260064706,0.6460054239742792,-0.11663002491925503,-0.5612255691473144,-0.11661356734924128,-0.06528392923463709,-1.1943348197594,0.49956150576740393,0.720107127645793,0.5412915956172295,0.08759720239739159,0.6477219852900776],\"yaxis\":\"y15\",\"type\":\"scatter\"},{\"histfunc\":\"count\",\"histnorm\":\"\",\"marker\":{\"color\":\"rgba(128, 0, 128, 1.0)\",\"line\":{\"color\":\"#4D5663\",\"width\":1.3}},\"name\":\"D\",\"nbinsx\":10,\"opacity\":0.8,\"orientation\":\"v\",\"x\":[-1.2359855837844993,-1.3565000730262446,0.5808543791361195,0.517960669672099,1.3100661612435043,-1.0523215058338327,0.03874381970918687,0.4746715461817965,0.20572081984625887,-0.2550652617067661,-1.0944555440338883,-0.07102029966833753,1.6523626350965817,1.2586601929850905,0.6286550560191307,0.5996585130594111,0.08323696649269624,0.4946950359410362,-1.7023550273834205,-0.10090686292260698,-0.04104445939723555,0.8169264813883685,-0.18309598292488616,0.7675347533357908,-0.7849145744957643,0.2175021592277963,-1.8098388047322989,-0.15760627217239695,0.6648946941171906,-0.26473281783821323,-0.5254749746201199,-1.3148454891937245,-0.2216245994163635,0.23367654323740733,0.06243652317531484,0.4097676076146735,-2.1175550169769606,0.9124294824623688,-0.26653877709534507,0.33119801912632685,0.1889527706557953,1.9987970643057387,-0.3626622468456089,-1.3236859634110174,-0.1669033683022175,-0.17385874607726262,-0.3500538967874222,-0.567309967393333,0.7303462219629867,0.6641377568817323,-1.917897491533714,0.010601795106177462,0.6567204220559013,-0.22211412897764646,1.5056442905604603,0.10234325985126748,0.6148640320419358,0.4239039005467839,1.396124056376324,0.7393930442459123,-0.29505678600560303,0.5967198803864783,-0.2929435341856442,-0.21643056691667753,-0.040657885172045674,0.9275522036098794,-0.5572033838964305,1.2614169612151802,0.9861877911762481,-0.8609916887718085,1.6577821753353164,-1.1706054305347073,-2.039104991483795,0.101652577011143,-0.33096453049201446,-0.24238742236176442,-0.614658908074277,0.6833024433372668,-1.897348458924881,0.7720752581125835,-0.20980699751151988,1.0735052581763462,0.4213954895542332,0.44819662458866577,0.055553289819388375,1.2543391415006115,-0.8766186288812203,-0.44139741543658567,-0.38483713260064706,0.6460054239742792,-0.11663002491925503,-0.5612255691473144,-0.11661356734924128,-0.06528392923463709,-1.1943348197594,0.49956150576740393,0.720107127645793,0.5412915956172295,0.08759720239739159,0.6477219852900776],\"xaxis\":\"x16\",\"yaxis\":\"y16\",\"type\":\"histogram\"}],                        {\"bargap\":0.02,\"legend\":{\"bgcolor\":\"#F5F6F9\",\"font\":{\"color\":\"#4D5663\"}},\"paper_bgcolor\":\"#F5F6F9\",\"plot_bgcolor\":\"#F5F6F9\",\"showlegend\":false,\"template\":{\"data\":{\"barpolar\":[{\"marker\":{\"line\":{\"color\":\"#E5ECF6\",\"width\":0.5},\"pattern\":{\"fillmode\":\"overlay\",\"size\":10,\"solidity\":0.2}},\"type\":\"barpolar\"}],\"bar\":[{\"error_x\":{\"color\":\"#2a3f5f\"},\"error_y\":{\"color\":\"#2a3f5f\"},\"marker\":{\"line\":{\"color\":\"#E5ECF6\",\"width\":0.5},\"pattern\":{\"fillmode\":\"overlay\",\"size\":10,\"solidity\":0.2}},\"type\":\"bar\"}],\"carpet\":[{\"aaxis\":{\"endlinecolor\":\"#2a3f5f\",\"gridcolor\":\"white\",\"linecolor\":\"white\",\"minorgridcolor\":\"white\",\"startlinecolor\":\"#2a3f5f\"},\"baxis\":{\"endlinecolor\":\"#2a3f5f\",\"gridcolor\":\"white\",\"linecolor\":\"white\",\"minorgridcolor\":\"white\",\"startlinecolor\":\"#2a3f5f\"},\"type\":\"carpet\"}],\"choropleth\":[{\"colorbar\":{\"outlinewidth\":0,\"ticks\":\"\"},\"type\":\"choropleth\"}],\"contourcarpet\":[{\"colorbar\":{\"outlinewidth\":0,\"ticks\":\"\"},\"type\":\"contourcarpet\"}],\"contour\":[{\"colorbar\":{\"outlinewidth\":0,\"ticks\":\"\"},\"colorscale\":[[0.0,\"#0d0887\"],[0.1111111111111111,\"#46039f\"],[0.2222222222222222,\"#7201a8\"],[0.3333333333333333,\"#9c179e\"],[0.4444444444444444,\"#bd3786\"],[0.5555555555555556,\"#d8576b\"],[0.6666666666666666,\"#ed7953\"],[0.7777777777777778,\"#fb9f3a\"],[0.8888888888888888,\"#fdca26\"],[1.0,\"#f0f921\"]],\"type\":\"contour\"}],\"heatmapgl\":[{\"colorbar\":{\"outlinewidth\":0,\"ticks\":\"\"},\"colorscale\":[[0.0,\"#0d0887\"],[0.1111111111111111,\"#46039f\"],[0.2222222222222222,\"#7201a8\"],[0.3333333333333333,\"#9c179e\"],[0.4444444444444444,\"#bd3786\"],[0.5555555555555556,\"#d8576b\"],[0.6666666666666666,\"#ed7953\"],[0.7777777777777778,\"#fb9f3a\"],[0.8888888888888888,\"#fdca26\"],[1.0,\"#f0f921\"]],\"type\":\"heatmapgl\"}],\"heatmap\":[{\"colorbar\":{\"outlinewidth\":0,\"ticks\":\"\"},\"colorscale\":[[0.0,\"#0d0887\"],[0.1111111111111111,\"#46039f\"],[0.2222222222222222,\"#7201a8\"],[0.3333333333333333,\"#9c179e\"],[0.4444444444444444,\"#bd3786\"],[0.5555555555555556,\"#d8576b\"],[0.6666666666666666,\"#ed7953\"],[0.7777777777777778,\"#fb9f3a\"],[0.8888888888888888,\"#fdca26\"],[1.0,\"#f0f921\"]],\"type\":\"heatmap\"}],\"histogram2dcontour\":[{\"colorbar\":{\"outlinewidth\":0,\"ticks\":\"\"},\"colorscale\":[[0.0,\"#0d0887\"],[0.1111111111111111,\"#46039f\"],[0.2222222222222222,\"#7201a8\"],[0.3333333333333333,\"#9c179e\"],[0.4444444444444444,\"#bd3786\"],[0.5555555555555556,\"#d8576b\"],[0.6666666666666666,\"#ed7953\"],[0.7777777777777778,\"#fb9f3a\"],[0.8888888888888888,\"#fdca26\"],[1.0,\"#f0f921\"]],\"type\":\"histogram2dcontour\"}],\"histogram2d\":[{\"colorbar\":{\"outlinewidth\":0,\"ticks\":\"\"},\"colorscale\":[[0.0,\"#0d0887\"],[0.1111111111111111,\"#46039f\"],[0.2222222222222222,\"#7201a8\"],[0.3333333333333333,\"#9c179e\"],[0.4444444444444444,\"#bd3786\"],[0.5555555555555556,\"#d8576b\"],[0.6666666666666666,\"#ed7953\"],[0.7777777777777778,\"#fb9f3a\"],[0.8888888888888888,\"#fdca26\"],[1.0,\"#f0f921\"]],\"type\":\"histogram2d\"}],\"histogram\":[{\"marker\":{\"pattern\":{\"fillmode\":\"overlay\",\"size\":10,\"solidity\":0.2}},\"type\":\"histogram\"}],\"mesh3d\":[{\"colorbar\":{\"outlinewidth\":0,\"ticks\":\"\"},\"type\":\"mesh3d\"}],\"parcoords\":[{\"line\":{\"colorbar\":{\"outlinewidth\":0,\"ticks\":\"\"}},\"type\":\"parcoords\"}],\"pie\":[{\"automargin\":true,\"type\":\"pie\"}],\"scatter3d\":[{\"line\":{\"colorbar\":{\"outlinewidth\":0,\"ticks\":\"\"}},\"marker\":{\"colorbar\":{\"outlinewidth\":0,\"ticks\":\"\"}},\"type\":\"scatter3d\"}],\"scattercarpet\":[{\"marker\":{\"colorbar\":{\"outlinewidth\":0,\"ticks\":\"\"}},\"type\":\"scattercarpet\"}],\"scattergeo\":[{\"marker\":{\"colorbar\":{\"outlinewidth\":0,\"ticks\":\"\"}},\"type\":\"scattergeo\"}],\"scattergl\":[{\"marker\":{\"colorbar\":{\"outlinewidth\":0,\"ticks\":\"\"}},\"type\":\"scattergl\"}],\"scattermapbox\":[{\"marker\":{\"colorbar\":{\"outlinewidth\":0,\"ticks\":\"\"}},\"type\":\"scattermapbox\"}],\"scatterpolargl\":[{\"marker\":{\"colorbar\":{\"outlinewidth\":0,\"ticks\":\"\"}},\"type\":\"scatterpolargl\"}],\"scatterpolar\":[{\"marker\":{\"colorbar\":{\"outlinewidth\":0,\"ticks\":\"\"}},\"type\":\"scatterpolar\"}],\"scatter\":[{\"fillpattern\":{\"fillmode\":\"overlay\",\"size\":10,\"solidity\":0.2},\"type\":\"scatter\"}],\"scatterternary\":[{\"marker\":{\"colorbar\":{\"outlinewidth\":0,\"ticks\":\"\"}},\"type\":\"scatterternary\"}],\"surface\":[{\"colorbar\":{\"outlinewidth\":0,\"ticks\":\"\"},\"colorscale\":[[0.0,\"#0d0887\"],[0.1111111111111111,\"#46039f\"],[0.2222222222222222,\"#7201a8\"],[0.3333333333333333,\"#9c179e\"],[0.4444444444444444,\"#bd3786\"],[0.5555555555555556,\"#d8576b\"],[0.6666666666666666,\"#ed7953\"],[0.7777777777777778,\"#fb9f3a\"],[0.8888888888888888,\"#fdca26\"],[1.0,\"#f0f921\"]],\"type\":\"surface\"}],\"table\":[{\"cells\":{\"fill\":{\"color\":\"#EBF0F8\"},\"line\":{\"color\":\"white\"}},\"header\":{\"fill\":{\"color\":\"#C8D4E3\"},\"line\":{\"color\":\"white\"}},\"type\":\"table\"}]},\"layout\":{\"annotationdefaults\":{\"arrowcolor\":\"#2a3f5f\",\"arrowhead\":0,\"arrowwidth\":1},\"autotypenumbers\":\"strict\",\"coloraxis\":{\"colorbar\":{\"outlinewidth\":0,\"ticks\":\"\"}},\"colorscale\":{\"diverging\":[[0,\"#8e0152\"],[0.1,\"#c51b7d\"],[0.2,\"#de77ae\"],[0.3,\"#f1b6da\"],[0.4,\"#fde0ef\"],[0.5,\"#f7f7f7\"],[0.6,\"#e6f5d0\"],[0.7,\"#b8e186\"],[0.8,\"#7fbc41\"],[0.9,\"#4d9221\"],[1,\"#276419\"]],\"sequential\":[[0.0,\"#0d0887\"],[0.1111111111111111,\"#46039f\"],[0.2222222222222222,\"#7201a8\"],[0.3333333333333333,\"#9c179e\"],[0.4444444444444444,\"#bd3786\"],[0.5555555555555556,\"#d8576b\"],[0.6666666666666666,\"#ed7953\"],[0.7777777777777778,\"#fb9f3a\"],[0.8888888888888888,\"#fdca26\"],[1.0,\"#f0f921\"]],\"sequentialminus\":[[0.0,\"#0d0887\"],[0.1111111111111111,\"#46039f\"],[0.2222222222222222,\"#7201a8\"],[0.3333333333333333,\"#9c179e\"],[0.4444444444444444,\"#bd3786\"],[0.5555555555555556,\"#d8576b\"],[0.6666666666666666,\"#ed7953\"],[0.7777777777777778,\"#fb9f3a\"],[0.8888888888888888,\"#fdca26\"],[1.0,\"#f0f921\"]]},\"colorway\":[\"#636efa\",\"#EF553B\",\"#00cc96\",\"#ab63fa\",\"#FFA15A\",\"#19d3f3\",\"#FF6692\",\"#B6E880\",\"#FF97FF\",\"#FECB52\"],\"font\":{\"color\":\"#2a3f5f\"},\"geo\":{\"bgcolor\":\"white\",\"lakecolor\":\"white\",\"landcolor\":\"#E5ECF6\",\"showlakes\":true,\"showland\":true,\"subunitcolor\":\"white\"},\"hoverlabel\":{\"align\":\"left\"},\"hovermode\":\"closest\",\"mapbox\":{\"style\":\"light\"},\"paper_bgcolor\":\"white\",\"plot_bgcolor\":\"#E5ECF6\",\"polar\":{\"angularaxis\":{\"gridcolor\":\"white\",\"linecolor\":\"white\",\"ticks\":\"\"},\"bgcolor\":\"#E5ECF6\",\"radialaxis\":{\"gridcolor\":\"white\",\"linecolor\":\"white\",\"ticks\":\"\"}},\"scene\":{\"xaxis\":{\"backgroundcolor\":\"#E5ECF6\",\"gridcolor\":\"white\",\"gridwidth\":2,\"linecolor\":\"white\",\"showbackground\":true,\"ticks\":\"\",\"zerolinecolor\":\"white\"},\"yaxis\":{\"backgroundcolor\":\"#E5ECF6\",\"gridcolor\":\"white\",\"gridwidth\":2,\"linecolor\":\"white\",\"showbackground\":true,\"ticks\":\"\",\"zerolinecolor\":\"white\"},\"zaxis\":{\"backgroundcolor\":\"#E5ECF6\",\"gridcolor\":\"white\",\"gridwidth\":2,\"linecolor\":\"white\",\"showbackground\":true,\"ticks\":\"\",\"zerolinecolor\":\"white\"}},\"shapedefaults\":{\"line\":{\"color\":\"#2a3f5f\"}},\"ternary\":{\"aaxis\":{\"gridcolor\":\"white\",\"linecolor\":\"white\",\"ticks\":\"\"},\"baxis\":{\"gridcolor\":\"white\",\"linecolor\":\"white\",\"ticks\":\"\"},\"bgcolor\":\"#E5ECF6\",\"caxis\":{\"gridcolor\":\"white\",\"linecolor\":\"white\",\"ticks\":\"\"}},\"title\":{\"x\":0.05},\"xaxis\":{\"automargin\":true,\"gridcolor\":\"white\",\"linecolor\":\"white\",\"ticks\":\"\",\"title\":{\"standoff\":15},\"zerolinecolor\":\"white\",\"zerolinewidth\":2},\"yaxis\":{\"automargin\":true,\"gridcolor\":\"white\",\"linecolor\":\"white\",\"ticks\":\"\",\"title\":{\"standoff\":15},\"zerolinecolor\":\"white\",\"zerolinewidth\":2}}},\"title\":{\"font\":{\"color\":\"#4D5663\"}},\"xaxis\":{\"anchor\":\"y\",\"domain\":[0.0,0.2125],\"gridcolor\":\"#E1E5ED\",\"showgrid\":false,\"tickfont\":{\"color\":\"#4D5663\"},\"title\":{\"font\":{\"color\":\"#4D5663\"},\"text\":\"\"},\"zerolinecolor\":\"#E1E5ED\"},\"yaxis\":{\"anchor\":\"x\",\"domain\":[0.8025,1.0],\"gridcolor\":\"#E1E5ED\",\"showgrid\":false,\"tickfont\":{\"color\":\"#4D5663\"},\"title\":{\"font\":{\"color\":\"#4D5663\"},\"text\":\"\"},\"zerolinecolor\":\"#E1E5ED\"},\"xaxis2\":{\"anchor\":\"y2\",\"domain\":[0.2625,0.475],\"gridcolor\":\"#E1E5ED\",\"showgrid\":false,\"tickfont\":{\"color\":\"#4D5663\"},\"title\":{\"font\":{\"color\":\"#4D5663\"},\"text\":\"\"},\"zerolinecolor\":\"#E1E5ED\"},\"yaxis2\":{\"anchor\":\"x2\",\"domain\":[0.8025,1.0],\"gridcolor\":\"#E1E5ED\",\"showgrid\":false,\"tickfont\":{\"color\":\"#4D5663\"},\"title\":{\"font\":{\"color\":\"#4D5663\"},\"text\":\"\"},\"zerolinecolor\":\"#E1E5ED\"},\"xaxis3\":{\"anchor\":\"y3\",\"domain\":[0.525,0.7375],\"gridcolor\":\"#E1E5ED\",\"showgrid\":false,\"tickfont\":{\"color\":\"#4D5663\"},\"title\":{\"font\":{\"color\":\"#4D5663\"},\"text\":\"\"},\"zerolinecolor\":\"#E1E5ED\"},\"yaxis3\":{\"anchor\":\"x3\",\"domain\":[0.8025,1.0],\"gridcolor\":\"#E1E5ED\",\"showgrid\":false,\"tickfont\":{\"color\":\"#4D5663\"},\"title\":{\"font\":{\"color\":\"#4D5663\"},\"text\":\"\"},\"zerolinecolor\":\"#E1E5ED\"},\"xaxis4\":{\"anchor\":\"y4\",\"domain\":[0.7875,1.0],\"gridcolor\":\"#E1E5ED\",\"showgrid\":false,\"tickfont\":{\"color\":\"#4D5663\"},\"title\":{\"font\":{\"color\":\"#4D5663\"},\"text\":\"\"},\"zerolinecolor\":\"#E1E5ED\"},\"yaxis4\":{\"anchor\":\"x4\",\"domain\":[0.8025,1.0],\"gridcolor\":\"#E1E5ED\",\"showgrid\":false,\"tickfont\":{\"color\":\"#4D5663\"},\"title\":{\"font\":{\"color\":\"#4D5663\"},\"text\":\"\"},\"zerolinecolor\":\"#E1E5ED\"},\"xaxis5\":{\"anchor\":\"y5\",\"domain\":[0.0,0.2125],\"gridcolor\":\"#E1E5ED\",\"showgrid\":false,\"tickfont\":{\"color\":\"#4D5663\"},\"title\":{\"font\":{\"color\":\"#4D5663\"},\"text\":\"\"},\"zerolinecolor\":\"#E1E5ED\"},\"yaxis5\":{\"anchor\":\"x5\",\"domain\":[0.535,0.7325],\"gridcolor\":\"#E1E5ED\",\"showgrid\":false,\"tickfont\":{\"color\":\"#4D5663\"},\"title\":{\"font\":{\"color\":\"#4D5663\"},\"text\":\"\"},\"zerolinecolor\":\"#E1E5ED\"},\"xaxis6\":{\"anchor\":\"y6\",\"domain\":[0.2625,0.475],\"gridcolor\":\"#E1E5ED\",\"showgrid\":false,\"tickfont\":{\"color\":\"#4D5663\"},\"title\":{\"font\":{\"color\":\"#4D5663\"},\"text\":\"\"},\"zerolinecolor\":\"#E1E5ED\"},\"yaxis6\":{\"anchor\":\"x6\",\"domain\":[0.535,0.7325],\"gridcolor\":\"#E1E5ED\",\"showgrid\":false,\"tickfont\":{\"color\":\"#4D5663\"},\"title\":{\"font\":{\"color\":\"#4D5663\"},\"text\":\"\"},\"zerolinecolor\":\"#E1E5ED\"},\"xaxis7\":{\"anchor\":\"y7\",\"domain\":[0.525,0.7375],\"gridcolor\":\"#E1E5ED\",\"showgrid\":false,\"tickfont\":{\"color\":\"#4D5663\"},\"title\":{\"font\":{\"color\":\"#4D5663\"},\"text\":\"\"},\"zerolinecolor\":\"#E1E5ED\"},\"yaxis7\":{\"anchor\":\"x7\",\"domain\":[0.535,0.7325],\"gridcolor\":\"#E1E5ED\",\"showgrid\":false,\"tickfont\":{\"color\":\"#4D5663\"},\"title\":{\"font\":{\"color\":\"#4D5663\"},\"text\":\"\"},\"zerolinecolor\":\"#E1E5ED\"},\"xaxis8\":{\"anchor\":\"y8\",\"domain\":[0.7875,1.0],\"gridcolor\":\"#E1E5ED\",\"showgrid\":false,\"tickfont\":{\"color\":\"#4D5663\"},\"title\":{\"font\":{\"color\":\"#4D5663\"},\"text\":\"\"},\"zerolinecolor\":\"#E1E5ED\"},\"yaxis8\":{\"anchor\":\"x8\",\"domain\":[0.535,0.7325],\"gridcolor\":\"#E1E5ED\",\"showgrid\":false,\"tickfont\":{\"color\":\"#4D5663\"},\"title\":{\"font\":{\"color\":\"#4D5663\"},\"text\":\"\"},\"zerolinecolor\":\"#E1E5ED\"},\"xaxis9\":{\"anchor\":\"y9\",\"domain\":[0.0,0.2125],\"gridcolor\":\"#E1E5ED\",\"showgrid\":false,\"tickfont\":{\"color\":\"#4D5663\"},\"title\":{\"font\":{\"color\":\"#4D5663\"},\"text\":\"\"},\"zerolinecolor\":\"#E1E5ED\"},\"yaxis9\":{\"anchor\":\"x9\",\"domain\":[0.2675,0.465],\"gridcolor\":\"#E1E5ED\",\"showgrid\":false,\"tickfont\":{\"color\":\"#4D5663\"},\"title\":{\"font\":{\"color\":\"#4D5663\"},\"text\":\"\"},\"zerolinecolor\":\"#E1E5ED\"},\"xaxis10\":{\"anchor\":\"y10\",\"domain\":[0.2625,0.475],\"gridcolor\":\"#E1E5ED\",\"showgrid\":false,\"tickfont\":{\"color\":\"#4D5663\"},\"title\":{\"font\":{\"color\":\"#4D5663\"},\"text\":\"\"},\"zerolinecolor\":\"#E1E5ED\"},\"yaxis10\":{\"anchor\":\"x10\",\"domain\":[0.2675,0.465],\"gridcolor\":\"#E1E5ED\",\"showgrid\":false,\"tickfont\":{\"color\":\"#4D5663\"},\"title\":{\"font\":{\"color\":\"#4D5663\"},\"text\":\"\"},\"zerolinecolor\":\"#E1E5ED\"},\"xaxis11\":{\"anchor\":\"y11\",\"domain\":[0.525,0.7375],\"gridcolor\":\"#E1E5ED\",\"showgrid\":false,\"tickfont\":{\"color\":\"#4D5663\"},\"title\":{\"font\":{\"color\":\"#4D5663\"},\"text\":\"\"},\"zerolinecolor\":\"#E1E5ED\"},\"yaxis11\":{\"anchor\":\"x11\",\"domain\":[0.2675,0.465],\"gridcolor\":\"#E1E5ED\",\"showgrid\":false,\"tickfont\":{\"color\":\"#4D5663\"},\"title\":{\"font\":{\"color\":\"#4D5663\"},\"text\":\"\"},\"zerolinecolor\":\"#E1E5ED\"},\"xaxis12\":{\"anchor\":\"y12\",\"domain\":[0.7875,1.0],\"gridcolor\":\"#E1E5ED\",\"showgrid\":false,\"tickfont\":{\"color\":\"#4D5663\"},\"title\":{\"font\":{\"color\":\"#4D5663\"},\"text\":\"\"},\"zerolinecolor\":\"#E1E5ED\"},\"yaxis12\":{\"anchor\":\"x12\",\"domain\":[0.2675,0.465],\"gridcolor\":\"#E1E5ED\",\"showgrid\":false,\"tickfont\":{\"color\":\"#4D5663\"},\"title\":{\"font\":{\"color\":\"#4D5663\"},\"text\":\"\"},\"zerolinecolor\":\"#E1E5ED\"},\"xaxis13\":{\"anchor\":\"y13\",\"domain\":[0.0,0.2125],\"gridcolor\":\"#E1E5ED\",\"showgrid\":false,\"tickfont\":{\"color\":\"#4D5663\"},\"title\":{\"font\":{\"color\":\"#4D5663\"},\"text\":\"\"},\"zerolinecolor\":\"#E1E5ED\"},\"yaxis13\":{\"anchor\":\"x13\",\"domain\":[0.0,0.1975],\"gridcolor\":\"#E1E5ED\",\"showgrid\":false,\"tickfont\":{\"color\":\"#4D5663\"},\"title\":{\"font\":{\"color\":\"#4D5663\"},\"text\":\"\"},\"zerolinecolor\":\"#E1E5ED\"},\"xaxis14\":{\"anchor\":\"y14\",\"domain\":[0.2625,0.475],\"gridcolor\":\"#E1E5ED\",\"showgrid\":false,\"tickfont\":{\"color\":\"#4D5663\"},\"title\":{\"font\":{\"color\":\"#4D5663\"},\"text\":\"\"},\"zerolinecolor\":\"#E1E5ED\"},\"yaxis14\":{\"anchor\":\"x14\",\"domain\":[0.0,0.1975],\"gridcolor\":\"#E1E5ED\",\"showgrid\":false,\"tickfont\":{\"color\":\"#4D5663\"},\"title\":{\"font\":{\"color\":\"#4D5663\"},\"text\":\"\"},\"zerolinecolor\":\"#E1E5ED\"},\"xaxis15\":{\"anchor\":\"y15\",\"domain\":[0.525,0.7375],\"gridcolor\":\"#E1E5ED\",\"showgrid\":false,\"tickfont\":{\"color\":\"#4D5663\"},\"title\":{\"font\":{\"color\":\"#4D5663\"},\"text\":\"\"},\"zerolinecolor\":\"#E1E5ED\"},\"yaxis15\":{\"anchor\":\"x15\",\"domain\":[0.0,0.1975],\"gridcolor\":\"#E1E5ED\",\"showgrid\":false,\"tickfont\":{\"color\":\"#4D5663\"},\"title\":{\"font\":{\"color\":\"#4D5663\"},\"text\":\"\"},\"zerolinecolor\":\"#E1E5ED\"},\"xaxis16\":{\"anchor\":\"y16\",\"domain\":[0.7875,1.0],\"gridcolor\":\"#E1E5ED\",\"showgrid\":false,\"tickfont\":{\"color\":\"#4D5663\"},\"title\":{\"font\":{\"color\":\"#4D5663\"},\"text\":\"\"},\"zerolinecolor\":\"#E1E5ED\"},\"yaxis16\":{\"anchor\":\"x16\",\"domain\":[0.0,0.1975],\"gridcolor\":\"#E1E5ED\",\"showgrid\":false,\"tickfont\":{\"color\":\"#4D5663\"},\"title\":{\"font\":{\"color\":\"#4D5663\"},\"text\":\"\"},\"zerolinecolor\":\"#E1E5ED\"}},                        {\"showLink\": true, \"linkText\": \"Export to plot.ly\", \"plotlyServerURL\": \"https://plot.ly\", \"responsive\": true}                    ).then(function(){\n",
       "                            \n",
       "var gd = document.getElementById('0af549f0-c3c0-485a-aad1-45008cdc875f');\n",
       "var x = new MutationObserver(function (mutations, observer) {{\n",
       "        var display = window.getComputedStyle(gd).display;\n",
       "        if (!display || display === 'none') {{\n",
       "            console.log([gd, 'removed!']);\n",
       "            Plotly.purge(gd);\n",
       "            observer.disconnect();\n",
       "        }}\n",
       "}});\n",
       "\n",
       "// Listen for the removal of the full notebook cells\n",
       "var notebookContainer = gd.closest('#notebook-container');\n",
       "if (notebookContainer) {{\n",
       "    x.observe(notebookContainer, {childList: true});\n",
       "}}\n",
       "\n",
       "// Listen for the clearing of the current output cell\n",
       "var outputEl = gd.closest('.output');\n",
       "if (outputEl) {{\n",
       "    x.observe(outputEl, {childList: true});\n",
       "}}\n",
       "\n",
       "                        })                };                });            </script>        </div>"
      ]
     },
     "metadata": {},
     "output_type": "display_data"
    }
   ],
   "source": [
    "df.scatter_matrix()"
   ]
  }
 ],
 "metadata": {
  "kernelspec": {
   "display_name": "Python 3 (ipykernel)",
   "language": "python",
   "name": "python3"
  },
  "language_info": {
   "codemirror_mode": {
    "name": "ipython",
    "version": 3
   },
   "file_extension": ".py",
   "mimetype": "text/x-python",
   "name": "python",
   "nbconvert_exporter": "python",
   "pygments_lexer": "ipython3",
   "version": "3.9.7"
  }
 },
 "nbformat": 4,
 "nbformat_minor": 4
}
