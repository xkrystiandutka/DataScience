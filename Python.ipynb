{
 "cells": [
  {
   "cell_type": "code",
   "execution_count": 1,
   "id": "b699ac56",
   "metadata": {},
   "outputs": [
    {
     "data": {
      "text/plain": [
       "1"
      ]
     },
     "execution_count": 1,
     "metadata": {},
     "output_type": "execute_result"
    }
   ],
   "source": [
    "1"
   ]
  },
  {
   "cell_type": "code",
   "execution_count": 2,
   "id": "8d21d845",
   "metadata": {},
   "outputs": [
    {
     "data": {
      "text/plain": [
       "1.0"
      ]
     },
     "execution_count": 2,
     "metadata": {},
     "output_type": "execute_result"
    }
   ],
   "source": [
    "1.0"
   ]
  },
  {
   "cell_type": "code",
   "execution_count": 3,
   "id": "ec0b1578",
   "metadata": {},
   "outputs": [
    {
     "data": {
      "text/plain": [
       "2"
      ]
     },
     "execution_count": 3,
     "metadata": {},
     "output_type": "execute_result"
    }
   ],
   "source": [
    "1 + 1"
   ]
  },
  {
   "cell_type": "code",
   "execution_count": 4,
   "id": "750213e1",
   "metadata": {},
   "outputs": [
    {
     "data": {
      "text/plain": [
       "3"
      ]
     },
     "execution_count": 4,
     "metadata": {},
     "output_type": "execute_result"
    }
   ],
   "source": [
    "1 * 3"
   ]
  },
  {
   "cell_type": "code",
   "execution_count": 5,
   "id": "7d414441",
   "metadata": {},
   "outputs": [
    {
     "data": {
      "text/plain": [
       "0.5"
      ]
     },
     "execution_count": 5,
     "metadata": {},
     "output_type": "execute_result"
    }
   ],
   "source": [
    "1 / 2"
   ]
  },
  {
   "cell_type": "code",
   "execution_count": 6,
   "id": "82ff173a",
   "metadata": {},
   "outputs": [
    {
     "data": {
      "text/plain": [
       "16"
      ]
     },
     "execution_count": 6,
     "metadata": {},
     "output_type": "execute_result"
    }
   ],
   "source": [
    "2 ** 4"
   ]
  },
  {
   "cell_type": "code",
   "execution_count": 7,
   "id": "342ff00a",
   "metadata": {},
   "outputs": [
    {
     "data": {
      "text/plain": [
       "22"
      ]
     },
     "execution_count": 7,
     "metadata": {},
     "output_type": "execute_result"
    }
   ],
   "source": [
    "2 + 3 * 5 + 5"
   ]
  },
  {
   "cell_type": "code",
   "execution_count": 8,
   "id": "d7ae5261",
   "metadata": {},
   "outputs": [
    {
     "data": {
      "text/plain": [
       "50"
      ]
     },
     "execution_count": 8,
     "metadata": {},
     "output_type": "execute_result"
    }
   ],
   "source": [
    "(2+3) * (5+5)"
   ]
  },
  {
   "cell_type": "code",
   "execution_count": 9,
   "id": "859a788e",
   "metadata": {},
   "outputs": [
    {
     "data": {
      "text/plain": [
       "0"
      ]
     },
     "execution_count": 9,
     "metadata": {},
     "output_type": "execute_result"
    }
   ],
   "source": [
    "4 % 2"
   ]
  },
  {
   "cell_type": "code",
   "execution_count": 10,
   "id": "72ccbda5",
   "metadata": {},
   "outputs": [
    {
     "data": {
      "text/plain": [
       "1"
      ]
     },
     "execution_count": 10,
     "metadata": {},
     "output_type": "execute_result"
    }
   ],
   "source": [
    "5 % 2"
   ]
  },
  {
   "cell_type": "code",
   "execution_count": 11,
   "id": "13f50603",
   "metadata": {},
   "outputs": [],
   "source": [
    "var = 2"
   ]
  },
  {
   "cell_type": "code",
   "execution_count": 12,
   "id": "9bb9ceef",
   "metadata": {},
   "outputs": [
    {
     "data": {
      "text/plain": [
       "2"
      ]
     },
     "execution_count": 12,
     "metadata": {},
     "output_type": "execute_result"
    }
   ],
   "source": [
    "var"
   ]
  },
  {
   "cell_type": "code",
   "execution_count": 13,
   "id": "b38c27bd",
   "metadata": {},
   "outputs": [],
   "source": [
    "x = 2\n",
    "y = 3"
   ]
  },
  {
   "cell_type": "code",
   "execution_count": 14,
   "id": "bcef25bf",
   "metadata": {},
   "outputs": [
    {
     "data": {
      "text/plain": [
       "5"
      ]
     },
     "execution_count": 14,
     "metadata": {},
     "output_type": "execute_result"
    }
   ],
   "source": [
    "x + y"
   ]
  },
  {
   "cell_type": "code",
   "execution_count": 15,
   "id": "f65f3725",
   "metadata": {},
   "outputs": [],
   "source": [
    "x = x + x"
   ]
  },
  {
   "cell_type": "code",
   "execution_count": 16,
   "id": "79271a0d",
   "metadata": {},
   "outputs": [
    {
     "data": {
      "text/plain": [
       "4"
      ]
     },
     "execution_count": 16,
     "metadata": {},
     "output_type": "execute_result"
    }
   ],
   "source": [
    "x"
   ]
  },
  {
   "cell_type": "code",
   "execution_count": 17,
   "id": "83760431",
   "metadata": {},
   "outputs": [
    {
     "data": {
      "text/plain": [
       "4"
      ]
     },
     "execution_count": 17,
     "metadata": {},
     "output_type": "execute_result"
    }
   ],
   "source": [
    "x"
   ]
  },
  {
   "cell_type": "code",
   "execution_count": 18,
   "id": "d434a2df",
   "metadata": {},
   "outputs": [],
   "source": [
    "x = x+x"
   ]
  },
  {
   "cell_type": "code",
   "execution_count": 19,
   "id": "3d432cd1",
   "metadata": {},
   "outputs": [
    {
     "data": {
      "text/plain": [
       "8"
      ]
     },
     "execution_count": 19,
     "metadata": {},
     "output_type": "execute_result"
    }
   ],
   "source": [
    "x"
   ]
  },
  {
   "cell_type": "code",
   "execution_count": 20,
   "id": "389aa88f",
   "metadata": {},
   "outputs": [],
   "source": [
    "nameOfVar = 12"
   ]
  },
  {
   "cell_type": "code",
   "execution_count": 21,
   "id": "992a2cb5",
   "metadata": {},
   "outputs": [],
   "source": [
    "# Strings"
   ]
  },
  {
   "cell_type": "code",
   "execution_count": 22,
   "id": "22f7e5c2",
   "metadata": {},
   "outputs": [
    {
     "data": {
      "text/plain": [
       "'single quote'"
      ]
     },
     "execution_count": 22,
     "metadata": {},
     "output_type": "execute_result"
    }
   ],
   "source": [
    "'single quote'"
   ]
  },
  {
   "cell_type": "code",
   "execution_count": 23,
   "id": "287eee08",
   "metadata": {},
   "outputs": [
    {
     "data": {
      "text/plain": [
       "'this is string'"
      ]
     },
     "execution_count": 23,
     "metadata": {},
     "output_type": "execute_result"
    }
   ],
   "source": [
    "'this is string'"
   ]
  },
  {
   "cell_type": "code",
   "execution_count": 25,
   "id": "50831f77",
   "metadata": {},
   "outputs": [
    {
     "data": {
      "text/plain": [
       "\"I can't go\""
      ]
     },
     "execution_count": 25,
     "metadata": {},
     "output_type": "execute_result"
    }
   ],
   "source": [
    "\"I can't go\""
   ]
  },
  {
   "cell_type": "code",
   "execution_count": 26,
   "id": "a82d13ca",
   "metadata": {},
   "outputs": [],
   "source": [
    "x = 'hello'"
   ]
  },
  {
   "cell_type": "code",
   "execution_count": 27,
   "id": "d9145a1d",
   "metadata": {},
   "outputs": [
    {
     "data": {
      "text/plain": [
       "'hello'"
      ]
     },
     "execution_count": 27,
     "metadata": {},
     "output_type": "execute_result"
    }
   ],
   "source": [
    "x"
   ]
  },
  {
   "cell_type": "code",
   "execution_count": 28,
   "id": "02f85ae4",
   "metadata": {},
   "outputs": [
    {
     "name": "stdout",
     "output_type": "stream",
     "text": [
      "hello\n"
     ]
    }
   ],
   "source": [
    "print(x)"
   ]
  },
  {
   "cell_type": "code",
   "execution_count": 29,
   "id": "ff8eeeb9",
   "metadata": {},
   "outputs": [],
   "source": [
    "num = 12\n",
    "name = 'Krystian'"
   ]
  },
  {
   "cell_type": "code",
   "execution_count": 34,
   "id": "77bd590b",
   "metadata": {},
   "outputs": [
    {
     "name": "stdout",
     "output_type": "stream",
     "text": [
      "My number is 12 and my name is Krystian, more 12\n"
     ]
    }
   ],
   "source": [
    "print('My number is {one} and my name is {two}, more {one}'.format(one=num,two=name))"
   ]
  },
  {
   "cell_type": "code",
   "execution_count": 38,
   "id": "a57bc71a",
   "metadata": {},
   "outputs": [],
   "source": [
    "s = 'abcdefjk'"
   ]
  },
  {
   "cell_type": "code",
   "execution_count": 40,
   "id": "2f193189",
   "metadata": {},
   "outputs": [
    {
     "data": {
      "text/plain": [
       "'abcdefjk'"
      ]
     },
     "execution_count": 40,
     "metadata": {},
     "output_type": "execute_result"
    }
   ],
   "source": [
    "s[0:] "
   ]
  },
  {
   "cell_type": "code",
   "execution_count": 41,
   "id": "21efd32f",
   "metadata": {},
   "outputs": [
    {
     "data": {
      "text/plain": [
       "'abc'"
      ]
     },
     "execution_count": 41,
     "metadata": {},
     "output_type": "execute_result"
    }
   ],
   "source": [
    "s[:3]"
   ]
  },
  {
   "cell_type": "code",
   "execution_count": 42,
   "id": "606380e9",
   "metadata": {},
   "outputs": [
    {
     "data": {
      "text/plain": [
       "'abc'"
      ]
     },
     "execution_count": 42,
     "metadata": {},
     "output_type": "execute_result"
    }
   ],
   "source": [
    "s[0:3]"
   ]
  },
  {
   "cell_type": "code",
   "execution_count": 43,
   "id": "8175b489",
   "metadata": {},
   "outputs": [
    {
     "data": {
      "text/plain": [
       "'def'"
      ]
     },
     "execution_count": 43,
     "metadata": {},
     "output_type": "execute_result"
    }
   ],
   "source": [
    "s[3:6]"
   ]
  },
  {
   "cell_type": "code",
   "execution_count": 44,
   "id": "eb0e4a93",
   "metadata": {},
   "outputs": [
    {
     "data": {
      "text/plain": [
       "[1, 2, 3]"
      ]
     },
     "execution_count": 44,
     "metadata": {},
     "output_type": "execute_result"
    }
   ],
   "source": [
    "[1,2,3]"
   ]
  },
  {
   "cell_type": "code",
   "execution_count": 45,
   "id": "3e7aa2a1",
   "metadata": {},
   "outputs": [
    {
     "data": {
      "text/plain": [
       "['a', 'b', 'c']"
      ]
     },
     "execution_count": 45,
     "metadata": {},
     "output_type": "execute_result"
    }
   ],
   "source": [
    "['a','b','c']"
   ]
  },
  {
   "cell_type": "code",
   "execution_count": 46,
   "id": "a1af82fe",
   "metadata": {},
   "outputs": [],
   "source": [
    "myList = ['a','b','c']"
   ]
  },
  {
   "cell_type": "code",
   "execution_count": 47,
   "id": "ce9c1631",
   "metadata": {},
   "outputs": [],
   "source": [
    "myList.append('d')"
   ]
  },
  {
   "cell_type": "code",
   "execution_count": 48,
   "id": "77acb902",
   "metadata": {},
   "outputs": [
    {
     "data": {
      "text/plain": [
       "['a', 'b', 'c', 'd']"
      ]
     },
     "execution_count": 48,
     "metadata": {},
     "output_type": "execute_result"
    }
   ],
   "source": [
    "myList"
   ]
  },
  {
   "cell_type": "code",
   "execution_count": 49,
   "id": "77134a98",
   "metadata": {},
   "outputs": [
    {
     "data": {
      "text/plain": [
       "'a'"
      ]
     },
     "execution_count": 49,
     "metadata": {},
     "output_type": "execute_result"
    }
   ],
   "source": [
    "myList[0]"
   ]
  },
  {
   "cell_type": "code",
   "execution_count": 50,
   "id": "bc568169",
   "metadata": {},
   "outputs": [
    {
     "data": {
      "text/plain": [
       "['b', 'c']"
      ]
     },
     "execution_count": 50,
     "metadata": {},
     "output_type": "execute_result"
    }
   ],
   "source": [
    "myList[1:3]"
   ]
  },
  {
   "cell_type": "code",
   "execution_count": 51,
   "id": "b024dab4",
   "metadata": {},
   "outputs": [],
   "source": [
    "myList[0] = 'NEW'"
   ]
  },
  {
   "cell_type": "code",
   "execution_count": 52,
   "id": "5173d72c",
   "metadata": {},
   "outputs": [
    {
     "data": {
      "text/plain": [
       "['NEW', 'b', 'c', 'd']"
      ]
     },
     "execution_count": 52,
     "metadata": {},
     "output_type": "execute_result"
    }
   ],
   "source": [
    "myList"
   ]
  },
  {
   "cell_type": "code",
   "execution_count": 55,
   "id": "50891914",
   "metadata": {},
   "outputs": [],
   "source": [
    "nest = [1,2,[3,4]]"
   ]
  },
  {
   "cell_type": "code",
   "execution_count": 57,
   "id": "f2afd052",
   "metadata": {},
   "outputs": [
    {
     "data": {
      "text/plain": [
       "4"
      ]
     },
     "execution_count": 57,
     "metadata": {},
     "output_type": "execute_result"
    }
   ],
   "source": [
    "nest[2][1]"
   ]
  },
  {
   "cell_type": "code",
   "execution_count": 58,
   "id": "fca56cda",
   "metadata": {},
   "outputs": [],
   "source": [
    "nest = [1,2,3,[4,5,['target']]]"
   ]
  },
  {
   "cell_type": "code",
   "execution_count": 61,
   "id": "a2dd0b6e",
   "metadata": {},
   "outputs": [
    {
     "name": "stdout",
     "output_type": "stream",
     "text": [
      "target\n"
     ]
    }
   ],
   "source": [
    "print(nest[3][2][0])"
   ]
  },
  {
   "cell_type": "code",
   "execution_count": null,
   "id": "558c4bc5",
   "metadata": {},
   "outputs": [],
   "source": []
  }
 ],
 "metadata": {
  "kernelspec": {
   "display_name": "Python 3 (ipykernel)",
   "language": "python",
   "name": "python3"
  },
  "language_info": {
   "codemirror_mode": {
    "name": "ipython",
    "version": 3
   },
   "file_extension": ".py",
   "mimetype": "text/x-python",
   "name": "python",
   "nbconvert_exporter": "python",
   "pygments_lexer": "ipython3",
   "version": "3.9.7"
  }
 },
 "nbformat": 4,
 "nbformat_minor": 5
}
